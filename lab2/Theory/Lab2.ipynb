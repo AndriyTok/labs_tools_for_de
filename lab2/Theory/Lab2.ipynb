{
 "cells": [
  {
   "cell_type": "markdown",
   "id": "2785f171",
   "metadata": {},
   "source": [
    "# NumPy."
   ]
  },
  {
   "cell_type": "markdown",
   "id": "9361f789",
   "metadata": {},
   "source": [
    "Імпортуйте numpy."
   ]
  },
  {
   "cell_type": "code",
   "execution_count": 1,
   "id": "d67070c3",
   "metadata": {
    "ExecuteTime": {
     "end_time": "2025-03-18T13:25:29.605592Z",
     "start_time": "2025-03-18T13:25:29.470916Z"
    }
   },
   "outputs": [],
   "source": [
    "import numpy as np\n",
    "from pandas import read_csv"
   ]
  },
  {
   "cell_type": "markdown",
   "id": "dd375227",
   "metadata": {},
   "source": [
    "##### Створіть масив з 10 нулів:"
   ]
  },
  {
   "cell_type": "code",
   "execution_count": 2,
   "id": "f8248330",
   "metadata": {
    "ExecuteTime": {
     "end_time": "2025-03-18T14:33:34.740676Z",
     "start_time": "2025-03-18T14:33:34.737587Z"
    }
   },
   "outputs": [
    {
     "data": {
      "text/plain": [
       "array([0., 0., 0., 0., 0., 0., 0., 0., 0., 0.])"
      ]
     },
     "execution_count": 2,
     "metadata": {},
     "output_type": "execute_result"
    }
   ],
   "source": [
    "np.zeros(10)"
   ]
  },
  {
   "cell_type": "markdown",
   "id": "4af98590",
   "metadata": {},
   "source": [
    "##### Створіть масив з 10 одиниць:"
   ]
  },
  {
   "cell_type": "code",
   "execution_count": 3,
   "id": "e48763be",
   "metadata": {
    "ExecuteTime": {
     "end_time": "2025-03-18T13:25:32.258063Z",
     "start_time": "2025-03-18T13:25:32.254926Z"
    }
   },
   "outputs": [
    {
     "data": {
      "text/plain": [
       "array([1., 1., 1., 1., 1., 1., 1., 1., 1., 1.])"
      ]
     },
     "execution_count": 3,
     "metadata": {},
     "output_type": "execute_result"
    }
   ],
   "source": [
    "np.ones(10)"
   ]
  },
  {
   "cell_type": "markdown",
   "id": "63d511ac",
   "metadata": {},
   "source": [
    "##### Створіть масив з 10 четвірок:"
   ]
  },
  {
   "cell_type": "code",
   "execution_count": 4,
   "id": "755000cb",
   "metadata": {
    "ExecuteTime": {
     "end_time": "2025-03-18T13:25:34.934103Z",
     "start_time": "2025-03-18T13:25:34.930590Z"
    }
   },
   "outputs": [
    {
     "data": {
      "text/plain": [
       "array([4, 4, 4, 4, 4, 4, 4, 4, 4, 4])"
      ]
     },
     "execution_count": 4,
     "metadata": {},
     "output_type": "execute_result"
    }
   ],
   "source": [
    "np.repeat(4,10)"
   ]
  },
  {
   "cell_type": "markdown",
   "id": "524fc7b7",
   "metadata": {},
   "source": [
    "##### Створіть масив з цілими числами у проміжку від 15 до 30:"
   ]
  },
  {
   "cell_type": "code",
   "execution_count": 5,
   "id": "9a98b1d3",
   "metadata": {
    "ExecuteTime": {
     "end_time": "2025-03-18T13:25:36.739795Z",
     "start_time": "2025-03-18T13:25:36.736277Z"
    }
   },
   "outputs": [
    {
     "name": "stdout",
     "output_type": "stream",
     "text": [
      "[15 16 17 18 19 20 21 22 23 24 25 26 27 28 29 30]\n"
     ]
    }
   ],
   "source": [
    "print(np.array([i for i in range(15, 31)]))"
   ]
  },
  {
   "cell_type": "markdown",
   "id": "f14b9045",
   "metadata": {},
   "source": [
    "##### Створіть масив з непарних чисел у межах від 15 до 30:"
   ]
  },
  {
   "cell_type": "code",
   "execution_count": 6,
   "id": "ebe06b7e",
   "metadata": {
    "ExecuteTime": {
     "end_time": "2025-03-18T13:25:38.268932Z",
     "start_time": "2025-03-18T13:25:38.265770Z"
    }
   },
   "outputs": [
    {
     "name": "stdout",
     "output_type": "stream",
     "text": [
      "[15 17 19 21 23 25 27 29]\n"
     ]
    }
   ],
   "source": [
    "print(np.array([i for i in range(15, 31, 2)]))"
   ]
  },
  {
   "cell_type": "markdown",
   "id": "770e7b31",
   "metadata": {},
   "source": [
    "##### Створіть матрицю 10 на 10, де числа будуть від 1 до 100:"
   ]
  },
  {
   "cell_type": "code",
   "execution_count": 7,
   "id": "6e94abd9",
   "metadata": {
    "ExecuteTime": {
     "end_time": "2025-03-18T13:25:39.657261Z",
     "start_time": "2025-03-18T13:25:39.653533Z"
    }
   },
   "outputs": [
    {
     "name": "stdout",
     "output_type": "stream",
     "text": [
      "[[  1   2   3   4   5   6   7   8   9  10]\n",
      " [ 11  12  13  14  15  16  17  18  19  20]\n",
      " [ 21  22  23  24  25  26  27  28  29  30]\n",
      " [ 31  32  33  34  35  36  37  38  39  40]\n",
      " [ 41  42  43  44  45  46  47  48  49  50]\n",
      " [ 51  52  53  54  55  56  57  58  59  60]\n",
      " [ 61  62  63  64  65  66  67  68  69  70]\n",
      " [ 71  72  73  74  75  76  77  78  79  80]\n",
      " [ 81  82  83  84  85  86  87  88  89  90]\n",
      " [ 91  92  93  94  95  96  97  98  99 100]]\n"
     ]
    }
   ],
   "source": [
    "print(np.array([[i for i in range(j, j + 10)] for j in range(1, 101, 10)]))"
   ]
  },
  {
   "cell_type": "markdown",
   "id": "ecff9140",
   "metadata": {},
   "source": [
    "##### Згенеруйте матрицю, як у прикладі:"
   ]
  },
  {
   "cell_type": "code",
   "execution_count": 8,
   "id": "8e8b0950",
   "metadata": {
    "ExecuteTime": {
     "end_time": "2025-03-18T13:26:11.312735Z",
     "start_time": "2025-03-18T13:26:11.303620Z"
    }
   },
   "outputs": [
    {
     "name": "stdout",
     "output_type": "stream",
     "text": [
      "[[0.01 0.02 0.03 0.04 0.05 0.06 0.07 0.08 0.09 0.1 ]\n",
      " [0.11 0.12 0.13 0.14 0.15 0.16 0.17 0.18 0.19 0.2 ]\n",
      " [0.21 0.22 0.23 0.24 0.25 0.26 0.27 0.28 0.29 0.3 ]\n",
      " [0.31 0.32 0.33 0.34 0.35 0.36 0.37 0.38 0.39 0.4 ]\n",
      " [0.41 0.42 0.43 0.44 0.45 0.46 0.47 0.48 0.49 0.5 ]\n",
      " [0.51 0.52 0.53 0.54 0.55 0.56 0.57 0.58 0.59 0.6 ]\n",
      " [0.61 0.62 0.63 0.64 0.65 0.66 0.67 0.68 0.69 0.7 ]\n",
      " [0.71 0.72 0.73 0.74 0.75 0.76 0.77 0.78 0.79 0.8 ]\n",
      " [0.81 0.82 0.83 0.84 0.85 0.86 0.87 0.88 0.89 0.9 ]\n",
      " [0.91 0.92 0.93 0.94 0.95 0.96 0.97 0.98 0.99 1.  ]]\n"
     ]
    }
   ],
   "source": [
    "print(np.array([np.linspace(j, j + 0.09, 10) for j in np.arange(0.01, 1, 0.1)]))"
   ]
  },
  {
   "cell_type": "markdown",
   "id": "d585e162",
   "metadata": {},
   "source": [
    "##### Створіть діагональну матрицю 5 на 5:"
   ]
  },
  {
   "cell_type": "code",
   "execution_count": 9,
   "id": "aa63a522",
   "metadata": {
    "ExecuteTime": {
     "end_time": "2025-03-18T13:28:25.957662Z",
     "start_time": "2025-03-18T13:28:25.954431Z"
    }
   },
   "outputs": [
    {
     "name": "stdout",
     "output_type": "stream",
     "text": [
      "[[1. 0. 0. 0. 0.]\n",
      " [0. 1. 0. 0. 0.]\n",
      " [0. 0. 1. 0. 0.]\n",
      " [0. 0. 0. 1. 0.]\n",
      " [0. 0. 0. 0. 1.]]\n"
     ]
    }
   ],
   "source": [
    "print(np.eye(5))"
   ]
  },
  {
   "cell_type": "markdown",
   "id": "e4cee6c7",
   "metadata": {},
   "source": [
    "##### Згенеруйте випадкове число використовуючи NumPy:"
   ]
  },
  {
   "cell_type": "code",
   "execution_count": 10,
   "id": "ce40bb9f",
   "metadata": {
    "ExecuteTime": {
     "end_time": "2025-03-18T13:29:42.070441Z",
     "start_time": "2025-03-18T13:29:42.067649Z"
    }
   },
   "outputs": [
    {
     "name": "stdout",
     "output_type": "stream",
     "text": [
      "0.5434049417909654\n"
     ]
    }
   ],
   "source": [
    "np.random.seed(100)  # цей метод доданий, щоб числа, згенеровані випадково були однакові після декількох запусків\n",
    "\n",
    "random_number = np.random.rand()  # Генеруємо випадкове число від 0 до 1\n",
    "print(random_number)\n"
   ]
  },
  {
   "cell_type": "markdown",
   "id": "b4aaad0e",
   "metadata": {},
   "source": [
    "##### Згенеруйте масив з 25 випадкових чисел:"
   ]
  },
  {
   "cell_type": "code",
   "execution_count": 11,
   "id": "24f079e2",
   "metadata": {
    "ExecuteTime": {
     "end_time": "2025-03-18T14:21:44.920432Z",
     "start_time": "2025-03-18T14:21:44.916624Z"
    }
   },
   "outputs": [
    {
     "name": "stdout",
     "output_type": "stream",
     "text": [
      "[0.54340494 0.27836939 0.42451759 0.84477613 0.00471886 0.12156912\n",
      " 0.67074908 0.82585276 0.13670659 0.57509333 0.89132195 0.20920212\n",
      " 0.18532822 0.10837689 0.21969749 0.97862378 0.81168315 0.17194101\n",
      " 0.81622475 0.27407375 0.43170418 0.94002982 0.81764938 0.33611195\n",
      " 0.17541045]\n"
     ]
    }
   ],
   "source": [
    "np.random.seed(100)\n",
    "\n",
    "print(np.random.rand(25))"
   ]
  },
  {
   "cell_type": "markdown",
   "id": "48aacc53",
   "metadata": {},
   "source": [
    "##### Створіть масив, у якому 20 чисел лінійно розташовані у проміжку від 0 до 1:"
   ]
  },
  {
   "cell_type": "code",
   "execution_count": 12,
   "id": "7ace983d",
   "metadata": {
    "ExecuteTime": {
     "end_time": "2025-03-18T14:26:26.410502Z",
     "start_time": "2025-03-18T14:26:26.407021Z"
    }
   },
   "outputs": [
    {
     "name": "stdout",
     "output_type": "stream",
     "text": [
      "[0.         0.05263158 0.10526316 0.15789474 0.21052632 0.26315789\n",
      " 0.31578947 0.36842105 0.42105263 0.47368421 0.52631579 0.57894737\n",
      " 0.63157895 0.68421053 0.73684211 0.78947368 0.84210526 0.89473684\n",
      " 0.94736842 1.        ]\n"
     ]
    }
   ],
   "source": [
    "np.random.seed(100)\n",
    "print(np.linspace(0, 1, 20))"
   ]
  },
  {
   "cell_type": "code",
   "execution_count": null,
   "id": "06d03fa3",
   "metadata": {},
   "outputs": [],
   "source": []
  },
  {
   "cell_type": "markdown",
   "id": "cec7c327",
   "metadata": {},
   "source": [
    "### Індексування.\n",
    "Необхідно написати код, щоб отримати такі самі дані, як у прикладах з наперед заданої матриці."
   ]
  },
  {
   "cell_type": "code",
   "execution_count": 13,
   "id": "8230a6ab",
   "metadata": {},
   "outputs": [
    {
     "data": {
      "text/plain": [
       "array([[ 0,  1,  2,  3,  4],\n",
       "       [ 5,  6,  7,  8,  9],\n",
       "       [10, 11, 12, 13, 14],\n",
       "       [15, 16, 17, 18, 19],\n",
       "       [20, 21, 22, 23, 24]])"
      ]
     },
     "execution_count": 13,
     "metadata": {},
     "output_type": "execute_result"
    }
   ],
   "source": [
    "matrix = np.arange(0, 25).reshape(5, 5)\n",
    "matrix"
   ]
  },
  {
   "cell_type": "code",
   "execution_count": 17,
   "id": "c1204178",
   "metadata": {
    "ExecuteTime": {
     "end_time": "2025-03-18T16:15:23.961246Z",
     "start_time": "2025-03-18T16:15:23.942347Z"
    }
   },
   "outputs": [
    {
     "data": {
      "text/plain": [
       "array([[3, 4],\n",
       "       [8, 9]])"
      ]
     },
     "execution_count": 17,
     "metadata": {},
     "output_type": "execute_result"
    }
   ],
   "source": [
    "x = np.array(matrix)\n",
    "def submatrix(matrix, startRow, startCol, size):\n",
    "     return matrix[startRow:startRow+size,startCol:startCol+size]\n",
    "\n",
    "submatrix(x, 0, 3, 2)"
   ]
  },
  {
   "cell_type": "code",
   "execution_count": 18,
   "id": "0d52f40a",
   "metadata": {
    "ExecuteTime": {
     "end_time": "2025-03-18T16:15:25.942848Z",
     "start_time": "2025-03-18T16:15:25.940595Z"
    }
   },
   "outputs": [
    {
     "name": "stdout",
     "output_type": "stream",
     "text": [
      "12\n"
     ]
    }
   ],
   "source": [
    "rows, cols = matrix.shape\n",
    "print(matrix[rows//2, cols//2])"
   ]
  },
  {
   "cell_type": "code",
   "execution_count": 19,
   "id": "0b760d7f",
   "metadata": {
    "ExecuteTime": {
     "end_time": "2025-03-18T16:15:26.655978Z",
     "start_time": "2025-03-18T16:15:26.653457Z"
    }
   },
   "outputs": [
    {
     "data": {
      "text/plain": [
       "array([10, 11, 12, 13, 14])"
      ]
     },
     "execution_count": 19,
     "metadata": {},
     "output_type": "execute_result"
    }
   ],
   "source": [
    "matrix[2]"
   ]
  },
  {
   "cell_type": "markdown",
   "id": "480f7bcb",
   "metadata": {},
   "source": [
    "## Робота з бібліотекою Pandas."
   ]
  },
  {
   "cell_type": "markdown",
   "id": "a439ba61",
   "metadata": {},
   "source": [
    "Імпортуйте pandas."
   ]
  },
  {
   "cell_type": "code",
   "id": "26fbc429",
   "metadata": {
    "ExecuteTime": {
     "end_time": "2025-03-18T16:46:21.867836Z",
     "start_time": "2025-03-18T16:46:21.865669Z"
    }
   },
   "source": [
    "import pandas as pd"
   ],
   "outputs": [],
   "execution_count": 26
  },
  {
   "cell_type": "markdown",
   "id": "8109a384",
   "metadata": {},
   "source": [
    "### Завантаження даних у DataFrame."
   ]
  },
  {
   "cell_type": "code",
   "id": "27ea8543",
   "metadata": {
    "ExecuteTime": {
     "end_time": "2025-03-18T16:46:23.767587Z",
     "start_time": "2025-03-18T16:46:23.759396Z"
    }
   },
   "source": "df = pd.read_csv('Data.csv')",
   "outputs": [],
   "execution_count": 27
  },
  {
   "cell_type": "markdown",
   "id": "ec3e3c18",
   "metadata": {},
   "source": [
    "Виведіть перші 10 рядочків з DataFrame."
   ]
  },
  {
   "cell_type": "code",
   "id": "13a4db67",
   "metadata": {
    "ExecuteTime": {
     "end_time": "2025-03-18T16:46:25.113074Z",
     "start_time": "2025-03-18T16:46:25.104958Z"
    }
   },
   "source": "df.head(10)",
   "outputs": [
    {
     "data": {
      "text/plain": [
       "  RegisterDate  Points  CurrentRanking  HighestRanking        Country  \\\n",
       "0    8/23/2012  199697               1               1         Brazil   \n",
       "1     9/7/2016  188693               2               1            NaN   \n",
       "2    6/24/2013  160026               3               1            NaN   \n",
       "3    8/24/2015  119109               4               4      Lithuania   \n",
       "4    4/20/2014  118149               5               5         Canada   \n",
       "5   11/13/2012  116060               6               4  United States   \n",
       "6    2/28/2014  114214               7               3          China   \n",
       "7    11/8/2015  106314               8               8         Russia   \n",
       "8    6/25/2010  103017               9               6        Austria   \n",
       "9    7/20/2016  102460              10               9         Latvia   \n",
       "\n",
       "       Continent  \n",
       "0  South America  \n",
       "1            NaN  \n",
       "2            NaN  \n",
       "3         Europe  \n",
       "4  North America  \n",
       "5  North America  \n",
       "6           Asia  \n",
       "7           Asia  \n",
       "8         Europe  \n",
       "9         Europe  "
      ],
      "text/html": [
       "<div>\n",
       "<style scoped>\n",
       "    .dataframe tbody tr th:only-of-type {\n",
       "        vertical-align: middle;\n",
       "    }\n",
       "\n",
       "    .dataframe tbody tr th {\n",
       "        vertical-align: top;\n",
       "    }\n",
       "\n",
       "    .dataframe thead th {\n",
       "        text-align: right;\n",
       "    }\n",
       "</style>\n",
       "<table border=\"1\" class=\"dataframe\">\n",
       "  <thead>\n",
       "    <tr style=\"text-align: right;\">\n",
       "      <th></th>\n",
       "      <th>RegisterDate</th>\n",
       "      <th>Points</th>\n",
       "      <th>CurrentRanking</th>\n",
       "      <th>HighestRanking</th>\n",
       "      <th>Country</th>\n",
       "      <th>Continent</th>\n",
       "    </tr>\n",
       "  </thead>\n",
       "  <tbody>\n",
       "    <tr>\n",
       "      <th>0</th>\n",
       "      <td>8/23/2012</td>\n",
       "      <td>199697</td>\n",
       "      <td>1</td>\n",
       "      <td>1</td>\n",
       "      <td>Brazil</td>\n",
       "      <td>South America</td>\n",
       "    </tr>\n",
       "    <tr>\n",
       "      <th>1</th>\n",
       "      <td>9/7/2016</td>\n",
       "      <td>188693</td>\n",
       "      <td>2</td>\n",
       "      <td>1</td>\n",
       "      <td>NaN</td>\n",
       "      <td>NaN</td>\n",
       "    </tr>\n",
       "    <tr>\n",
       "      <th>2</th>\n",
       "      <td>6/24/2013</td>\n",
       "      <td>160026</td>\n",
       "      <td>3</td>\n",
       "      <td>1</td>\n",
       "      <td>NaN</td>\n",
       "      <td>NaN</td>\n",
       "    </tr>\n",
       "    <tr>\n",
       "      <th>3</th>\n",
       "      <td>8/24/2015</td>\n",
       "      <td>119109</td>\n",
       "      <td>4</td>\n",
       "      <td>4</td>\n",
       "      <td>Lithuania</td>\n",
       "      <td>Europe</td>\n",
       "    </tr>\n",
       "    <tr>\n",
       "      <th>4</th>\n",
       "      <td>4/20/2014</td>\n",
       "      <td>118149</td>\n",
       "      <td>5</td>\n",
       "      <td>5</td>\n",
       "      <td>Canada</td>\n",
       "      <td>North America</td>\n",
       "    </tr>\n",
       "    <tr>\n",
       "      <th>5</th>\n",
       "      <td>11/13/2012</td>\n",
       "      <td>116060</td>\n",
       "      <td>6</td>\n",
       "      <td>4</td>\n",
       "      <td>United States</td>\n",
       "      <td>North America</td>\n",
       "    </tr>\n",
       "    <tr>\n",
       "      <th>6</th>\n",
       "      <td>2/28/2014</td>\n",
       "      <td>114214</td>\n",
       "      <td>7</td>\n",
       "      <td>3</td>\n",
       "      <td>China</td>\n",
       "      <td>Asia</td>\n",
       "    </tr>\n",
       "    <tr>\n",
       "      <th>7</th>\n",
       "      <td>11/8/2015</td>\n",
       "      <td>106314</td>\n",
       "      <td>8</td>\n",
       "      <td>8</td>\n",
       "      <td>Russia</td>\n",
       "      <td>Asia</td>\n",
       "    </tr>\n",
       "    <tr>\n",
       "      <th>8</th>\n",
       "      <td>6/25/2010</td>\n",
       "      <td>103017</td>\n",
       "      <td>9</td>\n",
       "      <td>6</td>\n",
       "      <td>Austria</td>\n",
       "      <td>Europe</td>\n",
       "    </tr>\n",
       "    <tr>\n",
       "      <th>9</th>\n",
       "      <td>7/20/2016</td>\n",
       "      <td>102460</td>\n",
       "      <td>10</td>\n",
       "      <td>9</td>\n",
       "      <td>Latvia</td>\n",
       "      <td>Europe</td>\n",
       "    </tr>\n",
       "  </tbody>\n",
       "</table>\n",
       "</div>"
      ]
     },
     "execution_count": 28,
     "metadata": {},
     "output_type": "execute_result"
    }
   ],
   "execution_count": 28
  },
  {
   "cell_type": "markdown",
   "id": "e30a1f64",
   "metadata": {},
   "source": [
    "Виведіть останні 10 рядочків з DataFrame."
   ]
  },
  {
   "cell_type": "code",
   "id": "ca259ff5",
   "metadata": {
    "ExecuteTime": {
     "end_time": "2025-03-18T16:46:27.760523Z",
     "start_time": "2025-03-18T16:46:27.753041Z"
    }
   },
   "source": "df.tail(10)",
   "outputs": [
    {
     "data": {
      "text/plain": [
       "     RegisterDate  Points  CurrentRanking  HighestRanking        Country  \\\n",
       "4757    8/29/2010      20            4757              73       Colombia   \n",
       "4758   11/11/2010      19            4758             117            NaN   \n",
       "4759   11/24/2011      18            4759            1081            NaN   \n",
       "4760   11/15/2010      16            4760             151         Israel   \n",
       "4761    1/17/2012      16            4761            1201  United States   \n",
       "4762   11/24/2010      14            4762             265        Belgium   \n",
       "4763     1/1/2012      14            4763            1444            NaN   \n",
       "4764     1/9/2012      14            4764            1444          India   \n",
       "4765    1/15/2012      14            4765            1444            NaN   \n",
       "4766    1/17/2012      14            4766            1444            NaN   \n",
       "\n",
       "          Continent  \n",
       "4757  South America  \n",
       "4758            NaN  \n",
       "4759            NaN  \n",
       "4760           Asia  \n",
       "4761  North America  \n",
       "4762         Europe  \n",
       "4763            NaN  \n",
       "4764           Asia  \n",
       "4765            NaN  \n",
       "4766            NaN  "
      ],
      "text/html": [
       "<div>\n",
       "<style scoped>\n",
       "    .dataframe tbody tr th:only-of-type {\n",
       "        vertical-align: middle;\n",
       "    }\n",
       "\n",
       "    .dataframe tbody tr th {\n",
       "        vertical-align: top;\n",
       "    }\n",
       "\n",
       "    .dataframe thead th {\n",
       "        text-align: right;\n",
       "    }\n",
       "</style>\n",
       "<table border=\"1\" class=\"dataframe\">\n",
       "  <thead>\n",
       "    <tr style=\"text-align: right;\">\n",
       "      <th></th>\n",
       "      <th>RegisterDate</th>\n",
       "      <th>Points</th>\n",
       "      <th>CurrentRanking</th>\n",
       "      <th>HighestRanking</th>\n",
       "      <th>Country</th>\n",
       "      <th>Continent</th>\n",
       "    </tr>\n",
       "  </thead>\n",
       "  <tbody>\n",
       "    <tr>\n",
       "      <th>4757</th>\n",
       "      <td>8/29/2010</td>\n",
       "      <td>20</td>\n",
       "      <td>4757</td>\n",
       "      <td>73</td>\n",
       "      <td>Colombia</td>\n",
       "      <td>South America</td>\n",
       "    </tr>\n",
       "    <tr>\n",
       "      <th>4758</th>\n",
       "      <td>11/11/2010</td>\n",
       "      <td>19</td>\n",
       "      <td>4758</td>\n",
       "      <td>117</td>\n",
       "      <td>NaN</td>\n",
       "      <td>NaN</td>\n",
       "    </tr>\n",
       "    <tr>\n",
       "      <th>4759</th>\n",
       "      <td>11/24/2011</td>\n",
       "      <td>18</td>\n",
       "      <td>4759</td>\n",
       "      <td>1081</td>\n",
       "      <td>NaN</td>\n",
       "      <td>NaN</td>\n",
       "    </tr>\n",
       "    <tr>\n",
       "      <th>4760</th>\n",
       "      <td>11/15/2010</td>\n",
       "      <td>16</td>\n",
       "      <td>4760</td>\n",
       "      <td>151</td>\n",
       "      <td>Israel</td>\n",
       "      <td>Asia</td>\n",
       "    </tr>\n",
       "    <tr>\n",
       "      <th>4761</th>\n",
       "      <td>1/17/2012</td>\n",
       "      <td>16</td>\n",
       "      <td>4761</td>\n",
       "      <td>1201</td>\n",
       "      <td>United States</td>\n",
       "      <td>North America</td>\n",
       "    </tr>\n",
       "    <tr>\n",
       "      <th>4762</th>\n",
       "      <td>11/24/2010</td>\n",
       "      <td>14</td>\n",
       "      <td>4762</td>\n",
       "      <td>265</td>\n",
       "      <td>Belgium</td>\n",
       "      <td>Europe</td>\n",
       "    </tr>\n",
       "    <tr>\n",
       "      <th>4763</th>\n",
       "      <td>1/1/2012</td>\n",
       "      <td>14</td>\n",
       "      <td>4763</td>\n",
       "      <td>1444</td>\n",
       "      <td>NaN</td>\n",
       "      <td>NaN</td>\n",
       "    </tr>\n",
       "    <tr>\n",
       "      <th>4764</th>\n",
       "      <td>1/9/2012</td>\n",
       "      <td>14</td>\n",
       "      <td>4764</td>\n",
       "      <td>1444</td>\n",
       "      <td>India</td>\n",
       "      <td>Asia</td>\n",
       "    </tr>\n",
       "    <tr>\n",
       "      <th>4765</th>\n",
       "      <td>1/15/2012</td>\n",
       "      <td>14</td>\n",
       "      <td>4765</td>\n",
       "      <td>1444</td>\n",
       "      <td>NaN</td>\n",
       "      <td>NaN</td>\n",
       "    </tr>\n",
       "    <tr>\n",
       "      <th>4766</th>\n",
       "      <td>1/17/2012</td>\n",
       "      <td>14</td>\n",
       "      <td>4766</td>\n",
       "      <td>1444</td>\n",
       "      <td>NaN</td>\n",
       "      <td>NaN</td>\n",
       "    </tr>\n",
       "  </tbody>\n",
       "</table>\n",
       "</div>"
      ]
     },
     "execution_count": 29,
     "metadata": {},
     "output_type": "execute_result"
    }
   ],
   "execution_count": 29
  },
  {
   "cell_type": "markdown",
   "id": "c65f919d",
   "metadata": {},
   "source": [
    "Виведіть випадкові 10 рядочків з DataFrame."
   ]
  },
  {
   "cell_type": "code",
   "id": "0b50a98f",
   "metadata": {
    "ExecuteTime": {
     "end_time": "2025-03-18T16:24:51.512188Z",
     "start_time": "2025-03-18T16:24:51.503886Z"
    }
   },
   "source": "df.sample(10)",
   "outputs": [
    {
     "data": {
      "text/plain": [
       "     RegisterDate  Points  CurrentRanking  HighestRanking        Country  \\\n",
       "3773    6/20/2013     667            3773             179  United States   \n",
       "1212    10/7/2016    5481            1212            1111          Spain   \n",
       "1417     7/5/2017    4677            1417            1025        Ukraine   \n",
       "1817    3/11/2017    3513            1817            1782         Brazil   \n",
       "2085   12/30/2015    2921            2085             759            NaN   \n",
       "2504   10/10/2015    2167            2504             958        Germany   \n",
       "4076     7/2/2014     461            4076            1083      Australia   \n",
       "1399   10/23/2011    4726            1399             339            NaN   \n",
       "1814    8/28/2017    3526            1814            1398          India   \n",
       "1021    9/13/2016    6578            1021             447         Poland   \n",
       "\n",
       "          Continent  \n",
       "3773  North America  \n",
       "1212         Europe  \n",
       "1417         Europe  \n",
       "1817  South America  \n",
       "2085            NaN  \n",
       "2504         Europe  \n",
       "4076        Oceania  \n",
       "1399            NaN  \n",
       "1814           Asia  \n",
       "1021         Europe  "
      ],
      "text/html": [
       "<div>\n",
       "<style scoped>\n",
       "    .dataframe tbody tr th:only-of-type {\n",
       "        vertical-align: middle;\n",
       "    }\n",
       "\n",
       "    .dataframe tbody tr th {\n",
       "        vertical-align: top;\n",
       "    }\n",
       "\n",
       "    .dataframe thead th {\n",
       "        text-align: right;\n",
       "    }\n",
       "</style>\n",
       "<table border=\"1\" class=\"dataframe\">\n",
       "  <thead>\n",
       "    <tr style=\"text-align: right;\">\n",
       "      <th></th>\n",
       "      <th>RegisterDate</th>\n",
       "      <th>Points</th>\n",
       "      <th>CurrentRanking</th>\n",
       "      <th>HighestRanking</th>\n",
       "      <th>Country</th>\n",
       "      <th>Continent</th>\n",
       "    </tr>\n",
       "  </thead>\n",
       "  <tbody>\n",
       "    <tr>\n",
       "      <th>3773</th>\n",
       "      <td>6/20/2013</td>\n",
       "      <td>667</td>\n",
       "      <td>3773</td>\n",
       "      <td>179</td>\n",
       "      <td>United States</td>\n",
       "      <td>North America</td>\n",
       "    </tr>\n",
       "    <tr>\n",
       "      <th>1212</th>\n",
       "      <td>10/7/2016</td>\n",
       "      <td>5481</td>\n",
       "      <td>1212</td>\n",
       "      <td>1111</td>\n",
       "      <td>Spain</td>\n",
       "      <td>Europe</td>\n",
       "    </tr>\n",
       "    <tr>\n",
       "      <th>1417</th>\n",
       "      <td>7/5/2017</td>\n",
       "      <td>4677</td>\n",
       "      <td>1417</td>\n",
       "      <td>1025</td>\n",
       "      <td>Ukraine</td>\n",
       "      <td>Europe</td>\n",
       "    </tr>\n",
       "    <tr>\n",
       "      <th>1817</th>\n",
       "      <td>3/11/2017</td>\n",
       "      <td>3513</td>\n",
       "      <td>1817</td>\n",
       "      <td>1782</td>\n",
       "      <td>Brazil</td>\n",
       "      <td>South America</td>\n",
       "    </tr>\n",
       "    <tr>\n",
       "      <th>2085</th>\n",
       "      <td>12/30/2015</td>\n",
       "      <td>2921</td>\n",
       "      <td>2085</td>\n",
       "      <td>759</td>\n",
       "      <td>NaN</td>\n",
       "      <td>NaN</td>\n",
       "    </tr>\n",
       "    <tr>\n",
       "      <th>2504</th>\n",
       "      <td>10/10/2015</td>\n",
       "      <td>2167</td>\n",
       "      <td>2504</td>\n",
       "      <td>958</td>\n",
       "      <td>Germany</td>\n",
       "      <td>Europe</td>\n",
       "    </tr>\n",
       "    <tr>\n",
       "      <th>4076</th>\n",
       "      <td>7/2/2014</td>\n",
       "      <td>461</td>\n",
       "      <td>4076</td>\n",
       "      <td>1083</td>\n",
       "      <td>Australia</td>\n",
       "      <td>Oceania</td>\n",
       "    </tr>\n",
       "    <tr>\n",
       "      <th>1399</th>\n",
       "      <td>10/23/2011</td>\n",
       "      <td>4726</td>\n",
       "      <td>1399</td>\n",
       "      <td>339</td>\n",
       "      <td>NaN</td>\n",
       "      <td>NaN</td>\n",
       "    </tr>\n",
       "    <tr>\n",
       "      <th>1814</th>\n",
       "      <td>8/28/2017</td>\n",
       "      <td>3526</td>\n",
       "      <td>1814</td>\n",
       "      <td>1398</td>\n",
       "      <td>India</td>\n",
       "      <td>Asia</td>\n",
       "    </tr>\n",
       "    <tr>\n",
       "      <th>1021</th>\n",
       "      <td>9/13/2016</td>\n",
       "      <td>6578</td>\n",
       "      <td>1021</td>\n",
       "      <td>447</td>\n",
       "      <td>Poland</td>\n",
       "      <td>Europe</td>\n",
       "    </tr>\n",
       "  </tbody>\n",
       "</table>\n",
       "</div>"
      ]
     },
     "execution_count": 7,
     "metadata": {},
     "output_type": "execute_result"
    }
   ],
   "execution_count": 7
  },
  {
   "cell_type": "markdown",
   "id": "853f37dc",
   "metadata": {},
   "source": [
    "Виведіть розмірність DataFrame."
   ]
  },
  {
   "cell_type": "code",
   "id": "811c705a",
   "metadata": {
    "ExecuteTime": {
     "end_time": "2025-03-18T16:25:29.208966Z",
     "start_time": "2025-03-18T16:25:29.204765Z"
    }
   },
   "source": "df.shape",
   "outputs": [
    {
     "data": {
      "text/plain": [
       "(4767, 6)"
      ]
     },
     "execution_count": 9,
     "metadata": {},
     "output_type": "execute_result"
    }
   ],
   "execution_count": 9
  },
  {
   "cell_type": "markdown",
   "id": "167b72c3",
   "metadata": {},
   "source": [
    "Виведіть назви колонок DataFrame."
   ]
  },
  {
   "cell_type": "code",
   "id": "3d41599e",
   "metadata": {
    "ExecuteTime": {
     "end_time": "2025-03-18T16:25:45.964964Z",
     "start_time": "2025-03-18T16:25:45.960733Z"
    }
   },
   "source": "df.columns",
   "outputs": [
    {
     "data": {
      "text/plain": [
       "Index(['RegisterDate', 'Points', 'CurrentRanking', 'HighestRanking', 'Country',\n",
       "       'Continent'],\n",
       "      dtype='object')"
      ]
     },
     "execution_count": 10,
     "metadata": {},
     "output_type": "execute_result"
    }
   ],
   "execution_count": 10
  },
  {
   "cell_type": "markdown",
   "id": "a4bb622a",
   "metadata": {},
   "source": [
    "Виведіть інформацію про колонку індексів DataFrame."
   ]
  },
  {
   "cell_type": "code",
   "id": "e48a90ad",
   "metadata": {
    "ExecuteTime": {
     "end_time": "2025-03-18T16:25:56.848706Z",
     "start_time": "2025-03-18T16:25:56.844783Z"
    }
   },
   "source": "df.index",
   "outputs": [
    {
     "data": {
      "text/plain": [
       "RangeIndex(start=0, stop=4767, step=1)"
      ]
     },
     "execution_count": 11,
     "metadata": {},
     "output_type": "execute_result"
    }
   ],
   "execution_count": 11
  },
  {
   "cell_type": "markdown",
   "id": "ff6f9dca",
   "metadata": {},
   "source": [
    "Виведіть інформацію про типи даних елементів у DataFrame."
   ]
  },
  {
   "cell_type": "code",
   "id": "bcd9f1b8",
   "metadata": {
    "ExecuteTime": {
     "end_time": "2025-03-18T16:26:13.309587Z",
     "start_time": "2025-03-18T16:26:13.304080Z"
    }
   },
   "source": "df.dtypes",
   "outputs": [
    {
     "data": {
      "text/plain": [
       "RegisterDate      object\n",
       "Points             int64\n",
       "CurrentRanking     int64\n",
       "HighestRanking     int64\n",
       "Country           object\n",
       "Continent         object\n",
       "dtype: object"
      ]
     },
     "execution_count": 12,
     "metadata": {},
     "output_type": "execute_result"
    }
   ],
   "execution_count": 12
  },
  {
   "cell_type": "markdown",
   "id": "f474814c",
   "metadata": {},
   "source": [
    "Створіть нову колонку на основі двох існуючих."
   ]
  },
  {
   "cell_type": "code",
   "id": "5e3b9444",
   "metadata": {
    "ExecuteTime": {
     "end_time": "2025-03-18T16:27:31.949468Z",
     "start_time": "2025-03-18T16:27:31.938260Z"
    }
   },
   "source": [
    "df['NewColumn'] = df['CurrentRanking'] + df['HighestRanking']\n",
    "df.head()"
   ],
   "outputs": [
    {
     "data": {
      "text/plain": [
       "  RegisterDate  Points  CurrentRanking  HighestRanking    Country  \\\n",
       "0    8/23/2012  199697               1               1     Brazil   \n",
       "1     9/7/2016  188693               2               1        NaN   \n",
       "2    6/24/2013  160026               3               1        NaN   \n",
       "3    8/24/2015  119109               4               4  Lithuania   \n",
       "4    4/20/2014  118149               5               5     Canada   \n",
       "\n",
       "       Continent  NewColumn  \n",
       "0  South America          2  \n",
       "1            NaN          3  \n",
       "2            NaN          4  \n",
       "3         Europe          8  \n",
       "4  North America         10  "
      ],
      "text/html": [
       "<div>\n",
       "<style scoped>\n",
       "    .dataframe tbody tr th:only-of-type {\n",
       "        vertical-align: middle;\n",
       "    }\n",
       "\n",
       "    .dataframe tbody tr th {\n",
       "        vertical-align: top;\n",
       "    }\n",
       "\n",
       "    .dataframe thead th {\n",
       "        text-align: right;\n",
       "    }\n",
       "</style>\n",
       "<table border=\"1\" class=\"dataframe\">\n",
       "  <thead>\n",
       "    <tr style=\"text-align: right;\">\n",
       "      <th></th>\n",
       "      <th>RegisterDate</th>\n",
       "      <th>Points</th>\n",
       "      <th>CurrentRanking</th>\n",
       "      <th>HighestRanking</th>\n",
       "      <th>Country</th>\n",
       "      <th>Continent</th>\n",
       "      <th>NewColumn</th>\n",
       "    </tr>\n",
       "  </thead>\n",
       "  <tbody>\n",
       "    <tr>\n",
       "      <th>0</th>\n",
       "      <td>8/23/2012</td>\n",
       "      <td>199697</td>\n",
       "      <td>1</td>\n",
       "      <td>1</td>\n",
       "      <td>Brazil</td>\n",
       "      <td>South America</td>\n",
       "      <td>2</td>\n",
       "    </tr>\n",
       "    <tr>\n",
       "      <th>1</th>\n",
       "      <td>9/7/2016</td>\n",
       "      <td>188693</td>\n",
       "      <td>2</td>\n",
       "      <td>1</td>\n",
       "      <td>NaN</td>\n",
       "      <td>NaN</td>\n",
       "      <td>3</td>\n",
       "    </tr>\n",
       "    <tr>\n",
       "      <th>2</th>\n",
       "      <td>6/24/2013</td>\n",
       "      <td>160026</td>\n",
       "      <td>3</td>\n",
       "      <td>1</td>\n",
       "      <td>NaN</td>\n",
       "      <td>NaN</td>\n",
       "      <td>4</td>\n",
       "    </tr>\n",
       "    <tr>\n",
       "      <th>3</th>\n",
       "      <td>8/24/2015</td>\n",
       "      <td>119109</td>\n",
       "      <td>4</td>\n",
       "      <td>4</td>\n",
       "      <td>Lithuania</td>\n",
       "      <td>Europe</td>\n",
       "      <td>8</td>\n",
       "    </tr>\n",
       "    <tr>\n",
       "      <th>4</th>\n",
       "      <td>4/20/2014</td>\n",
       "      <td>118149</td>\n",
       "      <td>5</td>\n",
       "      <td>5</td>\n",
       "      <td>Canada</td>\n",
       "      <td>North America</td>\n",
       "      <td>10</td>\n",
       "    </tr>\n",
       "  </tbody>\n",
       "</table>\n",
       "</div>"
      ]
     },
     "execution_count": 14,
     "metadata": {},
     "output_type": "execute_result"
    }
   ],
   "execution_count": 14
  },
  {
   "cell_type": "markdown",
   "id": "f6585070",
   "metadata": {},
   "source": [
    "Виведіть дві будь-які колонки з DataFrame."
   ]
  },
  {
   "cell_type": "code",
   "id": "ef10296e",
   "metadata": {
    "ExecuteTime": {
     "end_time": "2025-03-18T16:28:41.058913Z",
     "start_time": "2025-03-18T16:28:41.053488Z"
    }
   },
   "source": "df[['CurrentRanking', 'Country']]",
   "outputs": [
    {
     "data": {
      "text/plain": [
       "      CurrentRanking    Country\n",
       "0                  1     Brazil\n",
       "1                  2        NaN\n",
       "2                  3        NaN\n",
       "3                  4  Lithuania\n",
       "4                  5     Canada\n",
       "...              ...        ...\n",
       "4762            4762    Belgium\n",
       "4763            4763        NaN\n",
       "4764            4764      India\n",
       "4765            4765        NaN\n",
       "4766            4766        NaN\n",
       "\n",
       "[4767 rows x 2 columns]"
      ],
      "text/html": [
       "<div>\n",
       "<style scoped>\n",
       "    .dataframe tbody tr th:only-of-type {\n",
       "        vertical-align: middle;\n",
       "    }\n",
       "\n",
       "    .dataframe tbody tr th {\n",
       "        vertical-align: top;\n",
       "    }\n",
       "\n",
       "    .dataframe thead th {\n",
       "        text-align: right;\n",
       "    }\n",
       "</style>\n",
       "<table border=\"1\" class=\"dataframe\">\n",
       "  <thead>\n",
       "    <tr style=\"text-align: right;\">\n",
       "      <th></th>\n",
       "      <th>CurrentRanking</th>\n",
       "      <th>Country</th>\n",
       "    </tr>\n",
       "  </thead>\n",
       "  <tbody>\n",
       "    <tr>\n",
       "      <th>0</th>\n",
       "      <td>1</td>\n",
       "      <td>Brazil</td>\n",
       "    </tr>\n",
       "    <tr>\n",
       "      <th>1</th>\n",
       "      <td>2</td>\n",
       "      <td>NaN</td>\n",
       "    </tr>\n",
       "    <tr>\n",
       "      <th>2</th>\n",
       "      <td>3</td>\n",
       "      <td>NaN</td>\n",
       "    </tr>\n",
       "    <tr>\n",
       "      <th>3</th>\n",
       "      <td>4</td>\n",
       "      <td>Lithuania</td>\n",
       "    </tr>\n",
       "    <tr>\n",
       "      <th>4</th>\n",
       "      <td>5</td>\n",
       "      <td>Canada</td>\n",
       "    </tr>\n",
       "    <tr>\n",
       "      <th>...</th>\n",
       "      <td>...</td>\n",
       "      <td>...</td>\n",
       "    </tr>\n",
       "    <tr>\n",
       "      <th>4762</th>\n",
       "      <td>4762</td>\n",
       "      <td>Belgium</td>\n",
       "    </tr>\n",
       "    <tr>\n",
       "      <th>4763</th>\n",
       "      <td>4763</td>\n",
       "      <td>NaN</td>\n",
       "    </tr>\n",
       "    <tr>\n",
       "      <th>4764</th>\n",
       "      <td>4764</td>\n",
       "      <td>India</td>\n",
       "    </tr>\n",
       "    <tr>\n",
       "      <th>4765</th>\n",
       "      <td>4765</td>\n",
       "      <td>NaN</td>\n",
       "    </tr>\n",
       "    <tr>\n",
       "      <th>4766</th>\n",
       "      <td>4766</td>\n",
       "      <td>NaN</td>\n",
       "    </tr>\n",
       "  </tbody>\n",
       "</table>\n",
       "<p>4767 rows × 2 columns</p>\n",
       "</div>"
      ]
     },
     "execution_count": 16,
     "metadata": {},
     "output_type": "execute_result"
    }
   ],
   "execution_count": 16
  },
  {
   "cell_type": "markdown",
   "id": "4c442ede",
   "metadata": {},
   "source": [
    "Виведіть рядок з  будь-яким індексом DataFrame."
   ]
  },
  {
   "cell_type": "code",
   "id": "3a3e5688",
   "metadata": {
    "ExecuteTime": {
     "end_time": "2025-03-18T16:29:07.062024Z",
     "start_time": "2025-03-18T16:29:07.056245Z"
    }
   },
   "source": "df.loc[3]",
   "outputs": [
    {
     "data": {
      "text/plain": [
       "RegisterDate      8/24/2015\n",
       "Points               119109\n",
       "CurrentRanking            4\n",
       "HighestRanking            4\n",
       "Country           Lithuania\n",
       "Continent            Europe\n",
       "NewColumn                 8\n",
       "Name: 3, dtype: object"
      ]
     },
     "execution_count": 17,
     "metadata": {},
     "output_type": "execute_result"
    }
   ],
   "execution_count": 17
  },
  {
   "cell_type": "markdown",
   "id": "b6a804e5",
   "metadata": {},
   "source": [
    "Виведіть всі елементи DataFrame, у яких значення колонки 'Country' не є 'None'."
   ]
  },
  {
   "cell_type": "code",
   "id": "795eefdd",
   "metadata": {
    "ExecuteTime": {
     "end_time": "2025-03-18T16:29:25.008060Z",
     "start_time": "2025-03-18T16:29:24.997476Z"
    }
   },
   "source": "df[df['Country'].notna()]",
   "outputs": [
    {
     "data": {
      "text/plain": [
       "     RegisterDate  Points  CurrentRanking  HighestRanking        Country  \\\n",
       "0       8/23/2012  199697               1               1         Brazil   \n",
       "3       8/24/2015  119109               4               4      Lithuania   \n",
       "4       4/20/2014  118149               5               5         Canada   \n",
       "5      11/13/2012  116060               6               4  United States   \n",
       "6       2/28/2014  114214               7               3          China   \n",
       "...           ...     ...             ...             ...            ...   \n",
       "4757    8/29/2010      20            4757              73       Colombia   \n",
       "4760   11/15/2010      16            4760             151         Israel   \n",
       "4761    1/17/2012      16            4761            1201  United States   \n",
       "4762   11/24/2010      14            4762             265        Belgium   \n",
       "4764     1/9/2012      14            4764            1444          India   \n",
       "\n",
       "          Continent  NewColumn  \n",
       "0     South America          2  \n",
       "3            Europe          8  \n",
       "4     North America         10  \n",
       "5     North America         10  \n",
       "6              Asia         10  \n",
       "...             ...        ...  \n",
       "4757  South America       4830  \n",
       "4760           Asia       4911  \n",
       "4761  North America       5962  \n",
       "4762         Europe       5027  \n",
       "4764           Asia       6208  \n",
       "\n",
       "[3500 rows x 7 columns]"
      ],
      "text/html": [
       "<div>\n",
       "<style scoped>\n",
       "    .dataframe tbody tr th:only-of-type {\n",
       "        vertical-align: middle;\n",
       "    }\n",
       "\n",
       "    .dataframe tbody tr th {\n",
       "        vertical-align: top;\n",
       "    }\n",
       "\n",
       "    .dataframe thead th {\n",
       "        text-align: right;\n",
       "    }\n",
       "</style>\n",
       "<table border=\"1\" class=\"dataframe\">\n",
       "  <thead>\n",
       "    <tr style=\"text-align: right;\">\n",
       "      <th></th>\n",
       "      <th>RegisterDate</th>\n",
       "      <th>Points</th>\n",
       "      <th>CurrentRanking</th>\n",
       "      <th>HighestRanking</th>\n",
       "      <th>Country</th>\n",
       "      <th>Continent</th>\n",
       "      <th>NewColumn</th>\n",
       "    </tr>\n",
       "  </thead>\n",
       "  <tbody>\n",
       "    <tr>\n",
       "      <th>0</th>\n",
       "      <td>8/23/2012</td>\n",
       "      <td>199697</td>\n",
       "      <td>1</td>\n",
       "      <td>1</td>\n",
       "      <td>Brazil</td>\n",
       "      <td>South America</td>\n",
       "      <td>2</td>\n",
       "    </tr>\n",
       "    <tr>\n",
       "      <th>3</th>\n",
       "      <td>8/24/2015</td>\n",
       "      <td>119109</td>\n",
       "      <td>4</td>\n",
       "      <td>4</td>\n",
       "      <td>Lithuania</td>\n",
       "      <td>Europe</td>\n",
       "      <td>8</td>\n",
       "    </tr>\n",
       "    <tr>\n",
       "      <th>4</th>\n",
       "      <td>4/20/2014</td>\n",
       "      <td>118149</td>\n",
       "      <td>5</td>\n",
       "      <td>5</td>\n",
       "      <td>Canada</td>\n",
       "      <td>North America</td>\n",
       "      <td>10</td>\n",
       "    </tr>\n",
       "    <tr>\n",
       "      <th>5</th>\n",
       "      <td>11/13/2012</td>\n",
       "      <td>116060</td>\n",
       "      <td>6</td>\n",
       "      <td>4</td>\n",
       "      <td>United States</td>\n",
       "      <td>North America</td>\n",
       "      <td>10</td>\n",
       "    </tr>\n",
       "    <tr>\n",
       "      <th>6</th>\n",
       "      <td>2/28/2014</td>\n",
       "      <td>114214</td>\n",
       "      <td>7</td>\n",
       "      <td>3</td>\n",
       "      <td>China</td>\n",
       "      <td>Asia</td>\n",
       "      <td>10</td>\n",
       "    </tr>\n",
       "    <tr>\n",
       "      <th>...</th>\n",
       "      <td>...</td>\n",
       "      <td>...</td>\n",
       "      <td>...</td>\n",
       "      <td>...</td>\n",
       "      <td>...</td>\n",
       "      <td>...</td>\n",
       "      <td>...</td>\n",
       "    </tr>\n",
       "    <tr>\n",
       "      <th>4757</th>\n",
       "      <td>8/29/2010</td>\n",
       "      <td>20</td>\n",
       "      <td>4757</td>\n",
       "      <td>73</td>\n",
       "      <td>Colombia</td>\n",
       "      <td>South America</td>\n",
       "      <td>4830</td>\n",
       "    </tr>\n",
       "    <tr>\n",
       "      <th>4760</th>\n",
       "      <td>11/15/2010</td>\n",
       "      <td>16</td>\n",
       "      <td>4760</td>\n",
       "      <td>151</td>\n",
       "      <td>Israel</td>\n",
       "      <td>Asia</td>\n",
       "      <td>4911</td>\n",
       "    </tr>\n",
       "    <tr>\n",
       "      <th>4761</th>\n",
       "      <td>1/17/2012</td>\n",
       "      <td>16</td>\n",
       "      <td>4761</td>\n",
       "      <td>1201</td>\n",
       "      <td>United States</td>\n",
       "      <td>North America</td>\n",
       "      <td>5962</td>\n",
       "    </tr>\n",
       "    <tr>\n",
       "      <th>4762</th>\n",
       "      <td>11/24/2010</td>\n",
       "      <td>14</td>\n",
       "      <td>4762</td>\n",
       "      <td>265</td>\n",
       "      <td>Belgium</td>\n",
       "      <td>Europe</td>\n",
       "      <td>5027</td>\n",
       "    </tr>\n",
       "    <tr>\n",
       "      <th>4764</th>\n",
       "      <td>1/9/2012</td>\n",
       "      <td>14</td>\n",
       "      <td>4764</td>\n",
       "      <td>1444</td>\n",
       "      <td>India</td>\n",
       "      <td>Asia</td>\n",
       "      <td>6208</td>\n",
       "    </tr>\n",
       "  </tbody>\n",
       "</table>\n",
       "<p>3500 rows × 7 columns</p>\n",
       "</div>"
      ]
     },
     "execution_count": 18,
     "metadata": {},
     "output_type": "execute_result"
    }
   ],
   "execution_count": 18
  },
  {
   "cell_type": "markdown",
   "id": "703d65d9",
   "metadata": {},
   "source": [
    "Видаліть будь-який рядочок з DataFrame."
   ]
  },
  {
   "cell_type": "code",
   "id": "badbecb6",
   "metadata": {
    "ExecuteTime": {
     "end_time": "2025-03-18T16:36:20.164997Z",
     "start_time": "2025-03-18T16:36:20.155799Z"
    }
   },
   "source": "df.drop(index=0)",
   "outputs": [
    {
     "data": {
      "text/plain": [
       "     RegisterDate  Points  CurrentRanking  HighestRanking        Country  \\\n",
       "1        9/7/2016  188693               2               1            NaN   \n",
       "2       6/24/2013  160026               3               1            NaN   \n",
       "3       8/24/2015  119109               4               4      Lithuania   \n",
       "4       4/20/2014  118149               5               5         Canada   \n",
       "5      11/13/2012  116060               6               4  United States   \n",
       "...           ...     ...             ...             ...            ...   \n",
       "4762   11/24/2010      14            4762             265        Belgium   \n",
       "4763     1/1/2012      14            4763            1444            NaN   \n",
       "4764     1/9/2012      14            4764            1444          India   \n",
       "4765    1/15/2012      14            4765            1444            NaN   \n",
       "4766    1/17/2012      14            4766            1444            NaN   \n",
       "\n",
       "          Continent  NewColumn  \n",
       "1               NaN          3  \n",
       "2               NaN          4  \n",
       "3            Europe          8  \n",
       "4     North America         10  \n",
       "5     North America         10  \n",
       "...             ...        ...  \n",
       "4762         Europe       5027  \n",
       "4763            NaN       6207  \n",
       "4764           Asia       6208  \n",
       "4765            NaN       6209  \n",
       "4766            NaN       6210  \n",
       "\n",
       "[4766 rows x 7 columns]"
      ],
      "text/html": [
       "<div>\n",
       "<style scoped>\n",
       "    .dataframe tbody tr th:only-of-type {\n",
       "        vertical-align: middle;\n",
       "    }\n",
       "\n",
       "    .dataframe tbody tr th {\n",
       "        vertical-align: top;\n",
       "    }\n",
       "\n",
       "    .dataframe thead th {\n",
       "        text-align: right;\n",
       "    }\n",
       "</style>\n",
       "<table border=\"1\" class=\"dataframe\">\n",
       "  <thead>\n",
       "    <tr style=\"text-align: right;\">\n",
       "      <th></th>\n",
       "      <th>RegisterDate</th>\n",
       "      <th>Points</th>\n",
       "      <th>CurrentRanking</th>\n",
       "      <th>HighestRanking</th>\n",
       "      <th>Country</th>\n",
       "      <th>Continent</th>\n",
       "      <th>NewColumn</th>\n",
       "    </tr>\n",
       "  </thead>\n",
       "  <tbody>\n",
       "    <tr>\n",
       "      <th>1</th>\n",
       "      <td>9/7/2016</td>\n",
       "      <td>188693</td>\n",
       "      <td>2</td>\n",
       "      <td>1</td>\n",
       "      <td>NaN</td>\n",
       "      <td>NaN</td>\n",
       "      <td>3</td>\n",
       "    </tr>\n",
       "    <tr>\n",
       "      <th>2</th>\n",
       "      <td>6/24/2013</td>\n",
       "      <td>160026</td>\n",
       "      <td>3</td>\n",
       "      <td>1</td>\n",
       "      <td>NaN</td>\n",
       "      <td>NaN</td>\n",
       "      <td>4</td>\n",
       "    </tr>\n",
       "    <tr>\n",
       "      <th>3</th>\n",
       "      <td>8/24/2015</td>\n",
       "      <td>119109</td>\n",
       "      <td>4</td>\n",
       "      <td>4</td>\n",
       "      <td>Lithuania</td>\n",
       "      <td>Europe</td>\n",
       "      <td>8</td>\n",
       "    </tr>\n",
       "    <tr>\n",
       "      <th>4</th>\n",
       "      <td>4/20/2014</td>\n",
       "      <td>118149</td>\n",
       "      <td>5</td>\n",
       "      <td>5</td>\n",
       "      <td>Canada</td>\n",
       "      <td>North America</td>\n",
       "      <td>10</td>\n",
       "    </tr>\n",
       "    <tr>\n",
       "      <th>5</th>\n",
       "      <td>11/13/2012</td>\n",
       "      <td>116060</td>\n",
       "      <td>6</td>\n",
       "      <td>4</td>\n",
       "      <td>United States</td>\n",
       "      <td>North America</td>\n",
       "      <td>10</td>\n",
       "    </tr>\n",
       "    <tr>\n",
       "      <th>...</th>\n",
       "      <td>...</td>\n",
       "      <td>...</td>\n",
       "      <td>...</td>\n",
       "      <td>...</td>\n",
       "      <td>...</td>\n",
       "      <td>...</td>\n",
       "      <td>...</td>\n",
       "    </tr>\n",
       "    <tr>\n",
       "      <th>4762</th>\n",
       "      <td>11/24/2010</td>\n",
       "      <td>14</td>\n",
       "      <td>4762</td>\n",
       "      <td>265</td>\n",
       "      <td>Belgium</td>\n",
       "      <td>Europe</td>\n",
       "      <td>5027</td>\n",
       "    </tr>\n",
       "    <tr>\n",
       "      <th>4763</th>\n",
       "      <td>1/1/2012</td>\n",
       "      <td>14</td>\n",
       "      <td>4763</td>\n",
       "      <td>1444</td>\n",
       "      <td>NaN</td>\n",
       "      <td>NaN</td>\n",
       "      <td>6207</td>\n",
       "    </tr>\n",
       "    <tr>\n",
       "      <th>4764</th>\n",
       "      <td>1/9/2012</td>\n",
       "      <td>14</td>\n",
       "      <td>4764</td>\n",
       "      <td>1444</td>\n",
       "      <td>India</td>\n",
       "      <td>Asia</td>\n",
       "      <td>6208</td>\n",
       "    </tr>\n",
       "    <tr>\n",
       "      <th>4765</th>\n",
       "      <td>1/15/2012</td>\n",
       "      <td>14</td>\n",
       "      <td>4765</td>\n",
       "      <td>1444</td>\n",
       "      <td>NaN</td>\n",
       "      <td>NaN</td>\n",
       "      <td>6209</td>\n",
       "    </tr>\n",
       "    <tr>\n",
       "      <th>4766</th>\n",
       "      <td>1/17/2012</td>\n",
       "      <td>14</td>\n",
       "      <td>4766</td>\n",
       "      <td>1444</td>\n",
       "      <td>NaN</td>\n",
       "      <td>NaN</td>\n",
       "      <td>6210</td>\n",
       "    </tr>\n",
       "  </tbody>\n",
       "</table>\n",
       "<p>4766 rows × 7 columns</p>\n",
       "</div>"
      ]
     },
     "execution_count": 20,
     "metadata": {},
     "output_type": "execute_result"
    }
   ],
   "execution_count": 20
  },
  {
   "cell_type": "markdown",
   "id": "147effb8",
   "metadata": {},
   "source": [
    "Видаліть будь-яку колонку з DataFrame."
   ]
  },
  {
   "cell_type": "code",
   "id": "03796c01",
   "metadata": {
    "ExecuteTime": {
     "end_time": "2025-03-18T16:38:19.898191Z",
     "start_time": "2025-03-18T16:38:19.888689Z"
    }
   },
   "source": "df.drop(columns='NewColumn')",
   "outputs": [
    {
     "data": {
      "text/plain": [
       "     RegisterDate  Points  CurrentRanking  HighestRanking    Country  \\\n",
       "0       8/23/2012  199697               1               1     Brazil   \n",
       "1        9/7/2016  188693               2               1        NaN   \n",
       "2       6/24/2013  160026               3               1        NaN   \n",
       "3       8/24/2015  119109               4               4  Lithuania   \n",
       "4       4/20/2014  118149               5               5     Canada   \n",
       "...           ...     ...             ...             ...        ...   \n",
       "4762   11/24/2010      14            4762             265    Belgium   \n",
       "4763     1/1/2012      14            4763            1444        NaN   \n",
       "4764     1/9/2012      14            4764            1444      India   \n",
       "4765    1/15/2012      14            4765            1444        NaN   \n",
       "4766    1/17/2012      14            4766            1444        NaN   \n",
       "\n",
       "          Continent  \n",
       "0     South America  \n",
       "1               NaN  \n",
       "2               NaN  \n",
       "3            Europe  \n",
       "4     North America  \n",
       "...             ...  \n",
       "4762         Europe  \n",
       "4763            NaN  \n",
       "4764           Asia  \n",
       "4765            NaN  \n",
       "4766            NaN  \n",
       "\n",
       "[4767 rows x 6 columns]"
      ],
      "text/html": [
       "<div>\n",
       "<style scoped>\n",
       "    .dataframe tbody tr th:only-of-type {\n",
       "        vertical-align: middle;\n",
       "    }\n",
       "\n",
       "    .dataframe tbody tr th {\n",
       "        vertical-align: top;\n",
       "    }\n",
       "\n",
       "    .dataframe thead th {\n",
       "        text-align: right;\n",
       "    }\n",
       "</style>\n",
       "<table border=\"1\" class=\"dataframe\">\n",
       "  <thead>\n",
       "    <tr style=\"text-align: right;\">\n",
       "      <th></th>\n",
       "      <th>RegisterDate</th>\n",
       "      <th>Points</th>\n",
       "      <th>CurrentRanking</th>\n",
       "      <th>HighestRanking</th>\n",
       "      <th>Country</th>\n",
       "      <th>Continent</th>\n",
       "    </tr>\n",
       "  </thead>\n",
       "  <tbody>\n",
       "    <tr>\n",
       "      <th>0</th>\n",
       "      <td>8/23/2012</td>\n",
       "      <td>199697</td>\n",
       "      <td>1</td>\n",
       "      <td>1</td>\n",
       "      <td>Brazil</td>\n",
       "      <td>South America</td>\n",
       "    </tr>\n",
       "    <tr>\n",
       "      <th>1</th>\n",
       "      <td>9/7/2016</td>\n",
       "      <td>188693</td>\n",
       "      <td>2</td>\n",
       "      <td>1</td>\n",
       "      <td>NaN</td>\n",
       "      <td>NaN</td>\n",
       "    </tr>\n",
       "    <tr>\n",
       "      <th>2</th>\n",
       "      <td>6/24/2013</td>\n",
       "      <td>160026</td>\n",
       "      <td>3</td>\n",
       "      <td>1</td>\n",
       "      <td>NaN</td>\n",
       "      <td>NaN</td>\n",
       "    </tr>\n",
       "    <tr>\n",
       "      <th>3</th>\n",
       "      <td>8/24/2015</td>\n",
       "      <td>119109</td>\n",
       "      <td>4</td>\n",
       "      <td>4</td>\n",
       "      <td>Lithuania</td>\n",
       "      <td>Europe</td>\n",
       "    </tr>\n",
       "    <tr>\n",
       "      <th>4</th>\n",
       "      <td>4/20/2014</td>\n",
       "      <td>118149</td>\n",
       "      <td>5</td>\n",
       "      <td>5</td>\n",
       "      <td>Canada</td>\n",
       "      <td>North America</td>\n",
       "    </tr>\n",
       "    <tr>\n",
       "      <th>...</th>\n",
       "      <td>...</td>\n",
       "      <td>...</td>\n",
       "      <td>...</td>\n",
       "      <td>...</td>\n",
       "      <td>...</td>\n",
       "      <td>...</td>\n",
       "    </tr>\n",
       "    <tr>\n",
       "      <th>4762</th>\n",
       "      <td>11/24/2010</td>\n",
       "      <td>14</td>\n",
       "      <td>4762</td>\n",
       "      <td>265</td>\n",
       "      <td>Belgium</td>\n",
       "      <td>Europe</td>\n",
       "    </tr>\n",
       "    <tr>\n",
       "      <th>4763</th>\n",
       "      <td>1/1/2012</td>\n",
       "      <td>14</td>\n",
       "      <td>4763</td>\n",
       "      <td>1444</td>\n",
       "      <td>NaN</td>\n",
       "      <td>NaN</td>\n",
       "    </tr>\n",
       "    <tr>\n",
       "      <th>4764</th>\n",
       "      <td>1/9/2012</td>\n",
       "      <td>14</td>\n",
       "      <td>4764</td>\n",
       "      <td>1444</td>\n",
       "      <td>India</td>\n",
       "      <td>Asia</td>\n",
       "    </tr>\n",
       "    <tr>\n",
       "      <th>4765</th>\n",
       "      <td>1/15/2012</td>\n",
       "      <td>14</td>\n",
       "      <td>4765</td>\n",
       "      <td>1444</td>\n",
       "      <td>NaN</td>\n",
       "      <td>NaN</td>\n",
       "    </tr>\n",
       "    <tr>\n",
       "      <th>4766</th>\n",
       "      <td>1/17/2012</td>\n",
       "      <td>14</td>\n",
       "      <td>4766</td>\n",
       "      <td>1444</td>\n",
       "      <td>NaN</td>\n",
       "      <td>NaN</td>\n",
       "    </tr>\n",
       "  </tbody>\n",
       "</table>\n",
       "<p>4767 rows × 6 columns</p>\n",
       "</div>"
      ]
     },
     "execution_count": 22,
     "metadata": {},
     "output_type": "execute_result"
    }
   ],
   "execution_count": 22
  },
  {
   "cell_type": "markdown",
   "id": "f31942cf",
   "metadata": {},
   "source": [
    "Виведіть рядочки, у яких значення 'CurrentRanking' є '1', '2' та '3'."
   ]
  },
  {
   "cell_type": "code",
   "id": "60a31379",
   "metadata": {
    "ExecuteTime": {
     "end_time": "2025-03-18T16:44:16.450692Z",
     "start_time": "2025-03-18T16:44:16.443708Z"
    }
   },
   "source": "df[df['CurrentRanking'].isin([1, 2, 3])]",
   "outputs": [
    {
     "data": {
      "text/plain": [
       "  RegisterDate  Points  CurrentRanking  HighestRanking Country      Continent  \\\n",
       "0    8/23/2012  199697               1               1  Brazil  South America   \n",
       "1     9/7/2016  188693               2               1     NaN            NaN   \n",
       "2    6/24/2013  160026               3               1     NaN            NaN   \n",
       "\n",
       "   NewColumn  \n",
       "0          2  \n",
       "1          3  \n",
       "2          4  "
      ],
      "text/html": [
       "<div>\n",
       "<style scoped>\n",
       "    .dataframe tbody tr th:only-of-type {\n",
       "        vertical-align: middle;\n",
       "    }\n",
       "\n",
       "    .dataframe tbody tr th {\n",
       "        vertical-align: top;\n",
       "    }\n",
       "\n",
       "    .dataframe thead th {\n",
       "        text-align: right;\n",
       "    }\n",
       "</style>\n",
       "<table border=\"1\" class=\"dataframe\">\n",
       "  <thead>\n",
       "    <tr style=\"text-align: right;\">\n",
       "      <th></th>\n",
       "      <th>RegisterDate</th>\n",
       "      <th>Points</th>\n",
       "      <th>CurrentRanking</th>\n",
       "      <th>HighestRanking</th>\n",
       "      <th>Country</th>\n",
       "      <th>Continent</th>\n",
       "      <th>NewColumn</th>\n",
       "    </tr>\n",
       "  </thead>\n",
       "  <tbody>\n",
       "    <tr>\n",
       "      <th>0</th>\n",
       "      <td>8/23/2012</td>\n",
       "      <td>199697</td>\n",
       "      <td>1</td>\n",
       "      <td>1</td>\n",
       "      <td>Brazil</td>\n",
       "      <td>South America</td>\n",
       "      <td>2</td>\n",
       "    </tr>\n",
       "    <tr>\n",
       "      <th>1</th>\n",
       "      <td>9/7/2016</td>\n",
       "      <td>188693</td>\n",
       "      <td>2</td>\n",
       "      <td>1</td>\n",
       "      <td>NaN</td>\n",
       "      <td>NaN</td>\n",
       "      <td>3</td>\n",
       "    </tr>\n",
       "    <tr>\n",
       "      <th>2</th>\n",
       "      <td>6/24/2013</td>\n",
       "      <td>160026</td>\n",
       "      <td>3</td>\n",
       "      <td>1</td>\n",
       "      <td>NaN</td>\n",
       "      <td>NaN</td>\n",
       "      <td>4</td>\n",
       "    </tr>\n",
       "  </tbody>\n",
       "</table>\n",
       "</div>"
      ]
     },
     "execution_count": 24,
     "metadata": {},
     "output_type": "execute_result"
    }
   ],
   "execution_count": 24
  },
  {
   "cell_type": "markdown",
   "id": "38b105f1",
   "metadata": {},
   "source": [
    "Виведіть рядочки, у яких значення 'CurrentRanking' є '1', '2' та '3' та значення 'Country' - 'Brazil'."
   ]
  },
  {
   "cell_type": "code",
   "id": "8475bbc6",
   "metadata": {
    "ExecuteTime": {
     "end_time": "2025-03-18T16:45:57.184034Z",
     "start_time": "2025-03-18T16:45:57.177152Z"
    }
   },
   "source": "df[df['CurrentRanking'].isin([1, 2, 3]) & df['Country'] == 'Brazil']",
   "outputs": [
    {
     "data": {
      "text/plain": [
       "Empty DataFrame\n",
       "Columns: [RegisterDate, Points, CurrentRanking, HighestRanking, Country, Continent, NewColumn]\n",
       "Index: []"
      ],
      "text/html": [
       "<div>\n",
       "<style scoped>\n",
       "    .dataframe tbody tr th:only-of-type {\n",
       "        vertical-align: middle;\n",
       "    }\n",
       "\n",
       "    .dataframe tbody tr th {\n",
       "        vertical-align: top;\n",
       "    }\n",
       "\n",
       "    .dataframe thead th {\n",
       "        text-align: right;\n",
       "    }\n",
       "</style>\n",
       "<table border=\"1\" class=\"dataframe\">\n",
       "  <thead>\n",
       "    <tr style=\"text-align: right;\">\n",
       "      <th></th>\n",
       "      <th>RegisterDate</th>\n",
       "      <th>Points</th>\n",
       "      <th>CurrentRanking</th>\n",
       "      <th>HighestRanking</th>\n",
       "      <th>Country</th>\n",
       "      <th>Continent</th>\n",
       "      <th>NewColumn</th>\n",
       "    </tr>\n",
       "  </thead>\n",
       "  <tbody>\n",
       "  </tbody>\n",
       "</table>\n",
       "</div>"
      ]
     },
     "execution_count": 25,
     "metadata": {},
     "output_type": "execute_result"
    }
   ],
   "execution_count": 25
  },
  {
   "metadata": {},
   "cell_type": "code",
   "outputs": [
    {
     "data": {
      "text/html": [
       "<div>\n",
       "<style scoped>\n",
       "    .dataframe tbody tr th:only-of-type {\n",
       "        vertical-align: middle;\n",
       "    }\n",
       "\n",
       "    .dataframe tbody tr th {\n",
       "        vertical-align: top;\n",
       "    }\n",
       "\n",
       "    .dataframe thead th {\n",
       "        text-align: right;\n",
       "    }\n",
       "</style>\n",
       "<table border=\"1\" class=\"dataframe\">\n",
       "  <thead>\n",
       "    <tr style=\"text-align: right;\">\n",
       "      <th></th>\n",
       "      <th>RegisterDate</th>\n",
       "      <th>Points</th>\n",
       "      <th>CurrentRanking</th>\n",
       "      <th>HighestRanking</th>\n",
       "      <th>Country</th>\n",
       "      <th>Continent</th>\n",
       "    </tr>\n",
       "  </thead>\n",
       "  <tbody>\n",
       "    <tr>\n",
       "      <th>0</th>\n",
       "      <td>8/23/2012</td>\n",
       "      <td>199697</td>\n",
       "      <td>1</td>\n",
       "      <td>1</td>\n",
       "      <td>Brazil</td>\n",
       "      <td>South America</td>\n",
       "    </tr>\n",
       "  </tbody>\n",
       "</table>\n",
       "</div>"
      ],
      "text/plain": [
       "  RegisterDate  Points  CurrentRanking  HighestRanking Country      Continent\n",
       "0    8/23/2012  199697               1               1  Brazil  South America"
      ]
     },
     "execution_count": 63,
     "metadata": {},
     "output_type": "execute_result"
    }
   ],
   "source": "",
   "id": "d4a85f32",
   "execution_count": null
  },
  {
   "cell_type": "markdown",
   "id": "3d10e066",
   "metadata": {},
   "source": [
    "Для подальших завдань, створіть DataFrame, який буде містити перші 10 записів з оригінального DataFrame."
   ]
  },
  {
   "cell_type": "code",
   "execution_count": 64,
   "id": "d862dd84",
   "metadata": {},
   "outputs": [],
   "source": [
    "# ваш код тут"
   ]
  },
  {
   "cell_type": "code",
   "execution_count": 65,
   "id": "cb4ae0ee",
   "metadata": {},
   "outputs": [],
   "source": []
  },
  {
   "cell_type": "markdown",
   "id": "152d7238",
   "metadata": {},
   "source": [
    "Виведіть всі значення з колонки 'HighestRanking' та скільки разів вони зустрічаються."
   ]
  },
  {
   "cell_type": "code",
   "execution_count": 66,
   "id": "1e0525ed",
   "metadata": {},
   "outputs": [],
   "source": [
    "# ваш код тут"
   ]
  },
  {
   "cell_type": "code",
   "execution_count": 67,
   "id": "eac901fc",
   "metadata": {},
   "outputs": [
    {
     "data": {
      "text/plain": [
       "4    3\n",
       "1    2\n",
       "5    1\n",
       "3    1\n",
       "8    1\n",
       "6    1\n",
       "9    1\n",
       "Name: HighestRanking, dtype: int64"
      ]
     },
     "execution_count": 67,
     "metadata": {},
     "output_type": "execute_result"
    }
   ],
   "source": []
  },
  {
   "cell_type": "markdown",
   "id": "4185317e",
   "metadata": {},
   "source": [
    "Виведіть усі унікальні значення з колонки 'HighestRanking'."
   ]
  },
  {
   "cell_type": "code",
   "execution_count": 68,
   "id": "6eb102bc",
   "metadata": {},
   "outputs": [],
   "source": [
    "# ваш код тут"
   ]
  },
  {
   "cell_type": "code",
   "execution_count": 69,
   "id": "ed11827c",
   "metadata": {},
   "outputs": [
    {
     "data": {
      "text/plain": [
       "array([1, 4, 5, 3, 8, 6, 9])"
      ]
     },
     "execution_count": 69,
     "metadata": {},
     "output_type": "execute_result"
    }
   ],
   "source": []
  },
  {
   "cell_type": "markdown",
   "id": "8a4cdc4b",
   "metadata": {},
   "source": [
    "Застосуйте функцію map до DataFrame."
   ]
  },
  {
   "cell_type": "code",
   "execution_count": 70,
   "id": "c260bc3f",
   "metadata": {},
   "outputs": [],
   "source": [
    "# ваш код тут"
   ]
  },
  {
   "cell_type": "code",
   "execution_count": 71,
   "id": "7f35a48b",
   "metadata": {},
   "outputs": [
    {
     "data": {
      "text/plain": [
       "0           South America\n",
       "2     Continent not found\n",
       "3                  Europe\n",
       "4           North America\n",
       "5           North America\n",
       "6                    Asia\n",
       "7                    Asia\n",
       "8                  Europe\n",
       "9                  Europe\n",
       "10                   Asia\n",
       "Name: Continent, dtype: object"
      ]
     },
     "execution_count": 71,
     "metadata": {},
     "output_type": "execute_result"
    }
   ],
   "source": []
  },
  {
   "cell_type": "markdown",
   "id": "5db9eb23",
   "metadata": {},
   "source": [
    "Відсортуйте дані по колонці 'HighestRanking'."
   ]
  },
  {
   "cell_type": "code",
   "execution_count": 72,
   "id": "46888f4e",
   "metadata": {},
   "outputs": [],
   "source": [
    "# ваш код тут"
   ]
  },
  {
   "cell_type": "code",
   "execution_count": 73,
   "id": "4712bb5b",
   "metadata": {},
   "outputs": [
    {
     "data": {
      "text/html": [
       "<div>\n",
       "<style scoped>\n",
       "    .dataframe tbody tr th:only-of-type {\n",
       "        vertical-align: middle;\n",
       "    }\n",
       "\n",
       "    .dataframe tbody tr th {\n",
       "        vertical-align: top;\n",
       "    }\n",
       "\n",
       "    .dataframe thead th {\n",
       "        text-align: right;\n",
       "    }\n",
       "</style>\n",
       "<table border=\"1\" class=\"dataframe\">\n",
       "  <thead>\n",
       "    <tr style=\"text-align: right;\">\n",
       "      <th></th>\n",
       "      <th>RegisterDate</th>\n",
       "      <th>Points</th>\n",
       "      <th>CurrentRanking</th>\n",
       "      <th>HighestRanking</th>\n",
       "      <th>Country</th>\n",
       "      <th>Continent</th>\n",
       "    </tr>\n",
       "  </thead>\n",
       "  <tbody>\n",
       "    <tr>\n",
       "      <th>0</th>\n",
       "      <td>8/23/2012</td>\n",
       "      <td>199697</td>\n",
       "      <td>1</td>\n",
       "      <td>1</td>\n",
       "      <td>Brazil</td>\n",
       "      <td>South America</td>\n",
       "    </tr>\n",
       "    <tr>\n",
       "      <th>2</th>\n",
       "      <td>6/24/2013</td>\n",
       "      <td>160026</td>\n",
       "      <td>3</td>\n",
       "      <td>1</td>\n",
       "      <td>None</td>\n",
       "      <td>None</td>\n",
       "    </tr>\n",
       "    <tr>\n",
       "      <th>6</th>\n",
       "      <td>2/28/2014</td>\n",
       "      <td>114214</td>\n",
       "      <td>7</td>\n",
       "      <td>3</td>\n",
       "      <td>China</td>\n",
       "      <td>Asia</td>\n",
       "    </tr>\n",
       "    <tr>\n",
       "      <th>3</th>\n",
       "      <td>8/24/2015</td>\n",
       "      <td>119109</td>\n",
       "      <td>4</td>\n",
       "      <td>4</td>\n",
       "      <td>Lithuania</td>\n",
       "      <td>Europe</td>\n",
       "    </tr>\n",
       "    <tr>\n",
       "      <th>5</th>\n",
       "      <td>11/13/2012</td>\n",
       "      <td>116060</td>\n",
       "      <td>6</td>\n",
       "      <td>4</td>\n",
       "      <td>United States</td>\n",
       "      <td>North America</td>\n",
       "    </tr>\n",
       "    <tr>\n",
       "      <th>10</th>\n",
       "      <td>2/16/2011</td>\n",
       "      <td>102417</td>\n",
       "      <td>11</td>\n",
       "      <td>4</td>\n",
       "      <td>Japan</td>\n",
       "      <td>Asia</td>\n",
       "    </tr>\n",
       "    <tr>\n",
       "      <th>4</th>\n",
       "      <td>4/20/2014</td>\n",
       "      <td>118149</td>\n",
       "      <td>5</td>\n",
       "      <td>5</td>\n",
       "      <td>Canada</td>\n",
       "      <td>North America</td>\n",
       "    </tr>\n",
       "    <tr>\n",
       "      <th>8</th>\n",
       "      <td>6/25/2010</td>\n",
       "      <td>103017</td>\n",
       "      <td>9</td>\n",
       "      <td>6</td>\n",
       "      <td>Austria</td>\n",
       "      <td>Europe</td>\n",
       "    </tr>\n",
       "    <tr>\n",
       "      <th>7</th>\n",
       "      <td>11/8/2015</td>\n",
       "      <td>106314</td>\n",
       "      <td>8</td>\n",
       "      <td>8</td>\n",
       "      <td>Russia</td>\n",
       "      <td>Asia</td>\n",
       "    </tr>\n",
       "    <tr>\n",
       "      <th>9</th>\n",
       "      <td>7/20/2016</td>\n",
       "      <td>102460</td>\n",
       "      <td>10</td>\n",
       "      <td>9</td>\n",
       "      <td>Latvia</td>\n",
       "      <td>Europe</td>\n",
       "    </tr>\n",
       "  </tbody>\n",
       "</table>\n",
       "</div>"
      ],
      "text/plain": [
       "   RegisterDate  Points  CurrentRanking  HighestRanking        Country  \\\n",
       "0     8/23/2012  199697               1               1         Brazil   \n",
       "2     6/24/2013  160026               3               1           None   \n",
       "6     2/28/2014  114214               7               3          China   \n",
       "3     8/24/2015  119109               4               4      Lithuania   \n",
       "5    11/13/2012  116060               6               4  United States   \n",
       "10    2/16/2011  102417              11               4          Japan   \n",
       "4     4/20/2014  118149               5               5         Canada   \n",
       "8     6/25/2010  103017               9               6        Austria   \n",
       "7     11/8/2015  106314               8               8         Russia   \n",
       "9     7/20/2016  102460              10               9         Latvia   \n",
       "\n",
       "        Continent  \n",
       "0   South America  \n",
       "2            None  \n",
       "6            Asia  \n",
       "3          Europe  \n",
       "5   North America  \n",
       "10           Asia  \n",
       "4   North America  \n",
       "8          Europe  \n",
       "7            Asia  \n",
       "9          Europe  "
      ]
     },
     "execution_count": 73,
     "metadata": {},
     "output_type": "execute_result"
    }
   ],
   "source": []
  },
  {
   "cell_type": "markdown",
   "id": "eb0f1177",
   "metadata": {},
   "source": [
    "Згрупуйте дані по трьох колонках."
   ]
  },
  {
   "cell_type": "code",
   "execution_count": 74,
   "id": "52e884c9",
   "metadata": {},
   "outputs": [],
   "source": [
    "# ваш код тут"
   ]
  },
  {
   "cell_type": "code",
   "execution_count": 75,
   "id": "d00897fa",
   "metadata": {},
   "outputs": [
    {
     "data": {
      "text/html": [
       "<div>\n",
       "<style scoped>\n",
       "    .dataframe tbody tr th:only-of-type {\n",
       "        vertical-align: middle;\n",
       "    }\n",
       "\n",
       "    .dataframe tbody tr th {\n",
       "        vertical-align: top;\n",
       "    }\n",
       "\n",
       "    .dataframe thead th {\n",
       "        text-align: right;\n",
       "    }\n",
       "</style>\n",
       "<table border=\"1\" class=\"dataframe\">\n",
       "  <thead>\n",
       "    <tr style=\"text-align: right;\">\n",
       "      <th></th>\n",
       "      <th></th>\n",
       "      <th></th>\n",
       "      <th>RegisterDate</th>\n",
       "      <th>Points</th>\n",
       "      <th>CurrentRanking</th>\n",
       "    </tr>\n",
       "    <tr>\n",
       "      <th>Continent</th>\n",
       "      <th>Country</th>\n",
       "      <th>HighestRanking</th>\n",
       "      <th></th>\n",
       "      <th></th>\n",
       "      <th></th>\n",
       "    </tr>\n",
       "  </thead>\n",
       "  <tbody>\n",
       "    <tr>\n",
       "      <th rowspan=\"3\" valign=\"top\">Asia</th>\n",
       "      <th>China</th>\n",
       "      <th>3</th>\n",
       "      <td>1</td>\n",
       "      <td>1</td>\n",
       "      <td>1</td>\n",
       "    </tr>\n",
       "    <tr>\n",
       "      <th>Japan</th>\n",
       "      <th>4</th>\n",
       "      <td>1</td>\n",
       "      <td>1</td>\n",
       "      <td>1</td>\n",
       "    </tr>\n",
       "    <tr>\n",
       "      <th>Russia</th>\n",
       "      <th>8</th>\n",
       "      <td>1</td>\n",
       "      <td>1</td>\n",
       "      <td>1</td>\n",
       "    </tr>\n",
       "    <tr>\n",
       "      <th rowspan=\"3\" valign=\"top\">Europe</th>\n",
       "      <th>Austria</th>\n",
       "      <th>6</th>\n",
       "      <td>1</td>\n",
       "      <td>1</td>\n",
       "      <td>1</td>\n",
       "    </tr>\n",
       "    <tr>\n",
       "      <th>Latvia</th>\n",
       "      <th>9</th>\n",
       "      <td>1</td>\n",
       "      <td>1</td>\n",
       "      <td>1</td>\n",
       "    </tr>\n",
       "    <tr>\n",
       "      <th>Lithuania</th>\n",
       "      <th>4</th>\n",
       "      <td>1</td>\n",
       "      <td>1</td>\n",
       "      <td>1</td>\n",
       "    </tr>\n",
       "    <tr>\n",
       "      <th>None</th>\n",
       "      <th>None</th>\n",
       "      <th>1</th>\n",
       "      <td>1</td>\n",
       "      <td>1</td>\n",
       "      <td>1</td>\n",
       "    </tr>\n",
       "    <tr>\n",
       "      <th rowspan=\"2\" valign=\"top\">North America</th>\n",
       "      <th>Canada</th>\n",
       "      <th>5</th>\n",
       "      <td>1</td>\n",
       "      <td>1</td>\n",
       "      <td>1</td>\n",
       "    </tr>\n",
       "    <tr>\n",
       "      <th>United States</th>\n",
       "      <th>4</th>\n",
       "      <td>1</td>\n",
       "      <td>1</td>\n",
       "      <td>1</td>\n",
       "    </tr>\n",
       "    <tr>\n",
       "      <th>South America</th>\n",
       "      <th>Brazil</th>\n",
       "      <th>1</th>\n",
       "      <td>1</td>\n",
       "      <td>1</td>\n",
       "      <td>1</td>\n",
       "    </tr>\n",
       "  </tbody>\n",
       "</table>\n",
       "</div>"
      ],
      "text/plain": [
       "                                            RegisterDate  Points  \\\n",
       "Continent     Country       HighestRanking                         \n",
       "Asia          China         3                          1       1   \n",
       "              Japan         4                          1       1   \n",
       "              Russia        8                          1       1   \n",
       "Europe        Austria       6                          1       1   \n",
       "              Latvia        9                          1       1   \n",
       "              Lithuania     4                          1       1   \n",
       "None          None          1                          1       1   \n",
       "North America Canada        5                          1       1   \n",
       "              United States 4                          1       1   \n",
       "South America Brazil        1                          1       1   \n",
       "\n",
       "                                            CurrentRanking  \n",
       "Continent     Country       HighestRanking                  \n",
       "Asia          China         3                            1  \n",
       "              Japan         4                            1  \n",
       "              Russia        8                            1  \n",
       "Europe        Austria       6                            1  \n",
       "              Latvia        9                            1  \n",
       "              Lithuania     4                            1  \n",
       "None          None          1                            1  \n",
       "North America Canada        5                            1  \n",
       "              United States 4                            1  \n",
       "South America Brazil        1                            1  "
      ]
     },
     "execution_count": 75,
     "metadata": {},
     "output_type": "execute_result"
    }
   ],
   "source": []
  },
  {
   "cell_type": "markdown",
   "id": "a290be33",
   "metadata": {},
   "source": [
    "Застосуйте функції агрегації до даних."
   ]
  },
  {
   "cell_type": "code",
   "execution_count": 76,
   "id": "d7a91d55",
   "metadata": {},
   "outputs": [],
   "source": [
    "# ваш код тут"
   ]
  },
  {
   "cell_type": "code",
   "execution_count": 77,
   "id": "744d1439",
   "metadata": {},
   "outputs": [
    {
     "data": {
      "text/plain": [
       "Points            1241463\n",
       "HighestRanking          1\n",
       "dtype: int64"
      ]
     },
     "execution_count": 77,
     "metadata": {},
     "output_type": "execute_result"
    }
   ],
   "source": []
  },
  {
   "cell_type": "markdown",
   "id": "7bd544bc",
   "metadata": {},
   "source": [
    "Застосуйте функцію `query()` до даних."
   ]
  },
  {
   "cell_type": "code",
   "execution_count": 78,
   "id": "777472e2",
   "metadata": {},
   "outputs": [],
   "source": [
    "# ваш код тут"
   ]
  },
  {
   "cell_type": "code",
   "execution_count": 79,
   "id": "58fd5938",
   "metadata": {},
   "outputs": [
    {
     "data": {
      "text/html": [
       "<div>\n",
       "<style scoped>\n",
       "    .dataframe tbody tr th:only-of-type {\n",
       "        vertical-align: middle;\n",
       "    }\n",
       "\n",
       "    .dataframe tbody tr th {\n",
       "        vertical-align: top;\n",
       "    }\n",
       "\n",
       "    .dataframe thead th {\n",
       "        text-align: right;\n",
       "    }\n",
       "</style>\n",
       "<table border=\"1\" class=\"dataframe\">\n",
       "  <thead>\n",
       "    <tr style=\"text-align: right;\">\n",
       "      <th></th>\n",
       "      <th>RegisterDate</th>\n",
       "      <th>Points</th>\n",
       "      <th>CurrentRanking</th>\n",
       "      <th>HighestRanking</th>\n",
       "      <th>Country</th>\n",
       "      <th>Continent</th>\n",
       "    </tr>\n",
       "  </thead>\n",
       "  <tbody>\n",
       "  </tbody>\n",
       "</table>\n",
       "</div>"
      ],
      "text/plain": [
       "Empty DataFrame\n",
       "Columns: [RegisterDate, Points, CurrentRanking, HighestRanking, Country, Continent]\n",
       "Index: []"
      ]
     },
     "execution_count": 79,
     "metadata": {},
     "output_type": "execute_result"
    }
   ],
   "source": []
  },
  {
   "cell_type": "markdown",
   "id": "1e54a003",
   "metadata": {},
   "source": [
    "## Робота з бібліотекою Polars."
   ]
  },
  {
   "cell_type": "markdown",
   "id": "bc731ede",
   "metadata": {},
   "source": [
    "### Імпорт бібліотеки. "
   ]
  },
  {
   "cell_type": "code",
   "execution_count": 80,
   "id": "57bd9127",
   "metadata": {},
   "outputs": [],
   "source": []
  },
  {
   "cell_type": "markdown",
   "id": "e01c8fd7",
   "metadata": {},
   "source": [
    "### Завантаження даних у DataFrame."
   ]
  },
  {
   "cell_type": "code",
   "execution_count": 81,
   "id": "acb016b4",
   "metadata": {},
   "outputs": [],
   "source": [
    "# ваш код тут"
   ]
  },
  {
   "cell_type": "code",
   "execution_count": 82,
   "id": "db0eff4e",
   "metadata": {},
   "outputs": [
    {
     "data": {
      "text/html": [
       "<div><style>\n",
       ".dataframe > thead > tr,\n",
       ".dataframe > tbody > tr {\n",
       "  text-align: right;\n",
       "  white-space: pre-wrap;\n",
       "}\n",
       "</style>\n",
       "<small>shape: (4_767, 6)</small><table border=\"1\" class=\"dataframe\"><thead><tr><th>RegisterDate</th><th>Points</th><th>CurrentRanking</th><th>HighestRanking</th><th>Country</th><th>Continent</th></tr><tr><td>str</td><td>i64</td><td>i64</td><td>i64</td><td>str</td><td>str</td></tr></thead><tbody><tr><td>&quot;8/23/2012&quot;</td><td>199697</td><td>1</td><td>1</td><td>&quot;Brazil&quot;</td><td>&quot;South America&quot;</td></tr><tr><td>&quot;9/7/2016&quot;</td><td>188693</td><td>2</td><td>1</td><td>&quot;None&quot;</td><td>&quot;None&quot;</td></tr><tr><td>&quot;6/24/2013&quot;</td><td>160026</td><td>3</td><td>1</td><td>&quot;None&quot;</td><td>&quot;None&quot;</td></tr><tr><td>&quot;8/24/2015&quot;</td><td>119109</td><td>4</td><td>4</td><td>&quot;Lithuania&quot;</td><td>&quot;Europe&quot;</td></tr><tr><td>&quot;4/20/2014&quot;</td><td>118149</td><td>5</td><td>5</td><td>&quot;Canada&quot;</td><td>&quot;North America&quot;</td></tr><tr><td>&hellip;</td><td>&hellip;</td><td>&hellip;</td><td>&hellip;</td><td>&hellip;</td><td>&hellip;</td></tr><tr><td>&quot;11/24/2010&quot;</td><td>14</td><td>4762</td><td>265</td><td>&quot;Belgium&quot;</td><td>&quot;Europe&quot;</td></tr><tr><td>&quot;1/1/2012&quot;</td><td>14</td><td>4763</td><td>1444</td><td>&quot;None&quot;</td><td>&quot;None&quot;</td></tr><tr><td>&quot;1/9/2012&quot;</td><td>14</td><td>4764</td><td>1444</td><td>&quot;India&quot;</td><td>&quot;Asia&quot;</td></tr><tr><td>&quot;1/15/2012&quot;</td><td>14</td><td>4765</td><td>1444</td><td>&quot;None&quot;</td><td>&quot;None&quot;</td></tr><tr><td>&quot;1/17/2012&quot;</td><td>14</td><td>4766</td><td>1444</td><td>&quot;None&quot;</td><td>&quot;None&quot;</td></tr></tbody></table></div>"
      ],
      "text/plain": [
       "shape: (4_767, 6)\n",
       "┌──────────────┬────────┬────────────────┬────────────────┬───────────┬───────────────┐\n",
       "│ RegisterDate ┆ Points ┆ CurrentRanking ┆ HighestRanking ┆ Country   ┆ Continent     │\n",
       "│ ---          ┆ ---    ┆ ---            ┆ ---            ┆ ---       ┆ ---           │\n",
       "│ str          ┆ i64    ┆ i64            ┆ i64            ┆ str       ┆ str           │\n",
       "╞══════════════╪════════╪════════════════╪════════════════╪═══════════╪═══════════════╡\n",
       "│ 8/23/2012    ┆ 199697 ┆ 1              ┆ 1              ┆ Brazil    ┆ South America │\n",
       "│ 9/7/2016     ┆ 188693 ┆ 2              ┆ 1              ┆ None      ┆ None          │\n",
       "│ 6/24/2013    ┆ 160026 ┆ 3              ┆ 1              ┆ None      ┆ None          │\n",
       "│ 8/24/2015    ┆ 119109 ┆ 4              ┆ 4              ┆ Lithuania ┆ Europe        │\n",
       "│ 4/20/2014    ┆ 118149 ┆ 5              ┆ 5              ┆ Canada    ┆ North America │\n",
       "│ …            ┆ …      ┆ …              ┆ …              ┆ …         ┆ …             │\n",
       "│ 11/24/2010   ┆ 14     ┆ 4762           ┆ 265            ┆ Belgium   ┆ Europe        │\n",
       "│ 1/1/2012     ┆ 14     ┆ 4763           ┆ 1444           ┆ None      ┆ None          │\n",
       "│ 1/9/2012     ┆ 14     ┆ 4764           ┆ 1444           ┆ India     ┆ Asia          │\n",
       "│ 1/15/2012    ┆ 14     ┆ 4765           ┆ 1444           ┆ None      ┆ None          │\n",
       "│ 1/17/2012    ┆ 14     ┆ 4766           ┆ 1444           ┆ None      ┆ None          │\n",
       "└──────────────┴────────┴────────────────┴────────────────┴───────────┴───────────────┘"
      ]
     },
     "execution_count": 82,
     "metadata": {},
     "output_type": "execute_result"
    }
   ],
   "source": []
  },
  {
   "cell_type": "markdown",
   "id": "e554e729",
   "metadata": {},
   "source": [
    "Виведіть перші 10 рядочків з DataFrame."
   ]
  },
  {
   "cell_type": "code",
   "execution_count": 83,
   "id": "c858475f",
   "metadata": {},
   "outputs": [],
   "source": [
    "# ваш код тут"
   ]
  },
  {
   "cell_type": "code",
   "execution_count": 84,
   "id": "70fe206b",
   "metadata": {},
   "outputs": [
    {
     "data": {
      "text/html": [
       "<div><style>\n",
       ".dataframe > thead > tr,\n",
       ".dataframe > tbody > tr {\n",
       "  text-align: right;\n",
       "  white-space: pre-wrap;\n",
       "}\n",
       "</style>\n",
       "<small>shape: (10, 6)</small><table border=\"1\" class=\"dataframe\"><thead><tr><th>RegisterDate</th><th>Points</th><th>CurrentRanking</th><th>HighestRanking</th><th>Country</th><th>Continent</th></tr><tr><td>str</td><td>i64</td><td>i64</td><td>i64</td><td>str</td><td>str</td></tr></thead><tbody><tr><td>&quot;8/23/2012&quot;</td><td>199697</td><td>1</td><td>1</td><td>&quot;Brazil&quot;</td><td>&quot;South America&quot;</td></tr><tr><td>&quot;9/7/2016&quot;</td><td>188693</td><td>2</td><td>1</td><td>&quot;None&quot;</td><td>&quot;None&quot;</td></tr><tr><td>&quot;6/24/2013&quot;</td><td>160026</td><td>3</td><td>1</td><td>&quot;None&quot;</td><td>&quot;None&quot;</td></tr><tr><td>&quot;8/24/2015&quot;</td><td>119109</td><td>4</td><td>4</td><td>&quot;Lithuania&quot;</td><td>&quot;Europe&quot;</td></tr><tr><td>&quot;4/20/2014&quot;</td><td>118149</td><td>5</td><td>5</td><td>&quot;Canada&quot;</td><td>&quot;North America&quot;</td></tr><tr><td>&quot;11/13/2012&quot;</td><td>116060</td><td>6</td><td>4</td><td>&quot;United States&quot;</td><td>&quot;North America&quot;</td></tr><tr><td>&quot;2/28/2014&quot;</td><td>114214</td><td>7</td><td>3</td><td>&quot;China&quot;</td><td>&quot;Asia&quot;</td></tr><tr><td>&quot;11/8/2015&quot;</td><td>106314</td><td>8</td><td>8</td><td>&quot;Russia&quot;</td><td>&quot;Asia&quot;</td></tr><tr><td>&quot;6/25/2010&quot;</td><td>103017</td><td>9</td><td>6</td><td>&quot;Austria&quot;</td><td>&quot;Europe&quot;</td></tr><tr><td>&quot;7/20/2016&quot;</td><td>102460</td><td>10</td><td>9</td><td>&quot;Latvia&quot;</td><td>&quot;Europe&quot;</td></tr></tbody></table></div>"
      ],
      "text/plain": [
       "shape: (10, 6)\n",
       "┌──────────────┬────────┬────────────────┬────────────────┬───────────────┬───────────────┐\n",
       "│ RegisterDate ┆ Points ┆ CurrentRanking ┆ HighestRanking ┆ Country       ┆ Continent     │\n",
       "│ ---          ┆ ---    ┆ ---            ┆ ---            ┆ ---           ┆ ---           │\n",
       "│ str          ┆ i64    ┆ i64            ┆ i64            ┆ str           ┆ str           │\n",
       "╞══════════════╪════════╪════════════════╪════════════════╪═══════════════╪═══════════════╡\n",
       "│ 8/23/2012    ┆ 199697 ┆ 1              ┆ 1              ┆ Brazil        ┆ South America │\n",
       "│ 9/7/2016     ┆ 188693 ┆ 2              ┆ 1              ┆ None          ┆ None          │\n",
       "│ 6/24/2013    ┆ 160026 ┆ 3              ┆ 1              ┆ None          ┆ None          │\n",
       "│ 8/24/2015    ┆ 119109 ┆ 4              ┆ 4              ┆ Lithuania     ┆ Europe        │\n",
       "│ 4/20/2014    ┆ 118149 ┆ 5              ┆ 5              ┆ Canada        ┆ North America │\n",
       "│ 11/13/2012   ┆ 116060 ┆ 6              ┆ 4              ┆ United States ┆ North America │\n",
       "│ 2/28/2014    ┆ 114214 ┆ 7              ┆ 3              ┆ China         ┆ Asia          │\n",
       "│ 11/8/2015    ┆ 106314 ┆ 8              ┆ 8              ┆ Russia        ┆ Asia          │\n",
       "│ 6/25/2010    ┆ 103017 ┆ 9              ┆ 6              ┆ Austria       ┆ Europe        │\n",
       "│ 7/20/2016    ┆ 102460 ┆ 10             ┆ 9              ┆ Latvia        ┆ Europe        │\n",
       "└──────────────┴────────┴────────────────┴────────────────┴───────────────┴───────────────┘"
      ]
     },
     "execution_count": 84,
     "metadata": {},
     "output_type": "execute_result"
    }
   ],
   "source": []
  },
  {
   "cell_type": "markdown",
   "id": "c2f9d071",
   "metadata": {},
   "source": [
    "Виведіть останні 10 рядочків з DataFrame."
   ]
  },
  {
   "cell_type": "code",
   "execution_count": 85,
   "id": "425739f5",
   "metadata": {},
   "outputs": [],
   "source": [
    "# ваш код тут"
   ]
  },
  {
   "cell_type": "code",
   "execution_count": 86,
   "id": "f901e9d1",
   "metadata": {},
   "outputs": [
    {
     "data": {
      "text/html": [
       "<div><style>\n",
       ".dataframe > thead > tr,\n",
       ".dataframe > tbody > tr {\n",
       "  text-align: right;\n",
       "  white-space: pre-wrap;\n",
       "}\n",
       "</style>\n",
       "<small>shape: (10, 6)</small><table border=\"1\" class=\"dataframe\"><thead><tr><th>RegisterDate</th><th>Points</th><th>CurrentRanking</th><th>HighestRanking</th><th>Country</th><th>Continent</th></tr><tr><td>str</td><td>i64</td><td>i64</td><td>i64</td><td>str</td><td>str</td></tr></thead><tbody><tr><td>&quot;8/29/2010&quot;</td><td>20</td><td>4757</td><td>73</td><td>&quot;Colombia&quot;</td><td>&quot;South America&quot;</td></tr><tr><td>&quot;11/11/2010&quot;</td><td>19</td><td>4758</td><td>117</td><td>&quot;None&quot;</td><td>&quot;None&quot;</td></tr><tr><td>&quot;11/24/2011&quot;</td><td>18</td><td>4759</td><td>1081</td><td>&quot;None&quot;</td><td>&quot;None&quot;</td></tr><tr><td>&quot;11/15/2010&quot;</td><td>16</td><td>4760</td><td>151</td><td>&quot;Israel&quot;</td><td>&quot;Asia&quot;</td></tr><tr><td>&quot;1/17/2012&quot;</td><td>16</td><td>4761</td><td>1201</td><td>&quot;United States&quot;</td><td>&quot;North America&quot;</td></tr><tr><td>&quot;11/24/2010&quot;</td><td>14</td><td>4762</td><td>265</td><td>&quot;Belgium&quot;</td><td>&quot;Europe&quot;</td></tr><tr><td>&quot;1/1/2012&quot;</td><td>14</td><td>4763</td><td>1444</td><td>&quot;None&quot;</td><td>&quot;None&quot;</td></tr><tr><td>&quot;1/9/2012&quot;</td><td>14</td><td>4764</td><td>1444</td><td>&quot;India&quot;</td><td>&quot;Asia&quot;</td></tr><tr><td>&quot;1/15/2012&quot;</td><td>14</td><td>4765</td><td>1444</td><td>&quot;None&quot;</td><td>&quot;None&quot;</td></tr><tr><td>&quot;1/17/2012&quot;</td><td>14</td><td>4766</td><td>1444</td><td>&quot;None&quot;</td><td>&quot;None&quot;</td></tr></tbody></table></div>"
      ],
      "text/plain": [
       "shape: (10, 6)\n",
       "┌──────────────┬────────┬────────────────┬────────────────┬───────────────┬───────────────┐\n",
       "│ RegisterDate ┆ Points ┆ CurrentRanking ┆ HighestRanking ┆ Country       ┆ Continent     │\n",
       "│ ---          ┆ ---    ┆ ---            ┆ ---            ┆ ---           ┆ ---           │\n",
       "│ str          ┆ i64    ┆ i64            ┆ i64            ┆ str           ┆ str           │\n",
       "╞══════════════╪════════╪════════════════╪════════════════╪═══════════════╪═══════════════╡\n",
       "│ 8/29/2010    ┆ 20     ┆ 4757           ┆ 73             ┆ Colombia      ┆ South America │\n",
       "│ 11/11/2010   ┆ 19     ┆ 4758           ┆ 117            ┆ None          ┆ None          │\n",
       "│ 11/24/2011   ┆ 18     ┆ 4759           ┆ 1081           ┆ None          ┆ None          │\n",
       "│ 11/15/2010   ┆ 16     ┆ 4760           ┆ 151            ┆ Israel        ┆ Asia          │\n",
       "│ 1/17/2012    ┆ 16     ┆ 4761           ┆ 1201           ┆ United States ┆ North America │\n",
       "│ 11/24/2010   ┆ 14     ┆ 4762           ┆ 265            ┆ Belgium       ┆ Europe        │\n",
       "│ 1/1/2012     ┆ 14     ┆ 4763           ┆ 1444           ┆ None          ┆ None          │\n",
       "│ 1/9/2012     ┆ 14     ┆ 4764           ┆ 1444           ┆ India         ┆ Asia          │\n",
       "│ 1/15/2012    ┆ 14     ┆ 4765           ┆ 1444           ┆ None          ┆ None          │\n",
       "│ 1/17/2012    ┆ 14     ┆ 4766           ┆ 1444           ┆ None          ┆ None          │\n",
       "└──────────────┴────────┴────────────────┴────────────────┴───────────────┴───────────────┘"
      ]
     },
     "execution_count": 86,
     "metadata": {},
     "output_type": "execute_result"
    }
   ],
   "source": []
  },
  {
   "cell_type": "markdown",
   "id": "090dc27c",
   "metadata": {},
   "source": [
    "Виведіть випадкові 10 рядочків з DataFrame."
   ]
  },
  {
   "cell_type": "code",
   "execution_count": 87,
   "id": "1334f403",
   "metadata": {},
   "outputs": [],
   "source": [
    "# ваш код тут"
   ]
  },
  {
   "cell_type": "code",
   "execution_count": 88,
   "id": "76091d14",
   "metadata": {},
   "outputs": [
    {
     "data": {
      "text/html": [
       "<div><style>\n",
       ".dataframe > thead > tr,\n",
       ".dataframe > tbody > tr {\n",
       "  text-align: right;\n",
       "  white-space: pre-wrap;\n",
       "}\n",
       "</style>\n",
       "<small>shape: (10, 6)</small><table border=\"1\" class=\"dataframe\"><thead><tr><th>RegisterDate</th><th>Points</th><th>CurrentRanking</th><th>HighestRanking</th><th>Country</th><th>Continent</th></tr><tr><td>str</td><td>i64</td><td>i64</td><td>i64</td><td>str</td><td>str</td></tr></thead><tbody><tr><td>&quot;4/30/2015&quot;</td><td>2167</td><td>2503</td><td>1231</td><td>&quot;Canada&quot;</td><td>&quot;North America&quot;</td></tr><tr><td>&quot;4/18/2016&quot;</td><td>2554</td><td>2268</td><td>1739</td><td>&quot;Italy&quot;</td><td>&quot;Europe&quot;</td></tr><tr><td>&quot;4/16/2012&quot;</td><td>581</td><td>3904</td><td>263</td><td>&quot;None&quot;</td><td>&quot;None&quot;</td></tr><tr><td>&quot;4/20/2015&quot;</td><td>56483</td><td>41</td><td>19</td><td>&quot;Canada&quot;</td><td>&quot;North America&quot;</td></tr><tr><td>&quot;5/13/2014&quot;</td><td>9933</td><td>626</td><td>626</td><td>&quot;United States&quot;</td><td>&quot;North America&quot;</td></tr><tr><td>&quot;7/21/2015&quot;</td><td>2485</td><td>2305</td><td>1175</td><td>&quot;India&quot;</td><td>&quot;Asia&quot;</td></tr><tr><td>&quot;7/1/2013&quot;</td><td>2123</td><td>2534</td><td>1104</td><td>&quot;Poland&quot;</td><td>&quot;Europe&quot;</td></tr><tr><td>&quot;7/22/2013&quot;</td><td>5358</td><td>1241</td><td>165</td><td>&quot;China&quot;</td><td>&quot;Asia&quot;</td></tr><tr><td>&quot;7/2/2010&quot;</td><td>26</td><td>4750</td><td>98</td><td>&quot;Canada&quot;</td><td>&quot;North America&quot;</td></tr><tr><td>&quot;7/3/2011&quot;</td><td>55</td><td>4712</td><td>420</td><td>&quot;None&quot;</td><td>&quot;None&quot;</td></tr></tbody></table></div>"
      ],
      "text/plain": [
       "shape: (10, 6)\n",
       "┌──────────────┬────────┬────────────────┬────────────────┬───────────────┬───────────────┐\n",
       "│ RegisterDate ┆ Points ┆ CurrentRanking ┆ HighestRanking ┆ Country       ┆ Continent     │\n",
       "│ ---          ┆ ---    ┆ ---            ┆ ---            ┆ ---           ┆ ---           │\n",
       "│ str          ┆ i64    ┆ i64            ┆ i64            ┆ str           ┆ str           │\n",
       "╞══════════════╪════════╪════════════════╪════════════════╪═══════════════╪═══════════════╡\n",
       "│ 4/30/2015    ┆ 2167   ┆ 2503           ┆ 1231           ┆ Canada        ┆ North America │\n",
       "│ 4/18/2016    ┆ 2554   ┆ 2268           ┆ 1739           ┆ Italy         ┆ Europe        │\n",
       "│ 4/16/2012    ┆ 581    ┆ 3904           ┆ 263            ┆ None          ┆ None          │\n",
       "│ 4/20/2015    ┆ 56483  ┆ 41             ┆ 19             ┆ Canada        ┆ North America │\n",
       "│ 5/13/2014    ┆ 9933   ┆ 626            ┆ 626            ┆ United States ┆ North America │\n",
       "│ 7/21/2015    ┆ 2485   ┆ 2305           ┆ 1175           ┆ India         ┆ Asia          │\n",
       "│ 7/1/2013     ┆ 2123   ┆ 2534           ┆ 1104           ┆ Poland        ┆ Europe        │\n",
       "│ 7/22/2013    ┆ 5358   ┆ 1241           ┆ 165            ┆ China         ┆ Asia          │\n",
       "│ 7/2/2010     ┆ 26     ┆ 4750           ┆ 98             ┆ Canada        ┆ North America │\n",
       "│ 7/3/2011     ┆ 55     ┆ 4712           ┆ 420            ┆ None          ┆ None          │\n",
       "└──────────────┴────────┴────────────────┴────────────────┴───────────────┴───────────────┘"
      ]
     },
     "execution_count": 88,
     "metadata": {},
     "output_type": "execute_result"
    }
   ],
   "source": []
  },
  {
   "cell_type": "markdown",
   "id": "e06efb8c",
   "metadata": {},
   "source": [
    "Виведіть розмірність DataFrame."
   ]
  },
  {
   "cell_type": "code",
   "execution_count": 89,
   "id": "e3e43bad",
   "metadata": {},
   "outputs": [],
   "source": [
    "# ваш код тут"
   ]
  },
  {
   "cell_type": "code",
   "execution_count": 90,
   "id": "ba7c4997",
   "metadata": {},
   "outputs": [
    {
     "data": {
      "text/plain": [
       "(4767, 6)"
      ]
     },
     "execution_count": 90,
     "metadata": {},
     "output_type": "execute_result"
    }
   ],
   "source": []
  },
  {
   "cell_type": "markdown",
   "id": "00d8ed4f",
   "metadata": {},
   "source": [
    "Виведіть назви колонок DataFrame."
   ]
  },
  {
   "cell_type": "code",
   "execution_count": 91,
   "id": "0d17cb72",
   "metadata": {},
   "outputs": [],
   "source": [
    "# ваш код тут"
   ]
  },
  {
   "cell_type": "code",
   "execution_count": 92,
   "id": "551c029f",
   "metadata": {},
   "outputs": [
    {
     "data": {
      "text/plain": [
       "['RegisterDate',\n",
       " 'Points',\n",
       " 'CurrentRanking',\n",
       " 'HighestRanking',\n",
       " 'Country',\n",
       " 'Continent']"
      ]
     },
     "execution_count": 92,
     "metadata": {},
     "output_type": "execute_result"
    }
   ],
   "source": []
  },
  {
   "cell_type": "markdown",
   "id": "4ece813c",
   "metadata": {},
   "source": [
    "Виведіть інформацію про типи даних елементів у DataFrame."
   ]
  },
  {
   "cell_type": "code",
   "execution_count": 93,
   "id": "6c85ac38",
   "metadata": {},
   "outputs": [],
   "source": [
    "# ваш код тут"
   ]
  },
  {
   "cell_type": "code",
   "execution_count": 94,
   "id": "81abaf2e",
   "metadata": {},
   "outputs": [
    {
     "data": {
      "text/plain": [
       "[String, Int64, Int64, Int64, String, String]"
      ]
     },
     "execution_count": 94,
     "metadata": {},
     "output_type": "execute_result"
    }
   ],
   "source": []
  },
  {
   "cell_type": "markdown",
   "id": "c7a77455",
   "metadata": {},
   "source": [
    "Створіть нову колонку на основі двох існуючих."
   ]
  },
  {
   "cell_type": "code",
   "execution_count": 95,
   "id": "284f7fcf",
   "metadata": {},
   "outputs": [],
   "source": [
    "# ваш код тут"
   ]
  },
  {
   "cell_type": "code",
   "execution_count": 96,
   "id": "cb29aec5",
   "metadata": {},
   "outputs": [
    {
     "data": {
      "text/html": [
       "<div><style>\n",
       ".dataframe > thead > tr,\n",
       ".dataframe > tbody > tr {\n",
       "  text-align: right;\n",
       "  white-space: pre-wrap;\n",
       "}\n",
       "</style>\n",
       "<small>shape: (4_767, 7)</small><table border=\"1\" class=\"dataframe\"><thead><tr><th>RegisterDate</th><th>Points</th><th>CurrentRanking</th><th>HighestRanking</th><th>Country</th><th>Continent</th><th>NewColumn</th></tr><tr><td>str</td><td>i64</td><td>i64</td><td>i64</td><td>str</td><td>str</td><td>i64</td></tr></thead><tbody><tr><td>&quot;8/23/2012&quot;</td><td>199697</td><td>1</td><td>1</td><td>&quot;Brazil&quot;</td><td>&quot;South America&quot;</td><td>2</td></tr><tr><td>&quot;9/7/2016&quot;</td><td>188693</td><td>2</td><td>1</td><td>&quot;None&quot;</td><td>&quot;None&quot;</td><td>3</td></tr><tr><td>&quot;6/24/2013&quot;</td><td>160026</td><td>3</td><td>1</td><td>&quot;None&quot;</td><td>&quot;None&quot;</td><td>4</td></tr><tr><td>&quot;8/24/2015&quot;</td><td>119109</td><td>4</td><td>4</td><td>&quot;Lithuania&quot;</td><td>&quot;Europe&quot;</td><td>8</td></tr><tr><td>&quot;4/20/2014&quot;</td><td>118149</td><td>5</td><td>5</td><td>&quot;Canada&quot;</td><td>&quot;North America&quot;</td><td>10</td></tr><tr><td>&hellip;</td><td>&hellip;</td><td>&hellip;</td><td>&hellip;</td><td>&hellip;</td><td>&hellip;</td><td>&hellip;</td></tr><tr><td>&quot;11/24/2010&quot;</td><td>14</td><td>4762</td><td>265</td><td>&quot;Belgium&quot;</td><td>&quot;Europe&quot;</td><td>5027</td></tr><tr><td>&quot;1/1/2012&quot;</td><td>14</td><td>4763</td><td>1444</td><td>&quot;None&quot;</td><td>&quot;None&quot;</td><td>6207</td></tr><tr><td>&quot;1/9/2012&quot;</td><td>14</td><td>4764</td><td>1444</td><td>&quot;India&quot;</td><td>&quot;Asia&quot;</td><td>6208</td></tr><tr><td>&quot;1/15/2012&quot;</td><td>14</td><td>4765</td><td>1444</td><td>&quot;None&quot;</td><td>&quot;None&quot;</td><td>6209</td></tr><tr><td>&quot;1/17/2012&quot;</td><td>14</td><td>4766</td><td>1444</td><td>&quot;None&quot;</td><td>&quot;None&quot;</td><td>6210</td></tr></tbody></table></div>"
      ],
      "text/plain": [
       "shape: (4_767, 7)\n",
       "┌──────────────┬────────┬────────────────┬────────────────┬───────────┬───────────────┬───────────┐\n",
       "│ RegisterDate ┆ Points ┆ CurrentRanking ┆ HighestRanking ┆ Country   ┆ Continent     ┆ NewColumn │\n",
       "│ ---          ┆ ---    ┆ ---            ┆ ---            ┆ ---       ┆ ---           ┆ ---       │\n",
       "│ str          ┆ i64    ┆ i64            ┆ i64            ┆ str       ┆ str           ┆ i64       │\n",
       "╞══════════════╪════════╪════════════════╪════════════════╪═══════════╪═══════════════╪═══════════╡\n",
       "│ 8/23/2012    ┆ 199697 ┆ 1              ┆ 1              ┆ Brazil    ┆ South America ┆ 2         │\n",
       "│ 9/7/2016     ┆ 188693 ┆ 2              ┆ 1              ┆ None      ┆ None          ┆ 3         │\n",
       "│ 6/24/2013    ┆ 160026 ┆ 3              ┆ 1              ┆ None      ┆ None          ┆ 4         │\n",
       "│ 8/24/2015    ┆ 119109 ┆ 4              ┆ 4              ┆ Lithuania ┆ Europe        ┆ 8         │\n",
       "│ 4/20/2014    ┆ 118149 ┆ 5              ┆ 5              ┆ Canada    ┆ North America ┆ 10        │\n",
       "│ …            ┆ …      ┆ …              ┆ …              ┆ …         ┆ …             ┆ …         │\n",
       "│ 11/24/2010   ┆ 14     ┆ 4762           ┆ 265            ┆ Belgium   ┆ Europe        ┆ 5027      │\n",
       "│ 1/1/2012     ┆ 14     ┆ 4763           ┆ 1444           ┆ None      ┆ None          ┆ 6207      │\n",
       "│ 1/9/2012     ┆ 14     ┆ 4764           ┆ 1444           ┆ India     ┆ Asia          ┆ 6208      │\n",
       "│ 1/15/2012    ┆ 14     ┆ 4765           ┆ 1444           ┆ None      ┆ None          ┆ 6209      │\n",
       "│ 1/17/2012    ┆ 14     ┆ 4766           ┆ 1444           ┆ None      ┆ None          ┆ 6210      │\n",
       "└──────────────┴────────┴────────────────┴────────────────┴───────────┴───────────────┴───────────┘"
      ]
     },
     "execution_count": 96,
     "metadata": {},
     "output_type": "execute_result"
    }
   ],
   "source": []
  },
  {
   "cell_type": "markdown",
   "id": "5f7a41d7",
   "metadata": {},
   "source": [
    "Виведіть дві будь-які колонки з DataFrame."
   ]
  },
  {
   "cell_type": "code",
   "execution_count": 97,
   "id": "904e00a0",
   "metadata": {},
   "outputs": [],
   "source": [
    "# ваш код тут"
   ]
  },
  {
   "cell_type": "code",
   "execution_count": 98,
   "id": "41513410",
   "metadata": {},
   "outputs": [
    {
     "data": {
      "text/html": [
       "<div><style>\n",
       ".dataframe > thead > tr,\n",
       ".dataframe > tbody > tr {\n",
       "  text-align: right;\n",
       "  white-space: pre-wrap;\n",
       "}\n",
       "</style>\n",
       "<small>shape: (4_767, 2)</small><table border=\"1\" class=\"dataframe\"><thead><tr><th>CurrentRanking</th><th>Country</th></tr><tr><td>i64</td><td>str</td></tr></thead><tbody><tr><td>1</td><td>&quot;Brazil&quot;</td></tr><tr><td>2</td><td>&quot;None&quot;</td></tr><tr><td>3</td><td>&quot;None&quot;</td></tr><tr><td>4</td><td>&quot;Lithuania&quot;</td></tr><tr><td>5</td><td>&quot;Canada&quot;</td></tr><tr><td>&hellip;</td><td>&hellip;</td></tr><tr><td>4762</td><td>&quot;Belgium&quot;</td></tr><tr><td>4763</td><td>&quot;None&quot;</td></tr><tr><td>4764</td><td>&quot;India&quot;</td></tr><tr><td>4765</td><td>&quot;None&quot;</td></tr><tr><td>4766</td><td>&quot;None&quot;</td></tr></tbody></table></div>"
      ],
      "text/plain": [
       "shape: (4_767, 2)\n",
       "┌────────────────┬───────────┐\n",
       "│ CurrentRanking ┆ Country   │\n",
       "│ ---            ┆ ---       │\n",
       "│ i64            ┆ str       │\n",
       "╞════════════════╪═══════════╡\n",
       "│ 1              ┆ Brazil    │\n",
       "│ 2              ┆ None      │\n",
       "│ 3              ┆ None      │\n",
       "│ 4              ┆ Lithuania │\n",
       "│ 5              ┆ Canada    │\n",
       "│ …              ┆ …         │\n",
       "│ 4762           ┆ Belgium   │\n",
       "│ 4763           ┆ None      │\n",
       "│ 4764           ┆ India     │\n",
       "│ 4765           ┆ None      │\n",
       "│ 4766           ┆ None      │\n",
       "└────────────────┴───────────┘"
      ]
     },
     "execution_count": 98,
     "metadata": {},
     "output_type": "execute_result"
    }
   ],
   "source": []
  },
  {
   "cell_type": "markdown",
   "id": "9d3f4637",
   "metadata": {},
   "source": [
    "Виведіть рядок з  будь-яким індексом DataFrame."
   ]
  },
  {
   "cell_type": "code",
   "execution_count": 99,
   "id": "9af72ec9",
   "metadata": {},
   "outputs": [],
   "source": [
    "# ваш код тут"
   ]
  },
  {
   "cell_type": "code",
   "execution_count": 100,
   "id": "fa7899d2",
   "metadata": {},
   "outputs": [
    {
     "data": {
      "text/plain": [
       "('1/17/2012', 41478, 84, 14, 'Netherlands', 'Europe', 98)"
      ]
     },
     "execution_count": 100,
     "metadata": {},
     "output_type": "execute_result"
    }
   ],
   "source": []
  },
  {
   "cell_type": "markdown",
   "id": "d90a5317",
   "metadata": {},
   "source": [
    "Виведіть всі елементи DataFrame, у яких значення колонки 'Country' не є 'None'."
   ]
  },
  {
   "cell_type": "code",
   "execution_count": 101,
   "id": "0467f7bc",
   "metadata": {},
   "outputs": [],
   "source": [
    "# ваш код тут"
   ]
  },
  {
   "cell_type": "code",
   "execution_count": 102,
   "id": "aa9cdafd",
   "metadata": {},
   "outputs": [
    {
     "data": {
      "text/html": [
       "<div><style>\n",
       ".dataframe > thead > tr,\n",
       ".dataframe > tbody > tr {\n",
       "  text-align: right;\n",
       "  white-space: pre-wrap;\n",
       "}\n",
       "</style>\n",
       "<small>shape: (3_500, 7)</small><table border=\"1\" class=\"dataframe\"><thead><tr><th>RegisterDate</th><th>Points</th><th>CurrentRanking</th><th>HighestRanking</th><th>Country</th><th>Continent</th><th>NewColumn</th></tr><tr><td>str</td><td>i64</td><td>i64</td><td>i64</td><td>str</td><td>str</td><td>i64</td></tr></thead><tbody><tr><td>&quot;8/23/2012&quot;</td><td>199697</td><td>1</td><td>1</td><td>&quot;Brazil&quot;</td><td>&quot;South America&quot;</td><td>2</td></tr><tr><td>&quot;8/24/2015&quot;</td><td>119109</td><td>4</td><td>4</td><td>&quot;Lithuania&quot;</td><td>&quot;Europe&quot;</td><td>8</td></tr><tr><td>&quot;4/20/2014&quot;</td><td>118149</td><td>5</td><td>5</td><td>&quot;Canada&quot;</td><td>&quot;North America&quot;</td><td>10</td></tr><tr><td>&quot;11/13/2012&quot;</td><td>116060</td><td>6</td><td>4</td><td>&quot;United States&quot;</td><td>&quot;North America&quot;</td><td>10</td></tr><tr><td>&quot;2/28/2014&quot;</td><td>114214</td><td>7</td><td>3</td><td>&quot;China&quot;</td><td>&quot;Asia&quot;</td><td>10</td></tr><tr><td>&hellip;</td><td>&hellip;</td><td>&hellip;</td><td>&hellip;</td><td>&hellip;</td><td>&hellip;</td><td>&hellip;</td></tr><tr><td>&quot;8/29/2010&quot;</td><td>20</td><td>4757</td><td>73</td><td>&quot;Colombia&quot;</td><td>&quot;South America&quot;</td><td>4830</td></tr><tr><td>&quot;11/15/2010&quot;</td><td>16</td><td>4760</td><td>151</td><td>&quot;Israel&quot;</td><td>&quot;Asia&quot;</td><td>4911</td></tr><tr><td>&quot;1/17/2012&quot;</td><td>16</td><td>4761</td><td>1201</td><td>&quot;United States&quot;</td><td>&quot;North America&quot;</td><td>5962</td></tr><tr><td>&quot;11/24/2010&quot;</td><td>14</td><td>4762</td><td>265</td><td>&quot;Belgium&quot;</td><td>&quot;Europe&quot;</td><td>5027</td></tr><tr><td>&quot;1/9/2012&quot;</td><td>14</td><td>4764</td><td>1444</td><td>&quot;India&quot;</td><td>&quot;Asia&quot;</td><td>6208</td></tr></tbody></table></div>"
      ],
      "text/plain": [
       "shape: (3_500, 7)\n",
       "┌──────────────┬────────┬────────────────┬────────────────┬───────────┬────────────────┬───────────┐\n",
       "│ RegisterDate ┆ Points ┆ CurrentRanking ┆ HighestRanking ┆ Country   ┆ Continent      ┆ NewColumn │\n",
       "│ ---          ┆ ---    ┆ ---            ┆ ---            ┆ ---       ┆ ---            ┆ ---       │\n",
       "│ str          ┆ i64    ┆ i64            ┆ i64            ┆ str       ┆ str            ┆ i64       │\n",
       "╞══════════════╪════════╪════════════════╪════════════════╪═══════════╪════════════════╪═══════════╡\n",
       "│ 8/23/2012    ┆ 199697 ┆ 1              ┆ 1              ┆ Brazil    ┆ South America  ┆ 2         │\n",
       "│ 8/24/2015    ┆ 119109 ┆ 4              ┆ 4              ┆ Lithuania ┆ Europe         ┆ 8         │\n",
       "│ 4/20/2014    ┆ 118149 ┆ 5              ┆ 5              ┆ Canada    ┆ North America  ┆ 10        │\n",
       "│ 11/13/2012   ┆ 116060 ┆ 6              ┆ 4              ┆ United    ┆ North America  ┆ 10        │\n",
       "│              ┆        ┆                ┆                ┆ States    ┆                ┆           │\n",
       "│ 2/28/2014    ┆ 114214 ┆ 7              ┆ 3              ┆ China     ┆ Asia           ┆ 10        │\n",
       "│ …            ┆ …      ┆ …              ┆ …              ┆ …         ┆ …              ┆ …         │\n",
       "│ 8/29/2010    ┆ 20     ┆ 4757           ┆ 73             ┆ Colombia  ┆ South America  ┆ 4830      │\n",
       "│ 11/15/2010   ┆ 16     ┆ 4760           ┆ 151            ┆ Israel    ┆ Asia           ┆ 4911      │\n",
       "│ 1/17/2012    ┆ 16     ┆ 4761           ┆ 1201           ┆ United    ┆ North America  ┆ 5962      │\n",
       "│              ┆        ┆                ┆                ┆ States    ┆                ┆           │\n",
       "│ 11/24/2010   ┆ 14     ┆ 4762           ┆ 265            ┆ Belgium   ┆ Europe         ┆ 5027      │\n",
       "│ 1/9/2012     ┆ 14     ┆ 4764           ┆ 1444           ┆ India     ┆ Asia           ┆ 6208      │\n",
       "└──────────────┴────────┴────────────────┴────────────────┴───────────┴────────────────┴───────────┘"
      ]
     },
     "execution_count": 102,
     "metadata": {},
     "output_type": "execute_result"
    }
   ],
   "source": []
  },
  {
   "cell_type": "markdown",
   "id": "de61ae7a",
   "metadata": {},
   "source": [
    "Видаліть будь-яку колонку з DataFrame."
   ]
  },
  {
   "cell_type": "code",
   "execution_count": 103,
   "id": "f474fd6e",
   "metadata": {},
   "outputs": [],
   "source": [
    "# ваш код тут"
   ]
  },
  {
   "cell_type": "code",
   "execution_count": 104,
   "id": "8fd8d0a3",
   "metadata": {},
   "outputs": [
    {
     "data": {
      "text/html": [
       "<div><style>\n",
       ".dataframe > thead > tr,\n",
       ".dataframe > tbody > tr {\n",
       "  text-align: right;\n",
       "  white-space: pre-wrap;\n",
       "}\n",
       "</style>\n",
       "<small>shape: (4_767, 6)</small><table border=\"1\" class=\"dataframe\"><thead><tr><th>RegisterDate</th><th>Points</th><th>CurrentRanking</th><th>HighestRanking</th><th>Country</th><th>Continent</th></tr><tr><td>str</td><td>i64</td><td>i64</td><td>i64</td><td>str</td><td>str</td></tr></thead><tbody><tr><td>&quot;8/23/2012&quot;</td><td>199697</td><td>1</td><td>1</td><td>&quot;Brazil&quot;</td><td>&quot;South America&quot;</td></tr><tr><td>&quot;9/7/2016&quot;</td><td>188693</td><td>2</td><td>1</td><td>&quot;None&quot;</td><td>&quot;None&quot;</td></tr><tr><td>&quot;6/24/2013&quot;</td><td>160026</td><td>3</td><td>1</td><td>&quot;None&quot;</td><td>&quot;None&quot;</td></tr><tr><td>&quot;8/24/2015&quot;</td><td>119109</td><td>4</td><td>4</td><td>&quot;Lithuania&quot;</td><td>&quot;Europe&quot;</td></tr><tr><td>&quot;4/20/2014&quot;</td><td>118149</td><td>5</td><td>5</td><td>&quot;Canada&quot;</td><td>&quot;North America&quot;</td></tr><tr><td>&hellip;</td><td>&hellip;</td><td>&hellip;</td><td>&hellip;</td><td>&hellip;</td><td>&hellip;</td></tr><tr><td>&quot;11/24/2010&quot;</td><td>14</td><td>4762</td><td>265</td><td>&quot;Belgium&quot;</td><td>&quot;Europe&quot;</td></tr><tr><td>&quot;1/1/2012&quot;</td><td>14</td><td>4763</td><td>1444</td><td>&quot;None&quot;</td><td>&quot;None&quot;</td></tr><tr><td>&quot;1/9/2012&quot;</td><td>14</td><td>4764</td><td>1444</td><td>&quot;India&quot;</td><td>&quot;Asia&quot;</td></tr><tr><td>&quot;1/15/2012&quot;</td><td>14</td><td>4765</td><td>1444</td><td>&quot;None&quot;</td><td>&quot;None&quot;</td></tr><tr><td>&quot;1/17/2012&quot;</td><td>14</td><td>4766</td><td>1444</td><td>&quot;None&quot;</td><td>&quot;None&quot;</td></tr></tbody></table></div>"
      ],
      "text/plain": [
       "shape: (4_767, 6)\n",
       "┌──────────────┬────────┬────────────────┬────────────────┬───────────┬───────────────┐\n",
       "│ RegisterDate ┆ Points ┆ CurrentRanking ┆ HighestRanking ┆ Country   ┆ Continent     │\n",
       "│ ---          ┆ ---    ┆ ---            ┆ ---            ┆ ---       ┆ ---           │\n",
       "│ str          ┆ i64    ┆ i64            ┆ i64            ┆ str       ┆ str           │\n",
       "╞══════════════╪════════╪════════════════╪════════════════╪═══════════╪═══════════════╡\n",
       "│ 8/23/2012    ┆ 199697 ┆ 1              ┆ 1              ┆ Brazil    ┆ South America │\n",
       "│ 9/7/2016     ┆ 188693 ┆ 2              ┆ 1              ┆ None      ┆ None          │\n",
       "│ 6/24/2013    ┆ 160026 ┆ 3              ┆ 1              ┆ None      ┆ None          │\n",
       "│ 8/24/2015    ┆ 119109 ┆ 4              ┆ 4              ┆ Lithuania ┆ Europe        │\n",
       "│ 4/20/2014    ┆ 118149 ┆ 5              ┆ 5              ┆ Canada    ┆ North America │\n",
       "│ …            ┆ …      ┆ …              ┆ …              ┆ …         ┆ …             │\n",
       "│ 11/24/2010   ┆ 14     ┆ 4762           ┆ 265            ┆ Belgium   ┆ Europe        │\n",
       "│ 1/1/2012     ┆ 14     ┆ 4763           ┆ 1444           ┆ None      ┆ None          │\n",
       "│ 1/9/2012     ┆ 14     ┆ 4764           ┆ 1444           ┆ India     ┆ Asia          │\n",
       "│ 1/15/2012    ┆ 14     ┆ 4765           ┆ 1444           ┆ None      ┆ None          │\n",
       "│ 1/17/2012    ┆ 14     ┆ 4766           ┆ 1444           ┆ None      ┆ None          │\n",
       "└──────────────┴────────┴────────────────┴────────────────┴───────────┴───────────────┘"
      ]
     },
     "execution_count": 104,
     "metadata": {},
     "output_type": "execute_result"
    }
   ],
   "source": []
  },
  {
   "cell_type": "markdown",
   "id": "8fc31e09",
   "metadata": {},
   "source": [
    "Виведіть рядочки, у яких значення 'CurrentRanking' є '1', '2' та '3'."
   ]
  },
  {
   "cell_type": "code",
   "execution_count": 105,
   "id": "d44d951a",
   "metadata": {},
   "outputs": [],
   "source": [
    "# ваш код тут"
   ]
  },
  {
   "cell_type": "code",
   "execution_count": 106,
   "id": "661747d0",
   "metadata": {},
   "outputs": [
    {
     "data": {
      "text/html": [
       "<div><style>\n",
       ".dataframe > thead > tr,\n",
       ".dataframe > tbody > tr {\n",
       "  text-align: right;\n",
       "  white-space: pre-wrap;\n",
       "}\n",
       "</style>\n",
       "<small>shape: (3, 6)</small><table border=\"1\" class=\"dataframe\"><thead><tr><th>RegisterDate</th><th>Points</th><th>CurrentRanking</th><th>HighestRanking</th><th>Country</th><th>Continent</th></tr><tr><td>str</td><td>i64</td><td>i64</td><td>i64</td><td>str</td><td>str</td></tr></thead><tbody><tr><td>&quot;8/23/2012&quot;</td><td>199697</td><td>1</td><td>1</td><td>&quot;Brazil&quot;</td><td>&quot;South America&quot;</td></tr><tr><td>&quot;9/7/2016&quot;</td><td>188693</td><td>2</td><td>1</td><td>&quot;None&quot;</td><td>&quot;None&quot;</td></tr><tr><td>&quot;6/24/2013&quot;</td><td>160026</td><td>3</td><td>1</td><td>&quot;None&quot;</td><td>&quot;None&quot;</td></tr></tbody></table></div>"
      ],
      "text/plain": [
       "shape: (3, 6)\n",
       "┌──────────────┬────────┬────────────────┬────────────────┬─────────┬───────────────┐\n",
       "│ RegisterDate ┆ Points ┆ CurrentRanking ┆ HighestRanking ┆ Country ┆ Continent     │\n",
       "│ ---          ┆ ---    ┆ ---            ┆ ---            ┆ ---     ┆ ---           │\n",
       "│ str          ┆ i64    ┆ i64            ┆ i64            ┆ str     ┆ str           │\n",
       "╞══════════════╪════════╪════════════════╪════════════════╪═════════╪═══════════════╡\n",
       "│ 8/23/2012    ┆ 199697 ┆ 1              ┆ 1              ┆ Brazil  ┆ South America │\n",
       "│ 9/7/2016     ┆ 188693 ┆ 2              ┆ 1              ┆ None    ┆ None          │\n",
       "│ 6/24/2013    ┆ 160026 ┆ 3              ┆ 1              ┆ None    ┆ None          │\n",
       "└──────────────┴────────┴────────────────┴────────────────┴─────────┴───────────────┘"
      ]
     },
     "execution_count": 106,
     "metadata": {},
     "output_type": "execute_result"
    }
   ],
   "source": []
  },
  {
   "cell_type": "markdown",
   "id": "480f95be",
   "metadata": {},
   "source": [
    "Виведіть рядочки, у яких значення 'CurrentRanking' є '1', '2' та '3' та значення 'Country' - 'Brazil'."
   ]
  },
  {
   "cell_type": "code",
   "execution_count": 107,
   "id": "142bf33e",
   "metadata": {},
   "outputs": [],
   "source": [
    "# ваш код тут"
   ]
  },
  {
   "cell_type": "code",
   "execution_count": 108,
   "id": "09bf9506",
   "metadata": {},
   "outputs": [
    {
     "data": {
      "text/html": [
       "<div><style>\n",
       ".dataframe > thead > tr,\n",
       ".dataframe > tbody > tr {\n",
       "  text-align: right;\n",
       "  white-space: pre-wrap;\n",
       "}\n",
       "</style>\n",
       "<small>shape: (1, 6)</small><table border=\"1\" class=\"dataframe\"><thead><tr><th>RegisterDate</th><th>Points</th><th>CurrentRanking</th><th>HighestRanking</th><th>Country</th><th>Continent</th></tr><tr><td>str</td><td>i64</td><td>i64</td><td>i64</td><td>str</td><td>str</td></tr></thead><tbody><tr><td>&quot;8/23/2012&quot;</td><td>199697</td><td>1</td><td>1</td><td>&quot;Brazil&quot;</td><td>&quot;South America&quot;</td></tr></tbody></table></div>"
      ],
      "text/plain": [
       "shape: (1, 6)\n",
       "┌──────────────┬────────┬────────────────┬────────────────┬─────────┬───────────────┐\n",
       "│ RegisterDate ┆ Points ┆ CurrentRanking ┆ HighestRanking ┆ Country ┆ Continent     │\n",
       "│ ---          ┆ ---    ┆ ---            ┆ ---            ┆ ---     ┆ ---           │\n",
       "│ str          ┆ i64    ┆ i64            ┆ i64            ┆ str     ┆ str           │\n",
       "╞══════════════╪════════╪════════════════╪════════════════╪═════════╪═══════════════╡\n",
       "│ 8/23/2012    ┆ 199697 ┆ 1              ┆ 1              ┆ Brazil  ┆ South America │\n",
       "└──────────────┴────────┴────────────────┴────────────────┴─────────┴───────────────┘"
      ]
     },
     "execution_count": 108,
     "metadata": {},
     "output_type": "execute_result"
    }
   ],
   "source": []
  },
  {
   "cell_type": "markdown",
   "id": "93dfff6d",
   "metadata": {},
   "source": [
    "Для подальших завдань, створіть DataFrame, який буде містити випадкові 10 записів з оригінального DataFrame."
   ]
  },
  {
   "cell_type": "code",
   "execution_count": 109,
   "id": "f693c789",
   "metadata": {},
   "outputs": [],
   "source": [
    "# ваш код тут"
   ]
  },
  {
   "cell_type": "code",
   "execution_count": 110,
   "id": "abb8a935",
   "metadata": {},
   "outputs": [],
   "source": []
  },
  {
   "cell_type": "markdown",
   "id": "c0517925",
   "metadata": {},
   "source": [
    "Виведіть всі значення з колонки 'HighestRanking' та скільки разів вони зустрічаються."
   ]
  },
  {
   "cell_type": "code",
   "execution_count": 111,
   "id": "010a07db",
   "metadata": {},
   "outputs": [],
   "source": [
    "# ваш код тут"
   ]
  },
  {
   "cell_type": "code",
   "execution_count": 112,
   "id": "5e97d163",
   "metadata": {},
   "outputs": [
    {
     "data": {
      "text/html": [
       "<div><style>\n",
       ".dataframe > thead > tr,\n",
       ".dataframe > tbody > tr {\n",
       "  text-align: right;\n",
       "  white-space: pre-wrap;\n",
       "}\n",
       "</style>\n",
       "<small>shape: (10, 2)</small><table border=\"1\" class=\"dataframe\"><thead><tr><th>HighestRanking</th><th>count</th></tr><tr><td>i64</td><td>u32</td></tr></thead><tbody><tr><td>616</td><td>1</td></tr><tr><td>666</td><td>1</td></tr><tr><td>865</td><td>1</td></tr><tr><td>46</td><td>1</td></tr><tr><td>2080</td><td>1</td></tr><tr><td>189</td><td>1</td></tr><tr><td>251</td><td>1</td></tr><tr><td>373</td><td>1</td></tr><tr><td>902</td><td>1</td></tr><tr><td>511</td><td>1</td></tr></tbody></table></div>"
      ],
      "text/plain": [
       "shape: (10, 2)\n",
       "┌────────────────┬───────┐\n",
       "│ HighestRanking ┆ count │\n",
       "│ ---            ┆ ---   │\n",
       "│ i64            ┆ u32   │\n",
       "╞════════════════╪═══════╡\n",
       "│ 616            ┆ 1     │\n",
       "│ 666            ┆ 1     │\n",
       "│ 865            ┆ 1     │\n",
       "│ 46             ┆ 1     │\n",
       "│ 2080           ┆ 1     │\n",
       "│ 189            ┆ 1     │\n",
       "│ 251            ┆ 1     │\n",
       "│ 373            ┆ 1     │\n",
       "│ 902            ┆ 1     │\n",
       "│ 511            ┆ 1     │\n",
       "└────────────────┴───────┘"
      ]
     },
     "execution_count": 112,
     "metadata": {},
     "output_type": "execute_result"
    }
   ],
   "source": []
  },
  {
   "cell_type": "markdown",
   "id": "6cc47374",
   "metadata": {},
   "source": [
    "Виведіть усі унікальні значення з колонки 'HighestRanking'."
   ]
  },
  {
   "cell_type": "code",
   "execution_count": 113,
   "id": "957ec187",
   "metadata": {},
   "outputs": [],
   "source": [
    "# ваш код тут"
   ]
  },
  {
   "cell_type": "code",
   "execution_count": 114,
   "id": "25fc3fc6",
   "metadata": {},
   "outputs": [
    {
     "data": {
      "text/html": [
       "<div><style>\n",
       ".dataframe > thead > tr,\n",
       ".dataframe > tbody > tr {\n",
       "  text-align: right;\n",
       "  white-space: pre-wrap;\n",
       "}\n",
       "</style>\n",
       "<small>shape: (10,)</small><table border=\"1\" class=\"dataframe\"><thead><tr><th>HighestRanking</th></tr><tr><td>i64</td></tr></thead><tbody><tr><td>46</td></tr><tr><td>189</td></tr><tr><td>251</td></tr><tr><td>373</td></tr><tr><td>511</td></tr><tr><td>616</td></tr><tr><td>666</td></tr><tr><td>865</td></tr><tr><td>902</td></tr><tr><td>2080</td></tr></tbody></table></div>"
      ],
      "text/plain": [
       "shape: (10,)\n",
       "Series: 'HighestRanking' [i64]\n",
       "[\n",
       "\t46\n",
       "\t189\n",
       "\t251\n",
       "\t373\n",
       "\t511\n",
       "\t616\n",
       "\t666\n",
       "\t865\n",
       "\t902\n",
       "\t2080\n",
       "]"
      ]
     },
     "execution_count": 114,
     "metadata": {},
     "output_type": "execute_result"
    }
   ],
   "source": []
  },
  {
   "cell_type": "markdown",
   "id": "082ab1ed",
   "metadata": {},
   "source": [
    "Застосуйте функцію map до DataFrame."
   ]
  },
  {
   "cell_type": "code",
   "execution_count": 115,
   "id": "1ac7dbf8",
   "metadata": {},
   "outputs": [],
   "source": [
    "# ваш код тут"
   ]
  },
  {
   "cell_type": "code",
   "execution_count": 116,
   "id": "0db2d655",
   "metadata": {},
   "outputs": [
    {
     "data": {
      "text/html": [
       "<div><style>\n",
       ".dataframe > thead > tr,\n",
       ".dataframe > tbody > tr {\n",
       "  text-align: right;\n",
       "  white-space: pre-wrap;\n",
       "}\n",
       "</style>\n",
       "<small>shape: (10,)</small><table border=\"1\" class=\"dataframe\"><thead><tr><th>Continent</th></tr><tr><td>str</td></tr></thead><tbody><tr><td>&quot;Continent not found&quot;</td></tr><tr><td>&quot;Asia&quot;</td></tr><tr><td>&quot;Europe&quot;</td></tr><tr><td>&quot;North America&quot;</td></tr><tr><td>&quot;Asia&quot;</td></tr><tr><td>&quot;North America&quot;</td></tr><tr><td>&quot;North America&quot;</td></tr><tr><td>&quot;North America&quot;</td></tr><tr><td>&quot;Continent not found&quot;</td></tr><tr><td>&quot;Asia&quot;</td></tr></tbody></table></div>"
      ],
      "text/plain": [
       "shape: (10,)\n",
       "Series: 'Continent' [str]\n",
       "[\n",
       "\t\"Continent not found\"\n",
       "\t\"Asia\"\n",
       "\t\"Europe\"\n",
       "\t\"North America\"\n",
       "\t\"Asia\"\n",
       "\t\"North America\"\n",
       "\t\"North America\"\n",
       "\t\"North America\"\n",
       "\t\"Continent not found\"\n",
       "\t\"Asia\"\n",
       "]"
      ]
     },
     "execution_count": 116,
     "metadata": {},
     "output_type": "execute_result"
    }
   ],
   "source": []
  },
  {
   "cell_type": "markdown",
   "id": "9eae7723",
   "metadata": {},
   "source": [
    "Відсортуйте дані по колонці 'HighestRanking'."
   ]
  },
  {
   "cell_type": "code",
   "execution_count": 117,
   "id": "b790ab78",
   "metadata": {},
   "outputs": [],
   "source": [
    "# ваш код тут"
   ]
  },
  {
   "cell_type": "code",
   "execution_count": 118,
   "id": "2fd3d103",
   "metadata": {},
   "outputs": [
    {
     "data": {
      "text/html": [
       "<div><style>\n",
       ".dataframe > thead > tr,\n",
       ".dataframe > tbody > tr {\n",
       "  text-align: right;\n",
       "  white-space: pre-wrap;\n",
       "}\n",
       "</style>\n",
       "<small>shape: (10, 6)</small><table border=\"1\" class=\"dataframe\"><thead><tr><th>RegisterDate</th><th>Points</th><th>CurrentRanking</th><th>HighestRanking</th><th>Country</th><th>Continent</th></tr><tr><td>str</td><td>i64</td><td>i64</td><td>i64</td><td>str</td><td>str</td></tr></thead><tbody><tr><td>&quot;8/19/2012&quot;</td><td>6464</td><td>1040</td><td>46</td><td>&quot;United States&quot;</td><td>&quot;North America&quot;</td></tr><tr><td>&quot;2/5/2016&quot;</td><td>23460</td><td>210</td><td>189</td><td>&quot;United States&quot;</td><td>&quot;North America&quot;</td></tr><tr><td>&quot;11/23/2010&quot;</td><td>45</td><td>4727</td><td>251</td><td>&quot;Netherlands&quot;</td><td>&quot;Europe&quot;</td></tr><tr><td>&quot;12/2/2015&quot;</td><td>15131</td><td>380</td><td>373</td><td>&quot;Japan&quot;</td><td>&quot;Asia&quot;</td></tr><tr><td>&quot;3/23/2014&quot;</td><td>1788</td><td>2763</td><td>511</td><td>&quot;United States&quot;</td><td>&quot;North America&quot;</td></tr><tr><td>&quot;3/4/2013&quot;</td><td>4827</td><td>1363</td><td>616</td><td>&quot;Japan&quot;</td><td>&quot;Asia&quot;</td></tr><tr><td>&quot;4/29/2015&quot;</td><td>7504</td><td>879</td><td>666</td><td>&quot;None&quot;</td><td>&quot;None&quot;</td></tr><tr><td>&quot;5/22/2016&quot;</td><td>6243</td><td>1077</td><td>865</td><td>&quot;None&quot;</td><td>&quot;None&quot;</td></tr><tr><td>&quot;12/27/2014&quot;</td><td>2974</td><td>2050</td><td>902</td><td>&quot;Thailand&quot;</td><td>&quot;Asia&quot;</td></tr><tr><td>&quot;2/23/2017&quot;</td><td>2378</td><td>2361</td><td>2080</td><td>&quot;United States&quot;</td><td>&quot;North America&quot;</td></tr></tbody></table></div>"
      ],
      "text/plain": [
       "shape: (10, 6)\n",
       "┌──────────────┬────────┬────────────────┬────────────────┬───────────────┬───────────────┐\n",
       "│ RegisterDate ┆ Points ┆ CurrentRanking ┆ HighestRanking ┆ Country       ┆ Continent     │\n",
       "│ ---          ┆ ---    ┆ ---            ┆ ---            ┆ ---           ┆ ---           │\n",
       "│ str          ┆ i64    ┆ i64            ┆ i64            ┆ str           ┆ str           │\n",
       "╞══════════════╪════════╪════════════════╪════════════════╪═══════════════╪═══════════════╡\n",
       "│ 8/19/2012    ┆ 6464   ┆ 1040           ┆ 46             ┆ United States ┆ North America │\n",
       "│ 2/5/2016     ┆ 23460  ┆ 210            ┆ 189            ┆ United States ┆ North America │\n",
       "│ 11/23/2010   ┆ 45     ┆ 4727           ┆ 251            ┆ Netherlands   ┆ Europe        │\n",
       "│ 12/2/2015    ┆ 15131  ┆ 380            ┆ 373            ┆ Japan         ┆ Asia          │\n",
       "│ 3/23/2014    ┆ 1788   ┆ 2763           ┆ 511            ┆ United States ┆ North America │\n",
       "│ 3/4/2013     ┆ 4827   ┆ 1363           ┆ 616            ┆ Japan         ┆ Asia          │\n",
       "│ 4/29/2015    ┆ 7504   ┆ 879            ┆ 666            ┆ None          ┆ None          │\n",
       "│ 5/22/2016    ┆ 6243   ┆ 1077           ┆ 865            ┆ None          ┆ None          │\n",
       "│ 12/27/2014   ┆ 2974   ┆ 2050           ┆ 902            ┆ Thailand      ┆ Asia          │\n",
       "│ 2/23/2017    ┆ 2378   ┆ 2361           ┆ 2080           ┆ United States ┆ North America │\n",
       "└──────────────┴────────┴────────────────┴────────────────┴───────────────┴───────────────┘"
      ]
     },
     "execution_count": 118,
     "metadata": {},
     "output_type": "execute_result"
    }
   ],
   "source": []
  },
  {
   "cell_type": "markdown",
   "id": "ee61e3c1",
   "metadata": {},
   "source": [
    "Згрупуйте дані по трьох колонках."
   ]
  },
  {
   "cell_type": "code",
   "execution_count": 119,
   "id": "f99f259f",
   "metadata": {},
   "outputs": [],
   "source": [
    "# ваш код тут"
   ]
  },
  {
   "cell_type": "code",
   "execution_count": 120,
   "id": "455832d4",
   "metadata": {},
   "outputs": [
    {
     "data": {
      "text/html": [
       "<div><style>\n",
       ".dataframe > thead > tr,\n",
       ".dataframe > tbody > tr {\n",
       "  text-align: right;\n",
       "  white-space: pre-wrap;\n",
       "}\n",
       "</style>\n",
       "<small>shape: (10, 4)</small><table border=\"1\" class=\"dataframe\"><thead><tr><th>Continent</th><th>Country</th><th>HighestRanking</th><th>len</th></tr><tr><td>str</td><td>str</td><td>i64</td><td>u32</td></tr></thead><tbody><tr><td>&quot;North America&quot;</td><td>&quot;United States&quot;</td><td>2080</td><td>1</td></tr><tr><td>&quot;North America&quot;</td><td>&quot;United States&quot;</td><td>511</td><td>1</td></tr><tr><td>&quot;None&quot;</td><td>&quot;None&quot;</td><td>666</td><td>1</td></tr><tr><td>&quot;Asia&quot;</td><td>&quot;Japan&quot;</td><td>373</td><td>1</td></tr><tr><td>&quot;Asia&quot;</td><td>&quot;Japan&quot;</td><td>616</td><td>1</td></tr><tr><td>&quot;North America&quot;</td><td>&quot;United States&quot;</td><td>46</td><td>1</td></tr><tr><td>&quot;None&quot;</td><td>&quot;None&quot;</td><td>865</td><td>1</td></tr><tr><td>&quot;Asia&quot;</td><td>&quot;Thailand&quot;</td><td>902</td><td>1</td></tr><tr><td>&quot;North America&quot;</td><td>&quot;United States&quot;</td><td>189</td><td>1</td></tr><tr><td>&quot;Europe&quot;</td><td>&quot;Netherlands&quot;</td><td>251</td><td>1</td></tr></tbody></table></div>"
      ],
      "text/plain": [
       "shape: (10, 4)\n",
       "┌───────────────┬───────────────┬────────────────┬─────┐\n",
       "│ Continent     ┆ Country       ┆ HighestRanking ┆ len │\n",
       "│ ---           ┆ ---           ┆ ---            ┆ --- │\n",
       "│ str           ┆ str           ┆ i64            ┆ u32 │\n",
       "╞═══════════════╪═══════════════╪════════════════╪═════╡\n",
       "│ North America ┆ United States ┆ 2080           ┆ 1   │\n",
       "│ North America ┆ United States ┆ 511            ┆ 1   │\n",
       "│ None          ┆ None          ┆ 666            ┆ 1   │\n",
       "│ Asia          ┆ Japan         ┆ 373            ┆ 1   │\n",
       "│ Asia          ┆ Japan         ┆ 616            ┆ 1   │\n",
       "│ North America ┆ United States ┆ 46             ┆ 1   │\n",
       "│ None          ┆ None          ┆ 865            ┆ 1   │\n",
       "│ Asia          ┆ Thailand      ┆ 902            ┆ 1   │\n",
       "│ North America ┆ United States ┆ 189            ┆ 1   │\n",
       "│ Europe        ┆ Netherlands   ┆ 251            ┆ 1   │\n",
       "└───────────────┴───────────────┴────────────────┴─────┘"
      ]
     },
     "execution_count": 120,
     "metadata": {},
     "output_type": "execute_result"
    }
   ],
   "source": []
  },
  {
   "cell_type": "markdown",
   "id": "ac9007d0",
   "metadata": {},
   "source": [
    "Застосуйте функції агрегації до даних."
   ]
  },
  {
   "cell_type": "code",
   "execution_count": 121,
   "id": "7a7b11de",
   "metadata": {},
   "outputs": [],
   "source": [
    "# ваш код тут"
   ]
  },
  {
   "cell_type": "code",
   "execution_count": 122,
   "id": "9efc23d5",
   "metadata": {},
   "outputs": [
    {
     "data": {
      "text/html": [
       "<div><style>\n",
       ".dataframe > thead > tr,\n",
       ".dataframe > tbody > tr {\n",
       "  text-align: right;\n",
       "  white-space: pre-wrap;\n",
       "}\n",
       "</style>\n",
       "<small>shape: (4, 2)</small><table border=\"1\" class=\"dataframe\"><thead><tr><th>Continent</th><th>range</th></tr><tr><td>str</td><td>i64</td></tr></thead><tbody><tr><td>&quot;Europe&quot;</td><td>0</td></tr><tr><td>&quot;None&quot;</td><td>198</td></tr><tr><td>&quot;North America&quot;</td><td>2553</td></tr><tr><td>&quot;Asia&quot;</td><td>1670</td></tr></tbody></table></div>"
      ],
      "text/plain": [
       "shape: (4, 2)\n",
       "┌───────────────┬───────┐\n",
       "│ Continent     ┆ range │\n",
       "│ ---           ┆ ---   │\n",
       "│ str           ┆ i64   │\n",
       "╞═══════════════╪═══════╡\n",
       "│ Europe        ┆ 0     │\n",
       "│ None          ┆ 198   │\n",
       "│ North America ┆ 2553  │\n",
       "│ Asia          ┆ 1670  │\n",
       "└───────────────┴───────┘"
      ]
     },
     "execution_count": 122,
     "metadata": {},
     "output_type": "execute_result"
    }
   ],
   "source": []
  }
 ],
 "metadata": {
  "kernelspec": {
   "display_name": "Python 3 (ipykernel)",
   "language": "python",
   "name": "python3"
  },
  "language_info": {
   "codemirror_mode": {
    "name": "ipython",
    "version": 3
   },
   "file_extension": ".py",
   "mimetype": "text/x-python",
   "name": "python",
   "nbconvert_exporter": "python",
   "pygments_lexer": "ipython3",
   "version": "3.13.2"
  }
 },
 "nbformat": 4,
 "nbformat_minor": 5
}
