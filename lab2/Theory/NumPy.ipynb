{
 "cells": [
  {
   "cell_type": "markdown",
   "id": "6aadef00",
   "metadata": {},
   "source": [
    "# NumPy."
   ]
  },
  {
   "cell_type": "markdown",
   "id": "e11dc45d",
   "metadata": {},
   "source": [
    "NumPy (або Numpy) це бібліотека лінійної алгебри для Python. Більшість бібліотек у екосистемі PyData залежить від NumPy як одного з основних блоків.\n",
    "\n",
    "#### Використання NumPy."
   ]
  },
  {
   "cell_type": "code",
   "execution_count": 1,
   "id": "5a87730c",
   "metadata": {},
   "outputs": [],
   "source": [
    "import numpy as np"
   ]
  },
  {
   "cell_type": "markdown",
   "id": "bf58970f",
   "metadata": {},
   "source": [
    "#### Масиви NumPy.\n",
    "\n",
    "Масиви NumPy зазвичай представлені у двох виглядах: вектори та матриці. Вектори це одновимірні масиви, коли матриці це двохвимірні (хоча варто зазначити, що бувають випадки, коли матриці можуть мати один рядочок або одну колонку).\n",
    "NumPy оптимізований для процесора, що робить його значно швидшим при роботі з великими типами даних. Окрім того, NumPy використовує компактніше представлення даних, що робить його економнішим з точки зору пам'яті.\n",
    "\n",
    "#### Створення NumPy масивів.\n",
    "\n",
    "##### Зі звичайних масивів.\n",
    "Для цього використовується метод [np.array()](https://numpy.org/doc/stable/reference/generated/numpy.array.html)."
   ]
  },
  {
   "cell_type": "code",
   "execution_count": 2,
   "id": "c853ddb5",
   "metadata": {},
   "outputs": [
    {
     "data": {
      "text/plain": [
       "[1, 2, 3]"
      ]
     },
     "execution_count": 2,
     "metadata": {},
     "output_type": "execute_result"
    }
   ],
   "source": [
    "my_list = [1, 2, 3]\n",
    "my_list"
   ]
  },
  {
   "cell_type": "code",
   "execution_count": 3,
   "id": "819007c9",
   "metadata": {},
   "outputs": [
    {
     "data": {
      "text/plain": [
       "array([1, 2, 3])"
      ]
     },
     "execution_count": 3,
     "metadata": {},
     "output_type": "execute_result"
    }
   ],
   "source": [
    "np.array(my_list)"
   ]
  },
  {
   "cell_type": "code",
   "execution_count": 4,
   "id": "a6fcfd10",
   "metadata": {},
   "outputs": [
    {
     "data": {
      "text/plain": [
       "[[1, 2, 3], [4, 5, 6], [7, 8, 9]]"
      ]
     },
     "execution_count": 4,
     "metadata": {},
     "output_type": "execute_result"
    }
   ],
   "source": [
    "matrix = [[1, 2, 3],[4, 5, 6],[7, 8, 9]]\n",
    "matrix"
   ]
  },
  {
   "cell_type": "code",
   "execution_count": 5,
   "id": "7dc7ad57",
   "metadata": {},
   "outputs": [
    {
     "data": {
      "text/plain": [
       "array([[1, 2, 3],\n",
       "       [4, 5, 6],\n",
       "       [7, 8, 9]])"
      ]
     },
     "execution_count": 5,
     "metadata": {},
     "output_type": "execute_result"
    }
   ],
   "source": [
    "np.array(matrix)"
   ]
  },
  {
   "cell_type": "markdown",
   "id": "7f0e3cbd",
   "metadata": {},
   "source": [
    "##### З допомогою вбудованих методів.\n",
    "\n",
    "##### [arange()](https://numpy.org/doc/stable/reference/generated/numpy.arange.html).\n",
    "Повертає масив, заповнений рівномірно розподіленими значеннями в межах заданого інтервалу."
   ]
  },
  {
   "cell_type": "code",
   "execution_count": 6,
   "id": "bddce56b",
   "metadata": {},
   "outputs": [
    {
     "data": {
      "text/plain": [
       "array([0, 1, 2, 3, 4, 5, 6, 7, 8, 9])"
      ]
     },
     "execution_count": 6,
     "metadata": {},
     "output_type": "execute_result"
    }
   ],
   "source": [
    "np.arange(0, 10)"
   ]
  },
  {
   "cell_type": "code",
   "execution_count": 7,
   "id": "23f0d8a0",
   "metadata": {},
   "outputs": [
    {
     "data": {
      "text/plain": [
       "array([0, 2, 4, 6, 8])"
      ]
     },
     "execution_count": 7,
     "metadata": {},
     "output_type": "execute_result"
    }
   ],
   "source": [
    "np.arange(0, 10, 2)"
   ]
  },
  {
   "cell_type": "markdown",
   "id": "56b5661f",
   "metadata": {},
   "source": [
    "##### [zeros()](https://numpy.org/doc/stable/reference/generated/numpy.zeros.html) i [ones()](https://numpy.org/doc/stable/reference/generated/numpy.ones.html).\n",
    "Ці методи генерують масиви заповнені нулями та одиницями відповідно."
   ]
  },
  {
   "cell_type": "code",
   "execution_count": 8,
   "id": "a4b608dd",
   "metadata": {},
   "outputs": [
    {
     "data": {
      "text/plain": [
       "array([0., 0., 0.])"
      ]
     },
     "execution_count": 8,
     "metadata": {},
     "output_type": "execute_result"
    }
   ],
   "source": [
    "np.zeros(3)"
   ]
  },
  {
   "cell_type": "code",
   "execution_count": 9,
   "id": "2186f516",
   "metadata": {},
   "outputs": [
    {
     "data": {
      "text/plain": [
       "array([[0., 0., 0.],\n",
       "       [0., 0., 0.],\n",
       "       [0., 0., 0.]])"
      ]
     },
     "execution_count": 9,
     "metadata": {},
     "output_type": "execute_result"
    }
   ],
   "source": [
    "np.zeros((3, 3))"
   ]
  },
  {
   "cell_type": "code",
   "execution_count": 10,
   "id": "12f22853",
   "metadata": {},
   "outputs": [
    {
     "data": {
      "text/plain": [
       "array([1., 1., 1.])"
      ]
     },
     "execution_count": 10,
     "metadata": {},
     "output_type": "execute_result"
    }
   ],
   "source": [
    "np.ones(3)"
   ]
  },
  {
   "cell_type": "code",
   "execution_count": 11,
   "id": "81d37277",
   "metadata": {},
   "outputs": [
    {
     "data": {
      "text/plain": [
       "array([[1., 1., 1.],\n",
       "       [1., 1., 1.],\n",
       "       [1., 1., 1.]])"
      ]
     },
     "execution_count": 11,
     "metadata": {},
     "output_type": "execute_result"
    }
   ],
   "source": [
    "np.ones((3, 3))"
   ]
  },
  {
   "cell_type": "markdown",
   "id": "1528baa9",
   "metadata": {},
   "source": [
    "##### [linspace()](https://numpy.org/doc/stable/reference/generated/numpy.linspace.html).\n",
    "Повертає масив, заповнений рівномірно розподіленими значеннями у заданому інтервалі."
   ]
  },
  {
   "cell_type": "code",
   "execution_count": 12,
   "id": "f3957291",
   "metadata": {},
   "outputs": [
    {
     "data": {
      "text/plain": [
       "array([ 0.,  5., 10.])"
      ]
     },
     "execution_count": 12,
     "metadata": {},
     "output_type": "execute_result"
    }
   ],
   "source": [
    "np.linspace(0, 10, 3)"
   ]
  },
  {
   "cell_type": "code",
   "execution_count": 13,
   "id": "fa8e0ef5",
   "metadata": {},
   "outputs": [
    {
     "data": {
      "text/plain": [
       "array([ 0.,  1.,  2.,  3.,  4.,  5.,  6.,  7.,  8.,  9., 10.])"
      ]
     },
     "execution_count": 13,
     "metadata": {},
     "output_type": "execute_result"
    }
   ],
   "source": [
    "np.linspace(0, 10, 11)"
   ]
  },
  {
   "cell_type": "markdown",
   "id": "18fb674e",
   "metadata": {},
   "source": [
    "### [repeat()](https://numpy.org/doc/stable/reference/generated/numpy.repeat.html)\n",
    "Повторює елементи у масиві вказану кількість разів."
   ]
  },
  {
   "cell_type": "code",
   "execution_count": 14,
   "id": "f8b77f23",
   "metadata": {},
   "outputs": [
    {
     "data": {
      "text/plain": [
       "array([3, 3, 3, 3])"
      ]
     },
     "execution_count": 14,
     "metadata": {},
     "output_type": "execute_result"
    }
   ],
   "source": [
    "np.repeat(3, 4)"
   ]
  },
  {
   "cell_type": "code",
   "execution_count": 15,
   "id": "bf44c0d7",
   "metadata": {},
   "outputs": [
    {
     "data": {
      "text/plain": [
       "array([1, 1, 1, 2, 2, 2, 3, 3, 3, 4, 4, 4])"
      ]
     },
     "execution_count": 15,
     "metadata": {},
     "output_type": "execute_result"
    }
   ],
   "source": [
    "np.array([[1,2],[3,4]]).repeat(3)"
   ]
  },
  {
   "cell_type": "code",
   "execution_count": 16,
   "id": "e1ccd044",
   "metadata": {},
   "outputs": [
    {
     "data": {
      "text/plain": [
       "array([[1, 2],\n",
       "       [3, 4],\n",
       "       [3, 4]])"
      ]
     },
     "execution_count": 16,
     "metadata": {},
     "output_type": "execute_result"
    }
   ],
   "source": [
    "np.repeat(np.array([[1,2],[3,4]]), [1, 2], axis=0)"
   ]
  },
  {
   "cell_type": "markdown",
   "id": "57bca020",
   "metadata": {},
   "source": [
    "### [tile()](https://numpy.org/doc/stable/reference/generated/numpy.tile.html)\n",
    "Повторює масив вказану кількість разів."
   ]
  },
  {
   "cell_type": "code",
   "execution_count": 17,
   "id": "8be220ca",
   "metadata": {},
   "outputs": [
    {
     "data": {
      "text/plain": [
       "array([0, 1, 2, 0, 1, 2])"
      ]
     },
     "execution_count": 17,
     "metadata": {},
     "output_type": "execute_result"
    }
   ],
   "source": [
    "np.tile(np.array([0, 1, 2]), 2)"
   ]
  },
  {
   "cell_type": "code",
   "execution_count": 18,
   "id": "de2e836b",
   "metadata": {},
   "outputs": [
    {
     "data": {
      "text/plain": [
       "array([[1, 2, 1, 2],\n",
       "       [3, 4, 3, 4]])"
      ]
     },
     "execution_count": 18,
     "metadata": {},
     "output_type": "execute_result"
    }
   ],
   "source": [
    "np.tile(np.array([[1, 2], [3, 4]]), 2)"
   ]
  },
  {
   "cell_type": "code",
   "execution_count": 19,
   "id": "794e9609",
   "metadata": {},
   "outputs": [
    {
     "data": {
      "text/plain": [
       "array([[1, 2, 3, 4, 1, 2, 3, 4, 1, 2, 3, 4, 1, 2, 3, 4]])"
      ]
     },
     "execution_count": 19,
     "metadata": {},
     "output_type": "execute_result"
    }
   ],
   "source": [
    "np.tile(np.array([1,2,3,4]), [1, 4])"
   ]
  },
  {
   "cell_type": "code",
   "execution_count": 20,
   "id": "7b69e24e",
   "metadata": {},
   "outputs": [
    {
     "data": {
      "text/plain": [
       "array([[1, 2, 3, 4],\n",
       "       [1, 2, 3, 4],\n",
       "       [1, 2, 3, 4],\n",
       "       [1, 2, 3, 4]])"
      ]
     },
     "execution_count": 20,
     "metadata": {},
     "output_type": "execute_result"
    }
   ],
   "source": [
    "np.tile(np.array([1,2,3,4]), [4, 1])"
   ]
  },
  {
   "cell_type": "markdown",
   "id": "9e1a641e",
   "metadata": {},
   "source": [
    "##### [eye()](https://numpy.org/devdocs/reference/generated/numpy.eye.html).\n",
    "Створює діагональну матрицю."
   ]
  },
  {
   "cell_type": "code",
   "execution_count": 21,
   "id": "166c4080",
   "metadata": {},
   "outputs": [
    {
     "data": {
      "text/plain": [
       "array([[1., 0., 0.],\n",
       "       [0., 1., 0.],\n",
       "       [0., 0., 1.]])"
      ]
     },
     "execution_count": 21,
     "metadata": {},
     "output_type": "execute_result"
    }
   ],
   "source": [
    "np.eye(3)"
   ]
  },
  {
   "cell_type": "markdown",
   "id": "a73473c2",
   "metadata": {},
   "source": [
    "#### Random.\n",
    "NumPy дозволяє створювати масиви, які заповнені випадковими числами."
   ]
  },
  {
   "cell_type": "markdown",
   "id": "e7dfe561",
   "metadata": {},
   "source": [
    "##### [rand()](https://numpy.org/doc/stable/reference/random/generated/numpy.random.rand.html).\n",
    "Створює масив вказаної форми і наповнює його випадковими значеннями з рівномірним розподілом у межах [0, 1)."
   ]
  },
  {
   "cell_type": "code",
   "execution_count": 22,
   "id": "8a517926",
   "metadata": {},
   "outputs": [
    {
     "data": {
      "text/plain": [
       "array([0.29753825, 0.23756852, 0.54012664])"
      ]
     },
     "execution_count": 22,
     "metadata": {},
     "output_type": "execute_result"
    }
   ],
   "source": [
    "np.random.rand(3)"
   ]
  },
  {
   "cell_type": "code",
   "execution_count": 23,
   "id": "7d9a58ed",
   "metadata": {},
   "outputs": [
    {
     "data": {
      "text/plain": [
       "array([[0.05212444, 0.44738833],\n",
       "       [0.05781072, 0.28496255]])"
      ]
     },
     "execution_count": 23,
     "metadata": {},
     "output_type": "execute_result"
    }
   ],
   "source": [
    "np.random.rand(2, 2)"
   ]
  },
  {
   "cell_type": "markdown",
   "id": "b1e8edec",
   "metadata": {},
   "source": [
    "##### [randn()](https://numpy.org/doc/stable/reference/random/generated/numpy.random.randn.html).\n",
    "\n",
    "Повертає масив заповнений випадковими значеннями з стандартним нормальним розподілом."
   ]
  },
  {
   "cell_type": "code",
   "execution_count": 24,
   "id": "b8b569dc",
   "metadata": {},
   "outputs": [
    {
     "data": {
      "text/plain": [
       "array([ 0.17787548, -0.40380975,  1.11780196])"
      ]
     },
     "execution_count": 24,
     "metadata": {},
     "output_type": "execute_result"
    }
   ],
   "source": [
    "np.random.randn(3)"
   ]
  },
  {
   "cell_type": "code",
   "execution_count": 25,
   "id": "55857121",
   "metadata": {},
   "outputs": [
    {
     "data": {
      "text/plain": [
       "array([[ 0.49314001, -0.2437382 ],\n",
       "       [ 0.36906683,  1.63553592]])"
      ]
     },
     "execution_count": 25,
     "metadata": {},
     "output_type": "execute_result"
    }
   ],
   "source": [
    "np.random.randn(2, 2)"
   ]
  },
  {
   "cell_type": "markdown",
   "id": "a4644d65",
   "metadata": {},
   "source": [
    "##### [randint()](https://numpy.org/doc/stable/reference/random/generated/numpy.random.randint.html).\n",
    "Повертає масив заповнений цілими числами з нижньої (включно) до верхньої (невключно) межі."
   ]
  },
  {
   "cell_type": "code",
   "execution_count": 26,
   "id": "b75e65c6",
   "metadata": {},
   "outputs": [
    {
     "data": {
      "text/plain": [
       "36"
      ]
     },
     "execution_count": 26,
     "metadata": {},
     "output_type": "execute_result"
    }
   ],
   "source": [
    "np.random.randint(1, 100)"
   ]
  },
  {
   "cell_type": "code",
   "execution_count": 27,
   "id": "48cf6acc",
   "metadata": {},
   "outputs": [
    {
     "data": {
      "text/plain": [
       "array([71,  1, 51, 17, 22, 94, 72, 22, 51, 39, 83, 30, 36, 29, 68, 26, 71,\n",
       "       72, 38, 35, 40, 26, 92, 63, 63, 19, 10, 19, 17, 88, 31, 39, 79, 45,\n",
       "       66, 76, 47, 43, 88, 78, 18, 55, 75, 97, 19, 32, 17, 88, 87, 46])"
      ]
     },
     "execution_count": 27,
     "metadata": {},
     "output_type": "execute_result"
    }
   ],
   "source": [
    "np.random.randint(1, 100, 50)"
   ]
  },
  {
   "cell_type": "markdown",
   "id": "d950a4b4",
   "metadata": {},
   "source": [
    "##### [seed()](https://numpy.org/doc/1.25/reference/random/generated/numpy.random.seed.html).\n",
    "NumPy довзоляє задати число, яке дозволить у майбутньому повторити випадкові результати."
   ]
  },
  {
   "cell_type": "code",
   "execution_count": 28,
   "id": "4ec5d875",
   "metadata": {},
   "outputs": [],
   "source": [
    "np.random.seed(100)"
   ]
  },
  {
   "cell_type": "markdown",
   "id": "6f507df9",
   "metadata": {},
   "source": [
    "#### Властивості та методи NumPy масивів.\n",
    "\n",
    "##### [shape](https://numpy.org/doc/stable/reference/generated/numpy.shape.html)/[reshape()](https://numpy.org/doc/stable/reference/generated/numpy.reshape.html)."
   ]
  },
  {
   "cell_type": "code",
   "execution_count": 29,
   "id": "88cee7b3",
   "metadata": {},
   "outputs": [
    {
     "data": {
      "text/plain": [
       "array([0, 1, 2, 3, 4, 5, 6, 7, 8])"
      ]
     },
     "execution_count": 29,
     "metadata": {},
     "output_type": "execute_result"
    }
   ],
   "source": [
    "arr = np.arange(9)\n",
    "arr"
   ]
  },
  {
   "cell_type": "code",
   "execution_count": 30,
   "id": "1b638003",
   "metadata": {},
   "outputs": [
    {
     "data": {
      "text/plain": [
       "(9,)"
      ]
     },
     "execution_count": 30,
     "metadata": {},
     "output_type": "execute_result"
    }
   ],
   "source": [
    "arr.shape"
   ]
  },
  {
   "cell_type": "code",
   "execution_count": 31,
   "id": "a8af1f7c",
   "metadata": {},
   "outputs": [
    {
     "data": {
      "text/plain": [
       "array([[0, 1, 2],\n",
       "       [3, 4, 5],\n",
       "       [6, 7, 8]])"
      ]
     },
     "execution_count": 31,
     "metadata": {},
     "output_type": "execute_result"
    }
   ],
   "source": [
    "arr.reshape(3, 3)"
   ]
  },
  {
   "cell_type": "code",
   "execution_count": 32,
   "id": "51a92650",
   "metadata": {},
   "outputs": [
    {
     "data": {
      "text/plain": [
       "(3, 3)"
      ]
     },
     "execution_count": 32,
     "metadata": {},
     "output_type": "execute_result"
    }
   ],
   "source": [
    "arr.reshape(3, 3).shape"
   ]
  },
  {
   "cell_type": "code",
   "execution_count": 33,
   "id": "7210ca37",
   "metadata": {},
   "outputs": [
    {
     "data": {
      "text/plain": [
       "array([[0],\n",
       "       [1],\n",
       "       [2],\n",
       "       [3],\n",
       "       [4],\n",
       "       [5],\n",
       "       [6],\n",
       "       [7],\n",
       "       [8]])"
      ]
     },
     "execution_count": 33,
     "metadata": {},
     "output_type": "execute_result"
    }
   ],
   "source": [
    "arr.reshape(9, 1)"
   ]
  },
  {
   "cell_type": "markdown",
   "id": "a44661c4",
   "metadata": {},
   "source": [
    "### [flatten](https://numpy.org/doc/stable/reference/generated/numpy.ndarray.flatten.html)\n",
    "Повертає копію масиву, з одиничною розмірністю."
   ]
  },
  {
   "cell_type": "code",
   "execution_count": 34,
   "id": "c33d06bb",
   "metadata": {},
   "outputs": [
    {
     "data": {
      "text/plain": [
       "array([1, 2, 3, 4])"
      ]
     },
     "execution_count": 34,
     "metadata": {},
     "output_type": "execute_result"
    }
   ],
   "source": [
    "np.array([[1,2], [3,4]]).flatten('C')"
   ]
  },
  {
   "cell_type": "code",
   "execution_count": 35,
   "id": "ae240678",
   "metadata": {},
   "outputs": [
    {
     "data": {
      "text/plain": [
       "array([1, 3, 2, 4])"
      ]
     },
     "execution_count": 35,
     "metadata": {},
     "output_type": "execute_result"
    }
   ],
   "source": [
    "np.array([[1,2], [3,4]]).flatten('F')"
   ]
  },
  {
   "cell_type": "markdown",
   "id": "e4286476",
   "metadata": {},
   "source": [
    "##### [dtype](https://numpy.org/doc/stable/reference/generated/numpy.dtype.html).\n",
    "Вказує тип об'єктів у масиві."
   ]
  },
  {
   "cell_type": "code",
   "execution_count": 36,
   "id": "dec2c19d",
   "metadata": {},
   "outputs": [
    {
     "data": {
      "text/plain": [
       "dtype('int64')"
      ]
     },
     "execution_count": 36,
     "metadata": {},
     "output_type": "execute_result"
    }
   ],
   "source": [
    "arr.dtype"
   ]
  },
  {
   "cell_type": "markdown",
   "id": "f358317e",
   "metadata": {},
   "source": [
    "##### Корисні функції."
   ]
  },
  {
   "cell_type": "code",
   "execution_count": 37,
   "id": "663d3faf",
   "metadata": {},
   "outputs": [
    {
     "data": {
      "text/plain": [
       "array([ 8, 24, 67, 87, 79, 48, 10, 94, 52, 98])"
      ]
     },
     "execution_count": 37,
     "metadata": {},
     "output_type": "execute_result"
    }
   ],
   "source": [
    "arr = np.random.randint(0, 100, 10)\n",
    "arr"
   ]
  },
  {
   "cell_type": "code",
   "execution_count": 38,
   "id": "d20301e8",
   "metadata": {},
   "outputs": [
    {
     "data": {
      "text/plain": [
       "98"
      ]
     },
     "execution_count": 38,
     "metadata": {},
     "output_type": "execute_result"
    }
   ],
   "source": [
    "arr.max()"
   ]
  },
  {
   "cell_type": "code",
   "execution_count": 39,
   "id": "0fd7d01c",
   "metadata": {},
   "outputs": [
    {
     "data": {
      "text/plain": [
       "9"
      ]
     },
     "execution_count": 39,
     "metadata": {},
     "output_type": "execute_result"
    }
   ],
   "source": [
    "arr.argmax()"
   ]
  },
  {
   "cell_type": "code",
   "execution_count": 40,
   "id": "d601ef47",
   "metadata": {},
   "outputs": [
    {
     "data": {
      "text/plain": [
       "8"
      ]
     },
     "execution_count": 40,
     "metadata": {},
     "output_type": "execute_result"
    }
   ],
   "source": [
    "arr.min()"
   ]
  },
  {
   "cell_type": "code",
   "execution_count": 41,
   "id": "93ad94c3",
   "metadata": {},
   "outputs": [
    {
     "data": {
      "text/plain": [
       "0"
      ]
     },
     "execution_count": 41,
     "metadata": {},
     "output_type": "execute_result"
    }
   ],
   "source": [
    "arr.argmin()"
   ]
  },
  {
   "cell_type": "markdown",
   "id": "c12947a2",
   "metadata": {},
   "source": [
    "### Базові математичні операції."
   ]
  },
  {
   "cell_type": "code",
   "execution_count": 42,
   "id": "a1f3dbff",
   "metadata": {},
   "outputs": [],
   "source": [
    "arr = np.array([1, 2, 3, 4, 5])"
   ]
  },
  {
   "cell_type": "markdown",
   "id": "3c508e32",
   "metadata": {},
   "source": [
    "Сума усіх елементів масиву:"
   ]
  },
  {
   "cell_type": "code",
   "execution_count": 43,
   "id": "54ddfdae",
   "metadata": {},
   "outputs": [
    {
     "data": {
      "text/plain": [
       "15"
      ]
     },
     "execution_count": 43,
     "metadata": {},
     "output_type": "execute_result"
    }
   ],
   "source": [
    "np.sum(arr)"
   ]
  },
  {
   "cell_type": "markdown",
   "id": "7df64c02",
   "metadata": {},
   "source": [
    "Добуток усіх елементів масиву."
   ]
  },
  {
   "cell_type": "code",
   "execution_count": 44,
   "id": "af5cc623",
   "metadata": {},
   "outputs": [
    {
     "data": {
      "text/plain": [
       "120"
      ]
     },
     "execution_count": 44,
     "metadata": {},
     "output_type": "execute_result"
    }
   ],
   "source": [
    "np.prod(arr)"
   ]
  },
  {
   "cell_type": "markdown",
   "id": "9bbcceee",
   "metadata": {},
   "source": [
    "Кумулятивна сума усіх елементів масиву."
   ]
  },
  {
   "cell_type": "code",
   "execution_count": 45,
   "id": "14c80d86",
   "metadata": {},
   "outputs": [
    {
     "data": {
      "text/plain": [
       "array([ 1,  3,  6, 10, 15])"
      ]
     },
     "execution_count": 45,
     "metadata": {},
     "output_type": "execute_result"
    }
   ],
   "source": [
    "np.cumsum(arr)"
   ]
  },
  {
   "cell_type": "markdown",
   "id": "c3a15aa8",
   "metadata": {},
   "source": [
    "Кумулятивний добуток усіх елементів масиву."
   ]
  },
  {
   "cell_type": "code",
   "execution_count": 46,
   "id": "8c01cf1f",
   "metadata": {},
   "outputs": [
    {
     "data": {
      "text/plain": [
       "array([  1,   2,   6,  24, 120])"
      ]
     },
     "execution_count": 46,
     "metadata": {},
     "output_type": "execute_result"
    }
   ],
   "source": [
    "np.cumprod(arr)"
   ]
  },
  {
   "cell_type": "markdown",
   "id": "ed914a26",
   "metadata": {},
   "source": [
    "### Базові статистичні функції."
   ]
  },
  {
   "cell_type": "markdown",
   "id": "5e91947f",
   "metadata": {},
   "source": [
    "Середнє значення."
   ]
  },
  {
   "cell_type": "code",
   "execution_count": 47,
   "id": "6b575816",
   "metadata": {},
   "outputs": [
    {
     "data": {
      "text/plain": [
       "3.0"
      ]
     },
     "execution_count": 47,
     "metadata": {},
     "output_type": "execute_result"
    }
   ],
   "source": [
    "np.mean(arr)"
   ]
  },
  {
   "cell_type": "markdown",
   "id": "b5a83561",
   "metadata": {},
   "source": [
    "Медіана."
   ]
  },
  {
   "cell_type": "code",
   "execution_count": 48,
   "id": "c07effba",
   "metadata": {},
   "outputs": [
    {
     "data": {
      "text/plain": [
       "3.0"
      ]
     },
     "execution_count": 48,
     "metadata": {},
     "output_type": "execute_result"
    }
   ],
   "source": [
    "np.median(arr)"
   ]
  },
  {
   "cell_type": "markdown",
   "id": "ce27b8c2",
   "metadata": {},
   "source": [
    "Стандартне відхилення."
   ]
  },
  {
   "cell_type": "code",
   "execution_count": 49,
   "id": "f5bce4e0",
   "metadata": {},
   "outputs": [
    {
     "data": {
      "text/plain": [
       "1.4142135623730951"
      ]
     },
     "execution_count": 49,
     "metadata": {},
     "output_type": "execute_result"
    }
   ],
   "source": [
    "np.std(arr)"
   ]
  },
  {
   "cell_type": "markdown",
   "id": "b3bfce2f",
   "metadata": {},
   "source": [
    "Дисперсія."
   ]
  },
  {
   "cell_type": "code",
   "execution_count": 50,
   "id": "5a3a4a93",
   "metadata": {},
   "outputs": [
    {
     "data": {
      "text/plain": [
       "2.0"
      ]
     },
     "execution_count": 50,
     "metadata": {},
     "output_type": "execute_result"
    }
   ],
   "source": [
    "np.var(arr)"
   ]
  },
  {
   "cell_type": "markdown",
   "id": "46dedd67",
   "metadata": {},
   "source": [
    "### Робота з матрицями."
   ]
  },
  {
   "cell_type": "code",
   "execution_count": 51,
   "id": "7fd38e90",
   "metadata": {},
   "outputs": [],
   "source": [
    "a = np.array([1, 2, 3])\n",
    "b = np.array([4, 5, 6])\n",
    "A = np.array([[1, 2],\n",
    "              [3, 4]])\n",
    "B = np.array([[5, 6],\n",
    "              [7, 8]])"
   ]
  },
  {
   "cell_type": "markdown",
   "id": "7713cad2",
   "metadata": {},
   "source": [
    "Транспонування матриць."
   ]
  },
  {
   "cell_type": "code",
   "execution_count": 52,
   "id": "c1c8364c",
   "metadata": {},
   "outputs": [
    {
     "data": {
      "text/plain": [
       "array([[1, 2],\n",
       "       [3, 4]])"
      ]
     },
     "execution_count": 52,
     "metadata": {},
     "output_type": "execute_result"
    }
   ],
   "source": [
    "A"
   ]
  },
  {
   "cell_type": "code",
   "execution_count": 53,
   "id": "7b252171",
   "metadata": {},
   "outputs": [
    {
     "data": {
      "text/plain": [
       "array([[1, 3],\n",
       "       [2, 4]])"
      ]
     },
     "execution_count": 53,
     "metadata": {},
     "output_type": "execute_result"
    }
   ],
   "source": [
    "np.transpose(A)"
   ]
  },
  {
   "cell_type": "markdown",
   "id": "6803345c",
   "metadata": {},
   "source": [
    "Скалярний добуток векторів."
   ]
  },
  {
   "cell_type": "code",
   "execution_count": 54,
   "id": "f92cef1a",
   "metadata": {},
   "outputs": [
    {
     "data": {
      "text/plain": [
       "32"
      ]
     },
     "execution_count": 54,
     "metadata": {},
     "output_type": "execute_result"
    }
   ],
   "source": [
    "np.dot(a, b)"
   ]
  },
  {
   "cell_type": "markdown",
   "id": "18644db5",
   "metadata": {},
   "source": [
    "Матричне множення."
   ]
  },
  {
   "cell_type": "code",
   "execution_count": 55,
   "id": "145d8eff",
   "metadata": {},
   "outputs": [
    {
     "data": {
      "text/plain": [
       "array([[19, 22],\n",
       "       [43, 50]])"
      ]
     },
     "execution_count": 55,
     "metadata": {},
     "output_type": "execute_result"
    }
   ],
   "source": [
    "np.matmul(A, B)"
   ]
  },
  {
   "cell_type": "markdown",
   "id": "45f00dee",
   "metadata": {},
   "source": [
    "Визначник матриці."
   ]
  },
  {
   "cell_type": "code",
   "execution_count": 56,
   "id": "43d84bf9",
   "metadata": {},
   "outputs": [
    {
     "data": {
      "text/plain": [
       "-2.0000000000000004"
      ]
     },
     "execution_count": 56,
     "metadata": {},
     "output_type": "execute_result"
    }
   ],
   "source": [
    "np.linalg.det(A)"
   ]
  },
  {
   "cell_type": "markdown",
   "id": "07d00996",
   "metadata": {},
   "source": [
    "Створення оберненої матриці."
   ]
  },
  {
   "cell_type": "code",
   "execution_count": 57,
   "id": "20c9b6fc",
   "metadata": {},
   "outputs": [
    {
     "data": {
      "text/plain": [
       "array([[-2. ,  1. ],\n",
       "       [ 1.5, -0.5]])"
      ]
     },
     "execution_count": 57,
     "metadata": {},
     "output_type": "execute_result"
    }
   ],
   "source": [
    "np.linalg.inv(A)"
   ]
  },
  {
   "cell_type": "markdown",
   "id": "779254db",
   "metadata": {},
   "source": [
    "Власні значення та вектори."
   ]
  },
  {
   "cell_type": "code",
   "execution_count": 58,
   "id": "6f8e849f",
   "metadata": {},
   "outputs": [
    {
     "data": {
      "text/plain": [
       "(array([-0.37228132,  5.37228132]),\n",
       " array([[-0.82456484, -0.41597356],\n",
       "        [ 0.56576746, -0.90937671]]))"
      ]
     },
     "execution_count": 58,
     "metadata": {},
     "output_type": "execute_result"
    }
   ],
   "source": [
    "np.linalg.eig(A)"
   ]
  },
  {
   "cell_type": "markdown",
   "id": "8eec3eb2",
   "metadata": {},
   "source": [
    "Ранг матриці."
   ]
  },
  {
   "cell_type": "code",
   "execution_count": 59,
   "id": "2212ab3c",
   "metadata": {},
   "outputs": [
    {
     "data": {
      "text/plain": [
       "2"
      ]
     },
     "execution_count": 59,
     "metadata": {},
     "output_type": "execute_result"
    }
   ],
   "source": [
    "np.linalg.matrix_rank(A)"
   ]
  },
  {
   "cell_type": "markdown",
   "id": "d1e11046",
   "metadata": {},
   "source": [
    "Слід матриці."
   ]
  },
  {
   "cell_type": "code",
   "execution_count": 60,
   "id": "f12e746c",
   "metadata": {},
   "outputs": [
    {
     "data": {
      "text/plain": [
       "5"
      ]
     },
     "execution_count": 60,
     "metadata": {},
     "output_type": "execute_result"
    }
   ],
   "source": [
    "np.trace(A)"
   ]
  },
  {
   "cell_type": "markdown",
   "id": "5d0cd0c4",
   "metadata": {},
   "source": [
    "### Розв'язання системи лінійних рівнянь."
   ]
  },
  {
   "cell_type": "code",
   "execution_count": 61,
   "id": "70988e0a",
   "metadata": {},
   "outputs": [
    {
     "data": {
      "text/plain": [
       "array([1., 2.])"
      ]
     },
     "execution_count": 61,
     "metadata": {},
     "output_type": "execute_result"
    }
   ],
   "source": [
    "# x + 2y = 5\n",
    "# 3x + 4y = 11\n",
    "\n",
    "A = np.array([[1, 2],\n",
    "              [3, 4]])\n",
    "b = np.array([5, 11])\n",
    "\n",
    "np.linalg.solve(A, b)"
   ]
  },
  {
   "cell_type": "markdown",
   "id": "9bd61af7",
   "metadata": {},
   "source": [
    "#### Індексування.\n",
    "Індексування квадратними дужками."
   ]
  },
  {
   "cell_type": "code",
   "execution_count": 62,
   "id": "13e71e61",
   "metadata": {},
   "outputs": [
    {
     "data": {
      "text/plain": [
       "array([0, 1, 2, 3, 4, 5, 6, 7, 8, 9])"
      ]
     },
     "execution_count": 62,
     "metadata": {},
     "output_type": "execute_result"
    }
   ],
   "source": [
    "arr = np.arange(0, 10)\n",
    "arr"
   ]
  },
  {
   "cell_type": "code",
   "execution_count": 63,
   "id": "d83f5c99",
   "metadata": {},
   "outputs": [
    {
     "data": {
      "text/plain": [
       "8"
      ]
     },
     "execution_count": 63,
     "metadata": {},
     "output_type": "execute_result"
    }
   ],
   "source": [
    "arr[8]"
   ]
  },
  {
   "cell_type": "code",
   "execution_count": 64,
   "id": "dfd53dff",
   "metadata": {},
   "outputs": [
    {
     "data": {
      "text/plain": [
       "array([0, 1, 2, 3, 4])"
      ]
     },
     "execution_count": 64,
     "metadata": {},
     "output_type": "execute_result"
    }
   ],
   "source": [
    "arr[0:5]"
   ]
  },
  {
   "cell_type": "code",
   "execution_count": 65,
   "id": "c12952ba",
   "metadata": {},
   "outputs": [
    {
     "data": {
      "text/plain": [
       "array([[0, 1, 2],\n",
       "       [3, 4, 5],\n",
       "       [6, 7, 8]])"
      ]
     },
     "execution_count": 65,
     "metadata": {},
     "output_type": "execute_result"
    }
   ],
   "source": [
    "matrix = np.array(([0, 1, 2],[3, 4, 5],[6, 7, 8]))\n",
    "matrix"
   ]
  },
  {
   "cell_type": "code",
   "execution_count": 66,
   "id": "e8c8f626",
   "metadata": {},
   "outputs": [
    {
     "data": {
      "text/plain": [
       "array([0, 1, 2])"
      ]
     },
     "execution_count": 66,
     "metadata": {},
     "output_type": "execute_result"
    }
   ],
   "source": [
    "matrix[0]"
   ]
  },
  {
   "cell_type": "code",
   "execution_count": 67,
   "id": "30de6d2d",
   "metadata": {},
   "outputs": [
    {
     "data": {
      "text/plain": [
       "1"
      ]
     },
     "execution_count": 67,
     "metadata": {},
     "output_type": "execute_result"
    }
   ],
   "source": [
    "matrix[0, 1]"
   ]
  },
  {
   "cell_type": "code",
   "execution_count": 68,
   "id": "0497e82c",
   "metadata": {},
   "outputs": [
    {
     "data": {
      "text/plain": [
       "1"
      ]
     },
     "execution_count": 68,
     "metadata": {},
     "output_type": "execute_result"
    }
   ],
   "source": [
    "matrix[0][1]"
   ]
  },
  {
   "cell_type": "code",
   "execution_count": 69,
   "id": "38376b7b",
   "metadata": {},
   "outputs": [
    {
     "data": {
      "text/plain": [
       "array([[1, 2]])"
      ]
     },
     "execution_count": 69,
     "metadata": {},
     "output_type": "execute_result"
    }
   ],
   "source": [
    "matrix[:1, 1:]"
   ]
  },
  {
   "cell_type": "code",
   "execution_count": 70,
   "id": "6dd5cde0",
   "metadata": {},
   "outputs": [
    {
     "data": {
      "text/plain": [
       "array([[0, 1, 2],\n",
       "       [6, 7, 8]])"
      ]
     },
     "execution_count": 70,
     "metadata": {},
     "output_type": "execute_result"
    }
   ],
   "source": [
    "matrix[[0, 2]]"
   ]
  },
  {
   "cell_type": "code",
   "execution_count": 71,
   "id": "8ed40529",
   "metadata": {},
   "outputs": [
    {
     "data": {
      "text/plain": [
       "array([[6, 7, 8],\n",
       "       [0, 1, 2]])"
      ]
     },
     "execution_count": 71,
     "metadata": {},
     "output_type": "execute_result"
    }
   ],
   "source": [
    "matrix[[2, 0]]"
   ]
  },
  {
   "cell_type": "markdown",
   "id": "a96875f8",
   "metadata": {},
   "source": [
    "Сортування."
   ]
  },
  {
   "cell_type": "code",
   "execution_count": 72,
   "id": "43d4822b",
   "metadata": {},
   "outputs": [],
   "source": [
    "arr = np.array([3, 1, 4, 1, 5, 9, 2, 6, 5, 3])"
   ]
  },
  {
   "cell_type": "code",
   "execution_count": 73,
   "id": "58a4388c",
   "metadata": {},
   "outputs": [
    {
     "data": {
      "text/plain": [
       "array([1, 1, 2, 3, 3, 4, 5, 5, 6, 9])"
      ]
     },
     "execution_count": 73,
     "metadata": {},
     "output_type": "execute_result"
    }
   ],
   "source": [
    "np.sort(arr)"
   ]
  },
  {
   "cell_type": "code",
   "execution_count": 74,
   "id": "367cc149",
   "metadata": {},
   "outputs": [
    {
     "data": {
      "text/plain": [
       "array([9, 6, 5, 5, 4, 3, 3, 2, 1, 1])"
      ]
     },
     "execution_count": 74,
     "metadata": {},
     "output_type": "execute_result"
    }
   ],
   "source": [
    "np.sort(arr)[::-1]"
   ]
  },
  {
   "cell_type": "markdown",
   "id": "229fd562",
   "metadata": {},
   "source": [
    "Пошук унікальних елементів."
   ]
  },
  {
   "cell_type": "code",
   "execution_count": 75,
   "id": "91b51545",
   "metadata": {},
   "outputs": [
    {
     "data": {
      "text/plain": [
       "array([1, 2, 3, 4, 5, 6, 9])"
      ]
     },
     "execution_count": 75,
     "metadata": {},
     "output_type": "execute_result"
    }
   ],
   "source": [
    "np.unique(arr)"
   ]
  },
  {
   "cell_type": "markdown",
   "id": "997487f3",
   "metadata": {},
   "source": [
    "#### NumPy  у пам'яті."
   ]
  },
  {
   "cell_type": "code",
   "execution_count": 76,
   "id": "e2b040a5",
   "metadata": {},
   "outputs": [
    {
     "data": {
      "text/plain": [
       "array([3, 1, 4, 1, 5, 9, 2, 6, 5, 3])"
      ]
     },
     "execution_count": 76,
     "metadata": {},
     "output_type": "execute_result"
    }
   ],
   "source": [
    "arr"
   ]
  },
  {
   "cell_type": "code",
   "execution_count": 77,
   "id": "697794ba",
   "metadata": {},
   "outputs": [
    {
     "data": {
      "text/plain": [
       "array([ 3, 25, 25, 25,  5,  9,  2,  6,  5,  3])"
      ]
     },
     "execution_count": 77,
     "metadata": {},
     "output_type": "execute_result"
    }
   ],
   "source": [
    "arr[1:4] = 25\n",
    "arr"
   ]
  },
  {
   "cell_type": "code",
   "execution_count": 78,
   "id": "33c51d93",
   "metadata": {},
   "outputs": [
    {
     "data": {
      "text/plain": [
       "array([ 3, 25, 25, 25,  5,  9])"
      ]
     },
     "execution_count": 78,
     "metadata": {},
     "output_type": "execute_result"
    }
   ],
   "source": [
    "slice_of_arr = arr[:6]\n",
    "slice_of_arr"
   ]
  },
  {
   "cell_type": "code",
   "execution_count": 79,
   "id": "a792c0b1",
   "metadata": {},
   "outputs": [
    {
     "data": {
      "text/plain": [
       "array([32, 32, 32, 32, 32, 32])"
      ]
     },
     "execution_count": 79,
     "metadata": {},
     "output_type": "execute_result"
    }
   ],
   "source": [
    "slice_of_arr[:] = 32\n",
    "slice_of_arr"
   ]
  },
  {
   "cell_type": "code",
   "execution_count": 80,
   "id": "2987dbe5",
   "metadata": {},
   "outputs": [
    {
     "data": {
      "text/plain": [
       "array([32, 32, 32, 32, 32, 32,  2,  6,  5,  3])"
      ]
     },
     "execution_count": 80,
     "metadata": {},
     "output_type": "execute_result"
    }
   ],
   "source": [
    "arr"
   ]
  },
  {
   "cell_type": "code",
   "execution_count": 81,
   "id": "84ad00f9",
   "metadata": {},
   "outputs": [
    {
     "data": {
      "text/plain": [
       "array([32, 32, 32, 32, 32, 32,  2,  6,  5,  3])"
      ]
     },
     "execution_count": 81,
     "metadata": {},
     "output_type": "execute_result"
    }
   ],
   "source": [
    "copy = arr.copy()\n",
    "copy"
   ]
  },
  {
   "cell_type": "markdown",
   "id": "93319ab4",
   "metadata": {},
   "source": [
    "#### Трансляція.\n",
    "NumPy відрізняється від звичайних Python масивів своїм вмінням транслювати.\n",
    "Трансляція надає засоби для векторних операцій на масиві таким чином, що цикли відбуваються у С замість Python. Це відбувається без додаткових копій.\n",
    "\n",
    "Трансляція довзовляє виконувати різні арифметичні операції над масивами. Важливо, щоб масиви були або однаковими у розмірах, або один з елементів мав тільки одне значення."
   ]
  },
  {
   "cell_type": "code",
   "execution_count": 82,
   "id": "857e9d6e",
   "metadata": {},
   "outputs": [
    {
     "data": {
      "text/plain": [
       "array([0, 1, 2, 3, 4, 5, 6, 7, 8, 9])"
      ]
     },
     "execution_count": 82,
     "metadata": {},
     "output_type": "execute_result"
    }
   ],
   "source": [
    "arr = np.arange(0, 10)\n",
    "arr"
   ]
  },
  {
   "cell_type": "code",
   "execution_count": 83,
   "id": "2a9bf8a9",
   "metadata": {},
   "outputs": [
    {
     "data": {
      "text/plain": [
       "array([ 0,  2,  4,  6,  8, 10, 12, 14, 16, 18])"
      ]
     },
     "execution_count": 83,
     "metadata": {},
     "output_type": "execute_result"
    }
   ],
   "source": [
    "arr + arr"
   ]
  },
  {
   "cell_type": "code",
   "execution_count": 84,
   "id": "82cb5448",
   "metadata": {},
   "outputs": [
    {
     "data": {
      "text/plain": [
       "array([0, 0, 0, 0, 0, 0, 0, 0, 0, 0])"
      ]
     },
     "execution_count": 84,
     "metadata": {},
     "output_type": "execute_result"
    }
   ],
   "source": [
    "arr - arr"
   ]
  },
  {
   "cell_type": "code",
   "execution_count": 85,
   "id": "3bcad848",
   "metadata": {},
   "outputs": [
    {
     "data": {
      "text/plain": [
       "array([ 0,  1,  4,  9, 16, 25, 36, 49, 64, 81])"
      ]
     },
     "execution_count": 85,
     "metadata": {},
     "output_type": "execute_result"
    }
   ],
   "source": [
    "arr * arr"
   ]
  },
  {
   "cell_type": "code",
   "execution_count": 86,
   "id": "4892a363",
   "metadata": {},
   "outputs": [
    {
     "name": "stderr",
     "output_type": "stream",
     "text": [
      "/var/folders/5f/35rhngxj0j3_0r30ftv5dk100000gn/T/ipykernel_27778/3001117470.py:1: RuntimeWarning: invalid value encountered in divide\n",
      "  arr / arr\n"
     ]
    },
    {
     "data": {
      "text/plain": [
       "array([nan,  1.,  1.,  1.,  1.,  1.,  1.,  1.,  1.,  1.])"
      ]
     },
     "execution_count": 86,
     "metadata": {},
     "output_type": "execute_result"
    }
   ],
   "source": [
    "arr / arr"
   ]
  },
  {
   "cell_type": "code",
   "execution_count": 87,
   "id": "ab9a9af5",
   "metadata": {},
   "outputs": [
    {
     "data": {
      "text/plain": [
       "array([  0,   1,   8,  27,  64, 125, 216, 343, 512, 729])"
      ]
     },
     "execution_count": 87,
     "metadata": {},
     "output_type": "execute_result"
    }
   ],
   "source": [
    "arr ** 3"
   ]
  },
  {
   "cell_type": "markdown",
   "id": "2cab9c6a",
   "metadata": {},
   "source": [
    "#### Вибір.\n",
    "Вибір, який базується на операції порівння:"
   ]
  },
  {
   "cell_type": "code",
   "execution_count": 88,
   "id": "c89e9acd",
   "metadata": {},
   "outputs": [
    {
     "data": {
      "text/plain": [
       "array([False, False, False, False, False, False, False,  True,  True,\n",
       "        True])"
      ]
     },
     "execution_count": 88,
     "metadata": {},
     "output_type": "execute_result"
    }
   ],
   "source": [
    "arr > 6"
   ]
  },
  {
   "cell_type": "code",
   "execution_count": 89,
   "id": "45ad4648",
   "metadata": {},
   "outputs": [
    {
     "data": {
      "text/plain": [
       "array([False, False, False, False, False, False, False,  True,  True,\n",
       "        True])"
      ]
     },
     "execution_count": 89,
     "metadata": {},
     "output_type": "execute_result"
    }
   ],
   "source": [
    "criteria_array = arr > 6\n",
    "criteria_array"
   ]
  },
  {
   "cell_type": "code",
   "execution_count": 90,
   "id": "6a761b44",
   "metadata": {},
   "outputs": [
    {
     "data": {
      "text/plain": [
       "array([7, 8, 9])"
      ]
     },
     "execution_count": 90,
     "metadata": {},
     "output_type": "execute_result"
    }
   ],
   "source": [
    "arr[criteria_array]"
   ]
  },
  {
   "cell_type": "code",
   "execution_count": 91,
   "id": "4c8da693",
   "metadata": {},
   "outputs": [
    {
     "data": {
      "text/plain": [
       "array([7, 8, 9])"
      ]
     },
     "execution_count": 91,
     "metadata": {},
     "output_type": "execute_result"
    }
   ],
   "source": [
    "arr[arr > 6]"
   ]
  },
  {
   "cell_type": "markdown",
   "id": "5dfd0f54",
   "metadata": {},
   "source": [
    "Пошук ненульових елементів."
   ]
  },
  {
   "cell_type": "code",
   "execution_count": 92,
   "id": "7b109311",
   "metadata": {},
   "outputs": [
    {
     "data": {
      "text/plain": [
       "(array([1, 2, 3, 4, 5, 6, 7, 8, 9]),)"
      ]
     },
     "execution_count": 92,
     "metadata": {},
     "output_type": "execute_result"
    }
   ],
   "source": [
    "np.nonzero(arr)"
   ]
  },
  {
   "cell_type": "markdown",
   "id": "859131b8",
   "metadata": {},
   "source": [
    "### Умовні операції."
   ]
  },
  {
   "cell_type": "markdown",
   "id": "ed6a8ba8",
   "metadata": {},
   "source": [
    "[clip()](https://numpy.org/doc/stable/reference/generated/numpy.clip.html) обмежує значення елементів у масиві."
   ]
  },
  {
   "cell_type": "code",
   "execution_count": 93,
   "id": "de8f0748",
   "metadata": {},
   "outputs": [
    {
     "data": {
      "text/plain": [
       "array([2, 2, 2, 3, 4, 5, 6, 7, 8, 8])"
      ]
     },
     "execution_count": 93,
     "metadata": {},
     "output_type": "execute_result"
    }
   ],
   "source": [
    "np.clip(arr, 2, 8)"
   ]
  },
  {
   "cell_type": "markdown",
   "id": "dffc11ff",
   "metadata": {},
   "source": [
    "[where()](https://numpy.org/doc/stable/reference/generated/numpy.where.html) дозволяє створити новий масив на основі існуючого, і заповнити його певними значеннями згідно з заданою умовою"
   ]
  },
  {
   "cell_type": "code",
   "execution_count": 94,
   "id": "6a2d878f",
   "metadata": {},
   "outputs": [
    {
     "data": {
      "text/plain": [
       "array([0, 0, 0, 0, 0, 0, 1, 1, 1, 1])"
      ]
     },
     "execution_count": 94,
     "metadata": {},
     "output_type": "execute_result"
    }
   ],
   "source": [
    "np.where(arr > 5, 1, 0)"
   ]
  },
  {
   "cell_type": "markdown",
   "id": "15964390",
   "metadata": {},
   "source": [
    "### [all()](https://numpy.org/doc/stable/reference/generated/numpy.all.html)\n",
    "Перевіряє, чи всі елементи в масиві виконують задану умову."
   ]
  },
  {
   "cell_type": "code",
   "execution_count": 95,
   "id": "968ee460",
   "metadata": {},
   "outputs": [
    {
     "data": {
      "text/plain": [
       "False"
      ]
     },
     "execution_count": 95,
     "metadata": {},
     "output_type": "execute_result"
    }
   ],
   "source": [
    "arr = np.array([True, True, False])\n",
    "np.all(arr)"
   ]
  },
  {
   "cell_type": "code",
   "execution_count": 96,
   "id": "14702842",
   "metadata": {},
   "outputs": [
    {
     "data": {
      "text/plain": [
       "True"
      ]
     },
     "execution_count": 96,
     "metadata": {},
     "output_type": "execute_result"
    }
   ],
   "source": [
    "arr = np.array([True, True, True])\n",
    "np.all(arr)"
   ]
  },
  {
   "cell_type": "markdown",
   "id": "a581c62a",
   "metadata": {},
   "source": [
    "### [any()](https://numpy.org/doc/stable/reference/generated/numpy.any.html)\n",
    "Перевіряє, чи хоча б один елемент у масиві задовільняє задану умову."
   ]
  },
  {
   "cell_type": "code",
   "execution_count": 97,
   "id": "c7375efd",
   "metadata": {},
   "outputs": [
    {
     "data": {
      "text/plain": [
       "True"
      ]
     },
     "execution_count": 97,
     "metadata": {},
     "output_type": "execute_result"
    }
   ],
   "source": [
    "arr = np.array([True, True, False])\n",
    "np.any(arr)"
   ]
  },
  {
   "cell_type": "code",
   "execution_count": 98,
   "id": "302df658",
   "metadata": {},
   "outputs": [
    {
     "data": {
      "text/plain": [
       "False"
      ]
     },
     "execution_count": 98,
     "metadata": {},
     "output_type": "execute_result"
    }
   ],
   "source": [
    "arr = np.array([False, False, False])\n",
    "np.any(arr)"
   ]
  },
  {
   "cell_type": "markdown",
   "id": "d7c46aeb",
   "metadata": {},
   "source": [
    "#### Функції, універсальні для NumPy масивів\n",
    "NumPy містить у собі багато функцій, які є математичним операціями, які можна застосовувати до масиву."
   ]
  },
  {
   "cell_type": "code",
   "execution_count": 99,
   "id": "a4fa5c02",
   "metadata": {},
   "outputs": [
    {
     "data": {
      "text/plain": [
       "array([0., 0., 0.], dtype=float16)"
      ]
     },
     "execution_count": 99,
     "metadata": {},
     "output_type": "execute_result"
    }
   ],
   "source": [
    "np.sqrt(arr)"
   ]
  },
  {
   "cell_type": "code",
   "execution_count": 100,
   "id": "182c425f",
   "metadata": {},
   "outputs": [
    {
     "data": {
      "text/plain": [
       "array([1., 1., 1.], dtype=float16)"
      ]
     },
     "execution_count": 100,
     "metadata": {},
     "output_type": "execute_result"
    }
   ],
   "source": [
    "np.exp(arr)"
   ]
  },
  {
   "cell_type": "code",
   "execution_count": 101,
   "id": "5a53f695",
   "metadata": {},
   "outputs": [
    {
     "data": {
      "text/plain": [
       "False"
      ]
     },
     "execution_count": 101,
     "metadata": {},
     "output_type": "execute_result"
    }
   ],
   "source": [
    "np.max(arr)"
   ]
  },
  {
   "cell_type": "code",
   "execution_count": 102,
   "id": "77703ec0",
   "metadata": {},
   "outputs": [
    {
     "data": {
      "text/plain": [
       "array([0., 0., 0.], dtype=float16)"
      ]
     },
     "execution_count": 102,
     "metadata": {},
     "output_type": "execute_result"
    }
   ],
   "source": [
    "np.sin(arr)"
   ]
  },
  {
   "cell_type": "markdown",
   "id": "e39b9abd",
   "metadata": {},
   "source": [
    "## Об'єднання масивів.\n",
    "\n",
    "### [concatenate()](https://numpy.org/doc/stable/reference/generated/numpy.concatenate.html)\n",
    "Об'єднує масиви вздовж існуючої осі."
   ]
  },
  {
   "cell_type": "code",
   "execution_count": 103,
   "id": "debe01c3",
   "metadata": {},
   "outputs": [
    {
     "data": {
      "text/plain": [
       "array([1, 2, 3, 4, 5, 6])"
      ]
     },
     "execution_count": 103,
     "metadata": {},
     "output_type": "execute_result"
    }
   ],
   "source": [
    "array1 = np.array([1, 2, 3])\n",
    "array2 = np.array([4, 5, 6])\n",
    "\n",
    "np.concatenate((array1, array2))"
   ]
  },
  {
   "cell_type": "code",
   "execution_count": 104,
   "id": "cab37325",
   "metadata": {},
   "outputs": [
    {
     "data": {
      "text/plain": [
       "array([[1, 2],\n",
       "       [3, 4],\n",
       "       [5, 6],\n",
       "       [7, 8]])"
      ]
     },
     "execution_count": 104,
     "metadata": {},
     "output_type": "execute_result"
    }
   ],
   "source": [
    "array1 = np.array([[1, 2],\n",
    "                  [3, 4]])\n",
    "\n",
    "array2 = np.array([[5, 6],\n",
    "                  [7, 8]])\n",
    "\n",
    "np.concatenate((array1, array2), axis=0)"
   ]
  },
  {
   "cell_type": "code",
   "execution_count": 105,
   "id": "d25720ee",
   "metadata": {},
   "outputs": [
    {
     "data": {
      "text/plain": [
       "array([[1, 2, 5, 6],\n",
       "       [3, 4, 7, 8]])"
      ]
     },
     "execution_count": 105,
     "metadata": {},
     "output_type": "execute_result"
    }
   ],
   "source": [
    "np.concatenate((array1, array2), axis=1)"
   ]
  },
  {
   "cell_type": "markdown",
   "id": "cb5d8eab",
   "metadata": {},
   "source": [
    "### [vstack()](https://numpy.org/doc/stable/reference/generated/numpy.vstack.html) та [hstack()](https://numpy.org/doc/stable/reference/generated/numpy.hstack.html)"
   ]
  },
  {
   "cell_type": "markdown",
   "id": "14eba5b9",
   "metadata": {},
   "source": [
    "Об'єднує масиви вертикально та горизонтально відповідно."
   ]
  },
  {
   "cell_type": "code",
   "execution_count": 106,
   "id": "500cdb1a",
   "metadata": {},
   "outputs": [
    {
     "data": {
      "text/plain": [
       "array([[1, 2, 3],\n",
       "       [4, 5, 6]])"
      ]
     },
     "execution_count": 106,
     "metadata": {},
     "output_type": "execute_result"
    }
   ],
   "source": [
    "array1 = np.array([1, 2, 3])\n",
    "array2 = np.array([4, 5, 6])\n",
    "np.vstack((array1, array2))\n"
   ]
  },
  {
   "cell_type": "code",
   "execution_count": 107,
   "id": "a58e7648",
   "metadata": {},
   "outputs": [
    {
     "data": {
      "text/plain": [
       "array([1, 2, 3, 4, 5, 6])"
      ]
     },
     "execution_count": 107,
     "metadata": {},
     "output_type": "execute_result"
    }
   ],
   "source": [
    "np.hstack((array1, array2))"
   ]
  },
  {
   "cell_type": "markdown",
   "id": "31dc2bd0",
   "metadata": {},
   "source": [
    "## Розділення масиву.\n",
    "### [split()](https://numpy.org/doc/stable/reference/generated/numpy.split.html)\n",
    "Розділяє масив на сукупність підмасивів."
   ]
  },
  {
   "cell_type": "code",
   "execution_count": 108,
   "id": "1289cf90",
   "metadata": {},
   "outputs": [
    {
     "data": {
      "text/plain": [
       "[array([[1, 2, 3]]), array([[4, 5, 6]]), array([[7, 8, 9]])]"
      ]
     },
     "execution_count": 108,
     "metadata": {},
     "output_type": "execute_result"
    }
   ],
   "source": [
    "array = np.array([[1, 2, 3],\n",
    "                 [4, 5, 6],\n",
    "                 [7, 8, 9]])\n",
    "\n",
    "np.split(array, 3, axis=0)"
   ]
  }
 ],
 "metadata": {
  "kernelspec": {
   "display_name": "Python 3 (ipykernel)",
   "language": "python",
   "name": "python3"
  },
  "language_info": {
   "codemirror_mode": {
    "name": "ipython",
    "version": 3
   },
   "file_extension": ".py",
   "mimetype": "text/x-python",
   "name": "python",
   "nbconvert_exporter": "python",
   "pygments_lexer": "ipython3",
   "version": "3.11.4"
  }
 },
 "nbformat": 4,
 "nbformat_minor": 5
}
