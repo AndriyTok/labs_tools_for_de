{
 "cells": [
  {
   "cell_type": "markdown",
   "id": "ea43b803",
   "metadata": {},
   "source": [
    "# Лабораторна №9. Тензори. Нейронні мережі та табличні дані.\n",
    "## Робота з тензорами."
   ]
  },
  {
   "cell_type": "markdown",
   "id": "a07fb362",
   "metadata": {},
   "source": [
    "### Імпортуйте необхідні біліотеки."
   ]
  },
  {
   "cell_type": "code",
   "execution_count": 54,
   "id": "b38ae2a9",
   "metadata": {},
   "outputs": [],
   "source": [
    "import torch\n",
    "import torch.nn as nn\n",
    "import torch.nn.functional as F\n",
    "from torch.utils.data import Dataset, DataLoader\n",
    "from sklearn.model_selection import train_test_split\n",
    "\n",
    "import pandas as pd\n",
    "import numpy as np\n",
    "import matplotlib.pyplot as plt\n",
    "%matplotlib inline\n",
    "\n"
   ]
  },
  {
   "cell_type": "code",
   "execution_count": 55,
   "id": "aa2d68b0",
   "metadata": {},
   "outputs": [
    {
     "data": {
      "text/plain": [
       "<torch._C.Generator at 0x7f69a01aacb0>"
      ]
     },
     "execution_count": 55,
     "metadata": {},
     "output_type": "execute_result"
    }
   ],
   "source": [
    "np.random.seed(42) # запустіть цю клітинку, щоб ваші результати співпадали з тим, що наведено у прикладі.\n",
    "torch.manual_seed(42)"
   ]
  },
  {
   "cell_type": "markdown",
   "id": "9332b303",
   "metadata": {},
   "source": [
    "### Створіть numpy масив який містить 12 випадкових цілих чисел в межах від 0 (включно) до 12 (невключно)."
   ]
  },
  {
   "cell_type": "code",
   "execution_count": 56,
   "id": "9ee02780",
   "metadata": {},
   "outputs": [
    {
     "name": "stdout",
     "output_type": "stream",
     "text": [
      "[ 6  3 10  7  4  6  9  2  6 10 10  7]\n"
     ]
    }
   ],
   "source": [
    "# пишіть код тут.\n",
    "arr = np.random.randint(0, 12, size=12, dtype=np.int32)\n",
    "print(arr)"
   ]
  },
  {
   "cell_type": "code",
   "execution_count": 4,
   "id": "b71a2997",
   "metadata": {},
   "outputs": [
    {
     "name": "stdout",
     "output_type": "stream",
     "text": [
      "[ 6  3 10  7  4  6  9  2  6 10 10  7]\n"
     ]
    }
   ],
   "source": []
  },
  {
   "cell_type": "markdown",
   "id": "e5c3a6ab",
   "metadata": {},
   "source": [
    "### Створіть тензор з масиву, створеного вище."
   ]
  },
  {
   "cell_type": "code",
   "execution_count": 57,
   "id": "885fb195",
   "metadata": {},
   "outputs": [
    {
     "name": "stdout",
     "output_type": "stream",
     "text": [
      "tensor([ 6,  3, 10,  7,  4,  6,  9,  2,  6, 10, 10,  7], dtype=torch.int32)\n",
      "torch.int32\n"
     ]
    }
   ],
   "source": [
    "# пишіть код тут.\n",
    "x = torch.from_numpy(arr)\n",
    "print(x)\n",
    "print(x.dtype)"
   ]
  },
  {
   "cell_type": "code",
   "execution_count": 6,
   "id": "5e511be1",
   "metadata": {},
   "outputs": [
    {
     "name": "stdout",
     "output_type": "stream",
     "text": [
      "tensor([ 6,  3, 10,  7,  4,  6,  9,  2,  6, 10, 10,  7], dtype=torch.int32)\n"
     ]
    }
   ],
   "source": []
  },
  {
   "cell_type": "markdown",
   "id": "8777999d",
   "metadata": {},
   "source": [
    "### Змініть тип тензора на int64."
   ]
  },
  {
   "cell_type": "code",
   "execution_count": 58,
   "id": "d32e2ce2",
   "metadata": {},
   "outputs": [
    {
     "name": "stdout",
     "output_type": "stream",
     "text": [
      "torch.float64\n"
     ]
    }
   ],
   "source": [
    "# пишіть код тут.\n",
    "x = x.type(torch.float64)\n",
    "print(x.dtype)"
   ]
  },
  {
   "cell_type": "code",
   "execution_count": 8,
   "id": "a59990c5",
   "metadata": {},
   "outputs": [
    {
     "name": "stdout",
     "output_type": "stream",
     "text": [
      "torch.LongTensor\n"
     ]
    }
   ],
   "source": [
    "x = x.long()\n",
    "print(x.type())"
   ]
  },
  {
   "cell_type": "markdown",
   "id": "243a2030",
   "metadata": {},
   "source": [
    "### Змініть розміри тензора на 3x4."
   ]
  },
  {
   "cell_type": "code",
   "execution_count": 59,
   "id": "f8ab6a05",
   "metadata": {},
   "outputs": [
    {
     "data": {
      "text/plain": [
       "tensor([[ 6.,  3., 10.,  7.],\n",
       "        [ 4.,  6.,  9.,  2.],\n",
       "        [ 6., 10., 10.,  7.]], dtype=torch.float64)"
      ]
     },
     "execution_count": 59,
     "metadata": {},
     "output_type": "execute_result"
    }
   ],
   "source": [
    "# пишіть код тут.\n",
    "X = x.reshape(3, 4)\n",
    "X"
   ]
  },
  {
   "cell_type": "code",
   "execution_count": 10,
   "id": "b86e5743",
   "metadata": {},
   "outputs": [
    {
     "name": "stdout",
     "output_type": "stream",
     "text": [
      "tensor([[ 6,  3, 10,  7],\n",
      "        [ 4,  6,  9,  2],\n",
      "        [ 6, 10, 10,  7]])\n"
     ]
    }
   ],
   "source": []
  },
  {
   "cell_type": "markdown",
   "id": "cd369ee8",
   "metadata": {},
   "source": [
    "### Виведіть значення 4 стовпчика."
   ]
  },
  {
   "cell_type": "code",
   "execution_count": null,
   "id": "024f6e23",
   "metadata": {},
   "outputs": [
    {
     "data": {
      "text/plain": [
       "tensor([[7.],\n",
       "        [2.],\n",
       "        [7.]], dtype=torch.float64)"
      ]
     },
     "execution_count": 60,
     "metadata": {},
     "output_type": "execute_result"
    }
   ],
   "source": [
    "# пишіть код тут.\n",
    "X[:, 3].unsqueeze(1)"
   ]
  },
  {
   "cell_type": "code",
   "execution_count": 12,
   "id": "ff8863d9",
   "metadata": {},
   "outputs": [
    {
     "data": {
      "text/plain": [
       "tensor([[7],\n",
       "        [2],\n",
       "        [7]])"
      ]
     },
     "execution_count": 12,
     "metadata": {},
     "output_type": "execute_result"
    }
   ],
   "source": []
  },
  {
   "cell_type": "markdown",
   "id": "76fd2b39",
   "metadata": {},
   "source": [
    "### Без зміни тензора, поверніть тензор, у якому є квадрати значеннь з основного тензора."
   ]
  },
  {
   "cell_type": "code",
   "execution_count": 63,
   "id": "cc0c60de",
   "metadata": {},
   "outputs": [
    {
     "data": {
      "text/plain": [
       "tensor([[ 36.,   9., 100.,  49.],\n",
       "        [ 16.,  36.,  81.,   4.],\n",
       "        [ 36., 100., 100.,  49.]], dtype=torch.float64)"
      ]
     },
     "execution_count": 63,
     "metadata": {},
     "output_type": "execute_result"
    }
   ],
   "source": [
    "# пишіть код тут.\n",
    "X ** 2\n",
    " "
   ]
  },
  {
   "cell_type": "code",
   "execution_count": 14,
   "id": "180c74d5",
   "metadata": {},
   "outputs": [
    {
     "data": {
      "text/plain": [
       "tensor([[ 36,   9, 100,  49],\n",
       "        [ 16,  36,  81,   4],\n",
       "        [ 36, 100, 100,  49]])"
      ]
     },
     "execution_count": 14,
     "metadata": {},
     "output_type": "execute_result"
    }
   ],
   "source": []
  },
  {
   "cell_type": "markdown",
   "id": "c7d2c436",
   "metadata": {},
   "source": [
    "### Створіть ще одни тензор, з такими ж елементами, як у основному тензорі, але який можна буде перемножити з основним тензором.\n",
    "Використайте PyTorch для створення тензора."
   ]
  },
  {
   "cell_type": "code",
   "execution_count": 100,
   "id": "d8150655",
   "metadata": {},
   "outputs": [
    {
     "data": {
      "text/plain": [
       "tensor([[ 8, 11,  6],\n",
       "        [ 8,  7, 11],\n",
       "        [ 1,  0,  6],\n",
       "        [ 6,  7,  4]], dtype=torch.int32)"
      ]
     },
     "execution_count": 100,
     "metadata": {},
     "output_type": "execute_result"
    }
   ],
   "source": [
    "# пишіть код тут.\n",
    "X2 = np.random.randint(0, 12, size=(3, 4), dtype=np.int32)\n",
    "X2 = torch.from_numpy(X2)\n",
    "X2.reshape(4, 3)"
   ]
  },
  {
   "cell_type": "code",
   "execution_count": 101,
   "id": "0b5f1459",
   "metadata": {},
   "outputs": [
    {
     "data": {
      "text/plain": [
       "tensor([[ 6,  3, 10],\n",
       "        [ 7,  4,  6],\n",
       "        [ 9,  2,  6],\n",
       "        [10, 10,  7]], dtype=torch.int32)"
      ]
     },
     "execution_count": 101,
     "metadata": {},
     "output_type": "execute_result"
    }
   ],
   "source": [
    "X = X.int()\n",
    "X"
   ]
  },
  {
   "cell_type": "code",
   "execution_count": 16,
   "id": "38ad35d5",
   "metadata": {},
   "outputs": [
    {
     "name": "stdout",
     "output_type": "stream",
     "text": [
      "tensor([[ 6, 11,  4],\n",
      "        [10,  6, 11],\n",
      "        [ 4,  8, 10],\n",
      "        [ 5, 10, 10]])\n"
     ]
    }
   ],
   "source": []
  },
  {
   "cell_type": "markdown",
   "id": "f98b2afa",
   "metadata": {},
   "source": [
    "### Знайдіть добуток двох матриць: основної, та створеної на минулому кроці."
   ]
  },
  {
   "cell_type": "code",
   "execution_count": 102,
   "id": "605a5f0e",
   "metadata": {},
   "outputs": [
    {
     "data": {
      "text/plain": [
       "tensor([[129, 159, 109,  88],\n",
       "        [120, 157,  88,  80],\n",
       "        [122, 157,  98,  96],\n",
       "        [192, 262, 119, 108]], dtype=torch.int32)"
      ]
     },
     "execution_count": 102,
     "metadata": {},
     "output_type": "execute_result"
    }
   ],
   "source": [
    "# пишіть код тут.\n",
    "X @ X2"
   ]
  },
  {
   "cell_type": "code",
   "execution_count": 18,
   "id": "d4c75e34",
   "metadata": {},
   "outputs": [
    {
     "name": "stdout",
     "output_type": "stream",
     "text": [
      "tensor([[141, 234, 227],\n",
      "        [130, 172, 192],\n",
      "        [211, 276, 304]])\n"
     ]
    }
   ],
   "source": []
  },
  {
   "cell_type": "markdown",
   "id": "f1cd69f9",
   "metadata": {},
   "source": [
    "## Нейромережі.\n",
    "Використайте один з наборів даних, які вже використовувались у попередніх лабораторних роботах. Проведіть аналіз даних, та розділіть їх на незалежні та цільові змінні. Створіть моделі штучної нейронної мережі, які зможуть прогнозувати цільову змінну використовуючи різні фреймворки. Мережі мають містити як мінімум один прихований рівень."
   ]
  },
  {
   "cell_type": "code",
   "execution_count": 76,
   "id": "c61441a2",
   "metadata": {},
   "outputs": [],
   "source": [
    "import pandas as pd\n",
    "import torch\n",
    "import numpy as np\n",
    "from sklearn.datasets import load_wine\n",
    "from sklearn.model_selection import train_test_split\n",
    "from torch import nn\n",
    "from torch.optim import Adam\n",
    "from tqdm import tqdm\n",
    "from torch.utils.data import DataLoader\n",
    "from matplotlib import pyplot as plt\n",
    "from sklearn.preprocessing import StandardScaler\n",
    "import seaborn as sns\n",
    "sns.set_style(\"whitegrid\")\n",
    "%matplotlib inline"
   ]
  },
  {
   "cell_type": "code",
   "execution_count": 77,
   "id": "6f996d0c",
   "metadata": {},
   "outputs": [
    {
     "name": "stdout",
     "output_type": "stream",
     "text": [
      "cuda:0\n"
     ]
    }
   ],
   "source": [
    "device = torch.device(\"cuda:0\" if torch.cuda.is_available() else \"cpu\")\n",
    "print(device)"
   ]
  },
  {
   "cell_type": "code",
   "execution_count": null,
   "id": "fbd0630b",
   "metadata": {},
   "outputs": [],
   "source": [
    "wine_data = load_wine()\n",
    "X_wine = wine_data.data\n",
    "y_wine = wine_data.target"
   ]
  },
  {
   "cell_type": "code",
   "execution_count": 115,
   "id": "ffd21db9",
   "metadata": {},
   "outputs": [
    {
     "data": {
      "text/plain": [
       "array([[1.423e+01, 1.710e+00, 2.430e+00, 1.560e+01, 1.270e+02, 2.800e+00,\n",
       "        3.060e+00, 2.800e-01, 2.290e+00, 5.640e+00, 1.040e+00, 3.920e+00,\n",
       "        1.065e+03],\n",
       "       [1.320e+01, 1.780e+00, 2.140e+00, 1.120e+01, 1.000e+02, 2.650e+00,\n",
       "        2.760e+00, 2.600e-01, 1.280e+00, 4.380e+00, 1.050e+00, 3.400e+00,\n",
       "        1.050e+03],\n",
       "       [1.316e+01, 2.360e+00, 2.670e+00, 1.860e+01, 1.010e+02, 2.800e+00,\n",
       "        3.240e+00, 3.000e-01, 2.810e+00, 5.680e+00, 1.030e+00, 3.170e+00,\n",
       "        1.185e+03],\n",
       "       [1.437e+01, 1.950e+00, 2.500e+00, 1.680e+01, 1.130e+02, 3.850e+00,\n",
       "        3.490e+00, 2.400e-01, 2.180e+00, 7.800e+00, 8.600e-01, 3.450e+00,\n",
       "        1.480e+03],\n",
       "       [1.324e+01, 2.590e+00, 2.870e+00, 2.100e+01, 1.180e+02, 2.800e+00,\n",
       "        2.690e+00, 3.900e-01, 1.820e+00, 4.320e+00, 1.040e+00, 2.930e+00,\n",
       "        7.350e+02]])"
      ]
     },
     "execution_count": 115,
     "metadata": {},
     "output_type": "execute_result"
    }
   ],
   "source": [
    "X_wine[:5]"
   ]
  },
  {
   "cell_type": "code",
   "execution_count": 79,
   "id": "c8874738",
   "metadata": {},
   "outputs": [
    {
     "data": {
      "text/plain": [
       "(178, 13)"
      ]
     },
     "execution_count": 79,
     "metadata": {},
     "output_type": "execute_result"
    }
   ],
   "source": [
    "X_wine.shape"
   ]
  },
  {
   "cell_type": "code",
   "execution_count": 80,
   "id": "5ae97ac7",
   "metadata": {},
   "outputs": [],
   "source": [
    "X_train, X_test, y_train, y_test = train_test_split(X_wine, y_wine, test_size=0.2, random_state=42)"
   ]
  },
  {
   "cell_type": "code",
   "execution_count": 81,
   "id": "bb41384c",
   "metadata": {},
   "outputs": [
    {
     "data": {
      "text/plain": [
       "(array([1.29790845e+01, 2.37352113e+00, 2.36084507e+00, 1.94732394e+01,\n",
       "        1.00443662e+02, 2.28908451e+00, 2.00211268e+00, 3.68028169e-01,\n",
       "        1.60802817e+00, 5.05760563e+00, 9.56380282e-01, 2.59281690e+00,\n",
       "        7.34894366e+02]),\n",
       " array([1.30855556e+01, 2.18972222e+00, 2.38888889e+00, 1.95805556e+01,\n",
       "        9.69722222e+01, 2.31888889e+00, 2.13638889e+00, 3.37500000e-01,\n",
       "        1.52333333e+00, 5.05999997e+00, 9.61666667e-01, 2.68611111e+00,\n",
       "        7.94222222e+02]))"
      ]
     },
     "execution_count": 81,
     "metadata": {},
     "output_type": "execute_result"
    }
   ],
   "source": [
    "X_train.mean(axis=0), X_test.mean(axis=0)"
   ]
  },
  {
   "cell_type": "code",
   "execution_count": 82,
   "id": "38768ec9",
   "metadata": {},
   "outputs": [
    {
     "data": {
      "text/plain": [
       "(array([8.17222973e-01, 1.13989881e+00, 2.78232583e-01, 3.44260619e+00,\n",
       "        1.45991147e+01, 6.35465788e-01, 1.00062785e+00, 1.27816106e-01,\n",
       "        5.81597169e-01, 2.32269541e+00, 2.33275142e-01, 7.19593358e-01,\n",
       "        3.01257195e+02]),\n",
       " array([7.72680919e-01, 9.91885091e-01, 2.53122476e-01, 2.84202778e+00,\n",
       "        1.23546800e+01, 5.76424698e-01, 9.70395546e-01, 1.04731800e-01,\n",
       "        5.20309737e-01, 2.26813427e+00, 2.05433147e-01, 6.54973612e-01,\n",
       "        3.56062035e+02]))"
      ]
     },
     "execution_count": 82,
     "metadata": {},
     "output_type": "execute_result"
    }
   ],
   "source": [
    "X_train.std(axis=0), X_test.std(axis=0)"
   ]
  },
  {
   "cell_type": "code",
   "execution_count": 83,
   "id": "1739297a",
   "metadata": {},
   "outputs": [],
   "source": [
    "scaler = StandardScaler()\n",
    "X_train=scaler.fit_transform(X_train)\n",
    "X_test=scaler.transform(X_test)"
   ]
  },
  {
   "cell_type": "code",
   "execution_count": 84,
   "id": "81109e6e",
   "metadata": {},
   "outputs": [
    {
     "data": {
      "text/plain": [
       "(array([ 8.30321727e-15, -5.73387191e-16,  4.72196617e-15,  1.22359087e-16,\n",
       "        -3.69813726e-16,  1.83343169e-16,  9.90795865e-16, -1.01268759e-15,\n",
       "         3.63558948e-16,  3.19775505e-16,  1.24626444e-15,  1.76697467e-16,\n",
       "        -1.56369440e-18]),\n",
       " array([ 0.13028396, -0.16124142,  0.10079272,  0.03117293, -0.23778426,\n",
       "         0.04690163,  0.13419196, -0.23884446, -0.14562457,  0.00103084,\n",
       "         0.02266159,  0.12964851,  0.19693424]))"
      ]
     },
     "execution_count": 84,
     "metadata": {},
     "output_type": "execute_result"
    }
   ],
   "source": [
    "X_train.mean(axis=0), X_test.mean(axis=0)"
   ]
  },
  {
   "cell_type": "code",
   "execution_count": 85,
   "id": "66c26853",
   "metadata": {},
   "outputs": [
    {
     "data": {
      "text/plain": [
       "(array([1., 1., 1., 1., 1., 1., 1., 1., 1., 1., 1., 1., 1.]),\n",
       " array([0.94549584, 0.87015188, 0.90975138, 0.82554542, 0.84626227,\n",
       "        0.90709006, 0.96978666, 0.81939439, 0.8946222 , 0.97650956,\n",
       "        0.8806474 , 0.91019964, 1.18192044]))"
      ]
     },
     "execution_count": 85,
     "metadata": {},
     "output_type": "execute_result"
    }
   ],
   "source": [
    "X_train.std(axis=0), X_test.std(axis=0)"
   ]
  },
  {
   "cell_type": "code",
   "execution_count": null,
   "id": "2aa414ba",
   "metadata": {},
   "outputs": [],
   "source": [
    "class NetModel(nn.Module):\n",
    "    def __init__(self, input_dim, nclass, layer_size=[32, 64], dropout=0.3):\n",
    "        super(NetModel, self).__init__()\n",
    "        self.fc1 = nn.Linear(input_dim, layer_size[0])\n",
    "        self.fc2 = nn.Linear(layer_size[0], layer_size[1])\n",
    "        self.fc3 = nn.Linear(layer_size[1], nclass)\n",
    "        self.dropout1 = nn.Dropout(dropout)\n",
    "        self.dropout2 = nn.Dropout(dropout)\n",
    "        self.relu1 = nn.ReLU()\n",
    "        self.relu2 = nn.ReLU()\n",
    "\n",
    "    def forward(self, X):\n",
    "        X = self.dropout1(self.relu1(self.fc1(X)))\n",
    "        X = self.dropout2(self.relu2(self.fc2(X)))\n",
    "        X = self.fc3(X)\n",
    "        return X"
   ]
  },
  {
   "cell_type": "code",
   "execution_count": 126,
   "id": "112ddea5",
   "metadata": {},
   "outputs": [],
   "source": [
    "class Dataset(torch.utils.data.Dataset):\n",
    "    \n",
    "    def __init__(self, X, y):\n",
    "        self.X = torch.FloatTensor(X) \n",
    "        self.y = torch.LongTensor(y)\n",
    "    \n",
    "    def __getitem__(self, idx):\n",
    "        return self.X[idx], self.y[idx]\n",
    "    \n",
    "    def __len__(self):\n",
    "        return len(self.y)"
   ]
  },
  {
   "cell_type": "code",
   "execution_count": 127,
   "id": "76788007",
   "metadata": {},
   "outputs": [],
   "source": [
    "batch_size = 32\n",
    "\n",
    "train_d = Dataset(X_train, y_train)\n",
    "test_d = Dataset(X_test, y_test)\n",
    "\n",
    "train_dl = DataLoader(train_d, batch_size=batch_size, shuffle=True)\n",
    "test_dl = DataLoader(test_d, batch_size=batch_size, shuffle=False)\n",
    "\n",
    "n_train=X_train.shape[0]\n",
    "n_test=X_test.shape[0]"
   ]
  },
  {
   "cell_type": "code",
   "execution_count": 128,
   "id": "9514c399",
   "metadata": {},
   "outputs": [
    {
     "data": {
      "text/plain": [
       "[tensor([[-1.4306e+00, -2.2241e-01,  1.3627e+00,  5.8873e-01,  2.2985e+00,\n",
       "          -1.0844e+00, -1.0115e+00, -1.7840e+00, -8.2580e-02, -1.1011e+00,\n",
       "          -2.7351e-02, -4.6251e-01, -3.6479e-01],\n",
       "         [ 9.0663e-01, -8.2772e-01,  5.0014e-01, -8.0556e-01,  5.1759e-01,\n",
       "           1.7482e+00,  1.6668e+00, -1.3928e+00,  7.4273e-01,  7.5016e-01,\n",
       "          -2.8456e-01,  3.8519e-01,  1.8260e+00],\n",
       "         [-1.2470e+00, -1.1260e+00, -2.1868e-01,  4.4349e-01,  3.8108e-02,\n",
       "           1.7167e+00,  1.3780e-01, -1.8623e+00,  7.2166e-02, -7.9546e-01,\n",
       "           1.4412e-01,  7.4651e-01,  5.0158e-01],\n",
       "         [ 1.7142e+00,  1.0672e+00, -2.9057e-01, -1.0089e+00,  1.0660e-01,\n",
       "           1.5121e+00,  1.1672e+00, -7.6695e-01,  1.0006e+00, -6.7855e-02,\n",
       "           3.5846e-01,  1.1773e+00,  1.0958e+00],\n",
       "         [ 3.5598e-01,  1.6725e+00, -3.6245e-01,  1.5301e-01,  1.3396e+00,\n",
       "          -1.1001e+00, -1.3113e+00,  4.8485e-01, -4.4365e-01,  2.2140e+00,\n",
       "          -1.5706e+00, -1.4353e+00,  3.3229e-01],\n",
       "         [ 1.5307e+00, -5.8209e-01,  2.4855e-01, -1.1251e+00,  1.8190e+00,\n",
       "           8.0400e-01,  1.0572e+00, -6.8871e-01,  1.1726e+00,  2.5074e-01,\n",
       "           3.5846e-01,  1.8444e+00,  1.0958e+00],\n",
       "         [-1.3938e+00,  4.5309e-01, -4.7027e-01, -4.2794e-01,  7.9158e-01,\n",
       "          -8.9554e-01, -6.8168e-01,  4.8485e-01, -1.1314e+00, -1.0366e+00,\n",
       "           1.5517e-02, -1.0119e-01, -7.7971e-01],\n",
       "         [ 1.4940e+00, -5.3822e-01,  3.2043e-01, -1.2413e+00,  7.9158e-01,\n",
       "           1.5436e+00,  1.3870e+00, -2.1929e-01,  6.2238e-01,  7.2863e-01,\n",
       "           4.0133e-01,  3.5740e-01,  2.3737e+00],\n",
       "         [ 5.7624e-01,  1.1637e+00,  8.5955e-01,  1.0244e+00,  7.2308e-01,\n",
       "          -9.2701e-01, -1.0814e+00,  4.8485e-01, -2.5452e-01,  2.4206e+00,\n",
       "          -4.5603e-01, -1.4353e+00, -1.3243e-01],\n",
       "         [-7.4531e-01, -1.0909e+00, -7.2186e-01, -1.3747e-01, -9.2085e-01,\n",
       "           1.9056e+00,  1.0972e+00, -1.3928e+00,  4.5044e-01, -2.6160e-01,\n",
       "           1.1301e+00,  3.8519e-01, -1.0453e+00],\n",
       "         [ 1.4083e+00,  1.5146e+00,  1.3627e+00,  1.4602e+00, -3.0438e-01,\n",
       "          -3.7624e-01, -1.2413e+00,  1.5019e+00, -4.4365e-01,  1.7834e+00,\n",
       "          -1.4849e+00, -1.3797e+00, -5.8055e-01],\n",
       "         [ 2.2138e-01, -1.1862e-02,  1.1111e+00, -2.5366e-01,  3.8108e-02,\n",
       "           8.0400e-01,  1.2371e+00, -5.3223e-01,  2.0667e+00,  2.6796e-01,\n",
       "           3.1559e-01,  8.0210e-01,  1.4941e+00],\n",
       "         [-1.3571e+00,  1.6988e+00,  1.0479e-01,  4.4349e-01, -1.2633e+00,\n",
       "           8.9842e-01,  1.0272e+00, -1.2364e+00,  2.2386e+00, -9.7198e-01,\n",
       "          -8.8471e-01,  1.4552e+00, -1.1780e+00],\n",
       "         [ 3.1927e-01,  1.8991e-01,  1.8300e+00,  4.4349e-01,  1.2026e+00,\n",
       "           8.0400e-01,  6.8746e-01,  1.7190e-01,  3.6447e-01, -3.1756e-01,\n",
       "           3.5846e-01,  4.6857e-01,  3.5064e-04],\n",
       "         [-1.5796e-01, -6.7859e-01,  5.7202e-01, -4.8604e-01, -3.7288e-01,\n",
       "           3.0043e-01,  3.6766e-01, -8.4518e-01, -2.5452e-01, -4.8547e-01,\n",
       "           5.7280e-01,  1.4413e+00,  9.2979e-01],\n",
       "         [ 6.1295e-01, -6.1718e-01,  1.0033e+00,  8.7921e-01, -7.8386e-01,\n",
       "           4.8927e-01, -9.0155e-01,  1.1890e+00,  1.1726e+00,  2.8813e+00,\n",
       "          -1.6563e+00, -1.1296e+00, -3.8138e-01],\n",
       "         [ 1.5185e+00, -5.9086e-01, -2.1868e-01, -9.2176e-01,  1.2026e+00,\n",
       "           1.4335e+00,  9.9726e-01, -8.4518e-01,  7.2554e-01,  5.6934e-01,\n",
       "          -7.0219e-02,  9.9665e-01,  7.8041e-01],\n",
       "         [-1.6386e+00, -2.7504e-01,  3.5637e-01,  6.1778e-01, -1.1263e+00,\n",
       "          -5.3360e-01, -3.1192e-01,  8.7604e-01, -4.4365e-01, -9.7198e-01,\n",
       "           1.8699e-01,  2.1843e-01, -1.8222e-01],\n",
       "         [ 6.2518e-01,  1.0672e+00, -6.1404e-01,  7.7733e-03, -8.5236e-01,\n",
       "          -1.0529e+00, -1.5212e+00,  1.6584e+00, -1.2518e+00,  2.7657e-01,\n",
       "          -6.2750e-01, -1.0740e+00, -5.1416e-01],\n",
       "         [-1.5796e-01,  7.8645e-01,  7.8767e-01,  7.3397e-01,  3.8059e-01,\n",
       "          -1.0057e+00, -1.4012e+00,  1.8149e+00, -1.1142e+00,  2.2491e-01,\n",
       "          -3.7029e-01, -6.7096e-01, -5.4735e-01],\n",
       "         [ 6.6189e-01,  6.9873e-01,  1.2908e+00,  1.1697e+00, -2.3588e-01,\n",
       "          -1.1631e+00, -1.4812e+00,  1.0325e+00, -1.8192e+00, -3.0465e-01,\n",
       "          -2.8456e-01, -7.4044e-01, -7.1333e-01],\n",
       "         [-8.4320e-01, -8.4527e-01, -1.3688e+00, -1.0089e+00, -1.0578e+00,\n",
       "           4.1059e-01,  4.9757e-01, -6.1047e-01,  2.7849e-01, -9.2892e-01,\n",
       "           1.1729e+00,  2.0454e-01, -1.0187e+00],\n",
       "         [ 1.1125e-01, -7.6631e-01, -9.3751e-01, -1.1541e+00, -1.6738e-01,\n",
       "           1.7454e-01,  6.3749e-01, -6.8871e-01, -4.0927e-01, -5.8450e-01,\n",
       "           9.5861e-01,  1.3505e-01,  9.4639e-01],\n",
       "         [-3.4150e-01,  1.0321e+00, -3.0373e-03,  5.8873e-01,  3.8059e-01,\n",
       "          -9.2701e-01, -8.0161e-01, -1.5493e+00, -1.3206e+00, -2.4801e-02,\n",
       "          -7.5610e-01, -1.8105e+00, -4.4777e-01],\n",
       "         [ 8.6776e-02, -2.8382e-01,  3.0879e+00,  1.6054e+00,  1.6135e+00,\n",
       "           5.3648e-01,  6.7746e-01,  7.9780e-01,  5.3641e-01, -6.3616e-01,\n",
       "           7.4427e-01,  8.4379e-01,  3.1570e-01],\n",
       "         [-1.4917e+00,  2.6886e-01,  2.0097e+00,  1.5301e-01,  1.7510e-01,\n",
       "          -8.4833e-01,  2.7870e-02,  1.8149e+00, -9.5948e-01, -5.4144e-01,\n",
       "           1.1729e+00, -1.2899e-01, -4.2454e-01],\n",
       "         [ 6.4966e-01, -5.0313e-01,  1.0393e+00, -1.3747e-01,  6.5458e-01,\n",
       "           9.5860e-02,  5.2756e-01, -6.1047e-01, -1.1697e-01, -3.6923e-01,\n",
       "           6.1567e-01,  3.8519e-01,  1.1953e+00],\n",
       "         [ 8.9439e-01, -4.5050e-01, -3.0373e-03, -8.3461e-01,  3.8108e-02,\n",
       "           5.0501e-01,  8.7734e-01, -7.6695e-01,  1.4094e-01, -5.4144e-01,\n",
       "           6.5853e-01,  1.9555e+00,  9.9618e-01],\n",
       "         [-7.4531e-01, -1.2576e+00, -3.5972e+00, -2.5775e+00, -8.5236e-01,\n",
       "          -4.8639e-01, -1.4312e+00, -6.8871e-01, -2.0427e+00, -1.3379e+00,\n",
       "           4.0133e-01, -1.0740e+00, -7.1333e-01],\n",
       "         [ 8.6776e-02,  1.3040e+00, -1.4680e-01,  8.7921e-01, -1.0578e+00,\n",
       "          -1.0057e+00, -4.1185e-01,  1.8931e+00,  2.0584e-02, -1.1091e-01,\n",
       "          -4.9890e-01, -8.0993e-01, -7.2992e-01],\n",
       "         [-1.1491e+00,  1.6900e+00,  6.8845e-02,  7.3397e-01, -1.4003e+00,\n",
       "          -2.9755e-01, -2.5195e-01,  4.0661e-01, -4.4365e-01, -1.0581e+00,\n",
       "          -7.1324e-01, -3.1708e-02, -5.1416e-01],\n",
       "         [-6.2294e-01, -7.4877e-01, -5.7810e-01, -1.3747e-01,  4.2164e+00,\n",
       "           3.3191e-01,  2.6772e-01, -3.7576e-01,  2.8748e+00, -1.0581e+00,\n",
       "           8.7287e-01,  5.1672e-02,  6.7087e-01]]),\n",
       " tensor([1, 0, 1, 0, 2, 0, 1, 0, 2, 1, 2, 0, 1, 0, 0, 2, 0, 1, 2, 2, 2, 1, 0, 2,\n",
       "         0, 1, 0, 0, 1, 1, 1, 1])]"
      ]
     },
     "execution_count": 128,
     "metadata": {},
     "output_type": "execute_result"
    }
   ],
   "source": [
    "next(iter(train_dl))"
   ]
  },
  {
   "cell_type": "code",
   "execution_count": 129,
   "id": "ac98f7c3",
   "metadata": {},
   "outputs": [
    {
     "data": {
      "text/plain": [
       "142"
      ]
     },
     "execution_count": 129,
     "metadata": {},
     "output_type": "execute_result"
    }
   ],
   "source": [
    "train_d.__len__()"
   ]
  },
  {
   "cell_type": "code",
   "execution_count": 130,
   "id": "647c6117",
   "metadata": {},
   "outputs": [
    {
     "data": {
      "text/plain": [
       "(142, 13)"
      ]
     },
     "execution_count": 130,
     "metadata": {},
     "output_type": "execute_result"
    }
   ],
   "source": [
    "X_train.shape"
   ]
  },
  {
   "cell_type": "code",
   "execution_count": 131,
   "id": "ec6f3900",
   "metadata": {},
   "outputs": [
    {
     "data": {
      "text/plain": [
       "5"
      ]
     },
     "execution_count": 131,
     "metadata": {},
     "output_type": "execute_result"
    }
   ],
   "source": [
    "len(train_dl)"
   ]
  },
  {
   "cell_type": "code",
   "execution_count": 132,
   "id": "22f534af",
   "metadata": {},
   "outputs": [],
   "source": [
    "model=NetModel(input_dim=13, nclass=3, layer_size=[32,64], dropout=0.1).to(device)\n",
    "criterion = nn.CrossEntropyLoss()\n",
    "optimizer = torch.optim.Adam(model.parameters(), lr=0.005)"
   ]
  },
  {
   "cell_type": "code",
   "execution_count": 133,
   "id": "a45aa39b",
   "metadata": {},
   "outputs": [
    {
     "name": "stdout",
     "output_type": "stream",
     "text": [
      "NetModel(\n",
      "  (fc1): Linear(in_features=13, out_features=32, bias=True)\n",
      "  (fc2): Linear(in_features=32, out_features=64, bias=True)\n",
      "  (fc3): Linear(in_features=64, out_features=3, bias=True)\n",
      "  (dropout1): Dropout(p=0.1, inplace=False)\n",
      "  (dropout2): Dropout(p=0.1, inplace=False)\n",
      "  (relu1): ReLU()\n",
      "  (relu2): ReLU()\n",
      ")\n"
     ]
    }
   ],
   "source": [
    "print(model)"
   ]
  },
  {
   "cell_type": "code",
   "execution_count": 134,
   "id": "d1929e16",
   "metadata": {},
   "outputs": [],
   "source": [
    "loss_train_list=[]\n",
    "loss_val_list=[]\n",
    "acc_train_list=[]\n",
    "acc_val_list=[]"
   ]
  },
  {
   "cell_type": "code",
   "execution_count": 135,
   "id": "0cea1122",
   "metadata": {},
   "outputs": [
    {
     "name": "stderr",
     "output_type": "stream",
     "text": [
      "100%|██████████| 5/5 [00:00<00:00, 134.45it/s]\n"
     ]
    },
    {
     "name": "stdout",
     "output_type": "stream",
     "text": [
      "Epochs: 1 | Train Loss:  0.037 | Train Accuracy:  0.472 | Val Loss:  0.052| Val Accuracy:  0.778\n"
     ]
    },
    {
     "name": "stderr",
     "output_type": "stream",
     "text": [
      "100%|██████████| 5/5 [00:00<00:00, 207.76it/s]\n"
     ]
    },
    {
     "name": "stdout",
     "output_type": "stream",
     "text": [
      "Epochs: 2 | Train Loss:  0.029 | Train Accuracy:  0.810 | Val Loss:  0.036| Val Accuracy:  0.944\n"
     ]
    },
    {
     "name": "stderr",
     "output_type": "stream",
     "text": [
      "100%|██████████| 5/5 [00:00<00:00, 183.12it/s]\n"
     ]
    },
    {
     "name": "stdout",
     "output_type": "stream",
     "text": [
      "Epochs: 3 | Train Loss:  0.017 | Train Accuracy:  0.923 | Val Loss:  0.016| Val Accuracy:  1.000\n"
     ]
    },
    {
     "name": "stderr",
     "output_type": "stream",
     "text": [
      "100%|██████████| 5/5 [00:00<00:00, 180.83it/s]\n"
     ]
    },
    {
     "name": "stdout",
     "output_type": "stream",
     "text": [
      "Epochs: 4 | Train Loss:  0.009 | Train Accuracy:  0.951 | Val Loss:  0.005| Val Accuracy:  1.000\n"
     ]
    },
    {
     "name": "stderr",
     "output_type": "stream",
     "text": [
      "100%|██████████| 5/5 [00:00<00:00, 265.89it/s]\n"
     ]
    },
    {
     "name": "stdout",
     "output_type": "stream",
     "text": [
      "Epochs: 5 | Train Loss:  0.005 | Train Accuracy:  0.972 | Val Loss:  0.001| Val Accuracy:  1.000\n"
     ]
    },
    {
     "name": "stderr",
     "output_type": "stream",
     "text": [
      "100%|██████████| 5/5 [00:00<00:00, 147.02it/s]\n"
     ]
    },
    {
     "name": "stdout",
     "output_type": "stream",
     "text": [
      "Epochs: 6 | Train Loss:  0.003 | Train Accuracy:  0.972 | Val Loss:  0.001| Val Accuracy:  1.000\n"
     ]
    },
    {
     "name": "stderr",
     "output_type": "stream",
     "text": [
      "100%|██████████| 5/5 [00:00<00:00, 127.29it/s]\n"
     ]
    },
    {
     "name": "stdout",
     "output_type": "stream",
     "text": [
      "Epochs: 7 | Train Loss:  0.001 | Train Accuracy:  0.986 | Val Loss:  0.000| Val Accuracy:  1.000\n"
     ]
    },
    {
     "name": "stderr",
     "output_type": "stream",
     "text": [
      "100%|██████████| 5/5 [00:00<00:00, 205.41it/s]\n"
     ]
    },
    {
     "name": "stdout",
     "output_type": "stream",
     "text": [
      "Epochs: 8 | Train Loss:  0.001 | Train Accuracy:  0.993 | Val Loss:  0.000| Val Accuracy:  1.000\n"
     ]
    },
    {
     "name": "stderr",
     "output_type": "stream",
     "text": [
      "100%|██████████| 5/5 [00:00<00:00, 304.19it/s]\n"
     ]
    },
    {
     "name": "stdout",
     "output_type": "stream",
     "text": [
      "Epochs: 9 | Train Loss:  0.001 | Train Accuracy:  0.993 | Val Loss:  0.000| Val Accuracy:  1.000\n"
     ]
    },
    {
     "name": "stderr",
     "output_type": "stream",
     "text": [
      "100%|██████████| 5/5 [00:00<00:00, 261.42it/s]\n"
     ]
    },
    {
     "name": "stdout",
     "output_type": "stream",
     "text": [
      "Epochs: 10 | Train Loss:  0.001 | Train Accuracy:  0.986 | Val Loss:  0.000| Val Accuracy:  1.000\n"
     ]
    },
    {
     "name": "stderr",
     "output_type": "stream",
     "text": [
      "100%|██████████| 5/5 [00:00<00:00, 300.12it/s]\n"
     ]
    },
    {
     "name": "stdout",
     "output_type": "stream",
     "text": [
      "Epochs: 11 | Train Loss:  0.001 | Train Accuracy:  0.993 | Val Loss:  0.000| Val Accuracy:  1.000\n"
     ]
    },
    {
     "name": "stderr",
     "output_type": "stream",
     "text": [
      "100%|██████████| 5/5 [00:00<00:00, 298.71it/s]\n"
     ]
    },
    {
     "name": "stdout",
     "output_type": "stream",
     "text": [
      "Epochs: 12 | Train Loss:  0.000 | Train Accuracy:  0.993 | Val Loss:  0.000| Val Accuracy:  1.000\n"
     ]
    },
    {
     "name": "stderr",
     "output_type": "stream",
     "text": [
      "100%|██████████| 5/5 [00:00<00:00, 196.77it/s]\n"
     ]
    },
    {
     "name": "stdout",
     "output_type": "stream",
     "text": [
      "Epochs: 13 | Train Loss:  0.000 | Train Accuracy:  1.000 | Val Loss:  0.000| Val Accuracy:  1.000\n"
     ]
    },
    {
     "name": "stderr",
     "output_type": "stream",
     "text": [
      "100%|██████████| 5/5 [00:00<00:00, 217.66it/s]\n"
     ]
    },
    {
     "name": "stdout",
     "output_type": "stream",
     "text": [
      "Epochs: 14 | Train Loss:  0.000 | Train Accuracy:  1.000 | Val Loss:  0.000| Val Accuracy:  1.000\n"
     ]
    },
    {
     "name": "stderr",
     "output_type": "stream",
     "text": [
      "100%|██████████| 5/5 [00:00<00:00, 200.25it/s]\n"
     ]
    },
    {
     "name": "stdout",
     "output_type": "stream",
     "text": [
      "Epochs: 15 | Train Loss:  0.000 | Train Accuracy:  1.000 | Val Loss:  0.000| Val Accuracy:  1.000\n"
     ]
    }
   ],
   "source": [
    "epochs= 15\n",
    "    \n",
    "for epoch in range(epochs):\n",
    "    model.train()\n",
    "    \n",
    "    acc_train = 0\n",
    "    loss_train = 0\n",
    "\n",
    "    for X,y in tqdm(train_dl):\n",
    "        X = X.to(device)\n",
    "        y = y.to(device)\n",
    "                \n",
    "        output = model(X)\n",
    "                \n",
    "        loss = criterion(output, y)\n",
    "        loss_train += loss.item()\n",
    "                \n",
    "        acc = (output.argmax(dim=1) == y).sum().item()\n",
    "        acc_train += acc\n",
    "\n",
    "        optimizer.zero_grad()\n",
    "        loss.backward()\n",
    "        optimizer.step()\n",
    "    \n",
    "    acc_val = 0\n",
    "    loss_val = 0\n",
    "    model.eval()\n",
    "    with torch.no_grad():\n",
    "        for X,y in test_dl:\n",
    "            X = X.to(device)\n",
    "            y = y.to(device)\n",
    "            \n",
    "            output = model(X)\n",
    "            \n",
    "            loss = criterion(output, y)\n",
    "            loss_val += loss.item()\n",
    "            \n",
    "            acc = (output.argmax(dim=1) == y).sum().item()\n",
    "            acc_val += acc\n",
    "            \n",
    "    loss_train=loss_train/n_train\n",
    "    loss_val=loss_val/n_test\n",
    "    acc_train=acc_train/n_train\n",
    "    acc_val=acc_val/n_test\n",
    "    loss_train_list.append(loss_train)\n",
    "    loss_val_list.append(loss_val)\n",
    "    acc_train_list.append(acc_train)\n",
    "    acc_val_list.append(acc_val)\n",
    "    print(f'Epochs: {epoch + 1} | Train Loss: {loss_train: .3f} \\\n",
    "| Train Accuracy: {acc_train: .3f} | \\\n",
    "Val Loss: {loss_val: .3f}\\\n",
    "| Val Accuracy: {acc_val: .3f}')"
   ]
  },
  {
   "cell_type": "code",
   "execution_count": 136,
   "id": "1908d5a5",
   "metadata": {},
   "outputs": [
    {
     "data": {
      "image/png": "[encoded data removed]",
      "text/plain": [
       "<Figure size 700x500 with 1 Axes>"
      ]
     },
     "metadata": {},
     "output_type": "display_data"
    }
   ],
   "source": [
    "plt.figure(figsize=(7, 5))\n",
    "plt.plot(np.arange(len(loss_train_list)), loss_train_list, label = 'loss_train')\n",
    "plt.plot(np.arange(len(loss_val_list)), loss_val_list, label = 'loss_val')\n",
    "plt.legend(loc='upper right')\n",
    "plt.show()"
   ]
  },
  {
   "cell_type": "code",
   "execution_count": 138,
   "id": "7eb35827",
   "metadata": {},
   "outputs": [
    {
     "data": {
      "text/plain": [
       "array([0, 0, 2, 0, 1, 0, 1, 2, 1, 2])"
      ]
     },
     "execution_count": 138,
     "metadata": {},
     "output_type": "execute_result"
    }
   ],
   "source": [
    "preds = []\n",
    "model.eval()\n",
    "with torch.no_grad():\n",
    "    for X, y in test_dl:\n",
    "        X = X.to(device)\n",
    "        y = y.to(device)\n",
    "        output = model(X)\n",
    "        preds.append(output.argmax(dim=1).cpu().numpy())\n",
    "preds = np.concatenate(preds)\n",
    "preds[:10]"
   ]
  },
  {
   "cell_type": "code",
   "execution_count": 139,
   "id": "85d309cc",
   "metadata": {},
   "outputs": [
    {
     "name": "stdout",
     "output_type": "stream",
     "text": [
      "              precision    recall  f1-score   support\n",
      "\n",
      "     class_0       1.00      1.00      1.00        14\n",
      "     class_1       1.00      1.00      1.00        14\n",
      "     class_2       1.00      1.00      1.00         8\n",
      "\n",
      "    accuracy                           1.00        36\n",
      "   macro avg       1.00      1.00      1.00        36\n",
      "weighted avg       1.00      1.00      1.00        36\n",
      "\n"
     ]
    }
   ],
   "source": [
    "from sklearn.metrics import classification_report\n",
    "\n",
    "print(classification_report(y_test, preds, target_names=wine_data.target_names))"
   ]
  },
  {
   "cell_type": "code",
   "execution_count": 245,
   "id": "c608127f",
   "metadata": {},
   "outputs": [
    {
     "data": {
      "text/html": [
       "<div>\n",
       "<style scoped>\n",
       "    .dataframe tbody tr th:only-of-type {\n",
       "        vertical-align: middle;\n",
       "    }\n",
       "\n",
       "    .dataframe tbody tr th {\n",
       "        vertical-align: top;\n",
       "    }\n",
       "\n",
       "    .dataframe thead th {\n",
       "        text-align: right;\n",
       "    }\n",
       "</style>\n",
       "<table border=\"1\" class=\"dataframe\">\n",
       "  <thead>\n",
       "    <tr style=\"text-align: right;\">\n",
       "      <th></th>\n",
       "      <th>Daily Time Spent on Site</th>\n",
       "      <th>Age</th>\n",
       "      <th>Area Income</th>\n",
       "      <th>Daily Internet Usage</th>\n",
       "      <th>Ad Topic Line</th>\n",
       "      <th>City</th>\n",
       "      <th>Male</th>\n",
       "      <th>Country</th>\n",
       "      <th>Timestamp</th>\n",
       "      <th>Clicked on Ad</th>\n",
       "    </tr>\n",
       "  </thead>\n",
       "  <tbody>\n",
       "    <tr>\n",
       "      <th>0</th>\n",
       "      <td>68.95</td>\n",
       "      <td>35</td>\n",
       "      <td>61833.90</td>\n",
       "      <td>256.09</td>\n",
       "      <td>Cloned 5thgeneration orchestration</td>\n",
       "      <td>Wrightburgh</td>\n",
       "      <td>0</td>\n",
       "      <td>Tunisia</td>\n",
       "      <td>2016-03-27 00:53:11</td>\n",
       "      <td>0</td>\n",
       "    </tr>\n",
       "    <tr>\n",
       "      <th>1</th>\n",
       "      <td>80.23</td>\n",
       "      <td>31</td>\n",
       "      <td>68441.85</td>\n",
       "      <td>193.77</td>\n",
       "      <td>Monitored national standardization</td>\n",
       "      <td>West Jodi</td>\n",
       "      <td>1</td>\n",
       "      <td>Nauru</td>\n",
       "      <td>2016-04-04 01:39:02</td>\n",
       "      <td>0</td>\n",
       "    </tr>\n",
       "    <tr>\n",
       "      <th>2</th>\n",
       "      <td>69.47</td>\n",
       "      <td>26</td>\n",
       "      <td>59785.94</td>\n",
       "      <td>236.50</td>\n",
       "      <td>Organic bottom-line service-desk</td>\n",
       "      <td>Davidton</td>\n",
       "      <td>0</td>\n",
       "      <td>San Marino</td>\n",
       "      <td>2016-03-13 20:35:42</td>\n",
       "      <td>0</td>\n",
       "    </tr>\n",
       "    <tr>\n",
       "      <th>3</th>\n",
       "      <td>74.15</td>\n",
       "      <td>29</td>\n",
       "      <td>54806.18</td>\n",
       "      <td>245.89</td>\n",
       "      <td>Triple-buffered reciprocal time-frame</td>\n",
       "      <td>West Terrifurt</td>\n",
       "      <td>1</td>\n",
       "      <td>Italy</td>\n",
       "      <td>2016-01-10 02:31:19</td>\n",
       "      <td>0</td>\n",
       "    </tr>\n",
       "    <tr>\n",
       "      <th>4</th>\n",
       "      <td>68.37</td>\n",
       "      <td>35</td>\n",
       "      <td>73889.99</td>\n",
       "      <td>225.58</td>\n",
       "      <td>Robust logistical utilization</td>\n",
       "      <td>South Manuel</td>\n",
       "      <td>0</td>\n",
       "      <td>Iceland</td>\n",
       "      <td>2016-06-03 03:36:18</td>\n",
       "      <td>0</td>\n",
       "    </tr>\n",
       "  </tbody>\n",
       "</table>\n",
       "</div>"
      ],
      "text/plain": [
       "   Daily Time Spent on Site  Age  Area Income  Daily Internet Usage  \\\n",
       "0                     68.95   35     61833.90                256.09   \n",
       "1                     80.23   31     68441.85                193.77   \n",
       "2                     69.47   26     59785.94                236.50   \n",
       "3                     74.15   29     54806.18                245.89   \n",
       "4                     68.37   35     73889.99                225.58   \n",
       "\n",
       "                           Ad Topic Line            City  Male     Country  \\\n",
       "0     Cloned 5thgeneration orchestration     Wrightburgh     0     Tunisia   \n",
       "1     Monitored national standardization       West Jodi     1       Nauru   \n",
       "2       Organic bottom-line service-desk        Davidton     0  San Marino   \n",
       "3  Triple-buffered reciprocal time-frame  West Terrifurt     1       Italy   \n",
       "4          Robust logistical utilization    South Manuel     0     Iceland   \n",
       "\n",
       "             Timestamp  Clicked on Ad  \n",
       "0  2016-03-27 00:53:11              0  \n",
       "1  2016-04-04 01:39:02              0  \n",
       "2  2016-03-13 20:35:42              0  \n",
       "3  2016-01-10 02:31:19              0  \n",
       "4  2016-06-03 03:36:18              0  "
      ]
     },
     "execution_count": 245,
     "metadata": {},
     "output_type": "execute_result"
    }
   ],
   "source": [
    "df = pd.read_csv(\"advertising.csv\")\n",
    "df.head()"
   ]
  },
  {
   "cell_type": "code",
   "execution_count": 246,
   "id": "b92de05d",
   "metadata": {},
   "outputs": [
    {
     "data": {
      "text/plain": [
       "array([0, 1])"
      ]
     },
     "execution_count": 246,
     "metadata": {},
     "output_type": "execute_result"
    }
   ],
   "source": [
    "df['Clicked on Ad'].unique()"
   ]
  },
  {
   "cell_type": "code",
   "execution_count": 247,
   "id": "4308f5fa",
   "metadata": {},
   "outputs": [
    {
     "data": {
      "text/plain": [
       "array([[6.895000e+01, 3.500000e+01, 6.183390e+04, 2.560900e+02,\n",
       "        0.000000e+00],\n",
       "       [8.023000e+01, 3.100000e+01, 6.844185e+04, 1.937700e+02,\n",
       "        1.000000e+00],\n",
       "       [6.947000e+01, 2.600000e+01, 5.978594e+04, 2.365000e+02,\n",
       "        0.000000e+00],\n",
       "       [7.415000e+01, 2.900000e+01, 5.480618e+04, 2.458900e+02,\n",
       "        1.000000e+00],\n",
       "       [6.837000e+01, 3.500000e+01, 7.388999e+04, 2.255800e+02,\n",
       "        0.000000e+00]])"
      ]
     },
     "execution_count": 247,
     "metadata": {},
     "output_type": "execute_result"
    }
   ],
   "source": [
    "X_adv = df.drop(columns=['Clicked on Ad', 'Ad Topic Line', 'City', 'Country', 'Timestamp'])\n",
    "y_adv = df['Clicked on Ad'].to_numpy()\n",
    "X_adv = X_adv.to_numpy()\n",
    "\n",
    "X_adv[:5]"
   ]
  },
  {
   "cell_type": "code",
   "execution_count": 248,
   "id": "b892bebb",
   "metadata": {},
   "outputs": [],
   "source": [
    "X_train, X_test, y_train, y_test = train_test_split(X_adv, y_adv, test_size=0.2, random_state=42)"
   ]
  },
  {
   "cell_type": "code",
   "execution_count": 249,
   "id": "2f962a97",
   "metadata": {},
   "outputs": [
    {
     "data": {
      "text/plain": [
       "(array([6.51795125e+01, 3.60487500e+01, 5.50608242e+04, 1.81542325e+02,\n",
       "        4.77500000e-01]),\n",
       " array([6.42829500e+01, 3.58500000e+01, 5.47567036e+04, 1.73831200e+02,\n",
       "        4.95000000e-01]))"
      ]
     },
     "execution_count": 249,
     "metadata": {},
     "output_type": "execute_result"
    }
   ],
   "source": [
    "X_train.mean(axis=0), X_test.mean(axis=0)"
   ]
  },
  {
   "cell_type": "code",
   "execution_count": 250,
   "id": "8106dc12",
   "metadata": {},
   "outputs": [
    {
     "data": {
      "text/plain": [
       "(array([1.59063648e+01, 8.82617547e+00, 1.33762187e+04, 4.37969060e+01,\n",
       "        4.99493493e-01]),\n",
       " array([1.55799859e+01, 8.59694713e+00, 1.35312737e+04, 4.36714422e+01,\n",
       "        4.99974999e-01]))"
      ]
     },
     "execution_count": 250,
     "metadata": {},
     "output_type": "execute_result"
    }
   ],
   "source": [
    "X_train.std(axis=0), X_test.std(axis=0)"
   ]
  },
  {
   "cell_type": "code",
   "execution_count": 251,
   "id": "b19f4cf6",
   "metadata": {},
   "outputs": [],
   "source": [
    "scaler = StandardScaler()\n",
    "X_train=scaler.fit_transform(X_train)\n",
    "X_test=scaler.transform(X_test)"
   ]
  },
  {
   "cell_type": "code",
   "execution_count": 252,
   "id": "b04e957b",
   "metadata": {},
   "outputs": [
    {
     "data": {
      "text/plain": [
       "(array([-2.74696932e-15,  1.66880398e-16,  3.57845698e-15,  3.08593429e-15,\n",
       "         2.43138842e-16]),\n",
       " array([-0.05636502, -0.02251825, -0.02273592, -0.17606552,  0.03503549]))"
      ]
     },
     "execution_count": 252,
     "metadata": {},
     "output_type": "execute_result"
    }
   ],
   "source": [
    "X_train.mean(axis=0), X_test.mean(axis=0)"
   ]
  },
  {
   "cell_type": "code",
   "execution_count": 253,
   "id": "77a98489",
   "metadata": {},
   "outputs": [
    {
     "data": {
      "text/plain": [
       "(array([1., 1., 1., 1., 1.]),\n",
       " array([0.97948124, 0.97402858, 1.01159184, 0.99713533, 1.00096399]))"
      ]
     },
     "execution_count": 253,
     "metadata": {},
     "output_type": "execute_result"
    }
   ],
   "source": [
    "X_train.std(axis=0), X_test.std(axis=0)"
   ]
  },
  {
   "cell_type": "code",
   "execution_count": 254,
   "id": "785c7570",
   "metadata": {},
   "outputs": [],
   "source": [
    "class NetModel(nn.Module):\n",
    "    def __init__(self, input_dim, nclass, layer_size=[32, 64], dropout=0.3):\n",
    "        super(NetModel, self).__init__()\n",
    "        self.fc1 = nn.Linear(input_dim, layer_size[0])\n",
    "        self.fc2 = nn.Linear(layer_size[0], layer_size[1])\n",
    "        self.fc3 = nn.Linear(layer_size[1], nclass)\n",
    "        self.dropout1 = nn.Dropout(dropout)\n",
    "        self.dropout2 = nn.Dropout(dropout)\n",
    "        self.relu1 = nn.ReLU()\n",
    "        self.relu2 = nn.ReLU()\n",
    "\n",
    "    def forward(self, X):\n",
    "        X = self.dropout1(self.relu1(self.fc1(X)))\n",
    "        X = self.dropout2(self.relu2(self.fc2(X)))\n",
    "        X = self.fc3(X)\n",
    "        return X"
   ]
  },
  {
   "cell_type": "code",
   "execution_count": 255,
   "id": "0e691dba",
   "metadata": {},
   "outputs": [],
   "source": [
    "class Dataset(torch.utils.data.Dataset):\n",
    "    \n",
    "    def __init__(self, X, y):\n",
    "        self.X = torch.FloatTensor(X) \n",
    "        self.y = torch.LongTensor(y)\n",
    "    \n",
    "    def __getitem__(self, idx):\n",
    "        return self.X[idx], self.y[idx]\n",
    "    \n",
    "    def __len__(self):\n",
    "        return len(self.y)"
   ]
  },
  {
   "cell_type": "code",
   "execution_count": 256,
   "id": "a9869334",
   "metadata": {},
   "outputs": [],
   "source": [
    "batch_size = 32\n",
    "\n",
    "train_d = Dataset(X_train, y_train)\n",
    "test_d = Dataset(X_test, y_test)\n",
    "\n",
    "train_dl = DataLoader(train_d, batch_size=batch_size, shuffle=True)\n",
    "test_dl = DataLoader(test_d, batch_size=batch_size, shuffle=False)\n",
    "\n",
    "n_train=X_train.shape[0]\n",
    "n_test=X_test.shape[0]"
   ]
  },
  {
   "cell_type": "code",
   "execution_count": 257,
   "id": "b46227b7",
   "metadata": {},
   "outputs": [
    {
     "data": {
      "text/plain": [
       "[tensor([[ 1.0619, -1.2518, -0.6234,  0.5443,  1.0461],\n",
       "         [-0.2602,  0.5610,  1.5508, -0.7382, -0.9560],\n",
       "         [-1.5409, -0.1188, -0.4596, -1.1042, -0.9560],\n",
       "         [ 1.4957,  1.0142, -0.4329, -0.6633, -0.9560],\n",
       "         [-1.1096, -0.6853, -1.6300, -1.0586, -0.9560],\n",
       "         [ 0.5910, -0.0055,  1.1693,  1.1183, -0.9560],\n",
       "         [ 0.2666, -1.2518,  0.8022,  0.7269, -0.9560],\n",
       "         [-0.1502, -0.0055, -2.7431,  1.1491,  1.0461],\n",
       "         [ 0.8393, -0.2321, -1.6839, -1.1376, -0.9560],\n",
       "         [ 0.7840, -0.9119,  0.8327,  0.6043, -0.9560],\n",
       "         [ 1.0229, -0.5720,  0.8198,  0.5548,  1.0461],\n",
       "         [ 0.0937, -0.3454,  1.3193,  1.0614,  1.0461],\n",
       "         [ 1.3523, -0.2321,  0.5366,  0.3886, -0.9560],\n",
       "         [-1.0964, -0.3454, -2.4375, -0.6076,  1.0461],\n",
       "         [ 1.0311,  0.5610,  0.0313,  1.5211, -0.9560],\n",
       "         [-1.0260,  2.0339, -0.1400, -1.0750, -0.9560],\n",
       "         [-1.5824,  1.9206, -0.2690, -0.4515, -0.9560],\n",
       "         [-1.4535, -0.2321, -0.8836, -1.1415, -0.9560],\n",
       "         [ 1.0179, -0.3454,  0.8486,  0.7648, -0.9560],\n",
       "         [ 1.2065, -0.6853,  0.4731,  0.4575, -0.9560],\n",
       "         [-1.1505,  2.0339, -0.8684, -1.0252, -0.9560],\n",
       "         [-0.5211,  0.1078, -1.3252, -1.6497,  1.0461],\n",
       "         [-1.7886, -0.2321, -0.6223, -0.7250,  1.0461],\n",
       "         [-0.3558,  0.9009,  0.9308,  1.5877,  1.0461],\n",
       "         [-0.0345,  1.0142, -2.9502, -0.5193,  1.0461],\n",
       "         [ 0.5476,  0.3344, -0.5906, -1.6180, -0.9560],\n",
       "         [-0.2074,  1.0142, -1.2560, -1.6751, -0.9560],\n",
       "         [ 0.4571, -0.7986,  1.2907,  0.3155,  1.0461],\n",
       "         [ 0.3112, -0.5720,  1.1834,  0.9918, -0.9560],\n",
       "         [ 0.9556, -0.6853,  0.0052,  1.2904, -0.9560],\n",
       "         [ 0.3414, -0.9119,  1.2779,  0.1959, -0.9560],\n",
       "         [-0.7896,  1.5807,  1.4057, -0.1147, -0.9560]]),\n",
       " tensor([0, 1, 1, 1, 1, 0, 0, 1, 1, 0, 0, 0, 0, 1, 0, 1, 1, 1, 0, 0, 1, 1, 1, 0,\n",
       "         1, 1, 1, 0, 0, 0, 0, 1])]"
      ]
     },
     "execution_count": 257,
     "metadata": {},
     "output_type": "execute_result"
    }
   ],
   "source": [
    "next(iter(train_dl))"
   ]
  },
  {
   "cell_type": "code",
   "execution_count": 258,
   "id": "860ca8f2",
   "metadata": {},
   "outputs": [
    {
     "data": {
      "text/plain": [
       "800"
      ]
     },
     "execution_count": 258,
     "metadata": {},
     "output_type": "execute_result"
    }
   ],
   "source": [
    "train_d.__len__()"
   ]
  },
  {
   "cell_type": "code",
   "execution_count": 259,
   "id": "ebbdb844",
   "metadata": {},
   "outputs": [
    {
     "data": {
      "text/plain": [
       "(800, 5)"
      ]
     },
     "execution_count": 259,
     "metadata": {},
     "output_type": "execute_result"
    }
   ],
   "source": [
    "X_train.shape"
   ]
  },
  {
   "cell_type": "code",
   "execution_count": 260,
   "id": "8e40166c",
   "metadata": {},
   "outputs": [
    {
     "data": {
      "text/plain": [
       "25"
      ]
     },
     "execution_count": 260,
     "metadata": {},
     "output_type": "execute_result"
    }
   ],
   "source": [
    "len(train_dl)"
   ]
  },
  {
   "cell_type": "code",
   "execution_count": 261,
   "id": "33063504",
   "metadata": {},
   "outputs": [],
   "source": [
    "model=NetModel(input_dim=5, nclass=2, layer_size=[32,64], dropout=0.3).to(device)\n",
    "criterion = nn.CrossEntropyLoss()\n",
    "optimizer = torch.optim.Adam(model.parameters(), lr=0.001)"
   ]
  },
  {
   "cell_type": "code",
   "execution_count": 262,
   "id": "58a616a7",
   "metadata": {},
   "outputs": [
    {
     "name": "stdout",
     "output_type": "stream",
     "text": [
      "NetModel(\n",
      "  (fc1): Linear(in_features=5, out_features=32, bias=True)\n",
      "  (fc2): Linear(in_features=32, out_features=64, bias=True)\n",
      "  (fc3): Linear(in_features=64, out_features=2, bias=True)\n",
      "  (dropout1): Dropout(p=0.3, inplace=False)\n",
      "  (dropout2): Dropout(p=0.3, inplace=False)\n",
      "  (relu1): ReLU()\n",
      "  (relu2): ReLU()\n",
      ")\n"
     ]
    }
   ],
   "source": [
    "print(model)"
   ]
  },
  {
   "cell_type": "code",
   "execution_count": 263,
   "id": "8847fe4a",
   "metadata": {},
   "outputs": [],
   "source": [
    "loss_train_list=[]\n",
    "loss_val_list=[]\n",
    "acc_train_list=[]\n",
    "acc_val_list=[]"
   ]
  },
  {
   "cell_type": "code",
   "execution_count": 266,
   "id": "ada19eb8",
   "metadata": {},
   "outputs": [
    {
     "name": "stderr",
     "output_type": "stream",
     "text": [
      "100%|██████████| 25/25 [00:00<00:00, 223.87it/s]\n"
     ]
    },
    {
     "name": "stdout",
     "output_type": "stream",
     "text": [
      "Epochs: 1 | Train Loss:  0.002 | Train Accuracy:  0.978 | Val Loss:  0.006| Val Accuracy:  0.945\n"
     ]
    },
    {
     "name": "stderr",
     "output_type": "stream",
     "text": [
      "100%|██████████| 25/25 [00:00<00:00, 233.85it/s]\n"
     ]
    },
    {
     "name": "stdout",
     "output_type": "stream",
     "text": [
      "Epochs: 2 | Train Loss:  0.002 | Train Accuracy:  0.974 | Val Loss:  0.006| Val Accuracy:  0.945\n"
     ]
    },
    {
     "name": "stderr",
     "output_type": "stream",
     "text": [
      "100%|██████████| 25/25 [00:00<00:00, 303.24it/s]\n"
     ]
    },
    {
     "name": "stdout",
     "output_type": "stream",
     "text": [
      "Epochs: 3 | Train Loss:  0.003 | Train Accuracy:  0.966 | Val Loss:  0.006| Val Accuracy:  0.950\n"
     ]
    },
    {
     "name": "stderr",
     "output_type": "stream",
     "text": [
      "100%|██████████| 25/25 [00:00<00:00, 286.66it/s]\n"
     ]
    },
    {
     "name": "stdout",
     "output_type": "stream",
     "text": [
      "Epochs: 4 | Train Loss:  0.003 | Train Accuracy:  0.975 | Val Loss:  0.006| Val Accuracy:  0.950\n"
     ]
    },
    {
     "name": "stderr",
     "output_type": "stream",
     "text": [
      "100%|██████████| 25/25 [00:00<00:00, 220.88it/s]\n"
     ]
    },
    {
     "name": "stdout",
     "output_type": "stream",
     "text": [
      "Epochs: 5 | Train Loss:  0.003 | Train Accuracy:  0.980 | Val Loss:  0.006| Val Accuracy:  0.950\n"
     ]
    },
    {
     "name": "stderr",
     "output_type": "stream",
     "text": [
      "100%|██████████| 25/25 [00:00<00:00, 325.67it/s]\n"
     ]
    },
    {
     "name": "stdout",
     "output_type": "stream",
     "text": [
      "Epochs: 6 | Train Loss:  0.003 | Train Accuracy:  0.974 | Val Loss:  0.006| Val Accuracy:  0.950\n"
     ]
    },
    {
     "name": "stderr",
     "output_type": "stream",
     "text": [
      "100%|██████████| 25/25 [00:00<00:00, 283.13it/s]\n"
     ]
    },
    {
     "name": "stdout",
     "output_type": "stream",
     "text": [
      "Epochs: 7 | Train Loss:  0.002 | Train Accuracy:  0.981 | Val Loss:  0.006| Val Accuracy:  0.950\n"
     ]
    },
    {
     "name": "stderr",
     "output_type": "stream",
     "text": [
      "100%|██████████| 25/25 [00:00<00:00, 279.72it/s]\n"
     ]
    },
    {
     "name": "stdout",
     "output_type": "stream",
     "text": [
      "Epochs: 8 | Train Loss:  0.003 | Train Accuracy:  0.966 | Val Loss:  0.006| Val Accuracy:  0.950\n"
     ]
    },
    {
     "name": "stderr",
     "output_type": "stream",
     "text": [
      "100%|██████████| 25/25 [00:00<00:00, 329.85it/s]\n"
     ]
    },
    {
     "name": "stdout",
     "output_type": "stream",
     "text": [
      "Epochs: 9 | Train Loss:  0.002 | Train Accuracy:  0.975 | Val Loss:  0.006| Val Accuracy:  0.950\n"
     ]
    },
    {
     "name": "stderr",
     "output_type": "stream",
     "text": [
      "100%|██████████| 25/25 [00:00<00:00, 333.24it/s]\n"
     ]
    },
    {
     "name": "stdout",
     "output_type": "stream",
     "text": [
      "Epochs: 10 | Train Loss:  0.002 | Train Accuracy:  0.976 | Val Loss:  0.006| Val Accuracy:  0.950\n"
     ]
    },
    {
     "name": "stderr",
     "output_type": "stream",
     "text": [
      "100%|██████████| 25/25 [00:00<00:00, 306.88it/s]\n"
     ]
    },
    {
     "name": "stdout",
     "output_type": "stream",
     "text": [
      "Epochs: 11 | Train Loss:  0.002 | Train Accuracy:  0.979 | Val Loss:  0.006| Val Accuracy:  0.950\n"
     ]
    },
    {
     "name": "stderr",
     "output_type": "stream",
     "text": [
      "100%|██████████| 25/25 [00:00<00:00, 286.85it/s]\n"
     ]
    },
    {
     "name": "stdout",
     "output_type": "stream",
     "text": [
      "Epochs: 12 | Train Loss:  0.003 | Train Accuracy:  0.978 | Val Loss:  0.006| Val Accuracy:  0.950\n"
     ]
    },
    {
     "name": "stderr",
     "output_type": "stream",
     "text": [
      "100%|██████████| 25/25 [00:00<00:00, 249.49it/s]\n"
     ]
    },
    {
     "name": "stdout",
     "output_type": "stream",
     "text": [
      "Epochs: 13 | Train Loss:  0.002 | Train Accuracy:  0.978 | Val Loss:  0.006| Val Accuracy:  0.950\n"
     ]
    },
    {
     "name": "stderr",
     "output_type": "stream",
     "text": [
      "100%|██████████| 25/25 [00:00<00:00, 302.47it/s]\n"
     ]
    },
    {
     "name": "stdout",
     "output_type": "stream",
     "text": [
      "Epochs: 14 | Train Loss:  0.002 | Train Accuracy:  0.980 | Val Loss:  0.006| Val Accuracy:  0.950\n"
     ]
    },
    {
     "name": "stderr",
     "output_type": "stream",
     "text": [
      "100%|██████████| 25/25 [00:00<00:00, 331.40it/s]\n"
     ]
    },
    {
     "name": "stdout",
     "output_type": "stream",
     "text": [
      "Epochs: 15 | Train Loss:  0.002 | Train Accuracy:  0.979 | Val Loss:  0.006| Val Accuracy:  0.950\n"
     ]
    },
    {
     "name": "stderr",
     "output_type": "stream",
     "text": [
      "100%|██████████| 25/25 [00:00<00:00, 295.20it/s]\n"
     ]
    },
    {
     "name": "stdout",
     "output_type": "stream",
     "text": [
      "Epochs: 16 | Train Loss:  0.002 | Train Accuracy:  0.983 | Val Loss:  0.006| Val Accuracy:  0.950\n"
     ]
    },
    {
     "name": "stderr",
     "output_type": "stream",
     "text": [
      "100%|██████████| 25/25 [00:00<00:00, 287.15it/s]\n"
     ]
    },
    {
     "name": "stdout",
     "output_type": "stream",
     "text": [
      "Epochs: 17 | Train Loss:  0.002 | Train Accuracy:  0.973 | Val Loss:  0.006| Val Accuracy:  0.950\n"
     ]
    },
    {
     "name": "stderr",
     "output_type": "stream",
     "text": [
      "100%|██████████| 25/25 [00:00<00:00, 283.01it/s]\n"
     ]
    },
    {
     "name": "stdout",
     "output_type": "stream",
     "text": [
      "Epochs: 18 | Train Loss:  0.002 | Train Accuracy:  0.984 | Val Loss:  0.006| Val Accuracy:  0.950\n"
     ]
    },
    {
     "name": "stderr",
     "output_type": "stream",
     "text": [
      "100%|██████████| 25/25 [00:00<00:00, 289.52it/s]\n"
     ]
    },
    {
     "name": "stdout",
     "output_type": "stream",
     "text": [
      "Epochs: 19 | Train Loss:  0.003 | Train Accuracy:  0.978 | Val Loss:  0.006| Val Accuracy:  0.950\n"
     ]
    },
    {
     "name": "stderr",
     "output_type": "stream",
     "text": [
      "100%|██████████| 25/25 [00:00<00:00, 337.59it/s]"
     ]
    },
    {
     "name": "stdout",
     "output_type": "stream",
     "text": [
      "Epochs: 20 | Train Loss:  0.002 | Train Accuracy:  0.983 | Val Loss:  0.006| Val Accuracy:  0.950\n"
     ]
    },
    {
     "name": "stderr",
     "output_type": "stream",
     "text": [
      "\n"
     ]
    }
   ],
   "source": [
    "epochs= 20\n",
    "    \n",
    "for epoch in range(epochs):\n",
    "    model.train()\n",
    "    \n",
    "    acc_train = 0\n",
    "    loss_train = 0\n",
    "\n",
    "    for X,y in tqdm(train_dl):\n",
    "        X = X.to(device)\n",
    "        y = y.to(device)\n",
    "                \n",
    "        output = model(X)\n",
    "                \n",
    "        loss = criterion(output, y)\n",
    "        loss_train += loss.item()\n",
    "                \n",
    "        acc = (output.argmax(dim=1) == y).sum().item()\n",
    "        acc_train += acc\n",
    "\n",
    "        optimizer.zero_grad()\n",
    "        loss.backward()\n",
    "        optimizer.step()\n",
    "    \n",
    "    acc_val = 0\n",
    "    loss_val = 0\n",
    "    model.eval()\n",
    "    with torch.no_grad():\n",
    "        for X,y in test_dl:\n",
    "            X = X.to(device)\n",
    "            y = y.to(device)\n",
    "            \n",
    "            output = model(X)\n",
    "            \n",
    "            loss = criterion(output, y)\n",
    "            loss_val += loss.item()\n",
    "            \n",
    "            acc = (output.argmax(dim=1) == y).sum().item()\n",
    "            acc_val += acc\n",
    "            \n",
    "    loss_train=loss_train/n_train\n",
    "    loss_val=loss_val/n_test\n",
    "    acc_train=acc_train/n_train\n",
    "    acc_val=acc_val/n_test\n",
    "    loss_train_list.append(loss_train)\n",
    "    loss_val_list.append(loss_val)\n",
    "    acc_train_list.append(acc_train)\n",
    "    acc_val_list.append(acc_val)\n",
    "    print(f'Epochs: {epoch + 1} | Train Loss: {loss_train: .3f} \\\n",
    "| Train Accuracy: {acc_train: .3f} | \\\n",
    "Val Loss: {loss_val: .3f}\\\n",
    "| Val Accuracy: {acc_val: .3f}')"
   ]
  },
  {
   "cell_type": "code",
   "execution_count": 267,
   "id": "bbb73f5a",
   "metadata": {},
   "outputs": [
    {
     "data": {
      "image/png": "[encoded data removed]",
      "text/plain": [
       "<Figure size 700x500 with 1 Axes>"
      ]
     },
     "metadata": {},
     "output_type": "display_data"
    }
   ],
   "source": [
    "plt.figure(figsize=(7, 5))\n",
    "plt.plot(np.arange(len(loss_train_list)), loss_train_list, label = 'loss_train')\n",
    "plt.plot(np.arange(len(loss_val_list)), loss_val_list, label = 'loss_val')\n",
    "plt.legend(loc='upper right')\n",
    "plt.show()"
   ]
  },
  {
   "cell_type": "code",
   "execution_count": 268,
   "id": "f45d8d14",
   "metadata": {},
   "outputs": [
    {
     "name": "stdout",
     "output_type": "stream",
     "text": [
      "              precision    recall  f1-score   support\n",
      "\n",
      "           0       0.94      0.94      0.94        89\n",
      "           1       0.95      0.95      0.95       111\n",
      "\n",
      "    accuracy                           0.95       200\n",
      "   macro avg       0.95      0.95      0.95       200\n",
      "weighted avg       0.95      0.95      0.95       200\n",
      "\n"
     ]
    }
   ],
   "source": [
    "from sklearn.metrics import classification_report\n",
    "from sklearn.metrics import confusion_matrix\n",
    "\n",
    "preds = []\n",
    "model.eval()\n",
    "with torch.no_grad():\n",
    "    for X, y in test_dl:\n",
    "        X = X.to(device)\n",
    "        output = model(X)\n",
    "        preds.append(output.argmax(dim=1).cpu().numpy())\n",
    "preds = np.concatenate(preds)\n",
    "from sklearn.metrics import classification_report\n",
    "print(classification_report(y_test, preds))\n",
    "print(confusion_matrix(y_test, preds))"
   ]
  },
  {
   "cell_type": "markdown",
   "id": "e676802b",
   "metadata": {},
   "source": [
    "#### KERAS NN"
   ]
  },
  {
   "cell_type": "code",
   "execution_count": 271,
   "id": "ffbdeb02",
   "metadata": {},
   "outputs": [],
   "source": [
    "import pandas as pd\n",
    "import torch\n",
    "import numpy as np\n",
    "from sklearn.datasets import load_iris\n",
    "from sklearn.model_selection import train_test_split\n",
    "from torch import nn\n",
    "from torch.optim import Adam\n",
    "from tqdm import tqdm\n",
    "from torch.utils.data import DataLoader\n",
    "from matplotlib import pyplot as plt\n",
    "from sklearn.preprocessing import StandardScaler\n",
    "from sklearn.metrics import accuracy_score, classification_report, confusion_matrix, f1_score, \\\n",
    "log_loss, recall_score, precision_score\n",
    "import seaborn as sns\n",
    "sns.set_style(\"whitegrid\")\n",
    "%matplotlib inline\n",
    "from tensorflow import keras\n",
    "from tensorflow.keras import layers, Sequential\n",
    "from tensorflow.keras.layers import  Dense, Dropout \n",
    "from tensorflow.keras import optimizers\n",
    "import tensorflow as tf"
   ]
  },
  {
   "cell_type": "code",
   "execution_count": 307,
   "id": "24769350",
   "metadata": {},
   "outputs": [
    {
     "data": {
      "text/plain": [
       "array([[6.895000e+01, 3.500000e+01, 6.183390e+04, 2.560900e+02,\n",
       "        0.000000e+00],\n",
       "       [8.023000e+01, 3.100000e+01, 6.844185e+04, 1.937700e+02,\n",
       "        1.000000e+00],\n",
       "       [6.947000e+01, 2.600000e+01, 5.978594e+04, 2.365000e+02,\n",
       "        0.000000e+00],\n",
       "       [7.415000e+01, 2.900000e+01, 5.480618e+04, 2.458900e+02,\n",
       "        1.000000e+00],\n",
       "       [6.837000e+01, 3.500000e+01, 7.388999e+04, 2.255800e+02,\n",
       "        0.000000e+00]])"
      ]
     },
     "execution_count": 307,
     "metadata": {},
     "output_type": "execute_result"
    }
   ],
   "source": [
    "X_adv = df.drop(columns=['Clicked on Ad', 'Ad Topic Line', 'City', 'Country', 'Timestamp'])\n",
    "y_adv = df['Clicked on Ad'].to_numpy()\n",
    "X_adv = X_adv.to_numpy()\n",
    "\n",
    "X_adv[:5]"
   ]
  },
  {
   "cell_type": "code",
   "execution_count": 308,
   "id": "8e17615b",
   "metadata": {},
   "outputs": [
    {
     "data": {
      "text/plain": [
       "2"
      ]
     },
     "execution_count": 308,
     "metadata": {},
     "output_type": "execute_result"
    }
   ],
   "source": [
    "n_classes=len(set(y_adv))\n",
    "n_classes"
   ]
  },
  {
   "cell_type": "code",
   "execution_count": 309,
   "id": "dcb2c6a7",
   "metadata": {},
   "outputs": [],
   "source": [
    "X_train, X_test, y_train, y_test = train_test_split(X_adv, y_adv, test_size=0.2, random_state=42)"
   ]
  },
  {
   "cell_type": "code",
   "execution_count": 310,
   "id": "7c84c831",
   "metadata": {},
   "outputs": [],
   "source": [
    "y_train_bin = keras.utils.to_categorical(y_train, n_classes)\n",
    "y_test_bin = keras.utils.to_categorical(y_test, n_classes)"
   ]
  },
  {
   "cell_type": "code",
   "execution_count": 311,
   "id": "e18283ac",
   "metadata": {},
   "outputs": [
    {
     "data": {
      "text/plain": [
       "array([[1., 0.],\n",
       "       [1., 0.],\n",
       "       [1., 0.],\n",
       "       [1., 0.],\n",
       "       [0., 1.]])"
      ]
     },
     "execution_count": 311,
     "metadata": {},
     "output_type": "execute_result"
    }
   ],
   "source": [
    "y_train_bin[:5]"
   ]
  },
  {
   "cell_type": "code",
   "execution_count": 312,
   "id": "9054f12b",
   "metadata": {},
   "outputs": [
    {
     "data": {
      "text/plain": [
       "array([0, 0, 0])"
      ]
     },
     "execution_count": 312,
     "metadata": {},
     "output_type": "execute_result"
    }
   ],
   "source": [
    "y_train[:3]"
   ]
  },
  {
   "cell_type": "code",
   "execution_count": 313,
   "id": "d163f3f2",
   "metadata": {},
   "outputs": [
    {
     "data": {
      "text/plain": [
       "5"
      ]
     },
     "execution_count": 313,
     "metadata": {},
     "output_type": "execute_result"
    }
   ],
   "source": [
    "n_feat=X_train.shape[1]\n",
    "n_feat"
   ]
  },
  {
   "cell_type": "code",
   "execution_count": 314,
   "id": "db1de68d",
   "metadata": {},
   "outputs": [
    {
     "data": {
      "text/plain": [
       "(array([-2.74696932e-15,  1.66880398e-16,  3.57845698e-15,  3.08593429e-15,\n",
       "         2.43138842e-16]),\n",
       " array([-0.05636502, -0.02251825, -0.02273592, -0.17606552,  0.03503549]))"
      ]
     },
     "execution_count": 314,
     "metadata": {},
     "output_type": "execute_result"
    }
   ],
   "source": [
    "scaler = StandardScaler()\n",
    "X_train=scaler.fit_transform(X_train)\n",
    "X_test=scaler.transform(X_test)\n",
    "\n",
    "X_train.mean(axis=0), X_test.mean(axis=0)\n"
   ]
  },
  {
   "cell_type": "code",
   "execution_count": 315,
   "id": "74f1c4d2",
   "metadata": {},
   "outputs": [
    {
     "data": {
      "text/plain": [
       "(array([1., 1., 1., 1., 1.]),\n",
       " array([0.97948124, 0.97402858, 1.01159184, 0.99713533, 1.00096399]))"
      ]
     },
     "execution_count": 315,
     "metadata": {},
     "output_type": "execute_result"
    }
   ],
   "source": [
    "X_train.std(axis=0), X_test.std(axis=0)"
   ]
  },
  {
   "cell_type": "code",
   "execution_count": 369,
   "id": "2cc3220d",
   "metadata": {},
   "outputs": [
    {
     "name": "stdout",
     "output_type": "stream",
     "text": [
      "Epoch 1/25\n",
      "\u001b[1m25/25\u001b[0m \u001b[32m━━━━━━━━━━━━━━━━━━━━\u001b[0m\u001b[37m\u001b[0m \u001b[1m2s\u001b[0m 45ms/step - accuracy: 0.4141 - loss: 0.6964 - val_accuracy: 0.8450 - val_loss: 0.6896\n",
      "Epoch 2/25\n",
      "\u001b[1m25/25\u001b[0m \u001b[32m━━━━━━━━━━━━━━━━━━━━\u001b[0m\u001b[37m\u001b[0m \u001b[1m0s\u001b[0m 8ms/step - accuracy: 0.6791 - loss: 0.6885 - val_accuracy: 0.9200 - val_loss: 0.6821\n",
      "Epoch 3/25\n",
      "\u001b[1m25/25\u001b[0m \u001b[32m━━━━━━━━━━━━━━━━━━━━\u001b[0m\u001b[37m\u001b[0m \u001b[1m0s\u001b[0m 7ms/step - accuracy: 0.8729 - loss: 0.6788 - val_accuracy: 0.8850 - val_loss: 0.6738\n",
      "Epoch 4/25\n",
      "\u001b[1m25/25\u001b[0m \u001b[32m━━━━━━━━━━━━━━━━━━━━\u001b[0m\u001b[37m\u001b[0m \u001b[1m0s\u001b[0m 8ms/step - accuracy: 0.9023 - loss: 0.6677 - val_accuracy: 0.9000 - val_loss: 0.6628\n",
      "Epoch 5/25\n",
      "\u001b[1m25/25\u001b[0m \u001b[32m━━━━━━━━━━━━━━━━━━━━\u001b[0m\u001b[37m\u001b[0m \u001b[1m0s\u001b[0m 7ms/step - accuracy: 0.9124 - loss: 0.6545 - val_accuracy: 0.9050 - val_loss: 0.6497\n",
      "Epoch 6/25\n",
      "\u001b[1m25/25\u001b[0m \u001b[32m━━━━━━━━━━━━━━━━━━━━\u001b[0m\u001b[37m\u001b[0m \u001b[1m0s\u001b[0m 7ms/step - accuracy: 0.9314 - loss: 0.6410 - val_accuracy: 0.9200 - val_loss: 0.6340\n",
      "Epoch 7/25\n",
      "\u001b[1m25/25\u001b[0m \u001b[32m━━━━━━━━━━━━━━━━━━━━\u001b[0m\u001b[37m\u001b[0m \u001b[1m0s\u001b[0m 6ms/step - accuracy: 0.9165 - loss: 0.6232 - val_accuracy: 0.9200 - val_loss: 0.6164\n",
      "Epoch 8/25\n",
      "\u001b[1m25/25\u001b[0m \u001b[32m━━━━━━━━━━━━━━━━━━━━\u001b[0m\u001b[37m\u001b[0m \u001b[1m0s\u001b[0m 7ms/step - accuracy: 0.9353 - loss: 0.6007 - val_accuracy: 0.9200 - val_loss: 0.5976\n",
      "Epoch 9/25\n",
      "\u001b[1m25/25\u001b[0m \u001b[32m━━━━━━━━━━━━━━━━━━━━\u001b[0m\u001b[37m\u001b[0m \u001b[1m0s\u001b[0m 6ms/step - accuracy: 0.9363 - loss: 0.5817 - val_accuracy: 0.9200 - val_loss: 0.5769\n",
      "Epoch 10/25\n",
      "\u001b[1m25/25\u001b[0m \u001b[32m━━━━━━━━━━━━━━━━━━━━\u001b[0m\u001b[37m\u001b[0m \u001b[1m0s\u001b[0m 6ms/step - accuracy: 0.9401 - loss: 0.5607 - val_accuracy: 0.9150 - val_loss: 0.5569\n",
      "Epoch 11/25\n",
      "\u001b[1m25/25\u001b[0m \u001b[32m━━━━━━━━━━━━━━━━━━━━\u001b[0m\u001b[37m\u001b[0m \u001b[1m0s\u001b[0m 9ms/step - accuracy: 0.9475 - loss: 0.5374 - val_accuracy: 0.9250 - val_loss: 0.5360\n",
      "Epoch 12/25\n",
      "\u001b[1m25/25\u001b[0m \u001b[32m━━━━━━━━━━━━━━━━━━━━\u001b[0m\u001b[37m\u001b[0m \u001b[1m0s\u001b[0m 7ms/step - accuracy: 0.9456 - loss: 0.5154 - val_accuracy: 0.9250 - val_loss: 0.5163\n",
      "Epoch 13/25\n",
      "\u001b[1m25/25\u001b[0m \u001b[32m━━━━━━━━━━━━━━━━━━━━\u001b[0m\u001b[37m\u001b[0m \u001b[1m0s\u001b[0m 7ms/step - accuracy: 0.9367 - loss: 0.4953 - val_accuracy: 0.9250 - val_loss: 0.4970\n",
      "Epoch 14/25\n",
      "\u001b[1m25/25\u001b[0m \u001b[32m━━━━━━━━━━━━━━━━━━━━\u001b[0m\u001b[37m\u001b[0m \u001b[1m0s\u001b[0m 7ms/step - accuracy: 0.9572 - loss: 0.4703 - val_accuracy: 0.9250 - val_loss: 0.4781\n",
      "Epoch 15/25\n",
      "\u001b[1m25/25\u001b[0m \u001b[32m━━━━━━━━━━━━━━━━━━━━\u001b[0m\u001b[37m\u001b[0m \u001b[1m0s\u001b[0m 6ms/step - accuracy: 0.9590 - loss: 0.4512 - val_accuracy: 0.9250 - val_loss: 0.4604\n",
      "Epoch 16/25\n",
      "\u001b[1m25/25\u001b[0m \u001b[32m━━━━━━━━━━━━━━━━━━━━\u001b[0m\u001b[37m\u001b[0m \u001b[1m0s\u001b[0m 7ms/step - accuracy: 0.9584 - loss: 0.4362 - val_accuracy: 0.9300 - val_loss: 0.4437\n",
      "Epoch 17/25\n",
      "\u001b[1m25/25\u001b[0m \u001b[32m━━━━━━━━━━━━━━━━━━━━\u001b[0m\u001b[37m\u001b[0m \u001b[1m0s\u001b[0m 7ms/step - accuracy: 0.9615 - loss: 0.4164 - val_accuracy: 0.9300 - val_loss: 0.4281\n",
      "Epoch 18/25\n",
      "\u001b[1m25/25\u001b[0m \u001b[32m━━━━━━━━━━━━━━━━━━━━\u001b[0m\u001b[37m\u001b[0m \u001b[1m0s\u001b[0m 7ms/step - accuracy: 0.9466 - loss: 0.4022 - val_accuracy: 0.9300 - val_loss: 0.4127\n",
      "Epoch 19/25\n",
      "\u001b[1m25/25\u001b[0m \u001b[32m━━━━━━━━━━━━━━━━━━━━\u001b[0m\u001b[37m\u001b[0m \u001b[1m0s\u001b[0m 7ms/step - accuracy: 0.9632 - loss: 0.3872 - val_accuracy: 0.9300 - val_loss: 0.3985\n",
      "Epoch 20/25\n",
      "\u001b[1m25/25\u001b[0m \u001b[32m━━━━━━━━━━━━━━━━━━━━\u001b[0m\u001b[37m\u001b[0m \u001b[1m0s\u001b[0m 8ms/step - accuracy: 0.9619 - loss: 0.3697 - val_accuracy: 0.9350 - val_loss: 0.3848\n",
      "Epoch 21/25\n",
      "\u001b[1m25/25\u001b[0m \u001b[32m━━━━━━━━━━━━━━━━━━━━\u001b[0m\u001b[37m\u001b[0m \u001b[1m0s\u001b[0m 6ms/step - accuracy: 0.9601 - loss: 0.3578 - val_accuracy: 0.9350 - val_loss: 0.3724\n",
      "Epoch 22/25\n",
      "\u001b[1m25/25\u001b[0m \u001b[32m━━━━━━━━━━━━━━━━━━━━\u001b[0m\u001b[37m\u001b[0m \u001b[1m0s\u001b[0m 6ms/step - accuracy: 0.9571 - loss: 0.3474 - val_accuracy: 0.9300 - val_loss: 0.3602\n",
      "Epoch 23/25\n",
      "\u001b[1m25/25\u001b[0m \u001b[32m━━━━━━━━━━━━━━━━━━━━\u001b[0m\u001b[37m\u001b[0m \u001b[1m0s\u001b[0m 6ms/step - accuracy: 0.9655 - loss: 0.3319 - val_accuracy: 0.9300 - val_loss: 0.3489\n",
      "Epoch 24/25\n",
      "\u001b[1m25/25\u001b[0m \u001b[32m━━━━━━━━━━━━━━━━━━━━\u001b[0m\u001b[37m\u001b[0m \u001b[1m0s\u001b[0m 6ms/step - accuracy: 0.9567 - loss: 0.3246 - val_accuracy: 0.9350 - val_loss: 0.3380\n",
      "Epoch 25/25\n",
      "\u001b[1m25/25\u001b[0m \u001b[32m━━━━━━━━━━━━━━━━━━━━\u001b[0m\u001b[37m\u001b[0m \u001b[1m0s\u001b[0m 6ms/step - accuracy: 0.9629 - loss: 0.3154 - val_accuracy: 0.9350 - val_loss: 0.3279\n"
     ]
    },
    {
     "data": {
      "text/plain": [
       "<keras.src.callbacks.history.History at 0x7f06acc0fd10>"
      ]
     },
     "execution_count": 369,
     "metadata": {},
     "output_type": "execute_result"
    }
   ],
   "source": [
    "model = Sequential()\n",
    "model.add(Dense(64, input_dim=n_feat, activation='softmax'))\n",
    "model.add(Dropout(0.3))\n",
    "model.add(Dense(n_classes, activation='softmax'))\n",
    "\n",
    "\n",
    "batch_size = 32\n",
    "epochs = 25\n",
    "model.compile(loss=\"categorical_crossentropy\", optimizer=optimizers.Adam(learning_rate=0.001), metrics=[\"accuracy\"])\n",
    "model.fit(X_train, y_train_bin, batch_size=batch_size, epochs=epochs, validation_data=(X_test, y_test_bin))\n"
   ]
  },
  {
   "cell_type": "code",
   "execution_count": 370,
   "id": "22addf2e",
   "metadata": {},
   "outputs": [
    {
     "data": {
      "image/png": "[encoded data removed]",
      "text/plain": [
       "<Figure size 700x500 with 1 Axes>"
      ]
     },
     "metadata": {},
     "output_type": "display_data"
    }
   ],
   "source": [
    "plt.figure(figsize=(7, 5))\n",
    "plt.plot(np.arange(len(model.history.history['loss'])), model.history.history['loss'], label='loss_train')\n",
    "plt.plot(np.arange(len(model.history.history['val_loss'])), model.history.history['val_loss'], label='loss_val')\n",
    "plt.xlabel('Epoch')\n",
    "plt.ylabel('Loss')\n",
    "plt.title('Model Loss Over Training')\n",
    "plt.legend(loc='upper right')\n",
    "plt.show()"
   ]
  },
  {
   "cell_type": "code",
   "execution_count": 371,
   "id": "2fc93e7f",
   "metadata": {},
   "outputs": [
    {
     "data": {
      "text/html": [
       "<pre style=\"white-space:pre;overflow-x:auto;line-height:normal;font-family:Menlo,'DejaVu Sans Mono',consolas,'Courier New',monospace\"><span style=\"font-weight: bold\">Model: \"sequential_12\"</span>\n",
       "</pre>\n"
      ],
      "text/plain": [
       "\u001b[1mModel: \"sequential_12\"\u001b[0m\n"
      ]
     },
     "metadata": {},
     "output_type": "display_data"
    },
    {
     "data": {
      "text/html": [
       "<pre style=\"white-space:pre;overflow-x:auto;line-height:normal;font-family:Menlo,'DejaVu Sans Mono',consolas,'Courier New',monospace\">┏━━━━━━━━━━━━━━━━━━━━━━━━━━━━━━━━━┳━━━━━━━━━━━━━━━━━━━━━━━━┳━━━━━━━━━━━━━━━┓\n",
       "┃<span style=\"font-weight: bold\"> Layer (type)                    </span>┃<span style=\"font-weight: bold\"> Output Shape           </span>┃<span style=\"font-weight: bold\">       Param # </span>┃\n",
       "┡━━━━━━━━━━━━━━━━━━━━━━━━━━━━━━━━━╇━━━━━━━━━━━━━━━━━━━━━━━━╇━━━━━━━━━━━━━━━┩\n",
       "│ dense_30 (<span style=\"color: #0087ff; text-decoration-color: #0087ff\">Dense</span>)                │ (<span style=\"color: #00d7ff; text-decoration-color: #00d7ff\">None</span>, <span style=\"color: #00af00; text-decoration-color: #00af00\">64</span>)             │           <span style=\"color: #00af00; text-decoration-color: #00af00\">384</span> │\n",
       "├─────────────────────────────────┼────────────────────────┼───────────────┤\n",
       "│ dropout_18 (<span style=\"color: #0087ff; text-decoration-color: #0087ff\">Dropout</span>)            │ (<span style=\"color: #00d7ff; text-decoration-color: #00d7ff\">None</span>, <span style=\"color: #00af00; text-decoration-color: #00af00\">64</span>)             │             <span style=\"color: #00af00; text-decoration-color: #00af00\">0</span> │\n",
       "├─────────────────────────────────┼────────────────────────┼───────────────┤\n",
       "│ dense_31 (<span style=\"color: #0087ff; text-decoration-color: #0087ff\">Dense</span>)                │ (<span style=\"color: #00d7ff; text-decoration-color: #00d7ff\">None</span>, <span style=\"color: #00af00; text-decoration-color: #00af00\">2</span>)              │           <span style=\"color: #00af00; text-decoration-color: #00af00\">130</span> │\n",
       "└─────────────────────────────────┴────────────────────────┴───────────────┘\n",
       "</pre>\n"
      ],
      "text/plain": [
       "┏━━━━━━━━━━━━━━━━━━━━━━━━━━━━━━━━━┳━━━━━━━━━━━━━━━━━━━━━━━━┳━━━━━━━━━━━━━━━┓\n",
       "┃\u001b[1m \u001b[0m\u001b[1mLayer (type)                   \u001b[0m\u001b[1m \u001b[0m┃\u001b[1m \u001b[0m\u001b[1mOutput Shape          \u001b[0m\u001b[1m \u001b[0m┃\u001b[1m \u001b[0m\u001b[1m      Param #\u001b[0m\u001b[1m \u001b[0m┃\n",
       "┡━━━━━━━━━━━━━━━━━━━━━━━━━━━━━━━━━╇━━━━━━━━━━━━━━━━━━━━━━━━╇━━━━━━━━━━━━━━━┩\n",
       "│ dense_30 (\u001b[38;5;33mDense\u001b[0m)                │ (\u001b[38;5;45mNone\u001b[0m, \u001b[38;5;34m64\u001b[0m)             │           \u001b[38;5;34m384\u001b[0m │\n",
       "├─────────────────────────────────┼────────────────────────┼───────────────┤\n",
       "│ dropout_18 (\u001b[38;5;33mDropout\u001b[0m)            │ (\u001b[38;5;45mNone\u001b[0m, \u001b[38;5;34m64\u001b[0m)             │             \u001b[38;5;34m0\u001b[0m │\n",
       "├─────────────────────────────────┼────────────────────────┼───────────────┤\n",
       "│ dense_31 (\u001b[38;5;33mDense\u001b[0m)                │ (\u001b[38;5;45mNone\u001b[0m, \u001b[38;5;34m2\u001b[0m)              │           \u001b[38;5;34m130\u001b[0m │\n",
       "└─────────────────────────────────┴────────────────────────┴───────────────┘\n"
      ]
     },
     "metadata": {},
     "output_type": "display_data"
    },
    {
     "data": {
      "text/html": [
       "<pre style=\"white-space:pre;overflow-x:auto;line-height:normal;font-family:Menlo,'DejaVu Sans Mono',consolas,'Courier New',monospace\"><span style=\"font-weight: bold\"> Total params: </span><span style=\"color: #00af00; text-decoration-color: #00af00\">1,544</span> (6.04 KB)\n",
       "</pre>\n"
      ],
      "text/plain": [
       "\u001b[1m Total params: \u001b[0m\u001b[38;5;34m1,544\u001b[0m (6.04 KB)\n"
      ]
     },
     "metadata": {},
     "output_type": "display_data"
    },
    {
     "data": {
      "text/html": [
       "<pre style=\"white-space:pre;overflow-x:auto;line-height:normal;font-family:Menlo,'DejaVu Sans Mono',consolas,'Courier New',monospace\"><span style=\"font-weight: bold\"> Trainable params: </span><span style=\"color: #00af00; text-decoration-color: #00af00\">514</span> (2.01 KB)\n",
       "</pre>\n"
      ],
      "text/plain": [
       "\u001b[1m Trainable params: \u001b[0m\u001b[38;5;34m514\u001b[0m (2.01 KB)\n"
      ]
     },
     "metadata": {},
     "output_type": "display_data"
    },
    {
     "data": {
      "text/html": [
       "<pre style=\"white-space:pre;overflow-x:auto;line-height:normal;font-family:Menlo,'DejaVu Sans Mono',consolas,'Courier New',monospace\"><span style=\"font-weight: bold\"> Non-trainable params: </span><span style=\"color: #00af00; text-decoration-color: #00af00\">0</span> (0.00 B)\n",
       "</pre>\n"
      ],
      "text/plain": [
       "\u001b[1m Non-trainable params: \u001b[0m\u001b[38;5;34m0\u001b[0m (0.00 B)\n"
      ]
     },
     "metadata": {},
     "output_type": "display_data"
    },
    {
     "data": {
      "text/html": [
       "<pre style=\"white-space:pre;overflow-x:auto;line-height:normal;font-family:Menlo,'DejaVu Sans Mono',consolas,'Courier New',monospace\"><span style=\"font-weight: bold\"> Optimizer params: </span><span style=\"color: #00af00; text-decoration-color: #00af00\">1,030</span> (4.03 KB)\n",
       "</pre>\n"
      ],
      "text/plain": [
       "\u001b[1m Optimizer params: \u001b[0m\u001b[38;5;34m1,030\u001b[0m (4.03 KB)\n"
      ]
     },
     "metadata": {},
     "output_type": "display_data"
    }
   ],
   "source": [
    "model.summary()"
   ]
  },
  {
   "cell_type": "code",
   "execution_count": 372,
   "id": "55a014ab",
   "metadata": {},
   "outputs": [
    {
     "name": "stdout",
     "output_type": "stream",
     "text": [
      "\u001b[1m7/7\u001b[0m \u001b[32m━━━━━━━━━━━━━━━━━━━━\u001b[0m\u001b[37m\u001b[0m \u001b[1m0s\u001b[0m 27ms/step\n"
     ]
    },
    {
     "data": {
      "text/plain": [
       "array([[0.3170528 , 0.68294716],\n",
       "       [0.20099884, 0.7990012 ],\n",
       "       [0.22047628, 0.7795238 ],\n",
       "       [0.23770688, 0.7622931 ],\n",
       "       [0.78083897, 0.21916105]], dtype=float32)"
      ]
     },
     "execution_count": 372,
     "metadata": {},
     "output_type": "execute_result"
    }
   ],
   "source": [
    "pred_proba = model.predict(X_test)\n",
    "pred_proba[:5]"
   ]
  },
  {
   "cell_type": "code",
   "execution_count": 373,
   "id": "9147dcaa",
   "metadata": {},
   "outputs": [
    {
     "data": {
      "text/plain": [
       "array([1, 1, 1, 1, 0, 0, 0, 1, 0, 1, 0, 1, 1, 0, 1, 1, 1, 1, 0, 1, 0, 1,\n",
       "       1, 0, 0, 1, 0, 0, 1, 1, 0, 0, 0, 1, 1, 0, 0, 0, 1, 1, 0, 1, 0, 1,\n",
       "       0, 0, 1, 1, 0, 1, 1, 0, 1, 0, 0, 0, 0, 1, 0, 1, 0, 1, 0, 1, 1, 1,\n",
       "       1, 0, 1, 1, 1, 1, 1, 0, 1, 0, 0, 1, 1, 0, 1, 1, 1, 1, 0, 0, 1, 0,\n",
       "       0, 0, 0, 1, 0, 1, 0, 0, 1, 1, 0, 0, 1, 0, 1, 0, 1, 0, 1, 0, 1, 0,\n",
       "       1, 0, 1, 1, 0, 1, 0, 0, 0, 0, 1, 1, 1, 0, 0, 0, 1, 0, 0, 1, 1, 1,\n",
       "       1, 0, 0, 0, 0, 1, 0, 1, 0, 0, 1, 1, 0, 1, 1, 0, 0, 0, 0, 0, 1, 0,\n",
       "       1, 0, 1, 0, 0, 0, 1, 1, 0, 0, 1, 0, 0, 0, 0, 0, 1, 1, 1, 0, 0, 0,\n",
       "       1, 1, 1, 1, 1, 0, 1, 1, 1, 1, 0, 1, 1, 1, 0, 1, 0, 0, 0, 1, 1, 1,\n",
       "       0, 1])"
      ]
     },
     "execution_count": 373,
     "metadata": {},
     "output_type": "execute_result"
    }
   ],
   "source": [
    "pred=np.argmax(pred_proba,axis=1)\n",
    "pred"
   ]
  },
  {
   "cell_type": "code",
   "execution_count": 374,
   "id": "8b982366",
   "metadata": {},
   "outputs": [
    {
     "data": {
      "text/plain": [
       "array([1, 1, 1, 1, 0, 0, 0, 1, 0, 1, 0, 1, 1, 0, 1, 1, 1, 1, 0, 1, 0, 1,\n",
       "       1, 0, 0, 1, 0, 0, 1, 1, 0, 0, 0, 1, 1, 0, 0, 1, 1, 1, 0, 1, 1, 1,\n",
       "       0, 0, 1, 1, 0, 1, 1, 0, 1, 0, 0, 0, 0, 1, 0, 1, 0, 1, 0, 1, 1, 1,\n",
       "       1, 0, 1, 1, 1, 1, 1, 0, 1, 1, 0, 1, 1, 0, 1, 1, 1, 1, 0, 0, 0, 0,\n",
       "       0, 0, 0, 1, 0, 1, 1, 0, 1, 1, 0, 0, 1, 0, 1, 0, 1, 0, 1, 0, 1, 0,\n",
       "       1, 0, 1, 1, 0, 1, 0, 0, 0, 0, 1, 1, 1, 0, 0, 0, 1, 0, 0, 1, 1, 1,\n",
       "       1, 1, 0, 0, 0, 1, 0, 1, 0, 1, 1, 1, 0, 1, 1, 0, 1, 0, 0, 0, 1, 0,\n",
       "       1, 0, 1, 0, 0, 0, 1, 1, 0, 0, 1, 1, 0, 0, 0, 0, 1, 1, 1, 0, 0, 1,\n",
       "       1, 1, 1, 1, 1, 0, 1, 1, 1, 1, 0, 1, 1, 0, 1, 1, 0, 0, 1, 1, 1, 1,\n",
       "       0, 1])"
      ]
     },
     "execution_count": 374,
     "metadata": {},
     "output_type": "execute_result"
    }
   ],
   "source": [
    "y_test"
   ]
  },
  {
   "cell_type": "code",
   "execution_count": 375,
   "id": "eb0d7a71",
   "metadata": {},
   "outputs": [
    {
     "name": "stdout",
     "output_type": "stream",
     "text": [
      "              precision    recall  f1-score   support\n",
      "\n",
      "           0       0.89      0.98      0.93        89\n",
      "           1       0.98      0.90      0.94       111\n",
      "\n",
      "    accuracy                           0.94       200\n",
      "   macro avg       0.93      0.94      0.93       200\n",
      "weighted avg       0.94      0.94      0.94       200\n",
      "\n"
     ]
    }
   ],
   "source": [
    "classf_report=classification_report(y_test, pred)\n",
    "print(classf_report)"
   ]
  },
  {
   "cell_type": "code",
   "execution_count": 376,
   "id": "4bc18ada",
   "metadata": {},
   "outputs": [
    {
     "data": {
      "text/plain": [
       "array([[ 87,   2],\n",
       "       [ 11, 100]])"
      ]
     },
     "execution_count": 376,
     "metadata": {},
     "output_type": "execute_result"
    }
   ],
   "source": [
    "confusion_matrix(y_test, pred)"
   ]
  },
  {
   "cell_type": "markdown",
   "id": "b254d36b",
   "metadata": {},
   "source": [
    "#### TINYGRAD"
   ]
  },
  {
   "cell_type": "code",
   "execution_count": 2,
   "id": "1b14bf04",
   "metadata": {},
   "outputs": [],
   "source": [
    "from typing import List, Callable\n",
    "from tinygrad import Tensor, TinyJit, nn, GlobalCounters\n",
    "from tinygrad.helpers import getenv, colored, trange\n",
    "from tinygrad.nn.datasets import mnist"
   ]
  },
  {
   "cell_type": "code",
   "execution_count": 4,
   "id": "0ff05d75",
   "metadata": {},
   "outputs": [],
   "source": [
    "class Model:\n",
    "  def __init__(self):\n",
    "    self.layers: List[Callable[[Tensor], Tensor]] = [\n",
    "      nn.Conv2d(1, 32, 5), Tensor.relu,\n",
    "      nn.Conv2d(32, 32, 5), Tensor.relu,\n",
    "      nn.BatchNorm(32), Tensor.max_pool2d,\n",
    "      nn.Conv2d(32, 64, 3), Tensor.relu,\n",
    "      nn.Conv2d(64, 64, 3), Tensor.relu,\n",
    "      nn.BatchNorm(64), Tensor.max_pool2d,\n",
    "      lambda x: x.flatten(1), nn.Linear(576, 10)]\n",
    "\n",
    "  def __call__(self, x:Tensor) -> Tensor: return x.sequential(self.layers)\n"
   ]
  },
  {
   "cell_type": "code",
   "execution_count": 6,
   "id": "c3c72b80",
   "metadata": {},
   "outputs": [],
   "source": [
    "X_train, Y_train, X_test, Y_test = mnist(fashion=getenv(\"FASHION\"))\n"
   ]
  },
  {
   "cell_type": "code",
   "execution_count": 8,
   "id": "4f145da8",
   "metadata": {},
   "outputs": [],
   "source": [
    "model = Model()\n",
    "opt = nn.optim.Adam(nn.state.get_parameters(model))"
   ]
  },
  {
   "cell_type": "code",
   "execution_count": null,
   "id": "d7c06fb3",
   "metadata": {},
   "outputs": [],
   "source": [
    "@TinyJit\n",
    "@Tensor.train()\n",
    "def train_step() -> Tensor:\n",
    "    opt.zero_grad()\n",
    "    samples = Tensor.randint(getenv(\"BS\", 512), high=X_train.shape[0])\n",
    "    loss = model(X_train[samples]).sparse_categorical_crossentropy(Y_train[samples]).backward()\n",
    "    opt.step()\n",
    "    return loss"
   ]
  },
  {
   "cell_type": "code",
   "execution_count": 13,
   "id": "6bed9394",
   "metadata": {},
   "outputs": [],
   "source": [
    "@TinyJit\n",
    "@Tensor.test()\n",
    "def get_test_acc() -> Tensor: \n",
    "    return (model(X_test).argmax(axis=1) == Y_test).mean()*100"
   ]
  },
  {
   "cell_type": "code",
   "execution_count": 16,
   "id": "53c8b1ce",
   "metadata": {},
   "outputs": [
    {
     "name": "stderr",
     "output_type": "stream",
     "text": [
      "loss:   0.22 test_accuracy: 94.47%: 100%|███████| 70/70 [13:25<00:00,  0.09it/s]\n"
     ]
    }
   ],
   "source": [
    "\n",
    "for i in (t:=trange(getenv(\"STEPS\", 70))):\n",
    "    GlobalCounters.reset()  \n",
    "    loss = train_step()\n",
    "    if i%10 == 9: \n",
    "        test_acc = get_test_acc().item()\n",
    "        t.set_description(f\"loss: {loss.item():6.2f} test_accuracy: {test_acc:5.2f}%\")\n",
    "\n",
    "if target := getenv(\"TARGET_EVAL_ACC_PCT\", 0.0):\n",
    "    if test_acc >= target and test_acc != 100.0: \n",
    "        print(colored(f\"{test_acc=} >= {target}\", \"green\"))\n",
    "    else: \n",
    "        raise ValueError(colored(f\"{test_acc=} < {target}\", \"red\"))"
   ]
  },
  {
   "cell_type": "code",
   "execution_count": 17,
   "id": "50b0a11e",
   "metadata": {},
   "outputs": [],
   "source": [
    "# tests prediction\n",
    "if getenv(\"TEST_PREDICTION\", 0) == 1:\n",
    "    pred = model(X_test[:10]).argmax(axis=1).numpy()\n",
    "    print(f\"pred: {pred}\")\n",
    "    print(f\"expected: {Y_test[:10].numpy()}\")\n",
    "    assert np.array_equal(pred, Y_test[:10].numpy()), \"Predictions do not match expected values\""
   ]
  }
 ],
 "metadata": {
  "kernelspec": {
   "display_name": "venv",
   "language": "python",
   "name": "python3"
  },
  "language_info": {
   "codemirror_mode": {
    "name": "ipython",
    "version": 3
   },
   "file_extension": ".py",
   "mimetype": "text/x-python",
   "name": "python",
   "nbconvert_exporter": "python",
   "pygments_lexer": "ipython3",
   "version": "3.12.3"
  }
 },
 "nbformat": 4,
 "nbformat_minor": 5
}
