{
 "cells": [
  {
   "cell_type": "markdown",
   "id": "030004da",
   "metadata": {},
   "source": [
    "# Тензори.\n",
    "torch.Tensor це багатовимірні матриці, які містять у собі елементи одного типу даних. Обрахунки між тензорами можуть відбуватись тільки у випадку, якщо тензори містять елементи одного типу.\n",
    "\n",
    "Для перевірки того, чи встановлений PyTorch імпортується бібліотека та перевіряється версія: "
   ]
  },
  {
   "cell_type": "code",
   "execution_count": 3,
   "id": "9a80e9d8",
   "metadata": {},
   "outputs": [
    {
     "data": {
      "text/plain": [
       "'2.0.0'"
      ]
     },
     "execution_count": 3,
     "metadata": {},
     "output_type": "execute_result"
    }
   ],
   "source": [
    "import torch\n",
    "import numpy as np\n",
    "torch.__version__"
   ]
  },
  {
   "cell_type": "markdown",
   "id": "a5392477",
   "metadata": {},
   "source": [
    "## Створення тензорів.\n",
    "Тензори можна створювати з NumPy масивів:"
   ]
  },
  {
   "cell_type": "code",
   "execution_count": 11,
   "id": "4fab4b30",
   "metadata": {},
   "outputs": [
    {
     "data": {
      "text/plain": [
       "dtype('int32')"
      ]
     },
     "execution_count": 11,
     "metadata": {},
     "output_type": "execute_result"
    }
   ],
   "source": [
    "arr = np.array([1, 2, 3, 4, 5])\n",
    "arr.dtype"
   ]
  },
  {
   "cell_type": "code",
   "execution_count": 12,
   "id": "ad392395",
   "metadata": {},
   "outputs": [
    {
     "name": "stdout",
     "output_type": "stream",
     "text": [
      "tensor([1, 2, 3, 4, 5], dtype=torch.int32)\n",
      "torch.IntTensor\n"
     ]
    }
   ],
   "source": [
    "x = torch.from_numpy(arr)\n",
    "print(x)\n",
    "print(x.type())"
   ]
  },
  {
   "cell_type": "code",
   "execution_count": 13,
   "id": "8a8e41bb",
   "metadata": {},
   "outputs": [
    {
     "data": {
      "text/plain": [
       "dtype('float64')"
      ]
     },
     "execution_count": 13,
     "metadata": {},
     "output_type": "execute_result"
    }
   ],
   "source": [
    "arr = np.arange(0., 12.).reshape(3, 4)\n",
    "arr.dtype"
   ]
  },
  {
   "cell_type": "code",
   "execution_count": 14,
   "id": "6cfd2352",
   "metadata": {},
   "outputs": [
    {
     "name": "stdout",
     "output_type": "stream",
     "text": [
      "tensor([[ 0.,  1.,  2.,  3.],\n",
      "        [ 4.,  5.,  6.,  7.],\n",
      "        [ 8.,  9., 10., 11.]], dtype=torch.float64)\n",
      "torch.DoubleTensor\n"
     ]
    }
   ],
   "source": [
    "x = torch.from_numpy(arr)\n",
    "print(x)\n",
    "print(x.type())"
   ]
  },
  {
   "cell_type": "markdown",
   "id": "a22c8c4a",
   "metadata": {},
   "source": [
    "<h2><a href='https://pytorch.org/docs/stable/tensors.html'>Типи тензорів</a></h2>\n",
    "<table style=\"display: inline-block\">\n",
    "<tr><th>Тип</th><th>Ім'я</th><th>Еквівалент</th><th>Тип тензора</th></tr>\n",
    "<tr><td>32-bit integer (signed)</td><td>torch.int32</td><td>torch.int</td><td>IntTensor</td></tr>\n",
    "<tr><td>64-bit integer (signed)</td><td>torch.int64</td><td>torch.long</td><td>LongTensor</td></tr>\n",
    "<tr><td>16-bit integer (signed)</td><td>torch.int16</td><td>torch.short</td><td>ShortTensor</td></tr>\n",
    "<tr><td>32-bit floating point</td><td>torch.float32</td><td>torch.float</td><td>FloatTensor</td></tr>\n",
    "<tr><td>64-bit floating point</td><td>torch.float64</td><td>torch.double</td><td>DoubleTensor</td></tr>\n",
    "<tr><td>16-bit floating point</td><td>torch.float16</td><td>torch.half</td><td>HalfTensor</td></tr>\n",
    "<tr><td>8-bit integer (signed)</td><td>torch.int8</td><td></td><td>CharTensor</td></tr>\n",
    "<tr><td>8-bit integer (unsigned)</td><td>torch.uint8</td><td></td><td>ByteTensor</td></tr></table>"
   ]
  },
  {
   "cell_type": "markdown",
   "id": "c795b997",
   "metadata": {},
   "source": [
    "Створюючи тензори з масивів NumPy варто пам'ятати, що <a href='https://pytorch.org/docs/stable/torch.html#torch.from_numpy'>torch.from_numpy()</a> та <a href='https://pytorch.org/docs/stable/torch.html#torch.as_tensor'>torch.as_tensor()</a> методи використовують для тензора одну й ту саму пам'ять, що у свою чергу призводить до того, що зміни в масиві змінюють і тензор та навпаки. Метод <a href='https://pytorch.org/docs/stable/torch.html#torch.tensor'>torch.tensor()</a> завжди створює копію масиву, щоб уникнути такої поведінки. "
   ]
  },
  {
   "cell_type": "code",
   "execution_count": 16,
   "id": "09110358",
   "metadata": {},
   "outputs": [
    {
     "name": "stdout",
     "output_type": "stream",
     "text": [
      "tensor([0, 1, 2, 3, 4], dtype=torch.int32)\n",
      "tensor([ 0,  1, 77,  3,  4], dtype=torch.int32)\n"
     ]
    }
   ],
   "source": [
    "arr = np.arange(0, 5)\n",
    "t = torch.from_numpy(arr)\n",
    "print(t)\n",
    "arr[2] = 77\n",
    "print(t)"
   ]
  },
  {
   "cell_type": "code",
   "execution_count": 17,
   "id": "7176bcd5",
   "metadata": {},
   "outputs": [
    {
     "name": "stdout",
     "output_type": "stream",
     "text": [
      "tensor([0, 1, 2, 3, 4], dtype=torch.int32)\n",
      "tensor([0, 1, 2, 3, 4], dtype=torch.int32)\n"
     ]
    }
   ],
   "source": [
    "arr = np.arange(0, 5)\n",
    "t = torch.tensor(arr)\n",
    "print(t)\n",
    "arr[2] = 77\n",
    "print(t)"
   ]
  },
  {
   "cell_type": "markdown",
   "id": "c5f80667",
   "metadata": {},
   "source": [
    "Також тензори можна створювати використовуючи конструктори <a href='https://pytorch.org/docs/stable/tensors.html'>torch.Tensor()</a>, <a href='https://pytorch.org/docs/stable/tensors.html'>torch.FloatTensor()</a>, тощо. Різниця між фабричним методом `torch.tensor(data)` та конструктором класу є у тому, що фабричний метод визначає тип даних з даних, які подані на вхід, або з переданого параметру `dtype`.\n",
    "Конструктор `torch.Tensor()` є синонімом для `troch.FloatTensor(data)`."
   ]
  },
  {
   "cell_type": "code",
   "execution_count": 38,
   "id": "4eb32c37",
   "metadata": {},
   "outputs": [
    {
     "name": "stdout",
     "output_type": "stream",
     "text": [
      "tensor([1., 2., 3.]) torch.FloatTensor\n"
     ]
    }
   ],
   "source": [
    "data = np.array([1, 2, 3])\n",
    "a = torch.Tensor(data)  # Еквівалент до cc = torch.FloatTensor(data)\n",
    "print(a, a.type())"
   ]
  },
  {
   "cell_type": "code",
   "execution_count": 39,
   "id": "ed3f7973",
   "metadata": {},
   "outputs": [
    {
     "name": "stdout",
     "output_type": "stream",
     "text": [
      "tensor([1, 2, 3], dtype=torch.int32) torch.IntTensor\n"
     ]
    }
   ],
   "source": [
    "b = torch.tensor(data)\n",
    "print(b, b.type())"
   ]
  },
  {
   "cell_type": "code",
   "execution_count": 41,
   "id": "46b3d447",
   "metadata": {},
   "outputs": [
    {
     "name": "stdout",
     "output_type": "stream",
     "text": [
      "tensor([1, 2, 3]) torch.LongTensor\n"
     ]
    }
   ],
   "source": [
    "c = torch.tensor(data, dtype = torch.long)\n",
    "print(c, c.type())"
   ]
  },
  {
   "cell_type": "markdown",
   "id": "b3e773e5",
   "metadata": {},
   "source": [
    "Тензори можна створювати з нуля.\n",
    "### Неініціалізований тензор використовуючи метод .empty().\n",
    "Метод <a href='https://pytorch.org/docs/stable/torch.html#torch.empty'>torch.empty()</a> повертає неінціалізований тензор. Це означає, що була виділена відповідна пам'ять і будь які значення, які були в цій пам'яті були повернуті. "
   ]
  },
  {
   "cell_type": "code",
   "execution_count": 20,
   "id": "f98dea26",
   "metadata": {},
   "outputs": [
    {
     "data": {
      "text/plain": [
       "tensor([[0., 0., 0., 0.],\n",
       "        [0., 0., 0., 0.],\n",
       "        [0., 0., 0., 0.]])"
      ]
     },
     "execution_count": 20,
     "metadata": {},
     "output_type": "execute_result"
    }
   ],
   "source": [
    "x = torch.empty(3, 4)\n",
    "x"
   ]
  },
  {
   "cell_type": "markdown",
   "id": "b29da252",
   "metadata": {},
   "source": [
    "### Тензор, ініціалізований нулями та одиницями.\n",
    "Використовуються методи, аналогічні методам з NumPy <a href='https://pytorch.org/docs/stable/torch.html#torch.zeros'>torch.zeros()</a> та <a href='https://pytorch.org/docs/stable/torch.html#torch.zeros'>torch.ones()</a>. Для того, щоб вказати бажаний тип даних можна передати параметр `dtype`."
   ]
  },
  {
   "cell_type": "code",
   "execution_count": 21,
   "id": "7aedbfeb",
   "metadata": {},
   "outputs": [
    {
     "name": "stdout",
     "output_type": "stream",
     "text": [
      "tensor([[0, 0, 0],\n",
      "        [0, 0, 0],\n",
      "        [0, 0, 0],\n",
      "        [0, 0, 0]])\n"
     ]
    }
   ],
   "source": [
    "x = torch.zeros(4, 3, dtype = torch.int64)\n",
    "x"
   ]
  },
  {
   "cell_type": "code",
   "execution_count": 37,
   "id": "9fe96f81",
   "metadata": {},
   "outputs": [
    {
     "name": "stdout",
     "output_type": "stream",
     "text": [
      "tensor([[1., 1., 1.],\n",
      "        [1., 1., 1.],\n",
      "        [1., 1., 1.],\n",
      "        [1., 1., 1.]], dtype=torch.float64)\n"
     ]
    }
   ],
   "source": [
    "x = torch.ones(4, 3, dtype = torch.float64)\n",
    "x"
   ]
  },
  {
   "cell_type": "markdown",
   "id": "bf441d5f",
   "metadata": {},
   "source": [
    "### Тензори з перечислень.\n",
    "Методи <a href='https://pytorch.org/docs/stable/torch.html#torch.arange'>torch.arange(start, end, step)</a> та <a href='https://pytorch.org/docs/stable/torch.html#torch.linspace'>torch.linspace(start, end, steps)</a> працюють аналогічно до методів NumPy. Важливим є те, що `.arrange()` не включає параметр `end`, а `linspace` включає."
   ]
  },
  {
   "cell_type": "code",
   "execution_count": 34,
   "id": "90da00da",
   "metadata": {},
   "outputs": [
    {
     "name": "stdout",
     "output_type": "stream",
     "text": [
      "tensor([[ 0,  2,  4],\n",
      "        [ 6,  8, 10],\n",
      "        [12, 14, 16]])\n"
     ]
    }
   ],
   "source": [
    "x = torch.arange(0, 18, 2).reshape(3, 3)\n",
    "x"
   ]
  },
  {
   "cell_type": "code",
   "execution_count": 35,
   "id": "bbd81a78",
   "metadata": {},
   "outputs": [
    {
     "name": "stdout",
     "output_type": "stream",
     "text": [
      "tensor([[ 0.0000,  1.6364,  3.2727,  4.9091],\n",
      "        [ 6.5455,  8.1818,  9.8182, 11.4545],\n",
      "        [13.0909, 14.7273, 16.3636, 18.0000]])\n"
     ]
    }
   ],
   "source": [
    "x = torch.linspace(0, 18, 12).reshape(3, 4)\n",
    "x"
   ]
  },
  {
   "cell_type": "markdown",
   "id": "b0d97aee",
   "metadata": {},
   "source": [
    "### Тензори з даних.\n",
    "Тензори можна створювати напряму з даних. Тип тензора буде визначений з даних, які передаються в метод."
   ]
  },
  {
   "cell_type": "code",
   "execution_count": 31,
   "id": "5d6f75f5",
   "metadata": {},
   "outputs": [
    {
     "name": "stdout",
     "output_type": "stream",
     "text": [
      "tensor([1, 2, 3, 4])\n",
      "torch.int64\n",
      "torch.LongTensor\n"
     ]
    }
   ],
   "source": [
    "x = torch.tensor([1, 2, 3, 4])\n",
    "print(x)\n",
    "print(x.dtype)\n",
    "print(x.type())"
   ]
  },
  {
   "cell_type": "code",
   "execution_count": 32,
   "id": "17298e10",
   "metadata": {},
   "outputs": [
    {
     "name": "stdout",
     "output_type": "stream",
     "text": [
      "tensor([5., 6., 7.])\n",
      "torch.float32\n",
      "torch.FloatTensor\n"
     ]
    }
   ],
   "source": [
    "x = torch.FloatTensor([5, 6, 7])\n",
    "print(x)\n",
    "print(x.dtype)\n",
    "print(x.type())"
   ]
  },
  {
   "cell_type": "code",
   "execution_count": 33,
   "id": "ca1f6e46",
   "metadata": {},
   "outputs": [
    {
     "name": "stdout",
     "output_type": "stream",
     "text": [
      "tensor([ 8,  9, -3], dtype=torch.int32)\n",
      "torch.int32\n",
      "torch.IntTensor\n"
     ]
    }
   ],
   "source": [
    "x = torch.tensor([8, 9, -3], dtype = torch.int)\n",
    "print(x)\n",
    "print(x.dtype)\n",
    "print(x.type())"
   ]
  },
  {
   "cell_type": "markdown",
   "id": "21fa8bbf",
   "metadata": {},
   "source": [
    "### Зміна типу тензору."
   ]
  },
  {
   "cell_type": "code",
   "execution_count": 25,
   "id": "7d2ab00c",
   "metadata": {},
   "outputs": [
    {
     "name": "stdout",
     "output_type": "stream",
     "text": [
      "torch.IntTensor\n",
      "torch.DoubleTensor\n"
     ]
    }
   ],
   "source": [
    "print(x.type())\n",
    "\n",
    "x = x.type(torch.float64)\n",
    "\n",
    "print(x.type())"
   ]
  },
  {
   "cell_type": "markdown",
   "id": "36769645",
   "metadata": {},
   "source": [
    "### Тензори з випадковими числами.\n",
    "<a href='https://pytorch.org/docs/stable/torch.html#torch.rand'>torch.rand(size)</a> повертає випадкові числа з рівномірним розподілом в межах у [0, 1)<br>\n",
    "<a href='https://pytorch.org/docs/stable/torch.html#torch.randn'>torch.randn(size)</a> повертає значення з стандартним нормальним розподілом [σ = 1]<br>\n",
    "<a href='https://pytorch.org/docs/stable/torch.html#torch.randint'>torch.randint(low, high, size)</a> повертає випадкові значення у межах від low (включно) до high (невключно)."
   ]
  },
  {
   "cell_type": "code",
   "execution_count": 28,
   "id": "d2943999",
   "metadata": {},
   "outputs": [
    {
     "name": "stdout",
     "output_type": "stream",
     "text": [
      "tensor([[0.2337, 0.9980, 0.2331],\n",
      "        [0.8824, 0.8877, 0.7146],\n",
      "        [0.4948, 0.6464, 0.9081],\n",
      "        [0.5721, 0.9201, 0.7462]])\n"
     ]
    }
   ],
   "source": [
    "x = torch.rand(4, 3)\n",
    "print(x)"
   ]
  },
  {
   "cell_type": "code",
   "execution_count": 29,
   "id": "9b9bbe64",
   "metadata": {},
   "outputs": [
    {
     "name": "stdout",
     "output_type": "stream",
     "text": [
      "tensor([[ 0.4676, -0.0862,  1.0362],\n",
      "        [ 0.1018,  1.0535,  0.1426],\n",
      "        [-0.9884, -1.0833, -0.9470],\n",
      "        [ 0.2671, -1.3191, -0.9588]])\n"
     ]
    }
   ],
   "source": [
    "x = torch.randn(4, 3)\n",
    "print(x)"
   ]
  },
  {
   "cell_type": "code",
   "execution_count": 30,
   "id": "8e5f785c",
   "metadata": {},
   "outputs": [
    {
     "name": "stdout",
     "output_type": "stream",
     "text": [
      "tensor([[4, 0, 0],\n",
      "        [4, 3, 3],\n",
      "        [2, 1, 1],\n",
      "        [0, 4, 2]])\n"
     ]
    }
   ],
   "source": [
    "x = torch.randint(0, 5, (4, 3))\n",
    "print(x)"
   ]
  },
  {
   "cell_type": "markdown",
   "id": "6e41d64f",
   "metadata": {},
   "source": [
    "Також є методи, які заповнюють тензор випадковими значеннями відповідно до розміру тензора, який подається на вхід методу.<br>\n",
    "<a href='https://pytorch.org/docs/stable/torch.html#torch.rand_like'>torch.rand_like(input)</a><br>\n",
    "<a href='https://pytorch.org/docs/stable/torch.html#torch.randn_like'>torch.randn_like(input)</a><br>\n",
    "<a href='https://pytorch.org/docs/stable/torch.html#torch.randint_like'>torch.randint_like(input, low, high)</a>"
   ]
  },
  {
   "cell_type": "code",
   "execution_count": 42,
   "id": "1b7b201c",
   "metadata": {},
   "outputs": [
    {
     "name": "stdout",
     "output_type": "stream",
     "text": [
      "tensor([[0., 0., 0., 0., 0.],\n",
      "        [0., 0., 0., 0., 0.]])\n"
     ]
    }
   ],
   "source": [
    "x = torch.zeros(2, 5)\n",
    "x"
   ]
  },
  {
   "cell_type": "code",
   "execution_count": 43,
   "id": "535e8f21",
   "metadata": {},
   "outputs": [
    {
     "name": "stdout",
     "output_type": "stream",
     "text": [
      "tensor([[ 1.8475, -0.3971,  0.9809,  1.3076, -0.8601],\n",
      "        [-0.5531, -0.7485, -0.3886,  0.9682,  1.0534]])\n"
     ]
    }
   ],
   "source": [
    "x2 = torch.randn_like(x)\n",
    "x2"
   ]
  },
  {
   "cell_type": "markdown",
   "id": "26d448e7",
   "metadata": {},
   "source": [
    "Такий самий синтаксис може бути використаний і для методів: <br> <a href='https://pytorch.org/docs/stable/torch.html#torch.zeros_like'>torch.zeros_like(input)</a><br>\n",
    "<a href='https://pytorch.org/docs/stable/torch.html#torch.ones_like'>torch.ones_like(input)</a>"
   ]
  },
  {
   "cell_type": "code",
   "execution_count": 44,
   "id": "b1849050",
   "metadata": {},
   "outputs": [
    {
     "name": "stdout",
     "output_type": "stream",
     "text": [
      "tensor([[1., 1., 1., 1., 1.],\n",
      "        [1., 1., 1., 1., 1.]])\n"
     ]
    }
   ],
   "source": [
    "x3 = torch.ones_like(x2)\n",
    "x3"
   ]
  },
  {
   "cell_type": "markdown",
   "id": "d73e2574",
   "metadata": {},
   "source": [
    "### Встановлюючи випадкове зерно (seed). \n",
    "<a href='https://pytorch.org/docs/stable/torch.html#torch.manual_seed'>torch.manual_seed(int)</a> використовується для того, щоб отримати результати, які можна повторити. "
   ]
  },
  {
   "cell_type": "code",
   "execution_count": 45,
   "id": "f45ea108",
   "metadata": {},
   "outputs": [
    {
     "name": "stdout",
     "output_type": "stream",
     "text": [
      "tensor([[0.8823, 0.9150, 0.3829],\n",
      "        [0.9593, 0.3904, 0.6009]])\n"
     ]
    }
   ],
   "source": [
    "torch.manual_seed(42)\n",
    "x = torch.rand(2, 3)\n",
    "x"
   ]
  },
  {
   "cell_type": "code",
   "execution_count": 46,
   "id": "84cd143c",
   "metadata": {},
   "outputs": [
    {
     "name": "stdout",
     "output_type": "stream",
     "text": [
      "tensor([[0.8823, 0.9150, 0.3829],\n",
      "        [0.9593, 0.3904, 0.6009]])\n"
     ]
    }
   ],
   "source": [
    "torch.manual_seed(42)\n",
    "x = torch.rand(2, 3)\n",
    "x"
   ]
  },
  {
   "cell_type": "markdown",
   "id": "fa1adb1b",
   "metadata": {},
   "source": [
    "### Властивості тензорів.\n",
    "Є багато різних <a href='https://pytorch.org/docs/stable/tensor_attributes.html'>властивостей тензора</a> які є корисними. Наприклад:"
   ]
  },
  {
   "cell_type": "code",
   "execution_count": 47,
   "id": "497e03b4",
   "metadata": {},
   "outputs": [
    {
     "data": {
      "text/plain": [
       "torch.Size([2, 3])"
      ]
     },
     "execution_count": 47,
     "metadata": {},
     "output_type": "execute_result"
    }
   ],
   "source": [
    "x.shape"
   ]
  },
  {
   "cell_type": "code",
   "execution_count": 48,
   "id": "ccfeb1e0",
   "metadata": {},
   "outputs": [
    {
     "data": {
      "text/plain": [
       "torch.Size([2, 3])"
      ]
     },
     "execution_count": 48,
     "metadata": {},
     "output_type": "execute_result"
    }
   ],
   "source": [
    "x.size()  # еквівалентне x.shape"
   ]
  },
  {
   "cell_type": "code",
   "execution_count": 49,
   "id": "3d836d08",
   "metadata": {},
   "outputs": [
    {
     "data": {
      "text/plain": [
       "device(type='cpu')"
      ]
     },
     "execution_count": 49,
     "metadata": {},
     "output_type": "execute_result"
    }
   ],
   "source": [
    "x.device"
   ]
  },
  {
   "cell_type": "markdown",
   "id": "cc4d337a",
   "metadata": {},
   "source": [
    "PyTorch може працювати використовуючи різні пристрою, додаючи потужність одного або більше GPU до CPU."
   ]
  },
  {
   "cell_type": "markdown",
   "id": "3848e409",
   "metadata": {},
   "source": [
    "## Операції над тензорами.\n",
    "\n",
    "### Індексування та відтинання.\n",
    "\n",
    "Ці операції працюють аналогічно до операцій над NumPy масивами."
   ]
  },
  {
   "cell_type": "code",
   "execution_count": 50,
   "id": "fcd8699c",
   "metadata": {},
   "outputs": [
    {
     "name": "stdout",
     "output_type": "stream",
     "text": [
      "tensor([[0, 1],\n",
      "        [2, 3],\n",
      "        [4, 5]])\n"
     ]
    }
   ],
   "source": [
    "x = torch.arange(6).reshape(3, 2)\n",
    "x"
   ]
  },
  {
   "cell_type": "code",
   "execution_count": 51,
   "id": "4aa21ead",
   "metadata": {},
   "outputs": [
    {
     "data": {
      "text/plain": [
       "tensor([1, 3, 5])"
      ]
     },
     "execution_count": 51,
     "metadata": {},
     "output_type": "execute_result"
    }
   ],
   "source": [
    "x[:, 1]"
   ]
  },
  {
   "cell_type": "markdown",
   "id": "b7fa8099",
   "metadata": {},
   "source": [
    "### Зміна форми тензорів.\n",
    "<a href='https://pytorch.org/docs/master/tensors.html#torch.Tensor.view'>view()</a> та <a href='https://pytorch.org/docs/master/torch.html#torch.reshape'>reshape()</a> методи повертають тензор зі зміненою формою без зміни оригінального тензору."
   ]
  },
  {
   "cell_type": "code",
   "execution_count": 53,
   "id": "af1ce75f",
   "metadata": {},
   "outputs": [
    {
     "name": "stdout",
     "output_type": "stream",
     "text": [
      "tensor([0, 1, 2, 3, 4, 5, 6, 7, 8, 9])\n"
     ]
    }
   ],
   "source": [
    "x = torch.arange(10)\n",
    "x"
   ]
  },
  {
   "cell_type": "code",
   "execution_count": 54,
   "id": "3a13d13c",
   "metadata": {},
   "outputs": [
    {
     "data": {
      "text/plain": [
       "tensor([[0, 1, 2, 3, 4],\n",
       "        [5, 6, 7, 8, 9]])"
      ]
     },
     "execution_count": 54,
     "metadata": {},
     "output_type": "execute_result"
    }
   ],
   "source": [
    "x.view(2, 5)"
   ]
  },
  {
   "cell_type": "code",
   "execution_count": 55,
   "id": "ac15c8b1",
   "metadata": {},
   "outputs": [
    {
     "data": {
      "text/plain": [
       "tensor([0, 1, 2, 3, 4, 5, 6, 7, 8, 9])"
      ]
     },
     "execution_count": 55,
     "metadata": {},
     "output_type": "execute_result"
    }
   ],
   "source": [
    "x"
   ]
  },
  {
   "cell_type": "markdown",
   "id": "64aea01f",
   "metadata": {},
   "source": [
    "`view` показує найновіші дані:"
   ]
  },
  {
   "cell_type": "code",
   "execution_count": 57,
   "id": "b5191487",
   "metadata": {},
   "outputs": [
    {
     "name": "stdout",
     "output_type": "stream",
     "text": [
      "tensor([[32,  1,  2,  3,  4],\n",
      "        [ 5,  6,  7,  8,  9]])\n"
     ]
    }
   ],
   "source": [
    "z = x.view(2, 5)\n",
    "x[0] = 32\n",
    "z"
   ]
  },
  {
   "cell_type": "markdown",
   "id": "2e76a7bd",
   "metadata": {},
   "source": [
    "`view` може бути приведений до правильних розмірів. Якщо передати -1 заміть одного з параметрів, PyTorch вирахує правильне значення;"
   ]
  },
  {
   "cell_type": "code",
   "execution_count": 58,
   "id": "f95875b4",
   "metadata": {},
   "outputs": [
    {
     "data": {
      "text/plain": [
       "tensor([[32,  1,  2,  3,  4],\n",
       "        [ 5,  6,  7,  8,  9]])"
      ]
     },
     "execution_count": 58,
     "metadata": {},
     "output_type": "execute_result"
    }
   ],
   "source": [
    "x.view(2, -1)"
   ]
  },
  {
   "cell_type": "code",
   "execution_count": 59,
   "id": "93db41bf",
   "metadata": {},
   "outputs": [
    {
     "data": {
      "text/plain": [
       "tensor([[32,  1,  2,  3,  4],\n",
       "        [ 5,  6,  7,  8,  9]])"
      ]
     },
     "execution_count": 59,
     "metadata": {},
     "output_type": "execute_result"
    }
   ],
   "source": [
    "x.view(-1, 5)"
   ]
  },
  {
   "cell_type": "markdown",
   "id": "caa3fa13",
   "metadata": {},
   "source": [
    "<a href='https://pytorch.org/docs/master/tensors.html#torch.Tensor.view_as'>view_as(input)</a> дозволяє скопіювати розміри з іншого тензора:"
   ]
  },
  {
   "cell_type": "code",
   "execution_count": 61,
   "id": "e59a254a",
   "metadata": {},
   "outputs": [
    {
     "data": {
      "text/plain": [
       "tensor([[32,  1,  2,  3,  4],\n",
       "        [ 5,  6,  7,  8,  9]])"
      ]
     },
     "execution_count": 61,
     "metadata": {},
     "output_type": "execute_result"
    }
   ],
   "source": [
    "x.view_as(z)"
   ]
  },
  {
   "cell_type": "markdown",
   "id": "6b381613",
   "metadata": {},
   "source": [
    "## Арифметика тензорів.\n",
    "Додавання тензорів може виконуватись різними способами в залежності від бажаного результату.\n",
    "### Просте додавання."
   ]
  },
  {
   "cell_type": "code",
   "execution_count": 63,
   "id": "220c4048",
   "metadata": {},
   "outputs": [
    {
     "name": "stdout",
     "output_type": "stream",
     "text": [
      "tensor([5., 7., 9.])\n"
     ]
    }
   ],
   "source": [
    "a = torch.tensor([1, 2, 3], dtype = torch.float)\n",
    "b = torch.tensor([4, 5, 6], dtype = torch.float)\n",
    "a + b"
   ]
  },
  {
   "cell_type": "markdown",
   "id": "3d3e86fb",
   "metadata": {},
   "source": [
    "### Як аргумент операції від `torch`."
   ]
  },
  {
   "cell_type": "code",
   "execution_count": 64,
   "id": "fb733ca2",
   "metadata": {},
   "outputs": [
    {
     "name": "stdout",
     "output_type": "stream",
     "text": [
      "tensor([5., 7., 9.])\n"
     ]
    }
   ],
   "source": [
    "print(torch.add(a, b))"
   ]
  },
  {
   "cell_type": "markdown",
   "id": "58c07fa5",
   "metadata": {},
   "source": [
    "### З вихідним тензором переданим як аргумент."
   ]
  },
  {
   "cell_type": "code",
   "execution_count": 65,
   "id": "8b018085",
   "metadata": {},
   "outputs": [
    {
     "name": "stdout",
     "output_type": "stream",
     "text": [
      "tensor([5., 7., 9.])\n"
     ]
    }
   ],
   "source": [
    "result = torch.empty(3)\n",
    "torch.add(a, b, out = result)\n",
    "result"
   ]
  },
  {
   "cell_type": "markdown",
   "id": "d6a9af9d",
   "metadata": {},
   "source": [
    "### Змінюючи тензор, який викликає метод."
   ]
  },
  {
   "cell_type": "code",
   "execution_count": 66,
   "id": "543163d9",
   "metadata": {},
   "outputs": [
    {
     "name": "stdout",
     "output_type": "stream",
     "text": [
      "tensor([5., 7., 9.])\n"
     ]
    }
   ],
   "source": [
    "a.add_(b)\n",
    "a"
   ]
  },
  {
   "cell_type": "markdown",
   "id": "3fe92007",
   "metadata": {},
   "source": [
    "### Базові операції з тензорами.\n",
    "<table style=\"display: inline-block\">\n",
    "<caption style=\"text-align: center\"><strong>Арифметичні</strong></caption>\n",
    "<tr><th>Операція</th><th>Функція</th><th>Опис</th></tr>\n",
    "<tr><td>a + b</td><td>a.add(b)</td><td>поелементне додавання</td></tr>\n",
    "<tr><td>a - b</td><td>a.sub(b)</td><td>віднімання</td></tr>\n",
    "<tr><td>a * b</td><td>a.mul(b)</td><td>множення</td></tr>\n",
    "<tr><td>a / b</td><td>a.div(b)</td><td>ділення</td></tr>\n",
    "<tr><td>a % b</td><td>a.fmod(b)</td><td>залишок після ділення</td></tr>\n",
    "<tr><td>a<sup>b</sup></td><td>a.pow(b)</td><td>піднесення до степеню</td></tr>\n",
    "</table>"
   ]
  },
  {
   "cell_type": "markdown",
   "id": "14fe0cbd",
   "metadata": {},
   "source": [
    "<table style=\"display: inline-block\">\n",
    "<caption style=\"text-align: center\"><strong>Операції з одночленами</strong></caption>\n",
    "<tr><th>Операція</th><th>Функція</th><th>Опис</th></tr>\n",
    "<tr><td>|a|</td><td>torch.abs(a)</td><td>модуль числа</td></tr>\n",
    "<tr><td>1/a</td><td>torch.reciprocal(a)</td><td>протилежність</td></tr>\n",
    "<tr><td>$\\sqrt{a}$</td><td>torch.sqrt(a)</td><td>корінь квадратний</td></tr>\n",
    "<tr><td>log(a)</td><td>torch.log(a)</td><td>натуральний логарифм</td></tr>\n",
    "<tr><td>e<sup>a</sup></td><td>torch.exp(a)</td><td>експонента</td></tr>\n",
    "<tr><td>12.34  ==>  12.</td><td>torch.trunc(a)</td><td>взяття цілих чисел</td></tr>\n",
    "<tr><td>12.34  ==>  0.34</td><td>torch.frac(a)</td><td>взяття чисел після коми</td></tr>\n",
    "</table>"
   ]
  },
  {
   "cell_type": "markdown",
   "id": "6a848cba",
   "metadata": {},
   "source": [
    "<table style=\"display: inline-block\">\n",
    "<caption style=\"text-align: center\"><strong>Тригонометрія</strong></caption>\n",
    "<tr><th>Операція</th><th>Функція</th><th>Опис</th></tr>\n",
    "<tr><td>sin(a)</td><td>torch.sin(a)</td><td>синус</td></tr>\n",
    "<tr><td>cos(a)</td><td>torch.sin(a)</td><td>косинус</td></tr>\n",
    "<tr><td>tan(a)</td><td>torch.sin(a)</td><td>тангенс</td></tr>\n",
    "<tr><td>arcsin(a)</td><td>torch.asin(a)</td><td>Арксинус</td></tr>\n",
    "<tr><td>arccos(a)</td><td>torch.acos(a)</td><td>Арккосинус</td></tr>\n",
    "<tr><td>arctan(a)</td><td>torch.atan(a)</td><td>Арктангенс</td></tr>\n",
    "<tr><td>sinh(a)</td><td>torch.sinh(a)</td><td>Гіперболічний синус</td></tr>\n",
    "<tr><td>cosh(a)</td><td>torch.cosh(a)</td><td>Гіперболічний косинус</td></tr>\n",
    "<tr><td>tanh(a)</td><td>torch.tanh(a)</td><td>Гіперболічний тангенс</td></tr>\n",
    "</table>"
   ]
  },
  {
   "cell_type": "markdown",
   "id": "a6f5ae5b",
   "metadata": {},
   "source": [
    "<table style=\"display: inline-block\">\n",
    "<caption style=\"text-align: center\"><strong>Статистика</strong></caption>\n",
    "<tr><th>Операція</th><th>Функція</th><th>Опис</th></tr>\n",
    "<tr><td>$\\sum a$</td><td>torch.sum(a)</td><td>сума</td></tr>\n",
    "<tr><td>$\\bar a$</td><td>torch.mean(a)</td><td>середнє</td></tr>\n",
    "<tr><td>a<sub>max</sub></td><td>torch.max(a)</td><td>максимум</td></tr>\n",
    "<tr><td>a<sub>min</sub></td><td>torch.min(a)</td><td>мінімум</td></tr>\n",
    "<tr><td colspan=\"3\">torch.max(a, b) повертає тензор розміру а<br>який містить поелементний максимум між значеннями a та b</td></tr>\n",
    "</table>"
   ]
  },
  {
   "cell_type": "markdown",
   "id": "bba579b0",
   "metadata": {},
   "source": [
    " ## Скалярний добуток.\n",
    " Скалярний добуток це сума добутків відповідних елементів у одновимірному тензорі. У тензорах, які є векторами, скалярний добуток - це:\n",
    "\n",
    "$\\begin{bmatrix} a & b & c \\end{bmatrix} \\;\\cdot\\; \\begin{bmatrix} d & e & f \\end{bmatrix} = ad + be + cf$\n",
    "\n",
    "Скалярний добуток може бути обрахований з допомогою методу <a href='https://pytorch.org/docs/stable/torch.html#torch.dot'><strong><tt>torch.dot(a,b)</tt></strong></a> або `a.dot(b)` або `b.dot(a)`"
   ]
  },
  {
   "cell_type": "code",
   "execution_count": 71,
   "id": "763b5fc4",
   "metadata": {},
   "outputs": [
    {
     "name": "stdout",
     "output_type": "stream",
     "text": [
      "tensor([ 4., 10., 18.])\n",
      "\n",
      "tensor(32.)\n"
     ]
    }
   ],
   "source": [
    "a = torch.tensor([1, 2, 3], dtype = torch.float)\n",
    "b = torch.tensor([4, 5, 6], dtype = torch.float)\n",
    "print(a.mul(b))\n",
    "print()\n",
    "print(a.dot(b))"
   ]
  },
  {
   "cell_type": "markdown",
   "id": "202b8a79",
   "metadata": {},
   "source": [
    "### Множення матриць.\n",
    "Множення матриць є можливим тоді, коли кількість стовпців у тензорі А дорівнює кількістю рядків у матриці B. Тоді матриця рахується так:\n",
    "\n",
    "$\\begin{bmatrix} a & b & c \\\\\n",
    "d & e & f \\end{bmatrix} \\;\\times\\; \\begin{bmatrix} m & n \\\\ p & q \\\\ r & s \\end{bmatrix} = \\begin{bmatrix} (am+bp+cr) & (an+bq+cs) \\\\\n",
    "(dm+ep+fr) & (dn+eq+fs) \\end{bmatrix}$</div></div>\n",
    "\n",
    " Множення матриць відбувається з використанням методу <a href='https://pytorch.org/docs/stable/torch.html#torch.mm'><strong><tt>torch.mm(a,b)</tt></strong></a> або `a.mm(b)` або `a @ b`:"
   ]
  },
  {
   "cell_type": "code",
   "execution_count": 72,
   "id": "3f45cb6e",
   "metadata": {},
   "outputs": [
    {
     "name": "stdout",
     "output_type": "stream",
     "text": [
      "a:  torch.Size([2, 3])\n",
      "b:  torch.Size([3, 2])\n",
      "a x b:  torch.Size([2, 2])\n"
     ]
    }
   ],
   "source": [
    "a = torch.tensor([[0, 2, 4],[1, 3, 5]], dtype = torch.float)\n",
    "b = torch.tensor([[6, 7],[8, 9],[10, 11]], dtype = torch.float)\n",
    "\n",
    "print('a: ', a.size())\n",
    "print('b: ', b.size())\n",
    "print('a x b: ', torch.mm(a, b).size())"
   ]
  },
  {
   "cell_type": "code",
   "execution_count": 73,
   "id": "deb54e2a",
   "metadata": {},
   "outputs": [
    {
     "name": "stdout",
     "output_type": "stream",
     "text": [
      "tensor([[56., 62.],\n",
      "        [80., 89.]])\n"
     ]
    }
   ],
   "source": [
    "print(torch.mm(a, b))"
   ]
  },
  {
   "cell_type": "code",
   "execution_count": 74,
   "id": "21ff2af7",
   "metadata": {},
   "outputs": [
    {
     "name": "stdout",
     "output_type": "stream",
     "text": [
      "tensor([[56., 62.],\n",
      "        [80., 89.]])\n"
     ]
    }
   ],
   "source": [
    "print(a.mm(b))"
   ]
  },
  {
   "cell_type": "code",
   "execution_count": 75,
   "id": "6fce1599",
   "metadata": {},
   "outputs": [
    {
     "name": "stdout",
     "output_type": "stream",
     "text": [
      "tensor([[56., 62.],\n",
      "        [80., 89.]])\n"
     ]
    }
   ],
   "source": [
    "print(a @ b)"
   ]
  },
  {
   "cell_type": "markdown",
   "id": "73f429ee",
   "metadata": {},
   "source": [
    "### L2 або Евклідова норма.\n",
    "Обраховується методом <a href='https://pytorch.org/docs/stable/torch.html#torch.norm'>torch.norm()</a>.\n",
    "\n",
    "Евклідова норма повертає вектор $x$ де $x=(x_1, x_2,..., x_n)$.<br>\n",
    "Обраховується<br>\n",
    "\n",
    "${\\displaystyle \\left\\|{\\boldsymbol {x}}\\right\\|_{2}:={\\sqrt {x_{1}^{2}+\\cdots +x_{n}^{2}}}}$\n",
    "\n",
    "\n",
    "У випадку матриці, <tt>torch.norm()</tt> повертає <a href='https://en.wikipedia.org/wiki/Matrix_norm#Frobenius_norm'>норму фробеніуса</a> по замовчуванню."
   ]
  },
  {
   "cell_type": "code",
   "execution_count": 78,
   "id": "b50aa0cf",
   "metadata": {},
   "outputs": [
    {
     "data": {
      "text/plain": [
       "tensor(17.)"
      ]
     },
     "execution_count": 78,
     "metadata": {},
     "output_type": "execute_result"
    }
   ],
   "source": [
    "x = torch.tensor([2.,5.,8.,14.])\n",
    "x.norm()"
   ]
  },
  {
   "cell_type": "markdown",
   "id": "8ce51e7a",
   "metadata": {},
   "source": [
    "### Кількість елементів.\n",
    "<a href='https://pytorch.org/docs/stable/torch.html#torch.numel'>torch.numel()</a> повертає кількість елементів у тензорі."
   ]
  },
  {
   "cell_type": "code",
   "execution_count": 79,
   "id": "9915acae",
   "metadata": {},
   "outputs": [
    {
     "data": {
      "text/plain": [
       "21"
      ]
     },
     "execution_count": 79,
     "metadata": {},
     "output_type": "execute_result"
    }
   ],
   "source": [
    "x = torch.ones(3, 7)\n",
    "x.numel()"
   ]
  },
  {
   "cell_type": "markdown",
   "id": "edc678a1",
   "metadata": {},
   "source": [
    "## PyTorch градієнти.\n",
    "\n",
    "Використовуються такі інструменти як<br>\n",
    "* <a href='https://pytorch.org/docs/stable/autograd.html#torch.autograd.backward'>torch.autograd.backward()</a>\n",
    "* <a href='https://pytorch.org/docs/stable/autograd.html#torch.autograd.grad'>torch.autograd.grad()</a>\n",
    "\n",
    "### Autograd - автоматична диференціація.\n",
    "\n",
    "Пакет <a href='https://pytorch.org/docs/stable/autograd.html'>autograd</a> з PyTorch забезпечує автоматичне розрізення операцій на тенсорах. Це тому, що операції стають атрибутами самих тензорів. Коли атрибут тензора <tt>.requires_grad</tt> встановлений у  True, він починає слідкувати за всіма операціями над ним.Коли операція завершується можна викликати метод <tt>.backward()</tt> де всі градієнти обраховуються автоматично. Градієнти будуть зібрані у атрибут тензора <tt>.grad</tt>.\n",
    "\n",
    "### Однокрокове back-propagation.\n",
    "\n",
    "$\\begin{split}Функція:\\quad y &= 2x^4 + x^3 + 3x^2 + 5x + 1 \\\\\n",
    "Похідна:\\quad y' &= 8x^3 + 3x^2 + 6x + 5\\end{split}$\n",
    "\n",
    "Створюємо тензор та ставимо атрибут `requires_grad` у True."
   ]
  },
  {
   "cell_type": "code",
   "execution_count": 85,
   "id": "6b7802a6",
   "metadata": {},
   "outputs": [],
   "source": [
    "x = torch.tensor(2.0, requires_grad = True)"
   ]
  },
  {
   "cell_type": "markdown",
   "id": "99bd75df",
   "metadata": {},
   "source": [
    "Визначаєм функцію:"
   ]
  },
  {
   "cell_type": "code",
   "execution_count": 86,
   "id": "2abe8d25",
   "metadata": {},
   "outputs": [
    {
     "name": "stdout",
     "output_type": "stream",
     "text": [
      "tensor(63., grad_fn=<AddBackward0>)\n"
     ]
    }
   ],
   "source": [
    "y = 2*x**4 + x**3 + 3*x**2 + 5*x + 1\n",
    "y"
   ]
  },
  {
   "cell_type": "markdown",
   "id": "c22306ab",
   "metadata": {},
   "source": [
    "Оскільки $y$ був створений як результат операції, він має асоційований градієнт функції, до якого можна доступитись через <tt>y.grad_fn</tt><br>\n",
    "Обрахунки $y$:<br>\n",
    "\n",
    "$\\quad y=2(2)^4+(2)^3+3(2)^2+5(2)+1 = 32+8+12+10+1 = 63$\n",
    "\n",
    "Це значення $y$ коли $x=2$. <br>\n",
    "Виконання backprop та виведення значення градієнту:"
   ]
  },
  {
   "cell_type": "code",
   "execution_count": 87,
   "id": "d6774665",
   "metadata": {},
   "outputs": [
    {
     "name": "stdout",
     "output_type": "stream",
     "text": [
      "tensor(93.)\n"
     ]
    }
   ],
   "source": [
    "y.backward()\n",
    "x.grad"
   ]
  },
  {
   "cell_type": "markdown",
   "id": "b57f17e5",
   "metadata": {},
   "source": [
    "Якщо провести обрахунки вручну: <br>\n",
    "\n",
    "$\\quad y'=8(2)^3+3(2)^2+6(2)+5 = 64+12+12+5 = 93$\n",
    "\n",
    "Це схил поліному у точці $(2, 63)$.\n",
    "\n",
    "### Багатокрокове back-propagation.\n",
    "Нехай тепер буде складніша система, яка буде мати різні шари $y$ та $z$ між $x$ та вихідним шаром $out$. <br> Створення тензора:"
   ]
  },
  {
   "cell_type": "code",
   "execution_count": 89,
   "id": "0061d291",
   "metadata": {},
   "outputs": [
    {
     "name": "stdout",
     "output_type": "stream",
     "text": [
      "tensor([[1., 2., 3.],\n",
      "        [3., 2., 1.]], requires_grad=True)\n"
     ]
    }
   ],
   "source": [
    "x = torch.tensor([[1., 2, 3],[3 , 2, 1]], requires_grad = True)\n",
    "x"
   ]
  },
  {
   "cell_type": "markdown",
   "id": "2870ce3f",
   "metadata": {},
   "source": [
    "Створення першого шару $y = 3x+2$:"
   ]
  },
  {
   "cell_type": "code",
   "execution_count": 90,
   "id": "ffc7eda8",
   "metadata": {},
   "outputs": [
    {
     "name": "stdout",
     "output_type": "stream",
     "text": [
      "tensor([[ 5.,  8., 11.],\n",
      "        [11.,  8.,  5.]], grad_fn=<AddBackward0>)\n"
     ]
    }
   ],
   "source": [
    "y = 3*x + 2\n",
    "y"
   ]
  },
  {
   "cell_type": "markdown",
   "id": "f382261f",
   "metadata": {},
   "source": [
    "Створення другого шару $z = 2y^2$:"
   ]
  },
  {
   "cell_type": "code",
   "execution_count": 91,
   "id": "d66ba6ea",
   "metadata": {},
   "outputs": [
    {
     "name": "stdout",
     "output_type": "stream",
     "text": [
      "tensor([[ 50., 128., 242.],\n",
      "        [242., 128.,  50.]], grad_fn=<MulBackward0>)\n"
     ]
    }
   ],
   "source": [
    "z = 2 * y**2\n",
    "z"
   ]
  },
  {
   "cell_type": "markdown",
   "id": "f771feea",
   "metadata": {},
   "source": [
    "Створення останнього шару як середнього значення тензора:"
   ]
  },
  {
   "cell_type": "code",
   "execution_count": 93,
   "id": "d917c793",
   "metadata": {},
   "outputs": [
    {
     "name": "stdout",
     "output_type": "stream",
     "text": [
      "tensor(140., grad_fn=<MeanBackward0>)\n"
     ]
    }
   ],
   "source": [
    "out = z.mean()\n",
    "out"
   ]
  },
  {
   "cell_type": "markdown",
   "id": "689f00ff",
   "metadata": {},
   "source": [
    "Тепер відбувається алгоритм back-propagation щоб знайти градієнт:"
   ]
  },
  {
   "cell_type": "code",
   "execution_count": 94,
   "id": "36cf38da",
   "metadata": {},
   "outputs": [
    {
     "name": "stdout",
     "output_type": "stream",
     "text": [
      "tensor([[10., 16., 22.],\n",
      "        [22., 16., 10.]])\n"
     ]
    }
   ],
   "source": [
    "out.backward()\n",
    "x.grad"
   ]
  },
  {
   "cell_type": "markdown",
   "id": "8e7bb41b",
   "metadata": {},
   "source": [
    "Розглядаємо тензор 2x3. У випадку виклику фінального тензора <tt>out</tt> tensor \"$o$\", можна обрахувати значення похідної $o$  щодо $x_i$:<br>\n",
    "\n",
    "$o = \\frac {1} {6}\\sum_{i=1}^{6} z_i$<br>\n",
    "\n",
    "$z_i = 2(y_i)^2 = 2(3x_i+2)^2$<br>\n",
    "\n",
    "Щоб знайти похідну $z_i$ використовується правило послідовності, де $f(g(x)) = f'(g(x))g'(x)$<br>\n",
    "\n",
    "Тоді:<br>\n",
    "\n",
    "$$\\begin{split} f(g(x)) = 2(g(x))^2, \\quad &f'(g(x)) = 4g(x) \\\\\n",
    "g(x) &= 3x+2, g'(x) = 3 \\\\\n",
    "\\frac {dz} {dx} = 4g(x)\\times 3 &= 12(3x+2) \\end{split}$$\n",
    "\n",
    "Отже,<br>\n",
    "\n",
    "$\\frac{\\partial o}{\\partial x_i} = \\frac{1}{6}\\times 12(3x+2)$<br>\n",
    "\n",
    "$\\frac{\\partial o}{\\partial x_i}\\bigr\\rvert_{x_i=1} = 2(3(1)+2) = 10$\n",
    "\n",
    "$\\frac{\\partial o}{\\partial x_i}\\bigr\\rvert_{x_i=2} = 2(3(2)+2) = 16$\n",
    "\n",
    "$\\frac{\\partial o}{\\partial x_i}\\bigr\\rvert_{x_i=3} = 2(3(3)+2) = 22$"
   ]
  },
  {
   "cell_type": "markdown",
   "id": "454fd875",
   "metadata": {},
   "source": [
    "### Відключення слідкування.\n",
    "Бувають випадки, коли нема необхідності слідкувати за історією розрахунків. Тоді можна відключити слідкування через властивість `.requires_grad_(True)` (або False) як потрібно. Без обрахунків, часто зручно обгорнути набір операцій у `with torch.no_grad():`. Менш використовуваний спосіб - це виклик методу `.detach()` на тензорі щоб уникнути враховування майбутніх обрахунків. Може бути корисно при клонуванні тензора."
   ]
  },
  {
   "cell_type": "markdown",
   "id": "eb0eb546",
   "metadata": {},
   "source": [
    "Розглядаємо тензор 2x3. У випадку виклику фінального тензора <tt>out</tt> tensor \"$o$\", часткові похідні $o$ відносно $x_i$ можна обрахувати:<br>\n",
    "\n",
    "$o = \\frac {1} {6}\\sum_{i=1}^{6} z_i$<br>\n",
    "\n",
    "$z_i = 2(y_i)^2 = 2(3x_i+2)^2$<br>\n",
    "\n",
    "Щоб знайти похідну $z_i$ використовується <a href='https://en.wikipedia.org/wiki/Chain_rule'>chain rule</a>, де похідна $f(g(x)) = f'(g(x))g'(x)$<br>\n",
    "\n",
    "Тоді:<br>\n",
    "\n",
    "$$\\begin{split} f(g(x)) = 2(g(x))^2, \\quad &f'(g(x)) = 4g(x) \\\\\n",
    "g(x) &= 3x+2, g'(x) = 3 \\\\\n",
    "\\frac {dz} {dx} = 4g(x)\\times 3 &= 12(3x+2) \\end{split}$$\n",
    "\n",
    "Отже,<br>\n",
    "\n",
    "$\\frac{\\partial o}{\\partial x_i} = \\frac{1}{6}\\times 12(3x+2)$<br>\n",
    "\n",
    "$\\frac{\\partial o}{\\partial x_i}\\bigr\\rvert_{x_i=1} = 2(3(1)+2) = 10$\n",
    "\n",
    "$\\frac{\\partial o}{\\partial x_i}\\bigr\\rvert_{x_i=2} = 2(3(2)+2) = 16$\n",
    "\n",
    "$\\frac{\\partial o}{\\partial x_i}\\bigr\\rvert_{x_i=3} = 2(3(3)+2) = 22$"
   ]
  },
  {
   "cell_type": "markdown",
   "id": "7dbae820",
   "metadata": {},
   "source": [
    "## Набори даних для PyTorch."
   ]
  },
  {
   "cell_type": "code",
   "execution_count": 96,
   "id": "8c7a1441",
   "metadata": {},
   "outputs": [],
   "source": [
    "import pandas as pd"
   ]
  },
  {
   "cell_type": "code",
   "execution_count": 98,
   "id": "efb217f5",
   "metadata": {},
   "outputs": [
    {
     "data": {
      "text/html": [
       "<div>\n",
       "<style scoped>\n",
       "    .dataframe tbody tr th:only-of-type {\n",
       "        vertical-align: middle;\n",
       "    }\n",
       "\n",
       "    .dataframe tbody tr th {\n",
       "        vertical-align: top;\n",
       "    }\n",
       "\n",
       "    .dataframe thead th {\n",
       "        text-align: right;\n",
       "    }\n",
       "</style>\n",
       "<table border=\"1\" class=\"dataframe\">\n",
       "  <thead>\n",
       "    <tr style=\"text-align: right;\">\n",
       "      <th></th>\n",
       "      <th>sepal length (cm)</th>\n",
       "      <th>sepal width (cm)</th>\n",
       "      <th>petal length (cm)</th>\n",
       "      <th>petal width (cm)</th>\n",
       "      <th>target</th>\n",
       "    </tr>\n",
       "  </thead>\n",
       "  <tbody>\n",
       "    <tr>\n",
       "      <th>0</th>\n",
       "      <td>5.1</td>\n",
       "      <td>3.5</td>\n",
       "      <td>1.4</td>\n",
       "      <td>0.2</td>\n",
       "      <td>0.0</td>\n",
       "    </tr>\n",
       "    <tr>\n",
       "      <th>1</th>\n",
       "      <td>4.9</td>\n",
       "      <td>3.0</td>\n",
       "      <td>1.4</td>\n",
       "      <td>0.2</td>\n",
       "      <td>0.0</td>\n",
       "    </tr>\n",
       "    <tr>\n",
       "      <th>2</th>\n",
       "      <td>4.7</td>\n",
       "      <td>3.2</td>\n",
       "      <td>1.3</td>\n",
       "      <td>0.2</td>\n",
       "      <td>0.0</td>\n",
       "    </tr>\n",
       "    <tr>\n",
       "      <th>3</th>\n",
       "      <td>4.6</td>\n",
       "      <td>3.1</td>\n",
       "      <td>1.5</td>\n",
       "      <td>0.2</td>\n",
       "      <td>0.0</td>\n",
       "    </tr>\n",
       "    <tr>\n",
       "      <th>4</th>\n",
       "      <td>5.0</td>\n",
       "      <td>3.6</td>\n",
       "      <td>1.4</td>\n",
       "      <td>0.2</td>\n",
       "      <td>0.0</td>\n",
       "    </tr>\n",
       "  </tbody>\n",
       "</table>\n",
       "</div>"
      ],
      "text/plain": [
       "   sepal length (cm)  sepal width (cm)  petal length (cm)  petal width (cm)  \\\n",
       "0                5.1               3.5                1.4               0.2   \n",
       "1                4.9               3.0                1.4               0.2   \n",
       "2                4.7               3.2                1.3               0.2   \n",
       "3                4.6               3.1                1.5               0.2   \n",
       "4                5.0               3.6                1.4               0.2   \n",
       "\n",
       "   target  \n",
       "0     0.0  \n",
       "1     0.0  \n",
       "2     0.0  \n",
       "3     0.0  \n",
       "4     0.0  "
      ]
     },
     "execution_count": 98,
     "metadata": {},
     "output_type": "execute_result"
    }
   ],
   "source": [
    "df = pd.read_csv('iris.csv')\n",
    "df.head()"
   ]
  },
  {
   "cell_type": "code",
   "execution_count": 99,
   "id": "2379a3f8",
   "metadata": {},
   "outputs": [
    {
     "data": {
      "text/plain": [
       "(150, 5)"
      ]
     },
     "execution_count": 99,
     "metadata": {},
     "output_type": "execute_result"
    }
   ],
   "source": [
    "df.shape"
   ]
  },
  {
   "cell_type": "markdown",
   "id": "2475e753",
   "metadata": {},
   "source": [
    "### Класичний спосіб розбиття даних на тестовий та тренувальний набір."
   ]
  },
  {
   "cell_type": "code",
   "execution_count": 100,
   "id": "6cae4b55",
   "metadata": {},
   "outputs": [],
   "source": [
    "from sklearn.model_selection import train_test_split\n",
    "\n",
    "train_X, test_X, train_y, test_y = train_test_split(df.drop('target',axis = 1).values,\n",
    "                                                    df['target'].values, test_size = 0.2,\n",
    "                                                    random_state = 33)\n",
    "\n",
    "X_train = torch.FloatTensor(train_X)\n",
    "X_test = torch.FloatTensor(test_X)\n",
    "y_train = torch.LongTensor(train_y).reshape(-1, 1)\n",
    "y_test = torch.LongTensor(test_y).reshape(-1, 1)"
   ]
  },
  {
   "cell_type": "code",
   "execution_count": 101,
   "id": "53af19ae",
   "metadata": {},
   "outputs": [
    {
     "name": "stdout",
     "output_type": "stream",
     "text": [
      "Training size: 120\n",
      "Labels: tensor([0, 1, 2])\n",
      "Counts: tensor([42, 42, 36])\n"
     ]
    }
   ],
   "source": [
    "print(f'Training size: {len(y_train)}')\n",
    "labels, counts = y_train.unique(return_counts=True)\n",
    "print(f'Labels: {labels}\\nCounts: {counts}')"
   ]
  },
  {
   "cell_type": "code",
   "execution_count": 102,
   "id": "d9da7c46",
   "metadata": {},
   "outputs": [
    {
     "data": {
      "text/plain": [
       "torch.Size([120, 4])"
      ]
     },
     "execution_count": 102,
     "metadata": {},
     "output_type": "execute_result"
    }
   ],
   "source": [
    "X_train.size()"
   ]
  },
  {
   "cell_type": "code",
   "execution_count": 103,
   "id": "b028e1d5",
   "metadata": {},
   "outputs": [
    {
     "data": {
      "text/plain": [
       "torch.Size([120, 1])"
      ]
     },
     "execution_count": 103,
     "metadata": {},
     "output_type": "execute_result"
    }
   ],
   "source": [
    "y_train.size()"
   ]
  },
  {
   "cell_type": "markdown",
   "id": "9b5ed1ca",
   "metadata": {},
   "source": [
    "У такому випадку на розробника полягає обов'язок запам'ятати які колонки відповідають яким властивостям."
   ]
  },
  {
   "cell_type": "markdown",
   "id": "adbcf527",
   "metadata": {},
   "source": [
    "### Розбиття даних на тестовий та тренувальний набір використовуючи класи Dataset та DataLoader з пакету PyTorch."
   ]
  },
  {
   "cell_type": "markdown",
   "id": "a18d4eda",
   "metadata": {},
   "source": [
    "Кращою альтернативою є використання класів <a href='https://pytorch.org/docs/stable/data.html'><strong><tt>Dataset</tt></strong></a> та <a href='https://pytorch.org/docs/stable/data.html#torch.utils.data.DataLoader'><strong><tt>DataLoader</strong></tt></a>.\n",
    "\n",
    "Зазвичай, щоб створити набір даних, специфічний до завдання створюється власний класс, який успадкований від <tt>torch.utils.data.Dataset</tt> Але для простих завдань можна використати вбудовний <a href='https://pytorch.org/docs/stable/data.html#torch.utils.data.TensorDataset'><strong><tt>TensorDataset</tt></strong></a> клас."
   ]
  },
  {
   "cell_type": "code",
   "execution_count": 104,
   "id": "451f5d31",
   "metadata": {},
   "outputs": [],
   "source": [
    "from torch.utils.data import TensorDataset, DataLoader\n",
    "\n",
    "data = df.drop('target',axis = 1).values\n",
    "labels = df['target'].values\n",
    "\n",
    "iris = TensorDataset(torch.FloatTensor(data), torch.LongTensor(labels))"
   ]
  },
  {
   "cell_type": "code",
   "execution_count": 105,
   "id": "4c981c91",
   "metadata": {},
   "outputs": [
    {
     "data": {
      "text/plain": [
       "150"
      ]
     },
     "execution_count": 105,
     "metadata": {},
     "output_type": "execute_result"
    }
   ],
   "source": [
    "len(iris)"
   ]
  },
  {
   "cell_type": "code",
   "execution_count": 106,
   "id": "26d82996",
   "metadata": {},
   "outputs": [
    {
     "data": {
      "text/plain": [
       "torch.utils.data.dataset.TensorDataset"
      ]
     },
     "execution_count": 106,
     "metadata": {},
     "output_type": "execute_result"
    }
   ],
   "source": [
    "type(iris)"
   ]
  },
  {
   "cell_type": "code",
   "execution_count": 107,
   "id": "3be3647e",
   "metadata": {},
   "outputs": [
    {
     "name": "stdout",
     "output_type": "stream",
     "text": [
      "(tensor([5.1000, 3.5000, 1.4000, 0.2000]), tensor(0))\n",
      "(tensor([4.9000, 3.0000, 1.4000, 0.2000]), tensor(0))\n",
      "(tensor([4.7000, 3.2000, 1.3000, 0.2000]), tensor(0))\n",
      "(tensor([4.6000, 3.1000, 1.5000, 0.2000]), tensor(0))\n",
      "(tensor([5.0000, 3.6000, 1.4000, 0.2000]), tensor(0))\n",
      "(tensor([5.4000, 3.9000, 1.7000, 0.4000]), tensor(0))\n",
      "(tensor([4.6000, 3.4000, 1.4000, 0.3000]), tensor(0))\n",
      "(tensor([5.0000, 3.4000, 1.5000, 0.2000]), tensor(0))\n",
      "(tensor([4.4000, 2.9000, 1.4000, 0.2000]), tensor(0))\n",
      "(tensor([4.9000, 3.1000, 1.5000, 0.1000]), tensor(0))\n",
      "(tensor([5.4000, 3.7000, 1.5000, 0.2000]), tensor(0))\n",
      "(tensor([4.8000, 3.4000, 1.6000, 0.2000]), tensor(0))\n",
      "(tensor([4.8000, 3.0000, 1.4000, 0.1000]), tensor(0))\n",
      "(tensor([4.3000, 3.0000, 1.1000, 0.1000]), tensor(0))\n",
      "(tensor([5.8000, 4.0000, 1.2000, 0.2000]), tensor(0))\n",
      "(tensor([5.7000, 4.4000, 1.5000, 0.4000]), tensor(0))\n",
      "(tensor([5.4000, 3.9000, 1.3000, 0.4000]), tensor(0))\n",
      "(tensor([5.1000, 3.5000, 1.4000, 0.3000]), tensor(0))\n",
      "(tensor([5.7000, 3.8000, 1.7000, 0.3000]), tensor(0))\n",
      "(tensor([5.1000, 3.8000, 1.5000, 0.3000]), tensor(0))\n",
      "(tensor([5.4000, 3.4000, 1.7000, 0.2000]), tensor(0))\n",
      "(tensor([5.1000, 3.7000, 1.5000, 0.4000]), tensor(0))\n",
      "(tensor([4.6000, 3.6000, 1.0000, 0.2000]), tensor(0))\n",
      "(tensor([5.1000, 3.3000, 1.7000, 0.5000]), tensor(0))\n",
      "(tensor([4.8000, 3.4000, 1.9000, 0.2000]), tensor(0))\n",
      "(tensor([5.0000, 3.0000, 1.6000, 0.2000]), tensor(0))\n",
      "(tensor([5.0000, 3.4000, 1.6000, 0.4000]), tensor(0))\n",
      "(tensor([5.2000, 3.5000, 1.5000, 0.2000]), tensor(0))\n",
      "(tensor([5.2000, 3.4000, 1.4000, 0.2000]), tensor(0))\n",
      "(tensor([4.7000, 3.2000, 1.6000, 0.2000]), tensor(0))\n",
      "(tensor([4.8000, 3.1000, 1.6000, 0.2000]), tensor(0))\n",
      "(tensor([5.4000, 3.4000, 1.5000, 0.4000]), tensor(0))\n",
      "(tensor([5.2000, 4.1000, 1.5000, 0.1000]), tensor(0))\n",
      "(tensor([5.5000, 4.2000, 1.4000, 0.2000]), tensor(0))\n",
      "(tensor([4.9000, 3.1000, 1.5000, 0.1000]), tensor(0))\n",
      "(tensor([5.0000, 3.2000, 1.2000, 0.2000]), tensor(0))\n",
      "(tensor([5.5000, 3.5000, 1.3000, 0.2000]), tensor(0))\n",
      "(tensor([4.9000, 3.1000, 1.5000, 0.1000]), tensor(0))\n",
      "(tensor([4.4000, 3.0000, 1.3000, 0.2000]), tensor(0))\n",
      "(tensor([5.1000, 3.4000, 1.5000, 0.2000]), tensor(0))\n",
      "(tensor([5.0000, 3.5000, 1.3000, 0.3000]), tensor(0))\n",
      "(tensor([4.5000, 2.3000, 1.3000, 0.3000]), tensor(0))\n",
      "(tensor([4.4000, 3.2000, 1.3000, 0.2000]), tensor(0))\n",
      "(tensor([5.0000, 3.5000, 1.6000, 0.6000]), tensor(0))\n",
      "(tensor([5.1000, 3.8000, 1.9000, 0.4000]), tensor(0))\n",
      "(tensor([4.8000, 3.0000, 1.4000, 0.3000]), tensor(0))\n",
      "(tensor([5.1000, 3.8000, 1.6000, 0.2000]), tensor(0))\n",
      "(tensor([4.6000, 3.2000, 1.4000, 0.2000]), tensor(0))\n",
      "(tensor([5.3000, 3.7000, 1.5000, 0.2000]), tensor(0))\n",
      "(tensor([5.0000, 3.3000, 1.4000, 0.2000]), tensor(0))\n",
      "(tensor([7.0000, 3.2000, 4.7000, 1.4000]), tensor(1))\n",
      "(tensor([6.4000, 3.2000, 4.5000, 1.5000]), tensor(1))\n",
      "(tensor([6.9000, 3.1000, 4.9000, 1.5000]), tensor(1))\n",
      "(tensor([5.5000, 2.3000, 4.0000, 1.3000]), tensor(1))\n",
      "(tensor([6.5000, 2.8000, 4.6000, 1.5000]), tensor(1))\n",
      "(tensor([5.7000, 2.8000, 4.5000, 1.3000]), tensor(1))\n",
      "(tensor([6.3000, 3.3000, 4.7000, 1.6000]), tensor(1))\n",
      "(tensor([4.9000, 2.4000, 3.3000, 1.0000]), tensor(1))\n",
      "(tensor([6.6000, 2.9000, 4.6000, 1.3000]), tensor(1))\n",
      "(tensor([5.2000, 2.7000, 3.9000, 1.4000]), tensor(1))\n",
      "(tensor([5.0000, 2.0000, 3.5000, 1.0000]), tensor(1))\n",
      "(tensor([5.9000, 3.0000, 4.2000, 1.5000]), tensor(1))\n",
      "(tensor([6.0000, 2.2000, 4.0000, 1.0000]), tensor(1))\n",
      "(tensor([6.1000, 2.9000, 4.7000, 1.4000]), tensor(1))\n",
      "(tensor([5.6000, 2.9000, 3.6000, 1.3000]), tensor(1))\n",
      "(tensor([6.7000, 3.1000, 4.4000, 1.4000]), tensor(1))\n",
      "(tensor([5.6000, 3.0000, 4.5000, 1.5000]), tensor(1))\n",
      "(tensor([5.8000, 2.7000, 4.1000, 1.0000]), tensor(1))\n",
      "(tensor([6.2000, 2.2000, 4.5000, 1.5000]), tensor(1))\n",
      "(tensor([5.6000, 2.5000, 3.9000, 1.1000]), tensor(1))\n",
      "(tensor([5.9000, 3.2000, 4.8000, 1.8000]), tensor(1))\n",
      "(tensor([6.1000, 2.8000, 4.0000, 1.3000]), tensor(1))\n",
      "(tensor([6.3000, 2.5000, 4.9000, 1.5000]), tensor(1))\n",
      "(tensor([6.1000, 2.8000, 4.7000, 1.2000]), tensor(1))\n",
      "(tensor([6.4000, 2.9000, 4.3000, 1.3000]), tensor(1))\n",
      "(tensor([6.6000, 3.0000, 4.4000, 1.4000]), tensor(1))\n",
      "(tensor([6.8000, 2.8000, 4.8000, 1.4000]), tensor(1))\n",
      "(tensor([6.7000, 3.0000, 5.0000, 1.7000]), tensor(1))\n",
      "(tensor([6.0000, 2.9000, 4.5000, 1.5000]), tensor(1))\n",
      "(tensor([5.7000, 2.6000, 3.5000, 1.0000]), tensor(1))\n",
      "(tensor([5.5000, 2.4000, 3.8000, 1.1000]), tensor(1))\n",
      "(tensor([5.5000, 2.4000, 3.7000, 1.0000]), tensor(1))\n",
      "(tensor([5.8000, 2.7000, 3.9000, 1.2000]), tensor(1))\n",
      "(tensor([6.0000, 2.7000, 5.1000, 1.6000]), tensor(1))\n",
      "(tensor([5.4000, 3.0000, 4.5000, 1.5000]), tensor(1))\n",
      "(tensor([6.0000, 3.4000, 4.5000, 1.6000]), tensor(1))\n",
      "(tensor([6.7000, 3.1000, 4.7000, 1.5000]), tensor(1))\n",
      "(tensor([6.3000, 2.3000, 4.4000, 1.3000]), tensor(1))\n",
      "(tensor([5.6000, 3.0000, 4.1000, 1.3000]), tensor(1))\n",
      "(tensor([5.5000, 2.5000, 4.0000, 1.3000]), tensor(1))\n",
      "(tensor([5.5000, 2.6000, 4.4000, 1.2000]), tensor(1))\n",
      "(tensor([6.1000, 3.0000, 4.6000, 1.4000]), tensor(1))\n",
      "(tensor([5.8000, 2.6000, 4.0000, 1.2000]), tensor(1))\n",
      "(tensor([5.0000, 2.3000, 3.3000, 1.0000]), tensor(1))\n",
      "(tensor([5.6000, 2.7000, 4.2000, 1.3000]), tensor(1))\n",
      "(tensor([5.7000, 3.0000, 4.2000, 1.2000]), tensor(1))\n",
      "(tensor([5.7000, 2.9000, 4.2000, 1.3000]), tensor(1))\n",
      "(tensor([6.2000, 2.9000, 4.3000, 1.3000]), tensor(1))\n",
      "(tensor([5.1000, 2.5000, 3.0000, 1.1000]), tensor(1))\n",
      "(tensor([5.7000, 2.8000, 4.1000, 1.3000]), tensor(1))\n",
      "(tensor([6.3000, 3.3000, 6.0000, 2.5000]), tensor(2))\n",
      "(tensor([5.8000, 2.7000, 5.1000, 1.9000]), tensor(2))\n",
      "(tensor([7.1000, 3.0000, 5.9000, 2.1000]), tensor(2))\n",
      "(tensor([6.3000, 2.9000, 5.6000, 1.8000]), tensor(2))\n",
      "(tensor([6.5000, 3.0000, 5.8000, 2.2000]), tensor(2))\n",
      "(tensor([7.6000, 3.0000, 6.6000, 2.1000]), tensor(2))\n",
      "(tensor([4.9000, 2.5000, 4.5000, 1.7000]), tensor(2))\n",
      "(tensor([7.3000, 2.9000, 6.3000, 1.8000]), tensor(2))\n",
      "(tensor([6.7000, 2.5000, 5.8000, 1.8000]), tensor(2))\n",
      "(tensor([7.2000, 3.6000, 6.1000, 2.5000]), tensor(2))\n",
      "(tensor([6.5000, 3.2000, 5.1000, 2.0000]), tensor(2))\n",
      "(tensor([6.4000, 2.7000, 5.3000, 1.9000]), tensor(2))\n",
      "(tensor([6.8000, 3.0000, 5.5000, 2.1000]), tensor(2))\n",
      "(tensor([5.7000, 2.5000, 5.0000, 2.0000]), tensor(2))\n",
      "(tensor([5.8000, 2.8000, 5.1000, 2.4000]), tensor(2))\n",
      "(tensor([6.4000, 3.2000, 5.3000, 2.3000]), tensor(2))\n",
      "(tensor([6.5000, 3.0000, 5.5000, 1.8000]), tensor(2))\n",
      "(tensor([7.7000, 3.8000, 6.7000, 2.2000]), tensor(2))\n",
      "(tensor([7.7000, 2.6000, 6.9000, 2.3000]), tensor(2))\n",
      "(tensor([6.0000, 2.2000, 5.0000, 1.5000]), tensor(2))\n",
      "(tensor([6.9000, 3.2000, 5.7000, 2.3000]), tensor(2))\n",
      "(tensor([5.6000, 2.8000, 4.9000, 2.0000]), tensor(2))\n",
      "(tensor([7.7000, 2.8000, 6.7000, 2.0000]), tensor(2))\n",
      "(tensor([6.3000, 2.7000, 4.9000, 1.8000]), tensor(2))\n",
      "(tensor([6.7000, 3.3000, 5.7000, 2.1000]), tensor(2))\n",
      "(tensor([7.2000, 3.2000, 6.0000, 1.8000]), tensor(2))\n",
      "(tensor([6.2000, 2.8000, 4.8000, 1.8000]), tensor(2))\n",
      "(tensor([6.1000, 3.0000, 4.9000, 1.8000]), tensor(2))\n",
      "(tensor([6.4000, 2.8000, 5.6000, 2.1000]), tensor(2))\n",
      "(tensor([7.2000, 3.0000, 5.8000, 1.6000]), tensor(2))\n",
      "(tensor([7.4000, 2.8000, 6.1000, 1.9000]), tensor(2))\n",
      "(tensor([7.9000, 3.8000, 6.4000, 2.0000]), tensor(2))\n",
      "(tensor([6.4000, 2.8000, 5.6000, 2.2000]), tensor(2))\n",
      "(tensor([6.3000, 2.8000, 5.1000, 1.5000]), tensor(2))\n",
      "(tensor([6.1000, 2.6000, 5.6000, 1.4000]), tensor(2))\n",
      "(tensor([7.7000, 3.0000, 6.1000, 2.3000]), tensor(2))\n",
      "(tensor([6.3000, 3.4000, 5.6000, 2.4000]), tensor(2))\n",
      "(tensor([6.4000, 3.1000, 5.5000, 1.8000]), tensor(2))\n",
      "(tensor([6.0000, 3.0000, 4.8000, 1.8000]), tensor(2))\n",
      "(tensor([6.9000, 3.1000, 5.4000, 2.1000]), tensor(2))\n",
      "(tensor([6.7000, 3.1000, 5.6000, 2.4000]), tensor(2))\n",
      "(tensor([6.9000, 3.1000, 5.1000, 2.3000]), tensor(2))\n",
      "(tensor([5.8000, 2.7000, 5.1000, 1.9000]), tensor(2))\n",
      "(tensor([6.8000, 3.2000, 5.9000, 2.3000]), tensor(2))\n",
      "(tensor([6.7000, 3.3000, 5.7000, 2.5000]), tensor(2))\n",
      "(tensor([6.7000, 3.0000, 5.2000, 2.3000]), tensor(2))\n",
      "(tensor([6.3000, 2.5000, 5.0000, 1.9000]), tensor(2))\n",
      "(tensor([6.5000, 3.0000, 5.2000, 2.0000]), tensor(2))\n",
      "(tensor([6.2000, 3.4000, 5.4000, 2.3000]), tensor(2))\n",
      "(tensor([5.9000, 3.0000, 5.1000, 1.8000]), tensor(2))\n"
     ]
    }
   ],
   "source": [
    "for i in iris:\n",
    "    print(i)"
   ]
  },
  {
   "cell_type": "markdown",
   "id": "1fee3c9b",
   "metadata": {},
   "source": [
    "Коли набір даних вже сформовано, його оможна обгорнути у DataLoader клас. Це дає потужний самплер, який надає можливість одно- або багатопроцесорної ітерації через набір даних."
   ]
  },
  {
   "cell_type": "code",
   "execution_count": 108,
   "id": "3c45aa60",
   "metadata": {},
   "outputs": [],
   "source": [
    "iris_loader = DataLoader(iris, batch_size = 105, shuffle = True)"
   ]
  },
  {
   "cell_type": "code",
   "execution_count": 109,
   "id": "0fcee43d",
   "metadata": {},
   "outputs": [
    {
     "name": "stdout",
     "output_type": "stream",
     "text": [
      "0 [tensor([[5.1000, 3.8000, 1.6000, 0.2000],\n",
      "        [4.9000, 2.5000, 4.5000, 1.7000],\n",
      "        [4.8000, 3.4000, 1.6000, 0.2000],\n",
      "        [7.7000, 3.0000, 6.1000, 2.3000],\n",
      "        [6.5000, 3.0000, 5.5000, 1.8000],\n",
      "        [6.9000, 3.1000, 4.9000, 1.5000],\n",
      "        [7.2000, 3.0000, 5.8000, 1.6000],\n",
      "        [5.2000, 3.5000, 1.5000, 0.2000],\n",
      "        [6.3000, 2.5000, 5.0000, 1.9000],\n",
      "        [4.5000, 2.3000, 1.3000, 0.3000],\n",
      "        [6.0000, 2.2000, 4.0000, 1.0000],\n",
      "        [6.3000, 2.7000, 4.9000, 1.8000],\n",
      "        [5.7000, 4.4000, 1.5000, 0.4000],\n",
      "        [6.4000, 3.2000, 5.3000, 2.3000],\n",
      "        [6.7000, 2.5000, 5.8000, 1.8000],\n",
      "        [6.4000, 2.9000, 4.3000, 1.3000],\n",
      "        [6.0000, 2.2000, 5.0000, 1.5000],\n",
      "        [6.7000, 3.3000, 5.7000, 2.1000],\n",
      "        [6.7000, 3.0000, 5.0000, 1.7000],\n",
      "        [6.3000, 3.3000, 6.0000, 2.5000],\n",
      "        [6.5000, 3.0000, 5.8000, 2.2000],\n",
      "        [6.0000, 2.9000, 4.5000, 1.5000],\n",
      "        [6.3000, 2.9000, 5.6000, 1.8000],\n",
      "        [5.4000, 3.9000, 1.3000, 0.4000],\n",
      "        [5.1000, 2.5000, 3.0000, 1.1000],\n",
      "        [4.6000, 3.4000, 1.4000, 0.3000],\n",
      "        [5.6000, 3.0000, 4.5000, 1.5000],\n",
      "        [7.1000, 3.0000, 5.9000, 2.1000],\n",
      "        [4.9000, 3.1000, 1.5000, 0.1000],\n",
      "        [6.1000, 3.0000, 4.9000, 1.8000],\n",
      "        [4.9000, 2.4000, 3.3000, 1.0000],\n",
      "        [6.0000, 3.0000, 4.8000, 1.8000],\n",
      "        [6.7000, 3.1000, 4.4000, 1.4000],\n",
      "        [6.2000, 2.8000, 4.8000, 1.8000],\n",
      "        [5.7000, 3.8000, 1.7000, 0.3000],\n",
      "        [6.1000, 2.8000, 4.7000, 1.2000],\n",
      "        [5.6000, 2.8000, 4.9000, 2.0000],\n",
      "        [6.5000, 3.0000, 5.2000, 2.0000],\n",
      "        [4.9000, 3.1000, 1.5000, 0.1000],\n",
      "        [4.3000, 3.0000, 1.1000, 0.1000],\n",
      "        [5.9000, 3.0000, 5.1000, 1.8000],\n",
      "        [7.4000, 2.8000, 6.1000, 1.9000],\n",
      "        [6.4000, 3.1000, 5.5000, 1.8000],\n",
      "        [5.6000, 3.0000, 4.1000, 1.3000],\n",
      "        [5.1000, 3.8000, 1.9000, 0.4000],\n",
      "        [6.7000, 3.3000, 5.7000, 2.5000],\n",
      "        [5.0000, 3.4000, 1.5000, 0.2000],\n",
      "        [6.6000, 2.9000, 4.6000, 1.3000],\n",
      "        [5.6000, 2.5000, 3.9000, 1.1000],\n",
      "        [5.4000, 3.7000, 1.5000, 0.2000],\n",
      "        [6.7000, 3.1000, 4.7000, 1.5000],\n",
      "        [4.6000, 3.1000, 1.5000, 0.2000],\n",
      "        [5.5000, 2.5000, 4.0000, 1.3000],\n",
      "        [6.6000, 3.0000, 4.4000, 1.4000],\n",
      "        [7.2000, 3.2000, 6.0000, 1.8000],\n",
      "        [5.9000, 3.0000, 4.2000, 1.5000],\n",
      "        [7.7000, 3.8000, 6.7000, 2.2000],\n",
      "        [6.1000, 3.0000, 4.6000, 1.4000],\n",
      "        [5.5000, 2.6000, 4.4000, 1.2000],\n",
      "        [6.0000, 2.7000, 5.1000, 1.6000],\n",
      "        [4.8000, 3.0000, 1.4000, 0.3000],\n",
      "        [5.0000, 3.2000, 1.2000, 0.2000],\n",
      "        [6.7000, 3.1000, 5.6000, 2.4000],\n",
      "        [5.8000, 2.7000, 4.1000, 1.0000],\n",
      "        [7.2000, 3.6000, 6.1000, 2.5000],\n",
      "        [5.0000, 3.4000, 1.6000, 0.4000],\n",
      "        [5.6000, 2.7000, 4.2000, 1.3000],\n",
      "        [5.5000, 2.4000, 3.7000, 1.0000],\n",
      "        [5.1000, 3.5000, 1.4000, 0.2000],\n",
      "        [5.7000, 2.8000, 4.5000, 1.3000],\n",
      "        [6.0000, 3.4000, 4.5000, 1.6000],\n",
      "        [5.5000, 2.3000, 4.0000, 1.3000],\n",
      "        [7.3000, 2.9000, 6.3000, 1.8000],\n",
      "        [5.4000, 3.4000, 1.7000, 0.2000],\n",
      "        [5.7000, 2.8000, 4.1000, 1.3000],\n",
      "        [5.0000, 3.5000, 1.6000, 0.6000],\n",
      "        [7.7000, 2.8000, 6.7000, 2.0000],\n",
      "        [6.1000, 2.6000, 5.6000, 1.4000],\n",
      "        [6.3000, 3.4000, 5.6000, 2.4000],\n",
      "        [4.4000, 3.2000, 1.3000, 0.2000],\n",
      "        [5.2000, 4.1000, 1.5000, 0.1000],\n",
      "        [5.5000, 4.2000, 1.4000, 0.2000],\n",
      "        [5.1000, 3.8000, 1.5000, 0.3000],\n",
      "        [5.1000, 3.5000, 1.4000, 0.3000],\n",
      "        [5.0000, 3.3000, 1.4000, 0.2000],\n",
      "        [6.2000, 2.9000, 4.3000, 1.3000],\n",
      "        [5.7000, 2.9000, 4.2000, 1.3000],\n",
      "        [5.7000, 3.0000, 4.2000, 1.2000],\n",
      "        [6.3000, 2.3000, 4.4000, 1.3000],\n",
      "        [5.1000, 3.7000, 1.5000, 0.4000],\n",
      "        [6.1000, 2.9000, 4.7000, 1.4000],\n",
      "        [4.7000, 3.2000, 1.3000, 0.2000],\n",
      "        [4.8000, 3.1000, 1.6000, 0.2000],\n",
      "        [6.9000, 3.1000, 5.1000, 2.3000],\n",
      "        [5.8000, 4.0000, 1.2000, 0.2000],\n",
      "        [7.9000, 3.8000, 6.4000, 2.0000],\n",
      "        [5.7000, 2.5000, 5.0000, 2.0000],\n",
      "        [6.7000, 3.0000, 5.2000, 2.3000],\n",
      "        [5.2000, 3.4000, 1.4000, 0.2000],\n",
      "        [5.6000, 2.9000, 3.6000, 1.3000],\n",
      "        [7.0000, 3.2000, 4.7000, 1.4000],\n",
      "        [5.0000, 3.0000, 1.6000, 0.2000],\n",
      "        [6.8000, 3.2000, 5.9000, 2.3000],\n",
      "        [6.5000, 3.2000, 5.1000, 2.0000],\n",
      "        [6.4000, 2.8000, 5.6000, 2.2000]]), tensor([0, 2, 0, 2, 2, 1, 2, 0, 2, 0, 1, 2, 0, 2, 2, 1, 2, 2, 1, 2, 2, 1, 2, 0,\n",
      "        1, 0, 1, 2, 0, 2, 1, 2, 1, 2, 0, 1, 2, 2, 0, 0, 2, 2, 2, 1, 0, 2, 0, 1,\n",
      "        1, 0, 1, 0, 1, 1, 2, 1, 2, 1, 1, 1, 0, 0, 2, 1, 2, 0, 1, 1, 0, 1, 1, 1,\n",
      "        2, 0, 1, 0, 2, 2, 2, 0, 0, 0, 0, 0, 0, 1, 1, 1, 1, 0, 1, 0, 0, 2, 0, 2,\n",
      "        2, 2, 0, 1, 1, 0, 2, 2, 2])]\n",
      "1 [tensor([[6.3000, 2.8000, 5.1000, 1.5000],\n",
      "        [6.4000, 2.8000, 5.6000, 2.1000],\n",
      "        [5.8000, 2.7000, 5.1000, 1.9000],\n",
      "        [4.7000, 3.2000, 1.6000, 0.2000],\n",
      "        [5.9000, 3.2000, 4.8000, 1.8000],\n",
      "        [5.4000, 3.4000, 1.5000, 0.4000],\n",
      "        [4.6000, 3.6000, 1.0000, 0.2000],\n",
      "        [6.4000, 3.2000, 4.5000, 1.5000],\n",
      "        [5.1000, 3.3000, 1.7000, 0.5000],\n",
      "        [5.4000, 3.9000, 1.7000, 0.4000],\n",
      "        [5.0000, 3.6000, 1.4000, 0.2000],\n",
      "        [5.5000, 3.5000, 1.3000, 0.2000],\n",
      "        [6.5000, 2.8000, 4.6000, 1.5000],\n",
      "        [4.9000, 3.1000, 1.5000, 0.1000],\n",
      "        [5.5000, 2.4000, 3.8000, 1.1000],\n",
      "        [6.9000, 3.2000, 5.7000, 2.3000],\n",
      "        [5.8000, 2.6000, 4.0000, 1.2000],\n",
      "        [4.9000, 3.0000, 1.4000, 0.2000],\n",
      "        [7.6000, 3.0000, 6.6000, 2.1000],\n",
      "        [4.4000, 2.9000, 1.4000, 0.2000],\n",
      "        [5.2000, 2.7000, 3.9000, 1.4000],\n",
      "        [4.8000, 3.4000, 1.9000, 0.2000],\n",
      "        [5.0000, 2.0000, 3.5000, 1.0000],\n",
      "        [5.8000, 2.8000, 5.1000, 2.4000],\n",
      "        [6.8000, 3.0000, 5.5000, 2.1000],\n",
      "        [5.4000, 3.0000, 4.5000, 1.5000],\n",
      "        [5.0000, 2.3000, 3.3000, 1.0000],\n",
      "        [6.3000, 3.3000, 4.7000, 1.6000],\n",
      "        [6.1000, 2.8000, 4.0000, 1.3000],\n",
      "        [5.1000, 3.4000, 1.5000, 0.2000],\n",
      "        [6.8000, 2.8000, 4.8000, 1.4000],\n",
      "        [4.4000, 3.0000, 1.3000, 0.2000],\n",
      "        [6.2000, 3.4000, 5.4000, 2.3000],\n",
      "        [6.2000, 2.2000, 4.5000, 1.5000],\n",
      "        [6.9000, 3.1000, 5.4000, 2.1000],\n",
      "        [4.8000, 3.0000, 1.4000, 0.1000],\n",
      "        [4.6000, 3.2000, 1.4000, 0.2000],\n",
      "        [6.3000, 2.5000, 4.9000, 1.5000],\n",
      "        [5.8000, 2.7000, 3.9000, 1.2000],\n",
      "        [6.4000, 2.7000, 5.3000, 1.9000],\n",
      "        [5.7000, 2.6000, 3.5000, 1.0000],\n",
      "        [5.3000, 3.7000, 1.5000, 0.2000],\n",
      "        [5.0000, 3.5000, 1.3000, 0.3000],\n",
      "        [7.7000, 2.6000, 6.9000, 2.3000],\n",
      "        [5.8000, 2.7000, 5.1000, 1.9000]]), tensor([2, 2, 2, 0, 1, 0, 0, 1, 0, 0, 0, 0, 1, 0, 1, 2, 1, 0, 2, 0, 1, 0, 1, 2,\n",
      "        2, 1, 1, 1, 1, 0, 1, 0, 2, 1, 2, 0, 0, 1, 1, 2, 1, 0, 0, 2, 2])]\n"
     ]
    }
   ],
   "source": [
    "for i_batch, sample_batched in enumerate(iris_loader):\n",
    "    print(i_batch, sample_batched)"
   ]
  },
  {
   "cell_type": "code",
   "execution_count": 110,
   "id": "50cdc5bb",
   "metadata": {},
   "outputs": [
    {
     "data": {
      "text/plain": [
       "tensor([35, 34, 36])"
      ]
     },
     "execution_count": 110,
     "metadata": {},
     "output_type": "execute_result"
    }
   ],
   "source": [
    "list(iris_loader)[0][1].bincount()"
   ]
  },
  {
   "cell_type": "code",
   "execution_count": 111,
   "id": "01c5b545",
   "metadata": {},
   "outputs": [
    {
     "data": {
      "text/plain": [
       "[tensor([[5.2000, 4.1000, 1.5000, 0.1000],\n",
       "         [4.9000, 2.4000, 3.3000, 1.0000],\n",
       "         [5.5000, 2.3000, 4.0000, 1.3000],\n",
       "         [5.7000, 3.0000, 4.2000, 1.2000],\n",
       "         [6.2000, 2.8000, 4.8000, 1.8000],\n",
       "         [6.6000, 2.9000, 4.6000, 1.3000],\n",
       "         [6.5000, 3.0000, 5.2000, 2.0000],\n",
       "         [6.9000, 3.1000, 5.1000, 2.3000],\n",
       "         [7.7000, 2.8000, 6.7000, 2.0000],\n",
       "         [4.4000, 3.2000, 1.3000, 0.2000],\n",
       "         [6.2000, 2.9000, 4.3000, 1.3000],\n",
       "         [7.1000, 3.0000, 5.9000, 2.1000],\n",
       "         [6.3000, 2.7000, 4.9000, 1.8000],\n",
       "         [7.2000, 3.6000, 6.1000, 2.5000],\n",
       "         [6.9000, 3.1000, 5.4000, 2.1000],\n",
       "         [5.6000, 3.0000, 4.5000, 1.5000],\n",
       "         [5.5000, 2.5000, 4.0000, 1.3000],\n",
       "         [6.7000, 3.0000, 5.0000, 1.7000],\n",
       "         [6.4000, 2.7000, 5.3000, 1.9000],\n",
       "         [6.7000, 3.1000, 4.4000, 1.4000],\n",
       "         [6.6000, 3.0000, 4.4000, 1.4000],\n",
       "         [6.5000, 3.2000, 5.1000, 2.0000],\n",
       "         [6.1000, 3.0000, 4.6000, 1.4000],\n",
       "         [5.5000, 4.2000, 1.4000, 0.2000],\n",
       "         [5.0000, 3.5000, 1.6000, 0.6000],\n",
       "         [5.7000, 2.6000, 3.5000, 1.0000],\n",
       "         [6.4000, 2.9000, 4.3000, 1.3000],\n",
       "         [6.9000, 3.1000, 4.9000, 1.5000],\n",
       "         [5.5000, 3.5000, 1.3000, 0.2000],\n",
       "         [5.9000, 3.0000, 5.1000, 1.8000],\n",
       "         [5.4000, 3.4000, 1.7000, 0.2000],\n",
       "         [6.3000, 3.3000, 6.0000, 2.5000],\n",
       "         [4.6000, 3.1000, 1.5000, 0.2000],\n",
       "         [6.3000, 3.3000, 4.7000, 1.6000],\n",
       "         [6.1000, 2.8000, 4.0000, 1.3000],\n",
       "         [6.4000, 2.8000, 5.6000, 2.1000],\n",
       "         [5.8000, 4.0000, 1.2000, 0.2000],\n",
       "         [6.3000, 2.9000, 5.6000, 1.8000],\n",
       "         [5.5000, 2.4000, 3.8000, 1.1000],\n",
       "         [5.7000, 2.5000, 5.0000, 2.0000],\n",
       "         [6.0000, 2.2000, 5.0000, 1.5000],\n",
       "         [7.7000, 2.6000, 6.9000, 2.3000],\n",
       "         [5.1000, 3.7000, 1.5000, 0.4000],\n",
       "         [4.9000, 3.0000, 1.4000, 0.2000],\n",
       "         [6.0000, 3.0000, 4.8000, 1.8000],\n",
       "         [6.8000, 2.8000, 4.8000, 1.4000],\n",
       "         [7.3000, 2.9000, 6.3000, 1.8000],\n",
       "         [4.9000, 3.1000, 1.5000, 0.1000],\n",
       "         [6.5000, 3.0000, 5.8000, 2.2000],\n",
       "         [5.8000, 2.7000, 4.1000, 1.0000],\n",
       "         [6.7000, 3.1000, 5.6000, 2.4000],\n",
       "         [5.2000, 3.5000, 1.5000, 0.2000],\n",
       "         [5.0000, 2.3000, 3.3000, 1.0000],\n",
       "         [6.1000, 2.6000, 5.6000, 1.4000],\n",
       "         [4.3000, 3.0000, 1.1000, 0.1000],\n",
       "         [5.8000, 2.8000, 5.1000, 2.4000],\n",
       "         [6.4000, 3.2000, 5.3000, 2.3000],\n",
       "         [5.8000, 2.6000, 4.0000, 1.2000],\n",
       "         [6.3000, 2.5000, 5.0000, 1.9000],\n",
       "         [5.4000, 3.7000, 1.5000, 0.2000],\n",
       "         [5.0000, 3.5000, 1.3000, 0.3000],\n",
       "         [5.1000, 3.3000, 1.7000, 0.5000],\n",
       "         [4.7000, 3.2000, 1.6000, 0.2000],\n",
       "         [4.8000, 3.4000, 1.6000, 0.2000],\n",
       "         [5.6000, 3.0000, 4.1000, 1.3000],\n",
       "         [4.8000, 3.1000, 1.6000, 0.2000],\n",
       "         [6.4000, 3.2000, 4.5000, 1.5000],\n",
       "         [5.4000, 3.9000, 1.3000, 0.4000],\n",
       "         [5.0000, 3.3000, 1.4000, 0.2000],\n",
       "         [5.0000, 3.4000, 1.6000, 0.4000],\n",
       "         [5.2000, 2.7000, 3.9000, 1.4000],\n",
       "         [5.7000, 4.4000, 1.5000, 0.4000],\n",
       "         [5.5000, 2.4000, 3.7000, 1.0000],\n",
       "         [5.0000, 3.2000, 1.2000, 0.2000],\n",
       "         [5.4000, 3.4000, 1.5000, 0.4000],\n",
       "         [6.1000, 3.0000, 4.9000, 1.8000],\n",
       "         [7.7000, 3.0000, 6.1000, 2.3000],\n",
       "         [6.1000, 2.9000, 4.7000, 1.4000],\n",
       "         [6.3000, 2.3000, 4.4000, 1.3000],\n",
       "         [5.9000, 3.2000, 4.8000, 1.8000],\n",
       "         [7.0000, 3.2000, 4.7000, 1.4000],\n",
       "         [4.8000, 3.0000, 1.4000, 0.1000],\n",
       "         [5.6000, 2.8000, 4.9000, 2.0000],\n",
       "         [7.9000, 3.8000, 6.4000, 2.0000],\n",
       "         [7.2000, 3.0000, 5.8000, 1.6000],\n",
       "         [5.1000, 3.5000, 1.4000, 0.3000],\n",
       "         [6.5000, 2.8000, 4.6000, 1.5000],\n",
       "         [7.2000, 3.2000, 6.0000, 1.8000],\n",
       "         [6.7000, 3.1000, 4.7000, 1.5000],\n",
       "         [6.0000, 2.7000, 5.1000, 1.6000],\n",
       "         [5.1000, 3.8000, 1.5000, 0.3000],\n",
       "         [5.6000, 2.5000, 3.9000, 1.1000],\n",
       "         [6.7000, 3.0000, 5.2000, 2.3000],\n",
       "         [4.6000, 3.6000, 1.0000, 0.2000],\n",
       "         [5.6000, 2.7000, 4.2000, 1.3000],\n",
       "         [7.7000, 3.8000, 6.7000, 2.2000],\n",
       "         [7.4000, 2.8000, 6.1000, 1.9000],\n",
       "         [5.4000, 3.9000, 1.7000, 0.4000],\n",
       "         [4.7000, 3.2000, 1.3000, 0.2000],\n",
       "         [4.9000, 2.5000, 4.5000, 1.7000],\n",
       "         [5.7000, 3.8000, 1.7000, 0.3000],\n",
       "         [6.9000, 3.2000, 5.7000, 2.3000],\n",
       "         [5.2000, 3.4000, 1.4000, 0.2000],\n",
       "         [4.8000, 3.0000, 1.4000, 0.3000],\n",
       "         [4.9000, 3.1000, 1.5000, 0.1000]]),\n",
       " tensor([0, 1, 1, 1, 2, 1, 2, 2, 2, 0, 1, 2, 2, 2, 2, 1, 1, 1, 2, 1, 1, 2, 1, 0,\n",
       "         0, 1, 1, 1, 0, 2, 0, 2, 0, 1, 1, 2, 0, 2, 1, 2, 2, 2, 0, 0, 2, 1, 2, 0,\n",
       "         2, 1, 2, 0, 1, 2, 0, 2, 2, 1, 2, 0, 0, 0, 0, 0, 1, 0, 1, 0, 0, 0, 1, 0,\n",
       "         1, 0, 0, 2, 2, 1, 1, 1, 1, 0, 2, 2, 2, 0, 1, 2, 1, 1, 0, 1, 2, 0, 1, 2,\n",
       "         2, 0, 0, 2, 0, 2, 0, 0, 0])]"
      ]
     },
     "execution_count": 111,
     "metadata": {},
     "output_type": "execute_result"
    }
   ],
   "source": [
    "next(iter(iris_loader))"
   ]
  }
 ],
 "metadata": {
  "kernelspec": {
   "display_name": "Python 3 (ipykernel)",
   "language": "python",
   "name": "python3"
  },
  "language_info": {
   "codemirror_mode": {
    "name": "ipython",
    "version": 3
   },
   "file_extension": ".py",
   "mimetype": "text/x-python",
   "name": "python",
   "nbconvert_exporter": "python",
   "pygments_lexer": "ipython3",
   "version": "3.9.13"
  }
 },
 "nbformat": 4,
 "nbformat_minor": 5
}
