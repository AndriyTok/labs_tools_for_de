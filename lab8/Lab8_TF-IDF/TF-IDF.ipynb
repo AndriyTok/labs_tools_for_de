{
 "cells": [
  {
   "cell_type": "markdown",
   "id": "d896a78f",
   "metadata": {},
   "source": [
    "# TF-IDF.\n",
    "\n",
    "TF-IDF - term frequency - inverse document frequency - один з способів оцінки важливості слова у документі. Вага tf-idf - це вага, яка використовується при отриманні інформації та аналізу текстів. Ця вага є статистичним показником, який використовується для оцінки важливості слова для документа в колекції або корпусі. Важливість слова зростає пропорційно до кількості разів появи слова у документі або компенсується частотою слова в корпусі. Варіанти схем зважування tf-idf часто використовуються пошуковими системами як центральний інструмент оцінки та ранжування  важливості документа при отриманому запиті від користувача.\n",
    "\n",
    "Корпус - це колекція текстів.\n",
    "\n",
    "Одна з найпростіших функцій ранжування обраховується як просте сумування tf-idf для кожного запиту. Окрім того існує багато інших складніших методів ранжування функцій.\n",
    "\n",
    "Зазвичай tf-idf вага складається з двох складових - спочатку обраховується нормалізована Частота Терміну (Term Frequency TF), або відношення кількість разів появи слова у документі до загальної кількість слів у документів. Друга складова - Зворотня Частота Документу (Inverse Documnet Frequency IDF), яка обраховується як відношення логарифму кількості документів у корпусі до кількості документів, де зустрічається вказаний термін.\n",
    "\n",
    "__TF: Term Frequency__ - визначає, наскільки часто термін зустрічається в документі. Оскільки документи мають різну довжину, є ймовірність того, що термін буде виникати у довгих документах частіше, ніж у коротких. Тому, як спосіб нормалізації, частота терміну часто ділиться на загальну кількість слів у документі. \n",
    "\n",
    "__IDF: Inverse Document Frequency__ - визначає, наскільки важливим є термін. Обраховуючи TF, всі терміни розглядаються як такі, які мають однакову важливість. Однак, різні допоміжні слова можуть виникати часто, але мати маленьку важливість. Тому необхідно зменшити вагу термінів, які зустрічаються часто і збільшити вагу для термінів, які зустрічаються рідко.\n",
    "\n",
    "Розглянемо приклад. Використаємо набір даних з [UCI](https://archive.ics.uci.edu/ml/datasets/SMS+Spam+Collection)."
   ]
  },
  {
   "cell_type": "code",
   "execution_count": 1,
   "id": "b1b3b37a",
   "metadata": {},
   "outputs": [
    {
     "name": "stdout",
     "output_type": "stream",
     "text": [
      "5574\n"
     ]
    }
   ],
   "source": [
    "messages = [line.rstrip() for line in open('SMSSpamCollection')]\n",
    "print(len(messages))"
   ]
  },
  {
   "cell_type": "code",
   "execution_count": 2,
   "id": "a66062f2",
   "metadata": {},
   "outputs": [
    {
     "name": "stdout",
     "output_type": "stream",
     "text": [
      "0 ham\tGo until jurong point, crazy.. Available only in bugis n great world la e buffet... Cine there got amore wat...\n",
      "1 ham\tOk lar... Joking wif u oni...\n",
      "2 spam\tFree entry in 2 a wkly comp to win FA Cup final tkts 21st May 2005. Text FA to 87121 to receive entry question(std txt rate)T&C's apply 08452810075over18's\n",
      "3 ham\tU dun say so early hor... U c already then say...\n",
      "4 ham\tNah I don't think he goes to usf, he lives around here though\n",
      "5 spam\tFreeMsg Hey there darling it's been 3 week's now and no word back! I'd like some fun you up for it still? Tb ok! XxX std chgs to send, £1.50 to rcv\n",
      "6 ham\tEven my brother is not like to speak with me. They treat me like aids patent.\n",
      "7 ham\tAs per your request 'Melle Melle (Oru Minnaminunginte Nurungu Vettam)' has been set as your callertune for all Callers. Press *9 to copy your friends Callertune\n",
      "8 spam\tWINNER!! As a valued network customer you have been selected to receivea £900 prize reward! To claim call 09061701461. Claim code KL341. Valid 12 hours only.\n",
      "9 spam\tHad your mobile 11 months or more? U R entitled to Update to the latest colour mobiles with camera for Free! Call The Mobile Update Co FREE on 08002986030\n"
     ]
    }
   ],
   "source": [
    "for message_no, message in enumerate(messages[:10]):\n",
    "    print(message_no, message)"
   ]
  },
  {
   "cell_type": "markdown",
   "id": "18936629",
   "metadata": {},
   "source": [
    "Тут ми бачимо, що першим елементом у повідомленні є мітка, чи це повідомлення є нормальним (ham) чи спамом (spam). Друга частина - це саме повідомлення.\n",
    "\n",
    "Використовуючи помічені дані, ми натренуємо модель, яка зможе автоматично розрізняти нормальні повідомлення від спаму. Потім, вже натреновану модель можна буде використовувати, щоб класифікувати дані без міток."
   ]
  },
  {
   "cell_type": "code",
   "execution_count": 3,
   "id": "22744f36",
   "metadata": {},
   "outputs": [
    {
     "data": {
      "text/html": [
       "<div>\n",
       "<style scoped>\n",
       "    .dataframe tbody tr th:only-of-type {\n",
       "        vertical-align: middle;\n",
       "    }\n",
       "\n",
       "    .dataframe tbody tr th {\n",
       "        vertical-align: top;\n",
       "    }\n",
       "\n",
       "    .dataframe thead th {\n",
       "        text-align: right;\n",
       "    }\n",
       "</style>\n",
       "<table border=\"1\" class=\"dataframe\">\n",
       "  <thead>\n",
       "    <tr style=\"text-align: right;\">\n",
       "      <th></th>\n",
       "      <th>label</th>\n",
       "      <th>message</th>\n",
       "    </tr>\n",
       "  </thead>\n",
       "  <tbody>\n",
       "    <tr>\n",
       "      <th>0</th>\n",
       "      <td>ham</td>\n",
       "      <td>Go until jurong point, crazy.. Available only ...</td>\n",
       "    </tr>\n",
       "    <tr>\n",
       "      <th>1</th>\n",
       "      <td>ham</td>\n",
       "      <td>Ok lar... Joking wif u oni...</td>\n",
       "    </tr>\n",
       "    <tr>\n",
       "      <th>2</th>\n",
       "      <td>spam</td>\n",
       "      <td>Free entry in 2 a wkly comp to win FA Cup fina...</td>\n",
       "    </tr>\n",
       "    <tr>\n",
       "      <th>3</th>\n",
       "      <td>ham</td>\n",
       "      <td>U dun say so early hor... U c already then say...</td>\n",
       "    </tr>\n",
       "    <tr>\n",
       "      <th>4</th>\n",
       "      <td>ham</td>\n",
       "      <td>Nah I don't think he goes to usf, he lives aro...</td>\n",
       "    </tr>\n",
       "  </tbody>\n",
       "</table>\n",
       "</div>"
      ],
      "text/plain": [
       "  label                                            message\n",
       "0   ham  Go until jurong point, crazy.. Available only ...\n",
       "1   ham                      Ok lar... Joking wif u oni...\n",
       "2  spam  Free entry in 2 a wkly comp to win FA Cup fina...\n",
       "3   ham  U dun say so early hor... U c already then say...\n",
       "4   ham  Nah I don't think he goes to usf, he lives aro..."
      ]
     },
     "execution_count": 3,
     "metadata": {},
     "output_type": "execute_result"
    }
   ],
   "source": [
    "import pandas as pd\n",
    "\n",
    "messages = pd.read_csv('SMSSpamCollection', sep='\\t', names=[\"label\", \"message\"])\n",
    "messages.head()"
   ]
  },
  {
   "cell_type": "markdown",
   "id": "4d945653",
   "metadata": {},
   "source": [
    "## Аналіз даних."
   ]
  },
  {
   "cell_type": "code",
   "execution_count": 4,
   "id": "43f512c2",
   "metadata": {},
   "outputs": [
    {
     "data": {
      "text/html": [
       "<div>\n",
       "<style scoped>\n",
       "    .dataframe tbody tr th:only-of-type {\n",
       "        vertical-align: middle;\n",
       "    }\n",
       "\n",
       "    .dataframe tbody tr th {\n",
       "        vertical-align: top;\n",
       "    }\n",
       "\n",
       "    .dataframe thead th {\n",
       "        text-align: right;\n",
       "    }\n",
       "</style>\n",
       "<table border=\"1\" class=\"dataframe\">\n",
       "  <thead>\n",
       "    <tr style=\"text-align: right;\">\n",
       "      <th></th>\n",
       "      <th>label</th>\n",
       "      <th>message</th>\n",
       "    </tr>\n",
       "  </thead>\n",
       "  <tbody>\n",
       "    <tr>\n",
       "      <th>count</th>\n",
       "      <td>5572</td>\n",
       "      <td>5572</td>\n",
       "    </tr>\n",
       "    <tr>\n",
       "      <th>unique</th>\n",
       "      <td>2</td>\n",
       "      <td>5169</td>\n",
       "    </tr>\n",
       "    <tr>\n",
       "      <th>top</th>\n",
       "      <td>ham</td>\n",
       "      <td>Sorry, I'll call later</td>\n",
       "    </tr>\n",
       "    <tr>\n",
       "      <th>freq</th>\n",
       "      <td>4825</td>\n",
       "      <td>30</td>\n",
       "    </tr>\n",
       "  </tbody>\n",
       "</table>\n",
       "</div>"
      ],
      "text/plain": [
       "       label                 message\n",
       "count   5572                    5572\n",
       "unique     2                    5169\n",
       "top      ham  Sorry, I'll call later\n",
       "freq    4825                      30"
      ]
     },
     "execution_count": 4,
     "metadata": {},
     "output_type": "execute_result"
    }
   ],
   "source": [
    "messages.describe()"
   ]
  },
  {
   "cell_type": "markdown",
   "id": "033b7c43",
   "metadata": {},
   "source": [
    "Під час аналізу даних потрібно вибирати властивості, які будуть використовуватись у подальшому. Це також відповідає ідеї [розробки властивостей](https://en.wikipedia.org/wiki/Feature_engineering). Чим кращі знання розробника у досліджуваній сфері, тим більше властивостей він зможе створити з наявних даних."
   ]
  },
  {
   "cell_type": "code",
   "execution_count": 5,
   "id": "a3f9e844",
   "metadata": {},
   "outputs": [
    {
     "data": {
      "text/html": [
       "<div>\n",
       "<style scoped>\n",
       "    .dataframe tbody tr th:only-of-type {\n",
       "        vertical-align: middle;\n",
       "    }\n",
       "\n",
       "    .dataframe tbody tr th {\n",
       "        vertical-align: top;\n",
       "    }\n",
       "\n",
       "    .dataframe thead th {\n",
       "        text-align: right;\n",
       "    }\n",
       "</style>\n",
       "<table border=\"1\" class=\"dataframe\">\n",
       "  <thead>\n",
       "    <tr style=\"text-align: right;\">\n",
       "      <th></th>\n",
       "      <th>label</th>\n",
       "      <th>message</th>\n",
       "      <th>length</th>\n",
       "    </tr>\n",
       "  </thead>\n",
       "  <tbody>\n",
       "    <tr>\n",
       "      <th>0</th>\n",
       "      <td>ham</td>\n",
       "      <td>Go until jurong point, crazy.. Available only ...</td>\n",
       "      <td>111</td>\n",
       "    </tr>\n",
       "    <tr>\n",
       "      <th>1</th>\n",
       "      <td>ham</td>\n",
       "      <td>Ok lar... Joking wif u oni...</td>\n",
       "      <td>29</td>\n",
       "    </tr>\n",
       "    <tr>\n",
       "      <th>2</th>\n",
       "      <td>spam</td>\n",
       "      <td>Free entry in 2 a wkly comp to win FA Cup fina...</td>\n",
       "      <td>155</td>\n",
       "    </tr>\n",
       "    <tr>\n",
       "      <th>3</th>\n",
       "      <td>ham</td>\n",
       "      <td>U dun say so early hor... U c already then say...</td>\n",
       "      <td>49</td>\n",
       "    </tr>\n",
       "    <tr>\n",
       "      <th>4</th>\n",
       "      <td>ham</td>\n",
       "      <td>Nah I don't think he goes to usf, he lives aro...</td>\n",
       "      <td>61</td>\n",
       "    </tr>\n",
       "  </tbody>\n",
       "</table>\n",
       "</div>"
      ],
      "text/plain": [
       "  label                                            message  length\n",
       "0   ham  Go until jurong point, crazy.. Available only ...     111\n",
       "1   ham                      Ok lar... Joking wif u oni...      29\n",
       "2  spam  Free entry in 2 a wkly comp to win FA Cup fina...     155\n",
       "3   ham  U dun say so early hor... U c already then say...      49\n",
       "4   ham  Nah I don't think he goes to usf, he lives aro...      61"
      ]
     },
     "execution_count": 5,
     "metadata": {},
     "output_type": "execute_result"
    }
   ],
   "source": [
    "messages['length'] = messages['message'].apply(len)\n",
    "messages.head()"
   ]
  },
  {
   "cell_type": "code",
   "execution_count": 6,
   "id": "5f9d0ec6",
   "metadata": {},
   "outputs": [],
   "source": [
    "import matplotlib.pyplot as plt\n",
    "import seaborn as sns\n",
    "\n",
    "%matplotlib inline"
   ]
  },
  {
   "cell_type": "code",
   "execution_count": 7,
   "id": "92f39c6a",
   "metadata": {},
   "outputs": [
    {
     "data": {
      "text/plain": [
       "array([<AxesSubplot:title={'center':'ham'}>,\n",
       "       <AxesSubplot:title={'center':'spam'}>], dtype=object)"
      ]
     },
     "execution_count": 7,
     "metadata": {},
     "output_type": "execute_result"
    },
    {
     "data": {
      "image/png": "[encoded data removed]",
      "text/plain": [
       "<Figure size 1200x400 with 2 Axes>"
      ]
     },
     "metadata": {},
     "output_type": "display_data"
    }
   ],
   "source": [
    "messages.hist(column='length', by='label', bins=50,figsize=(12,4))"
   ]
  },
  {
   "cell_type": "markdown",
   "id": "4ca376f8",
   "metadata": {},
   "source": [
    "Тут ми можемо побачити, що повідомлення спаму переважно мають більшу кількість символів."
   ]
  },
  {
   "cell_type": "markdown",
   "id": "d7eb2a24",
   "metadata": {},
   "source": [
    "## Попередня обробка даних.\n",
    "Найбільша проблема у роботі з текстами це те, що всі дані мають тип string. Всі класифікаційні алгоритми потребують дані у числовому векторному форматі. Існують різні методи для перетворення корпусу у векторний формат. Найпростішим є [сумка слів](https://en.wikipedia.org/wiki/Bag-of-words_model), у якому кожному унікальному слову відповідає одне число.\n",
    "\n",
    "У цьому випадку розглянемо перетворення послідовності символів у послідовність чисел.\n",
    "\n",
    "Для початку створимо функцію, яка видалить з даних всі розділові знаки та стоп слова."
   ]
  },
  {
   "cell_type": "code",
   "execution_count": 8,
   "id": "838a91be",
   "metadata": {},
   "outputs": [],
   "source": [
    "import string\n",
    "from nltk.corpus import stopwords"
   ]
  },
  {
   "cell_type": "code",
   "execution_count": 9,
   "id": "ba98724f",
   "metadata": {},
   "outputs": [],
   "source": [
    "def process_text(source):\n",
    "    nopunc = [char for char in source if char not in string.punctuation]\n",
    "    nopunc = ''.join(nopunc)\n",
    "    return [word for word in nopunc.split() if word.lower() not in stopwords.words('english')]"
   ]
  },
  {
   "cell_type": "code",
   "execution_count": 10,
   "id": "e9b05e52",
   "metadata": {},
   "outputs": [
    {
     "data": {
      "text/plain": [
       "['Simple', 'message', 'punctuation']"
      ]
     },
     "execution_count": 10,
     "metadata": {},
     "output_type": "execute_result"
    }
   ],
   "source": [
    "process_text(\"Simple message. It has punctuation!\")"
   ]
  },
  {
   "cell_type": "markdown",
   "id": "4fe4eb54",
   "metadata": {},
   "source": [
    "Після цього, проведемо так звану \"токенізацію\" повідомлень у наборі даних. Токенізація - це процес перетворення звичайних string повідомлень у список токенів (слів, які потрібні для подальшої роботи)."
   ]
  },
  {
   "cell_type": "code",
   "execution_count": 11,
   "id": "681c565b",
   "metadata": {},
   "outputs": [
    {
     "data": {
      "text/plain": [
       "0    [Go, jurong, point, crazy, Available, bugis, n...\n",
       "1                       [Ok, lar, Joking, wif, u, oni]\n",
       "2    [Free, entry, 2, wkly, comp, win, FA, Cup, fin...\n",
       "3        [U, dun, say, early, hor, U, c, already, say]\n",
       "4    [Nah, dont, think, goes, usf, lives, around, t...\n",
       "Name: message, dtype: object"
      ]
     },
     "execution_count": 11,
     "metadata": {},
     "output_type": "execute_result"
    }
   ],
   "source": [
    "messages['message'].head(5).apply(process_text)"
   ]
  },
  {
   "cell_type": "markdown",
   "id": "600ee55d",
   "metadata": {},
   "source": [
    "## Векторизація.\n",
    "У цьому випадку використаємо простий підхід з використанням сумки слів:\n",
    "1. Обрахуєм кількість появи слова у кожному повідомленні;\n",
    "2. Зважимо обрахунки, щоб терміни, які зустрічаються частіше, мали меншу вагу;\n",
    "3. Нормалізувємо вектори до одиниці довжини, щоб абстрагуватись від початкової довжини тексту.\n",
    "\n",
    "Кожен вектор буде мати таку розмірність, скільки унікальних слів є у всьому корпусі. Для виконання цього кроку використаємо __CountVectorizer__, який перетворить колекцію текстових документів у матрицю з підрахунком токенів. Результат виконання цього кроку можна уявити як двовимірну матрицю, де одним з вимірів буде словник усіх слів, які використовуються у повідомленнях, а іншим виміром будуть повідомилення з набору даних.\n",
    "Оскільки в наборі даних є багато повідомлень, варто очікувати багато нулів у обрахунках присутності слів у документах. Через це у результаті буде отримана [розріджена матриця.](https://en.wikipedia.org/wiki/Sparse_matrix)."
   ]
  },
  {
   "cell_type": "code",
   "execution_count": 12,
   "id": "8c5e8b49",
   "metadata": {},
   "outputs": [],
   "source": [
    "from sklearn.feature_extraction.text import CountVectorizer"
   ]
  },
  {
   "cell_type": "code",
   "execution_count": 13,
   "id": "8b985aa6",
   "metadata": {},
   "outputs": [
    {
     "name": "stdout",
     "output_type": "stream",
     "text": [
      "11425\n"
     ]
    }
   ],
   "source": [
    "bow_transformer = CountVectorizer(analyzer=process_text).fit(messages['message'])\n",
    "\n",
    "print(len(bow_transformer.vocabulary_))"
   ]
  },
  {
   "cell_type": "markdown",
   "id": "c42d512c",
   "metadata": {},
   "source": [
    "Тепер можна провести трансформацію усіх повідомлень у наборі даних."
   ]
  },
  {
   "cell_type": "code",
   "execution_count": 14,
   "id": "402bed49",
   "metadata": {},
   "outputs": [],
   "source": [
    "messages_bow = bow_transformer.transform(messages['message'])"
   ]
  },
  {
   "cell_type": "code",
   "execution_count": 15,
   "id": "86bc50c2",
   "metadata": {},
   "outputs": [
    {
     "name": "stdout",
     "output_type": "stream",
     "text": [
      "Shape of Sparse Matrix:  (5572, 11425)\n",
      "Amount of Non-Zero occurences:  50548\n"
     ]
    }
   ],
   "source": [
    "print('Shape of Sparse Matrix: ', messages_bow.shape)\n",
    "print('Amount of Non-Zero occurences: ', messages_bow.nnz)"
   ]
  },
  {
   "cell_type": "code",
   "execution_count": 16,
   "id": "653d2e9a",
   "metadata": {},
   "outputs": [
    {
     "name": "stdout",
     "output_type": "stream",
     "text": [
      "sparsity: 0\n"
     ]
    }
   ],
   "source": [
    "sparsity = (100.0 * messages_bow.nnz / (messages_bow.shape[0] * messages_bow.shape[1]))\n",
    "print('sparsity: {}'.format(round(sparsity)))"
   ]
  },
  {
   "cell_type": "markdown",
   "id": "9c3eada0",
   "metadata": {},
   "source": [
    "## Використання TF-IDF.\n",
    "Після векторизації, зважування та нормалізація термінів може бути виконана використовуючи [TF-IDF](https://en.wikipedia.org/wiki/Tf%E2%80%93idf)."
   ]
  },
  {
   "cell_type": "code",
   "execution_count": 17,
   "id": "8d683e96",
   "metadata": {},
   "outputs": [
    {
     "name": "stdout",
     "output_type": "stream",
     "text": [
      "(5572, 11425)\n"
     ]
    }
   ],
   "source": [
    "from sklearn.feature_extraction.text import TfidfTransformer\n",
    "\n",
    "tfidf_transformer = TfidfTransformer().fit(messages_bow)\n",
    "messages_tfidf = tfidf_transformer.transform(messages_bow)\n",
    "print(messages_tfidf.shape)"
   ]
  },
  {
   "cell_type": "markdown",
   "id": "2633b496",
   "metadata": {},
   "source": [
    "## Тренування моделі.\n",
    "Тепер, коли дані є репрезентовані як вектори, можна натренувати модель для класифікації повідомлень. Використаємо Наївний Баєсівський класифікатор."
   ]
  },
  {
   "cell_type": "code",
   "execution_count": 18,
   "id": "dff68fae",
   "metadata": {},
   "outputs": [],
   "source": [
    "from sklearn.naive_bayes import MultinomialNB\n",
    "spam_detect_model = MultinomialNB().fit(messages_tfidf, messages['label'])"
   ]
  },
  {
   "cell_type": "markdown",
   "id": "5773ef20",
   "metadata": {},
   "source": [
    "## Оцінка моделі."
   ]
  },
  {
   "cell_type": "code",
   "execution_count": 19,
   "id": "ff4dc1d7",
   "metadata": {},
   "outputs": [
    {
     "name": "stdout",
     "output_type": "stream",
     "text": [
      "['ham' 'ham' 'spam' ... 'ham' 'ham' 'ham']\n"
     ]
    }
   ],
   "source": [
    "all_predictions = spam_detect_model.predict(messages_tfidf)\n",
    "print(all_predictions)"
   ]
  },
  {
   "cell_type": "code",
   "execution_count": 20,
   "id": "5f7aee74",
   "metadata": {},
   "outputs": [
    {
     "name": "stdout",
     "output_type": "stream",
     "text": [
      "              precision    recall  f1-score   support\n",
      "\n",
      "         ham       0.98      1.00      0.99      4825\n",
      "        spam       1.00      0.85      0.92       747\n",
      "\n",
      "    accuracy                           0.98      5572\n",
      "   macro avg       0.99      0.92      0.95      5572\n",
      "weighted avg       0.98      0.98      0.98      5572\n",
      "\n"
     ]
    }
   ],
   "source": [
    "from sklearn.metrics import classification_report\n",
    "print(classification_report(messages['label'], all_predictions))"
   ]
  },
  {
   "cell_type": "code",
   "execution_count": 21,
   "id": "fd39e453",
   "metadata": {},
   "outputs": [
    {
     "name": "stdout",
     "output_type": "stream",
     "text": [
      "[[4825    0]\n",
      " [ 115  632]]\n"
     ]
    }
   ],
   "source": [
    "from sklearn.metrics import confusion_matrix\n",
    "print(confusion_matrix(messages['label'], all_predictions))"
   ]
  },
  {
   "cell_type": "markdown",
   "id": "974e4f4d",
   "metadata": {},
   "source": [
    "Тут, для демонстративних цілей, оцінка була проведена на тих самих даних, на яких і відбувалось тренування. Насправді, так робити не варто, оскільки це не дає повного розуміння, як модель буде працювати на нових даних."
   ]
  },
  {
   "cell_type": "markdown",
   "id": "7b369ce7",
   "metadata": {},
   "source": [
    "## Поділ даних на тренувальний та тестовий набір."
   ]
  },
  {
   "cell_type": "code",
   "execution_count": 22,
   "id": "eb59a665",
   "metadata": {},
   "outputs": [
    {
     "name": "stdout",
     "output_type": "stream",
     "text": [
      "4457 1115 5572\n"
     ]
    }
   ],
   "source": [
    "from sklearn.model_selection import train_test_split\n",
    "\n",
    "msg_train, msg_test, label_train, label_test = train_test_split(messages['message'], messages['label'], test_size=0.2)\n",
    "\n",
    "print(len(msg_train), len(msg_test), len(msg_train) + len(msg_test))"
   ]
  },
  {
   "cell_type": "markdown",
   "id": "a7f882bb",
   "metadata": {},
   "source": [
    "## Використання pipeline-у для роботи.\n",
    "Тут використаємо можливості [pipeline](https://scikit-learn.org/stable/modules/compose.html) для того, щоб зберегти порядок роботи. Це дозволить налаштувати всі трансформації даних для майбутнього використання."
   ]
  },
  {
   "cell_type": "code",
   "execution_count": 23,
   "id": "3290d4cc",
   "metadata": {},
   "outputs": [],
   "source": [
    "from sklearn.pipeline import Pipeline\n",
    "\n",
    "pipeline = Pipeline([\n",
    "    ('bow', CountVectorizer(analyzer=process_text)),\n",
    "    ('tfidf', TfidfTransformer()),\n",
    "    ('classifier', MultinomialNB()),\n",
    "])"
   ]
  },
  {
   "cell_type": "code",
   "execution_count": 24,
   "id": "47a60b0d",
   "metadata": {},
   "outputs": [
    {
     "data": {
      "text/plain": [
       "Pipeline(steps=[('bow',\n",
       "                 CountVectorizer(analyzer=<function process_text at 0x00000226969565E0>)),\n",
       "                ('tfidf', TfidfTransformer()),\n",
       "                ('classifier', MultinomialNB())])"
      ]
     },
     "execution_count": 24,
     "metadata": {},
     "output_type": "execute_result"
    }
   ],
   "source": [
    "pipeline.fit(msg_train, label_train)"
   ]
  },
  {
   "cell_type": "code",
   "execution_count": 25,
   "id": "c7b66da5",
   "metadata": {},
   "outputs": [],
   "source": [
    "predictions = pipeline.predict(msg_test)"
   ]
  },
  {
   "cell_type": "code",
   "execution_count": 26,
   "id": "a687af12",
   "metadata": {},
   "outputs": [
    {
     "name": "stdout",
     "output_type": "stream",
     "text": [
      "              precision    recall  f1-score   support\n",
      "\n",
      "         ham       1.00      0.96      0.98       993\n",
      "        spam       0.77      1.00      0.87       122\n",
      "\n",
      "    accuracy                           0.97      1115\n",
      "   macro avg       0.89      0.98      0.93      1115\n",
      "weighted avg       0.98      0.97      0.97      1115\n",
      "\n"
     ]
    }
   ],
   "source": [
    "print(classification_report(predictions, label_test))"
   ]
  },
  {
   "cell_type": "code",
   "execution_count": 27,
   "id": "3cffb4f2",
   "metadata": {},
   "outputs": [
    {
     "name": "stdout",
     "output_type": "stream",
     "text": [
      "[[957  36]\n",
      " [  0 122]]\n"
     ]
    }
   ],
   "source": [
    "print(confusion_matrix(predictions, label_test))"
   ]
  }
 ],
 "metadata": {
  "kernelspec": {
   "display_name": "Python 3 (ipykernel)",
   "language": "python",
   "name": "python3"
  },
  "language_info": {
   "codemirror_mode": {
    "name": "ipython",
    "version": 3
   },
   "file_extension": ".py",
   "mimetype": "text/x-python",
   "name": "python",
   "nbconvert_exporter": "python",
   "pygments_lexer": "ipython3",
   "version": "3.9.13"
  }
 },
 "nbformat": 4,
 "nbformat_minor": 5
}
